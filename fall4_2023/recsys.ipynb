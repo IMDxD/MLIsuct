{
 "cells": [
  {
   "cell_type": "code",
   "execution_count": 48,
   "id": "72f7c3b0-6ab6-4df3-bfe0-71f0a56032c2",
   "metadata": {},
   "outputs": [],
   "source": [
    "import pandas as pd\n",
    "from sklearn.preprocessing import LabelEncoder\n",
    "from scipy.sparse import csr_matrix\n",
    "import numpy as np"
   ]
  },
  {
   "cell_type": "code",
   "execution_count": 2,
   "id": "f89c5e4a-cd6d-4349-a5a9-d45ceeb5c7ef",
   "metadata": {},
   "outputs": [],
   "source": [
    "ratings = pd.read_csv(\n",
    "    \"data/ratings.csv\",\n",
    "    sep=',',\n",
    "    names=[\"userid\", \"itemid\", \"rating\", \"timestamp\"],\n",
    "    skiprows=1\n",
    ")"
   ]
  },
  {
   "cell_type": "code",
   "execution_count": 4,
   "id": "fa7ec351-0c44-47d8-9ce1-aa175e03040f",
   "metadata": {},
   "outputs": [
    {
     "data": {
      "text/html": [
       "<div>\n",
       "<style scoped>\n",
       "    .dataframe tbody tr th:only-of-type {\n",
       "        vertical-align: middle;\n",
       "    }\n",
       "\n",
       "    .dataframe tbody tr th {\n",
       "        vertical-align: top;\n",
       "    }\n",
       "\n",
       "    .dataframe thead th {\n",
       "        text-align: right;\n",
       "    }\n",
       "</style>\n",
       "<table border=\"1\" class=\"dataframe\">\n",
       "  <thead>\n",
       "    <tr style=\"text-align: right;\">\n",
       "      <th></th>\n",
       "      <th>userid</th>\n",
       "      <th>itemid</th>\n",
       "      <th>rating</th>\n",
       "      <th>timestamp</th>\n",
       "    </tr>\n",
       "  </thead>\n",
       "  <tbody>\n",
       "    <tr>\n",
       "      <th>0</th>\n",
       "      <td>1</td>\n",
       "      <td>296</td>\n",
       "      <td>5.0</td>\n",
       "      <td>1147880044</td>\n",
       "    </tr>\n",
       "    <tr>\n",
       "      <th>1</th>\n",
       "      <td>1</td>\n",
       "      <td>306</td>\n",
       "      <td>3.5</td>\n",
       "      <td>1147868817</td>\n",
       "    </tr>\n",
       "    <tr>\n",
       "      <th>2</th>\n",
       "      <td>1</td>\n",
       "      <td>307</td>\n",
       "      <td>5.0</td>\n",
       "      <td>1147868828</td>\n",
       "    </tr>\n",
       "    <tr>\n",
       "      <th>3</th>\n",
       "      <td>1</td>\n",
       "      <td>665</td>\n",
       "      <td>5.0</td>\n",
       "      <td>1147878820</td>\n",
       "    </tr>\n",
       "    <tr>\n",
       "      <th>4</th>\n",
       "      <td>1</td>\n",
       "      <td>899</td>\n",
       "      <td>3.5</td>\n",
       "      <td>1147868510</td>\n",
       "    </tr>\n",
       "  </tbody>\n",
       "</table>\n",
       "</div>"
      ],
      "text/plain": [
       "   userid  itemid  rating   timestamp\n",
       "0       1     296     5.0  1147880044\n",
       "1       1     306     3.5  1147868817\n",
       "2       1     307     5.0  1147868828\n",
       "3       1     665     5.0  1147878820\n",
       "4       1     899     3.5  1147868510"
      ]
     },
     "execution_count": 4,
     "metadata": {},
     "output_type": "execute_result"
    }
   ],
   "source": [
    "ratings.head()"
   ]
  },
  {
   "cell_type": "code",
   "execution_count": 10,
   "id": "bcca6a29-417b-41fd-87c0-57bd9099ce31",
   "metadata": {},
   "outputs": [
    {
     "data": {
      "text/plain": [
       "(25000095, 4)"
      ]
     },
     "execution_count": 10,
     "metadata": {},
     "output_type": "execute_result"
    }
   ],
   "source": [
    "ratings.shape"
   ]
  },
  {
   "cell_type": "code",
   "execution_count": 5,
   "id": "ad24ba62-83dd-4d67-9cfe-ab463bb2c2d9",
   "metadata": {},
   "outputs": [
    {
     "data": {
      "text/plain": [
       "162541"
      ]
     },
     "execution_count": 5,
     "metadata": {},
     "output_type": "execute_result"
    }
   ],
   "source": [
    "ratings[\"userid\"].nunique()"
   ]
  },
  {
   "cell_type": "code",
   "execution_count": 7,
   "id": "785aa556-7e70-4a7d-8b11-7183e9236406",
   "metadata": {},
   "outputs": [
    {
     "data": {
      "text/plain": [
       "59047"
      ]
     },
     "execution_count": 7,
     "metadata": {},
     "output_type": "execute_result"
    }
   ],
   "source": [
    "ratings[\"itemid\"].nunique()"
   ]
  },
  {
   "cell_type": "code",
   "execution_count": 11,
   "id": "2e79154b-a544-4673-8308-067f6f8440b3",
   "metadata": {},
   "outputs": [
    {
     "data": {
      "text/plain": [
       "1"
      ]
     },
     "execution_count": 11,
     "metadata": {},
     "output_type": "execute_result"
    }
   ],
   "source": [
    "ratings[\"itemid\"].min()"
   ]
  },
  {
   "cell_type": "code",
   "execution_count": 12,
   "id": "cf587159-856e-413b-9352-0b226c57c7e4",
   "metadata": {},
   "outputs": [
    {
     "data": {
      "text/plain": [
       "209171"
      ]
     },
     "execution_count": 12,
     "metadata": {},
     "output_type": "execute_result"
    }
   ],
   "source": [
    "ratings[\"itemid\"].max()"
   ]
  },
  {
   "cell_type": "code",
   "execution_count": 13,
   "id": "5a8134fe-7600-4781-8406-389608fe3a85",
   "metadata": {},
   "outputs": [
    {
     "data": {
      "text/plain": [
       "(1, 162541)"
      ]
     },
     "execution_count": 13,
     "metadata": {},
     "output_type": "execute_result"
    }
   ],
   "source": [
    "ratings[\"userid\"].min(), ratings[\"userid\"].max()"
   ]
  },
  {
   "cell_type": "code",
   "execution_count": 18,
   "id": "960a448e-5dc7-4af9-bd93-23c72867038e",
   "metadata": {},
   "outputs": [],
   "source": [
    "item_encoder = LabelEncoder()\n",
    "items = item_encoder.fit_transform(ratings[\"itemid\"])"
   ]
  },
  {
   "cell_type": "code",
   "execution_count": 19,
   "id": "1c9af161-97cb-437b-a268-af33b72dff0a",
   "metadata": {},
   "outputs": [],
   "source": [
    "user_encoder = LabelEncoder()\n",
    "users = user_encoder.fit_transform(ratings[\"userid\"])"
   ]
  },
  {
   "cell_type": "code",
   "execution_count": 21,
   "id": "eaa484de-5876-4e30-b32f-be00475c8318",
   "metadata": {},
   "outputs": [],
   "source": [
    "rating_matrix = csr_matrix((ratings[\"rating\"], (users, items)))"
   ]
  },
  {
   "cell_type": "code",
   "execution_count": 22,
   "id": "c9bcf09b-6cd5-4cae-9483-190031bf9162",
   "metadata": {},
   "outputs": [
    {
     "data": {
      "text/plain": [
       "<162541x59047 sparse matrix of type '<class 'numpy.float64'>'\n",
       "\twith 25000095 stored elements in Compressed Sparse Row format>"
      ]
     },
     "execution_count": 22,
     "metadata": {},
     "output_type": "execute_result"
    }
   ],
   "source": [
    "rating_matrix"
   ]
  },
  {
   "cell_type": "code",
   "execution_count": 23,
   "id": "44349914-6ab2-469f-87c2-21654ff3d100",
   "metadata": {},
   "outputs": [],
   "source": [
    "import implicit"
   ]
  },
  {
   "cell_type": "code",
   "execution_count": 24,
   "id": "7ae6d5dd-0853-4bf4-bb8a-0ab4d97384fa",
   "metadata": {},
   "outputs": [],
   "source": [
    "model = implicit.als.AlternatingLeastSquares()"
   ]
  },
  {
   "cell_type": "code",
   "execution_count": 25,
   "id": "aafa6afe-1da8-4bac-ab63-fdd8e10dd0ab",
   "metadata": {},
   "outputs": [
    {
     "data": {
      "application/vnd.jupyter.widget-view+json": {
       "model_id": "09aaccd673064326ac3505856d259ea2",
       "version_major": 2,
       "version_minor": 0
      },
      "text/plain": [
       "  0%|          | 0/15 [00:00<?, ?it/s]"
      ]
     },
     "metadata": {},
     "output_type": "display_data"
    }
   ],
   "source": [
    "model.fit(rating_matrix)"
   ]
  },
  {
   "cell_type": "code",
   "execution_count": 26,
   "id": "6d3e1974-6423-4ac9-9388-d06d31b3cbbe",
   "metadata": {},
   "outputs": [
    {
     "data": {
      "text/plain": [
       "(array([     2, 126881,   3746,   9807, 124560,  51327, 124567,   8504,\n",
       "         72310,  37959], dtype=int32),\n",
       " array([1.        , 0.7489628 , 0.74526894, 0.7296327 , 0.72887444,\n",
       "        0.69245577, 0.691985  , 0.6898754 , 0.67966044, 0.6785391 ],\n",
       "       dtype=float32))"
      ]
     },
     "execution_count": 26,
     "metadata": {},
     "output_type": "execute_result"
    }
   ],
   "source": [
    "model.similar_users(2)"
   ]
  },
  {
   "cell_type": "code",
   "execution_count": 27,
   "id": "eff02a21-fa43-46e4-9ac4-5cefffa2083d",
   "metadata": {},
   "outputs": [
    {
     "data": {
      "text/plain": [
       "(array([  2,   4,   6, 627, 133, 786, 704, 693,  78, 772], dtype=int32),\n",
       " array([1.0000001 , 0.8865746 , 0.8227142 , 0.79436594, 0.7769356 ,\n",
       "        0.7735333 , 0.76941115, 0.755799  , 0.74906534, 0.7463218 ],\n",
       "       dtype=float32))"
      ]
     },
     "execution_count": 27,
     "metadata": {},
     "output_type": "execute_result"
    }
   ],
   "source": [
    "model.similar_items(2)"
   ]
  },
  {
   "cell_type": "code",
   "execution_count": 53,
   "id": "11f2f05a-7d03-4e8b-ac08-e014d5954887",
   "metadata": {},
   "outputs": [],
   "source": [
    "ratings_u_user = rating_matrix[2].toarray().ravel()\n",
    "mean_u_rating = ratings_u_user[ratings_u_user != 0].mean()\n",
    "std_u_rating = ratings_u_user[ratings_u_user != 0].std()"
   ]
  },
  {
   "cell_type": "code",
   "execution_count": 54,
   "id": "776fc970-f58f-43a3-b976-1e7d4c9c9118",
   "metadata": {},
   "outputs": [
    {
     "data": {
      "text/plain": [
       "(3.6974085365853657, 0.5993970477928102)"
      ]
     },
     "execution_count": 54,
     "metadata": {},
     "output_type": "execute_result"
    }
   ],
   "source": [
    "mean_u_rating, std_u_rating"
   ]
  },
  {
   "cell_type": "code",
   "execution_count": 55,
   "id": "0e3ae226-3b62-47b0-a2d6-a0fba4b7d92c",
   "metadata": {},
   "outputs": [],
   "source": [
    "similar_users, similiraty = model.similar_users(2, N=11)"
   ]
  },
  {
   "cell_type": "code",
   "execution_count": 56,
   "id": "2d4eb230-0175-4398-ae99-bd6e31e58959",
   "metadata": {},
   "outputs": [],
   "source": [
    "similar_users = similar_users[1:]\n",
    "similiraty = similiraty[1:]"
   ]
  },
  {
   "cell_type": "code",
   "execution_count": 57,
   "id": "732704f5-6d2f-4f44-a505-7f3e81648724",
   "metadata": {},
   "outputs": [],
   "source": [
    "total_rating = 0\n",
    "for user, similiraty in zip(similar_users, similiraty):\n",
    "    ratings_v_user = rating_matrix[user].toarray().ravel()\n",
    "    mean_v_rating = ratings_v_user[ratings_v_user != 0].mean()\n",
    "    std_v_rating = ratings_v_user[ratings_v_user != 0].std()\n",
    "    total_rating += similiraty * (ratings_v_user - mean_v_rating) / std_v_rating"
   ]
  },
  {
   "cell_type": "code",
   "execution_count": 58,
   "id": "cd681160-af59-4e81-a118-61bbddea522f",
   "metadata": {},
   "outputs": [
    {
     "data": {
      "text/plain": [
       "array([29523, 39318, 39319, 39320, 39321])"
      ]
     },
     "execution_count": 58,
     "metadata": {},
     "output_type": "execute_result"
    }
   ],
   "source": [
    "np.argsort(total_rating.ravel())[:5]"
   ]
  },
  {
   "cell_type": "code",
   "execution_count": 63,
   "id": "03e5abd6-6453-4f86-8619-9daea92806ad",
   "metadata": {},
   "outputs": [
    {
     "data": {
      "text/plain": [
       "0.0"
      ]
     },
     "execution_count": 63,
     "metadata": {},
     "output_type": "execute_result"
    }
   ],
   "source": [
    "ratings_u_user[39321]"
   ]
  },
  {
   "cell_type": "code",
   "execution_count": null,
   "id": "070a01d1-1f49-4494-8e2b-05db80445b56",
   "metadata": {},
   "outputs": [],
   "source": []
  }
 ],
 "metadata": {
  "kernelspec": {
   "display_name": "Python 3 (ipykernel)",
   "language": "python",
   "name": "python3"
  },
  "language_info": {
   "codemirror_mode": {
    "name": "ipython",
    "version": 3
   },
   "file_extension": ".py",
   "mimetype": "text/x-python",
   "name": "python",
   "nbconvert_exporter": "python",
   "pygments_lexer": "ipython3",
   "version": "3.8.12"
  }
 },
 "nbformat": 4,
 "nbformat_minor": 5
}
