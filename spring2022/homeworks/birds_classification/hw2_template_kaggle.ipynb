{
  "cells": [
    {
      "cell_type": "code",
      "execution_count": 3,
      "id": "e1e96aa4-2530-42d2-9401-aa2038200b74",
      "metadata": {
        "id": "e1e96aa4-2530-42d2-9401-aa2038200b74"
      },
      "outputs": [],
      "source": [
        "import os\n",
        "from pathlib import Path\n",
        "from PIL import Image\n",
        "\n",
        "from google.colab import drive\n",
        "import numpy as np\n",
        "import torch\n",
        "import torch.nn as nn\n",
        "import torch.nn.functional as F\n",
        "import torch.optim as optim\n",
        "from torch.utils.data import Dataset, DataLoader\n",
        "from torchvision import transforms\n",
        "from torchvision import models\n",
        "from sklearn.metrics import accuracy_score"
      ]
    },
    {
      "cell_type": "code",
      "source": [
        "!pip install kaggle"
      ],
      "metadata": {
        "id": "1yCUHXOPSEP2"
      },
      "id": "1yCUHXOPSEP2",
      "execution_count": null,
      "outputs": []
    },
    {
      "cell_type": "code",
      "source": [
        "!mkdir ~/.kaggle"
      ],
      "metadata": {
        "id": "2fmwBZiqSSjo"
      },
      "id": "2fmwBZiqSSjo",
      "execution_count": 2,
      "outputs": []
    },
    {
      "cell_type": "code",
      "source": [
        "drive.mount(\"/content/drive\")"
      ],
      "metadata": {
        "colab": {
          "base_uri": "https://localhost:8080/"
        },
        "id": "7KyyGLlLSfzg",
        "outputId": "7b795202-0a2e-4be9-9957-f20847ce03f2"
      },
      "id": "7KyyGLlLSfzg",
      "execution_count": 4,
      "outputs": [
        {
          "output_type": "stream",
          "name": "stdout",
          "text": [
            "Mounted at /content/drive\n"
          ]
        }
      ]
    },
    {
      "cell_type": "code",
      "source": [
        "!cp /content/drive/MyDrive/kaggle.json ~/.kaggle"
      ],
      "metadata": {
        "id": "atJrrIoPSk9A"
      },
      "id": "atJrrIoPSk9A",
      "execution_count": 5,
      "outputs": []
    },
    {
      "cell_type": "code",
      "source": [
        "!chmod 600 ~/.kaggle/kaggle.json"
      ],
      "metadata": {
        "id": "F78mkYHCStxJ"
      },
      "id": "F78mkYHCStxJ",
      "execution_count": 6,
      "outputs": []
    },
    {
      "cell_type": "code",
      "source": [
        "!kaggle datasets download -d gpiosenka/100-bird-species"
      ],
      "metadata": {
        "colab": {
          "base_uri": "https://localhost:8080/"
        },
        "id": "SdAIvqb_Sz4Y",
        "outputId": "e78f6557-6349-4227-ff64-1c92cfbf83ea"
      },
      "id": "SdAIvqb_Sz4Y",
      "execution_count": 7,
      "outputs": [
        {
          "output_type": "stream",
          "name": "stdout",
          "text": [
            "Downloading 100-bird-species.zip to /content\n",
            "100% 1.49G/1.49G [00:07<00:00, 248MB/s]\n",
            "100% 1.49G/1.49G [00:07<00:00, 208MB/s]\n"
          ]
        }
      ]
    },
    {
      "cell_type": "code",
      "source": [
        "!unzip 100-bird-species.zip"
      ],
      "metadata": {
        "id": "kzSeSvpMS9iv"
      },
      "id": "kzSeSvpMS9iv",
      "execution_count": null,
      "outputs": []
    },
    {
      "cell_type": "code",
      "execution_count": 11,
      "id": "15fded30-27f2-447a-8f8f-7fcaf2622479",
      "metadata": {
        "id": "15fded30-27f2-447a-8f8f-7fcaf2622479"
      },
      "outputs": [],
      "source": [
        "# заведем путь до папки с данными\n",
        "data_path = Path(\".\")"
      ]
    },
    {
      "cell_type": "code",
      "source": [
        "# пути до отдельных датасетов\n",
        "train_data_path = data_path / \"train\"\n",
        "valid_data_path = data_path / \"valid\"\n",
        "test_data_path = data_path / \"test\""
      ],
      "metadata": {
        "id": "nLcQuWDiHrBS"
      },
      "id": "nLcQuWDiHrBS",
      "execution_count": null,
      "outputs": []
    },
    {
      "cell_type": "code",
      "source": [
        "# поскольку мы предсказываем индекс класса а не его имя, необходимо завести mapping имя - индекс\n",
        "# mapping строится на данных трейна, все остальные классы которые не присутствуют в нем будут трактоваться как -1\n",
        "class_to_idx = {}\n",
        "for i, directory in enumerate(os.listdir(train_data_path)):\n",
        "    # YOUR CODE"
      ],
      "metadata": {
        "id": "ewmmKsqkH0cU"
      },
      "id": "ewmmKsqkH0cU",
      "execution_count": null,
      "outputs": []
    },
    {
      "cell_type": "code",
      "execution_count": null,
      "id": "4ffaa131-8553-4ab1-a802-90633861e799",
      "metadata": {
        "id": "4ffaa131-8553-4ab1-a802-90633861e799"
      },
      "outputs": [],
      "source": [
        "class ImageDataset(Dataset):\n",
        "\n",
        "    # определим наш ImageDataset для итерации по данным\n",
        "    \n",
        "    def __init__(self, file_path, transform, class_to_idx):\n",
        "        self.files = list(file_path.rglob(\"\")) # подставьте маску для файлов\n",
        "        self.transform = transform\n",
        "        self.class_to_idx = class_to_idx\n",
        "        \n",
        "    def __len__(self):\n",
        "        return len(self.files)\n",
        "    \n",
        "    def __getitem__(self, i):\n",
        "        file = self.files[i]\n",
        "        img = Image.open(file)\n",
        "        tensor = self.transform(img)\n",
        "        label = # берем имя родительской директории file https://docs.python.org/3/library/pathlib.html#pathlib.PurePath.parent\n",
        "        label_id = # если label в self.class_to_idx то возращаем его id если нет то -1\n",
        "        return tensor, label_id"
      ]
    },
    {
      "cell_type": "code",
      "execution_count": null,
      "id": "9d045865-bea3-4ab5-8563-88479a8684d3",
      "metadata": {
        "id": "9d045865-bea3-4ab5-8563-88479a8684d3"
      },
      "outputs": [],
      "source": [
        "# используйте разные трансформации train чтобы для того чтобы данные были более различны можно почитать про AutoAgument https://pytorch.org/vision/stable/transforms.html#automatic-augmentation-transforms\n",
        "train_transform = transforms.Compose([\n",
        "    transforms.Resize(224),\n",
        "    transforms.RandomCrop(224),\n",
        "    transforms.Normalize(\n",
        "        mean=[0.485, 0.456, 0.406], # Используем нормализацию изображений для ImageNet моделей\n",
        "        std=[0.229, 0.224, 0.225]\n",
        "    ),\n",
        "    transforms.ToTensor()\n",
        "])\n",
        "\n",
        "# трансформация на валидации и тесте остается неизменной\n",
        "\n",
        "valid_transform = transforms.Compose([\n",
        "    transforms.Resize(224),\n",
        "    transforms.CenterCrop(224),\n",
        "    transforms.Normalize(\n",
        "        mean=[0.485, 0.456, 0.406],\n",
        "        std=[0.229, 0.224, 0.225]\n",
        "    ),\n",
        "    transforms.ToTensor()\n",
        "])"
      ]
    },
    {
      "cell_type": "code",
      "execution_count": null,
      "id": "26f8eadf-39ed-4885-8cf8-71454a7d3fdb",
      "metadata": {
        "id": "26f8eadf-39ed-4885-8cf8-71454a7d3fdb"
      },
      "outputs": [],
      "source": [
        "train_dataset = ImageDataset(train_data_path, train_transform, class_to_idx)\n",
        "valid_dataset = ImageDataset(valid_data_path, valid_transform, class_to_idx)\n",
        "test_dataset = ImageDataset(test_data_path, valid_transform, class_to_idx)"
      ]
    },
    {
      "cell_type": "code",
      "source": [
        "# Определим параметры обучения\n",
        "\n",
        "BATCH_SIZE =\n",
        "EPOCH = \n",
        "LEARNING_RATE = \n",
        "WEIGHT_DECAY = "
      ],
      "metadata": {
        "id": "im71bmL5LCrv"
      },
      "id": "im71bmL5LCrv",
      "execution_count": null,
      "outputs": []
    },
    {
      "cell_type": "code",
      "execution_count": null,
      "id": "0794d523-cc3d-4e62-b11c-3fa94c2b9d1f",
      "metadata": {
        "id": "0794d523-cc3d-4e62-b11c-3fa94c2b9d1f"
      },
      "outputs": [],
      "source": [
        "train_loader = DataLoader(train_dataset, batch_size=BATCH_SIZE, shuffle=True)\n",
        "valid_loader = DataLoader(valid_dataset, batch_size=BATCH_SIZE)\n",
        "test_loader = DataLoader(valid_dataset, batch_size=BATCH_SIZE)"
      ]
    },
    {
      "cell_type": "code",
      "execution_count": null,
      "id": "5356278d-3155-41de-bd4a-ee130dd08432",
      "metadata": {
        "id": "5356278d-3155-41de-bd4a-ee130dd08432"
      },
      "outputs": [],
      "source": [
        "net = models.alexnet(pretrained=True) # пробуйте разные модели, с предобучением на ImageNet и без\n",
        "net = net.to(\"cuda\") "
      ]
    },
    {
      "cell_type": "code",
      "execution_count": null,
      "id": "780dfea9-7ce5-4b34-a68a-ed785ac46011",
      "metadata": {
        "id": "780dfea9-7ce5-4b34-a68a-ed785ac46011"
      },
      "outputs": [],
      "source": [
        "optimizer = # Ваш любимый оптимизатор с параметрами LEARNING RATE и WEIGHT DECAY"
      ]
    },
    {
      "cell_type": "code",
      "execution_count": null,
      "id": "a130fd68-2c6d-47c1-8ac8-95735f13b5d4",
      "metadata": {
        "id": "a130fd68-2c6d-47c1-8ac8-95735f13b5d4"
      },
      "outputs": [],
      "source": [
        "criteria = # используем функцию потерь для многоклассовой классификации"
      ]
    },
    {
      "cell_type": "code",
      "execution_count": null,
      "id": "2ae508f5-1af8-4117-a9e1-db4a9a9ec44f",
      "metadata": {
        "id": "2ae508f5-1af8-4117-a9e1-db4a9a9ec44f"
      },
      "outputs": [],
      "source": [
        "for epoch in range(EPOCH):\n",
        "    \n",
        "    net. # перевести сеть в режим тренировки\n",
        "    for i, (x, y) in enumerate(train_loader):\n",
        "        \n",
        "        optimizer. # обнулить градиент оптимизатора\n",
        "        x = \n",
        "        y = # перевести x, y на cuda\n",
        "        output = # получить выход сети\n",
        "        loss = # посчитать лосс\n",
        "        loss. # сделать backward propagation от лосса\n",
        "        optimizer. # шаг оптимизатора\n",
        "        \n",
        "        if (i + 1) % 100 == 0:\n",
        "            print(f\"Epoch {epoch + 1} / 10, iteration {i + 1} / {len(train_loader)}, loss: {loss.item():.3f}\")\n",
        "        \n",
        "    y_true = []\n",
        "    y_pred = []\n",
        "    \n",
        "    net. # перевести сеть в режим предсказаний\n",
        "    for i, (x, y) in enumerate(valid_loader):\n",
        "        # выключить градиент\n",
        "            x = # переводим x на cuda\n",
        "            y = # переводим y в numpy массив\n",
        "            \n",
        "            output = # считаем выход сети\n",
        "            output = # берем самый вероятный класс и переводим output на cpu и в numpy массив\n",
        "            y_true.extend(y)\n",
        "            y_pred.extend(output)\n",
        "            \n",
        "    score = accuracy_score(y_true, y_pred)\n",
        "    print(f\"Epoch {epoch + 1} / 10, accuracy: {score:.3f}\")"
      ]
    },
    {
      "cell_type": "code",
      "execution_count": null,
      "id": "116ac97f-c857-420d-8987-a16e8b29eaf2",
      "metadata": {
        "id": "116ac97f-c857-420d-8987-a16e8b29eaf2"
      },
      "outputs": [],
      "source": [
        "# считаем итоговое качество\n",
        "\n",
        "for i, (x, y) in enumerate(test_loader):\n",
        "    # выключить градиент\n",
        "        x = # переводим x на cuda\n",
        "        y = # переводим y в numpy массив\n",
        "        \n",
        "        output = # считаем выход сети\n",
        "        output = # берем самый вероятный класс и переводим output на cpu и в numpy массив\n",
        "        y_true.extend(y)\n",
        "        y_pred.extend(output)\n",
        "        \n",
        "score = accuracy_score(y_true, y_pred)\n",
        "print(f\"Test accuracy: {score:.3f}\")"
      ]
    }
  ],
  "metadata": {
    "kernelspec": {
      "display_name": "Python 3 (ipykernel)",
      "language": "python",
      "name": "python3"
    },
    "language_info": {
      "codemirror_mode": {
        "name": "ipython",
        "version": 3
      },
      "file_extension": ".py",
      "mimetype": "text/x-python",
      "name": "python",
      "nbconvert_exporter": "python",
      "pygments_lexer": "ipython3",
      "version": "3.8.12"
    },
    "colab": {
      "name": "hw2_template",
      "provenance": [],
      "collapsed_sections": []
    },
    "accelerator": "GPU"
  },
  "nbformat": 4,
  "nbformat_minor": 5
}