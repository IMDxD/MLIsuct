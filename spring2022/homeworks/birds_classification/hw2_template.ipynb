{
  "cells": [
    {
      "cell_type": "code",
      "execution_count": null,
      "id": "e1e96aa4-2530-42d2-9401-aa2038200b74",
      "metadata": {
        "id": "e1e96aa4-2530-42d2-9401-aa2038200b74"
      },
      "outputs": [],
      "source": [
        "import os\n",
        "from pathlib import Path\n",
        "from PIL import Image\n",
        "\n",
        "from google.colab import drive\n",
        "import numpy as np\n",
        "import torch\n",
        "import torch.nn as nn\n",
        "import torch.nn.functional as F\n",
        "import torch.optim as optim\n",
        "from torch.utils.data import Dataset, DataLoader\n",
        "from torchvision import transforms\n",
        "from torchvision import models\n",
        "from sklearn.metrics import accuracy_score"
      ]
    },
    {
      "cell_type": "markdown",
      "source": [
        "Папка на GDrive для файлов под ДЗ"
      ],
      "metadata": {
        "id": "1FPIt_z5-xbk"
      },
      "id": "1FPIt_z5-xbk"
    },
    {
      "cell_type": "markdown",
      "source": [
        "![image.png](data:image/png;base64,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)"
      ],
      "metadata": {
        "id": "L4q-fYtG-puX"
      },
      "id": "L4q-fYtG-puX"
    },
    {
      "cell_type": "code",
      "source": [
        "# подключаем GDrive\n",
        "drive.mount(\"/content/drive\")"
      ],
      "metadata": {
        "id": "cl9waIFB-4dE",
        "outputId": "3d609340-11bd-49eb-a8b0-63c5fa533461",
        "colab": {
          "base_uri": "https://localhost:8080/"
        }
      },
      "id": "cl9waIFB-4dE",
      "execution_count": null,
      "outputs": [
        {
          "output_type": "stream",
          "name": "stdout",
          "text": [
            "Mounted at /content/drive\n"
          ]
        }
      ]
    },
    {
      "cell_type": "code",
      "source": [
        "# распакуем файлы\n",
        "!cd /content/drive/MyDrive/hw2 && unzip -qq test.zip -d test && unzip -qq valid.zip -d valid && unzip -qq train.zip -d train"
      ],
      "metadata": {
        "id": "2cZBhF7o_Dv8"
      },
      "id": "2cZBhF7o_Dv8",
      "execution_count": null,
      "outputs": []
    },
    {
      "cell_type": "code",
      "source": [
        "# посмотрим на папки в train\n",
        "!ls /content/drive/MyDrive/hw2/train"
      ],
      "metadata": {
        "id": "42RBxEMb-5Ei",
        "outputId": "2a694881-a360-4c59-f2b4-1e7e69852ae7",
        "colab": {
          "base_uri": "https://localhost:8080/"
        }
      },
      "id": "42RBxEMb-5Ei",
      "execution_count": null,
      "outputs": [
        {
          "output_type": "stream",
          "name": "stdout",
          "text": [
            "'ABBOTTS BABBLER'\t      'GREEN MAGPIE'\n",
            "'ABBOTTS BOOBY'\t\t      'GREY PLOVER'\n",
            "'ABYSSINIAN GROUND HORNBILL'  'GROVED BILLED ANI'\n",
            "'AFRICAN CROWNED CRANE'        GUINEAFOWL\n",
            "'AFRICAN EMERALD CUCKOO'      'GUINEA TURACO'\n",
            "'AFRICAN FIREFINCH'\t      'GURNEYS PITTA'\n",
            "'AFRICAN OYSTER CATCHER'       GYRFALCON\n",
            " ALBATROSS\t\t       HAMMERKOP\n",
            "'ALBERTS TOWHEE'\t      'HARLEQUIN DUCK'\n",
            "'ALEXANDRINE PARAKEET'\t      'HARLEQUIN QUAIL'\n",
            "'ALPINE CHOUGH'\t\t      'HARPY EAGLE'\n",
            "'ALTAMIRA YELLOWTHROAT'       'HAWAIIAN GOOSE'\n",
            "'AMERICAN AVOCET'\t       HAWFINCH\n",
            "'AMERICAN BITTERN'\t      'HELMET VANGA'\n",
            "'AMERICAN COOT'\t\t      'HEPATIC TANAGER'\n",
            "'AMERICAN GOLDFINCH'\t      'HIMALAYAN BLUETAIL'\n",
            "'AMERICAN KESTREL'\t      'HIMALAYAN MONAL'\n",
            "'AMERICAN PIPIT'\t       HOATZIN\n",
            "'AMERICAN REDSTART'\t      'HOODED MERGANSER'\n",
            "'AMETHYST WOODSTAR'\t       HOOPOES\n",
            "'ANDEAN GOOSE'\t\t       HORNBILL\n",
            "'ANDEAN LAPWING'\t      'HORNED GUAN'\n",
            "'ANDEAN SISKIN'\t\t      'HORNED LARK'\n",
            " ANHINGA\t\t      'HORNED SUNGEM'\n",
            " ANIANIAU\t\t      'HOUSE FINCH'\n",
            "'ANNAS HUMMINGBIRD'\t      'HOUSE SPARROW'\n",
            " ANTBIRD\t\t      'HYACINTH MACAW'\n",
            "'ANTILLEAN EUPHONIA'\t      'IBERIAN MAGPIE'\n",
            " APAPANE\t\t       IBISBILL\n",
            " APOSTLEBIRD\t\t      'IMPERIAL SHAQ'\n",
            "'ARARIPE MANAKIN'\t      'INCA TERN'\n",
            "'ASHY THRUSHBIRD'\t      'INDIAN BUSTARD'\n",
            "'ASIAN CRESTED IBIS'\t      'INDIAN PITTA'\n",
            " AVADAVAT\t\t      'INDIAN ROLLER'\n",
            "'AZURE JAY'\t\t      'INDIGO BUNTING'\n",
            "'AZURE TANAGER'\t\t      'INLAND DOTTEREL'\n",
            "'AZURE TIT'\t\t      'IVORY GULL'\n",
            "'BAIKAL TEAL'\t\t       IWI\n",
            "'BALD EAGLE'\t\t       JABIRU\n",
            "'BALD IBIS'\t\t      'JACK SNIPE'\n",
            "'BALI STARLING'\t\t      'JANDAYA PARAKEET'\n",
            "'BALTIMORE ORIOLE'\t      'JAPANESE ROBIN'\n",
            " BANANAQUIT\t\t      'JAVA SPARROW'\n",
            "'BANDED BROADBILL'\t       KAGU\n",
            "'BANDED PITA'\t\t       KAKAPO\n",
            "'BANDED STILT'\t\t       KILLDEAR\n",
            "'BAND TAILED GUAN'\t      'KING VULTURE'\n",
            "'BARN OWL'\t\t       KIWI\n",
            "'BARN SWALLOW'\t\t       KOOKABURRA\n",
            "'BARRED PUFFBIRD'\t      'LARK BUNTING'\n",
            "'BARROWS GOLDENEYE'\t      'LAZULI BUNTING'\n",
            "'BAR-TAILED GODWIT'\t      'LESSER ADJUTANT'\n",
            "'BAY-BREASTED WARBLER'\t      'LILAC ROLLER'\n",
            "'BEARDED BARBET'\t      'LITTLE AUK'\n",
            "'BEARDED BELLBIRD'\t      'LONG-EARED OWL'\n",
            "'BEARDED REEDLING'\t      'MAGPIE GOOSE'\n",
            "'BELTED KINGFISHER'\t      'MALABAR HORNBILL'\n",
            "'BIRD OF PARADISE'\t      'MALACHITE KINGFISHER'\n",
            "'BLACK BAZA'\t\t      'MALAGASY WHITE EYE'\n",
            "'BLACKBURNIAM WARBLER'\t       MALEO\n",
            "'BLACK-CAPPED CHICKADEE'      'MALLARD DUCK'\n",
            "'BLACK COCKATO'\t\t      'MANDRIN DUCK'\n",
            "'BLACK FRANCOLIN'\t      'MANGROVE CUCKOO'\n",
            "'BLACK-NECKED GREBE'\t      'MARABOU STORK'\n",
            "'BLACK SKIMMER'\t\t      'MASKED BOOBY'\n",
            "'BLACK SWAN'\t\t      'MASKED LAPWING'\n",
            "'BLACK TAIL CRAKE'\t      'MIKADO  PHEASANT'\n",
            "'BLACK THROATED BUSHTIT'      'MOURNING DOVE'\n",
            "'BLACK-THROATED SPARROW'       MYNA\n",
            "'BLACK THROATED WARBLER'      'NICOBAR PIGEON'\n",
            "'BLACK VULTURE'\t\t      'NOISY FRIARBIRD'\n",
            "'BLACK & YELLOW  BROADBILL'   'NORTHERN CARDINAL'\n",
            "'BLONDE CRESTED WOODPECKER'   'NORTHERN FLICKER'\n",
            "'BLUE COAU'\t\t      'NORTHERN FULMAR'\n",
            "'BLUE GROUSE'\t\t      'NORTHERN GANNET'\n",
            "'BLUE HERON'\t\t      'NORTHERN GOSHAWK'\n",
            "'BLUE THROATED TOUCANET'      'NORTHERN JACANA'\n",
            " BOBOLINK\t\t      'NORTHERN MOCKINGBIRD'\n",
            "'BORNEAN BRISTLEHEAD'\t      'NORTHERN PARULA'\n",
            "'BORNEAN LEAFBIRD'\t      'NORTHERN RED BISHOP'\n",
            "'BORNEAN PHEASANT'\t      'NORTHERN SHOVELER'\n",
            "'BRANDT CORMARANT'\t      'OCELLATED TURKEY'\n",
            "'BROWN CREPPER'\t\t      'OKINAWA RAIL'\n",
            "'BROWN NOODY'\t\t      'ORANGE BRESTED BUNTING'\n",
            "'BROWN THRASHER'\t      'ORIENTAL BAY OWL'\n",
            "'BULWERS PHEASANT'\t       OSPREY\n",
            "'BUSH TURKEY'\t\t       OSTRICH\n",
            "'CACTUS WREN'\t\t       OVENBIRD\n",
            "'CALIFORNIA CONDOR'\t      'OYSTER CATCHER'\n",
            "'CALIFORNIA GULL'\t      'PAINTED BUNTING'\n",
            "'CALIFORNIA QUAIL'\t       PALILA\n",
            " CANARY\t\t\t      'PARADISE TANAGER'\n",
            "'CAPE GLOSSY STARLING'\t      'PARAKETT  AKULET'\n",
            "'CAPE LONGCLAW'\t\t      'PARUS MAJOR'\n",
            "'CAPE MAY WARBLER'\t      'PATAGONIAN SIERRA FINCH'\n",
            "'CAPE ROCK THRUSH'\t       PEACOCK\n",
            "'CAPPED HERON'\t\t       PELICAN\n",
            " CAPUCHINBIRD\t\t      'PEREGRINE FALCON'\n",
            "'CARMINE BEE-EATER'\t      'PHILIPPINE EAGLE'\n",
            "'CASPIAN TERN'\t\t      'PINK ROBIN'\n",
            " CASSOWARY\t\t      'POMARINE JAEGER'\n",
            "'CEDAR WAXWING'\t\t       PUFFIN\n",
            "'CERULEAN WARBLER'\t      'PURPLE FINCH'\n",
            "'CHARA DE COLLAR'\t      'PURPLE GALLINULE'\n",
            "'CHATTERING LORY'\t      'PURPLE MARTIN'\n",
            "'CHESTNET BELLIED EUPHONIA'   'PURPLE SWAMPHEN'\n",
            "'CHINESE BAMBOO PARTRIDGE'    'PYGMY KINGFISHER'\n",
            "'CHINESE POND HERON'\t       QUETZAL\n",
            "'CHIPPING SPARROW'\t      'RAINBOW LORIKEET'\n",
            "'CHUCAO TAPACULO'\t       RAZORBILL\n",
            "'CHUKAR PARTRIDGE'\t      'RED BEARDED BEE EATER'\n",
            "'CINNAMON ATTILA'\t      'RED BELLIED PITTA'\n",
            "'CINNAMON FLYCATCHER'\t      'RED BROWED FINCH'\n",
            "'CINNAMON TEAL'\t\t      'RED FACED CORMORANT'\n",
            "'CLARKS NUTCRACKER'\t      'RED FACED WARBLER'\n",
            " COCKATOO\t\t      'RED FODY'\n",
            "'COCK OF THE  ROCK'\t      'RED HEADED DUCK'\n",
            "'COLLARED ARACARI'\t      'RED HEADED WOODPECKER'\n",
            "'COMMON FIRECREST'\t      'RED HONEY CREEPER'\n",
            "'COMMON GRACKLE'\t      'RED NAPED TROGON'\n",
            "'COMMON HOUSE MARTIN'\t      'RED TAILED HAWK'\n",
            "'COMMON IORA'\t\t      'RED TAILED THRUSH'\n",
            "'COMMON LOON'\t\t      'RED WINGED BLACKBIRD'\n",
            "'COMMON POORWILL'\t      'RED WISKERED BULBUL'\n",
            "'COMMON STARLING'\t      'REGENT BOWERBIRD'\n",
            "'COPPERY TAILED COUCAL'       'RING-NECKED PHEASANT'\n",
            "'CRAB PLOVER'\t\t       ROADRUNNER\n",
            "'CRANE HAWK'\t\t       ROBIN\n",
            "'CREAM COLORED WOODPECKER'    'ROCK DOVE'\n",
            "'CRESTED AUKLET'\t      'ROSY FACED LOVEBIRD'\n",
            "'CRESTED CARACARA'\t      'ROUGH LEG BUZZARD'\n",
            "'CRESTED COUA'\t\t      'ROYAL FLYCATCHER'\n",
            "'CRESTED FIREBACK'\t      'RUBY THROATED HUMMINGBIRD'\n",
            "'CRESTED KINGFISHER'\t      'RUDY KINGFISHER'\n",
            "'CRESTED NUTHATCH'\t      'RUFOUS KINGFISHER'\n",
            "'CRESTED OROPENDOLA'\t      'RUFUOS MOTMOT'\n",
            "'CRESTED SHRIKETIT'\t      'SAMATRAN THRUSH'\n",
            "'CRIMSON CHAT'\t\t      'SANDHILL CRANE'\n",
            "'CRIMSON SUNBIRD'\t      'SAND MARTIN'\n",
            " CROW\t\t\t      'SATYR TRAGOPAN'\n",
            "'CROWNED PIGEON'\t      'SCARLET CROWNED FRUIT DOVE'\n",
            "'CUBAN TODY'\t\t      'SCARLET IBIS'\n",
            "'CUBAN TROGON'\t\t      'SCARLET MACAW'\n",
            "'CURL CRESTED ARACURI'\t      'SCARLET TANAGER'\n",
            "'DARK EYED JUNCO'\t       SHOEBILL\n",
            "'D-ARNAUDS BARBET'\t      'SHORT BILLED DOWITCHER'\n",
            "'DEMOISELLE CRANE'\t      'SMITHS LONGSPUR'\n",
            "'DOUBLE BARRED FINCH'\t      'SNOWY EGRET'\n",
            "'DOUBLE BRESTED CORMARANT'    'SNOWY OWL'\n",
            "'DOUBLE EYED FIG PARROT'       SORA\n",
            "'DOWNY WOODPECKER'\t      'SPANGLED COTINGA'\n",
            "'DUSKY LORY'\t\t      'SPLENDID WREN'\n",
            "'EARED PITA'\t\t      'SPOON BILED SANDPIPER'\n",
            "'EASTERN BLUEBIRD'\t       SPOONBILL\n",
            "'EASTERN GOLDEN WEAVER'       'SPOTTED CATBIRD'\n",
            "'EASTERN MEADOWLARK'\t      'SRI LANKA BLUE MAGPIE'\n",
            "'EASTERN ROSELLA'\t      'STEAMER DUCK'\n",
            "'EASTERN TOWEE'\t\t      'STORK BILLED KINGFISHER'\n",
            "'ELEGANT TROGON'\t      'STRAWBERRY FINCH'\n",
            "'ELLIOTS  PHEASANT'\t      'STRIPED OWL'\n",
            "'EMERALD TANAGER'\t      'STRIPPED MANAKIN'\n",
            "'EMPEROR PENGUIN'\t      'STRIPPED SWALLOW'\n",
            " EMU\t\t\t      'SUPERB STARLING'\n",
            "'ENGGANO MYNA'\t\t      'SWINHOES PHEASANT'\n",
            "'EURASIAN GOLDEN ORIOLE'       TAILORBIRD\n",
            "'EURASIAN MAGPIE'\t      'TAIWAN MAGPIE'\n",
            "'EUROPEAN GOLDFINCH'\t       TAKAHE\n",
            "'EUROPEAN TURTLE DOVE'\t      'TASMANIAN HEN'\n",
            "'EVENING GROSBEAK'\t      'TEAL DUCK'\n",
            "'FAIRY BLUEBIRD'\t      'TIT MOUSE'\n",
            "'FAIRY TERN'\t\t       TOUCHAN\n",
            "'FIORDLAND PENGUIN'\t      'TOWNSENDS WARBLER'\n",
            "'FIRE TAILLED MYZORNIS'       'TREE SWALLOW'\n",
            "'FLAME BOWERBIRD'\t      'TROPICAL KINGBIRD'\n",
            "'FLAME TANAGER'\t\t      'TRUMPTER SWAN'\n",
            " FLAMINGO\t\t      'TURKEY VULTURE'\n",
            " FRIGATE\t\t      'TURQUOISE MOTMOT'\n",
            "'GAMBELS QUAIL'\t\t      'UMBRELLA BIRD'\n",
            "'GANG GANG COCKATOO'\t      'VARIED THRUSH'\n",
            "'GILA WOODPECKER'\t      'VENEZUELIAN TROUPIAL'\n",
            "'GILDED FLICKER'\t      'VERMILION FLYCATHER'\n",
            "'GLOSSY IBIS'\t\t      'VICTORIA CROWNED PIGEON'\n",
            "'GO AWAY BIRD'\t\t      'VIOLET GREEN SWALLOW'\n",
            "'GOLDEN CHEEKED WARBLER'      'VIOLET TURACO'\n",
            "'GOLDEN CHLOROPHONIA'\t      'VULTURINE GUINEAFOWL'\n",
            "'GOLDEN EAGLE'\t\t      'WALL CREAPER'\n",
            "'GOLDEN PHEASANT'\t      'WATTLED CURASSOW'\n",
            "'GOLDEN PIPIT'\t\t      'WATTLED LAPWING'\n",
            "'GOLD WING WARBLER'\t       WHIMBREL\n",
            "'GOULDIAN FINCH'\t      'WHITE BROWED CRAKE'\n",
            "'GRAY CATBIRD'\t\t      'WHITE CHEEKED TURACO'\n",
            "'GRAY KINGBIRD'\t\t      'WHITE NECKED RAVEN'\n",
            "'GRAY PARTRIDGE'\t      'WHITE TAILED TROPIC'\n",
            "'GREAT GRAY OWL'\t      'WHITE THROATED BEE EATER'\n",
            "'GREAT JACAMAR'\t\t      'WILD TURKEY'\n",
            "'GREAT KISKADEE'\t      'WILSONS BIRD OF PARADISE'\n",
            "'GREATOR SAGE GROUSE'\t      'WOOD DUCK'\n",
            "'GREAT POTOO'\t\t      'YELLOW BELLIED FLOWERPECKER'\n",
            "'GREEN BROADBILL'\t      'YELLOW CACIQUE'\n",
            "'GREEN JAY'\t\t      'YELLOW HEADED BLACKBIRD'\n"
          ]
        }
      ]
    },
    {
      "cell_type": "code",
      "execution_count": null,
      "id": "15fded30-27f2-447a-8f8f-7fcaf2622479",
      "metadata": {
        "id": "15fded30-27f2-447a-8f8f-7fcaf2622479"
      },
      "outputs": [],
      "source": [
        "# заведем путь до папки с данными\n",
        "data_path = Path(\"/content/drive/MyDrive/hw2\")"
      ]
    },
    {
      "cell_type": "code",
      "source": [
        "# пути до отдельных датасетов\n",
        "train_data_path = data_path / \"train\"\n",
        "valid_data_path = data_path / \"valid\"\n",
        "test_data_path = data_path / \"test\""
      ],
      "metadata": {
        "id": "nLcQuWDiHrBS"
      },
      "id": "nLcQuWDiHrBS",
      "execution_count": null,
      "outputs": []
    },
    {
      "cell_type": "code",
      "source": [
        "# поскольку мы предсказываем индекс класса а не его имя, необходимо завести mapping имя - индекс\n",
        "# mapping строится на данных трейна, все остальные классы которые не присутствуют в нем будут трактоваться как -1\n",
        "class_to_idx = {}\n",
        "for i, directory in enumerate(os.listdir(train_data_path)):\n",
        "    # YOUR CODE"
      ],
      "metadata": {
        "id": "ewmmKsqkH0cU"
      },
      "id": "ewmmKsqkH0cU",
      "execution_count": null,
      "outputs": []
    },
    {
      "cell_type": "code",
      "execution_count": null,
      "id": "4ffaa131-8553-4ab1-a802-90633861e799",
      "metadata": {
        "id": "4ffaa131-8553-4ab1-a802-90633861e799"
      },
      "outputs": [],
      "source": [
        "class ImageDataset(Dataset):\n",
        "\n",
        "    # определим наш ImageDataset для итерации по данным\n",
        "    \n",
        "    def __init__(self, file_path, transform, class_to_idx):\n",
        "        self.files = list(file_path.rglob(\"\")) # подставьте маску для файлов\n",
        "        self.transform = transform\n",
        "        self.class_to_idx = class_to_idx\n",
        "        \n",
        "    def __len__(self):\n",
        "        return len(self.files)\n",
        "    \n",
        "    def __getitem__(self, i):\n",
        "        file = self.files[i]\n",
        "        img = Image.open(file)\n",
        "        tensor = self.transform(img)\n",
        "        label = # берем имя родительской директории file https://docs.python.org/3/library/pathlib.html#pathlib.PurePath.parent\n",
        "        label_id = # если label в self.class_to_idx то возращаем его id если нет то -1\n",
        "        return tensor, label_id"
      ]
    },
    {
      "cell_type": "code",
      "execution_count": null,
      "id": "9d045865-bea3-4ab5-8563-88479a8684d3",
      "metadata": {
        "id": "9d045865-bea3-4ab5-8563-88479a8684d3"
      },
      "outputs": [],
      "source": [
        "# используйте разные трансформации train чтобы для того чтобы данные были более различны можно почитать про AutoAgument https://pytorch.org/vision/stable/transforms.html#automatic-augmentation-transforms\n",
        "train_transform = transforms.Compose([\n",
        "    transforms.Resize(224),\n",
        "    transforms.RandomCrop(224),\n",
        "    transforms.Normalize(\n",
        "        mean=[0.485, 0.456, 0.406], # Используем нормализацию изображений для ImageNet моделей\n",
        "        std=[0.229, 0.224, 0.225]\n",
        "    ),\n",
        "    transforms.ToTensor()\n",
        "])\n",
        "\n",
        "# трансформация на валидации и тесте остается неизменной\n",
        "\n",
        "valid_transform = transforms.Compose([\n",
        "    transforms.Resize(224),\n",
        "    transforms.CenterCrop(224),\n",
        "    transforms.Normalize(\n",
        "        mean=[0.485, 0.456, 0.406],\n",
        "        std=[0.229, 0.224, 0.225]\n",
        "    ),\n",
        "    transforms.ToTensor()\n",
        "])"
      ]
    },
    {
      "cell_type": "code",
      "execution_count": null,
      "id": "26f8eadf-39ed-4885-8cf8-71454a7d3fdb",
      "metadata": {
        "id": "26f8eadf-39ed-4885-8cf8-71454a7d3fdb"
      },
      "outputs": [],
      "source": [
        "train_dataset = ImageDataset(train_data_path, train_transform, class_to_idx)\n",
        "valid_dataset = ImageDataset(valid_data_path, valid_transform, class_to_idx)\n",
        "test_dataset = ImageDataset(test_data_path, valid_transform, class_to_idx)"
      ]
    },
    {
      "cell_type": "code",
      "source": [
        "# Определим параметры обучения\n",
        "\n",
        "BATCH_SIZE =\n",
        "EPOCH = \n",
        "LEARNING_RATE = \n",
        "WEIGHT_DECAY = "
      ],
      "metadata": {
        "id": "im71bmL5LCrv"
      },
      "id": "im71bmL5LCrv",
      "execution_count": null,
      "outputs": []
    },
    {
      "cell_type": "code",
      "execution_count": null,
      "id": "0794d523-cc3d-4e62-b11c-3fa94c2b9d1f",
      "metadata": {
        "id": "0794d523-cc3d-4e62-b11c-3fa94c2b9d1f"
      },
      "outputs": [],
      "source": [
        "train_loader = DataLoader(train_dataset, batch_size=BATCH_SIZE, shuffle=True)\n",
        "valid_loader = DataLoader(valid_dataset, batch_size=BATCH_SIZE)\n",
        "test_loader = DataLoader(valid_dataset, batch_size=BATCH_SIZE)"
      ]
    },
    {
      "cell_type": "code",
      "execution_count": null,
      "id": "5356278d-3155-41de-bd4a-ee130dd08432",
      "metadata": {
        "id": "5356278d-3155-41de-bd4a-ee130dd08432"
      },
      "outputs": [],
      "source": [
        "net = models.alexnet(pretrained=True) # пробуйте разные модели, с предобучением на ImageNet и без\n",
        "net = net.to(\"cuda\") "
      ]
    },
    {
      "cell_type": "code",
      "execution_count": null,
      "id": "780dfea9-7ce5-4b34-a68a-ed785ac46011",
      "metadata": {
        "id": "780dfea9-7ce5-4b34-a68a-ed785ac46011"
      },
      "outputs": [],
      "source": [
        "optimizer = # Ваш любимый оптимизатор с параметрами LEARNING RATE и WEIGHT DECAY"
      ]
    },
    {
      "cell_type": "code",
      "execution_count": null,
      "id": "a130fd68-2c6d-47c1-8ac8-95735f13b5d4",
      "metadata": {
        "id": "a130fd68-2c6d-47c1-8ac8-95735f13b5d4"
      },
      "outputs": [],
      "source": [
        "criteria = # используем функцию потерь для многоклассовой классификации"
      ]
    },
    {
      "cell_type": "code",
      "execution_count": null,
      "id": "2ae508f5-1af8-4117-a9e1-db4a9a9ec44f",
      "metadata": {
        "id": "2ae508f5-1af8-4117-a9e1-db4a9a9ec44f"
      },
      "outputs": [],
      "source": [
        "for epoch in range(EPOCH):\n",
        "    \n",
        "    net. # перевести сеть в режим тренировки\n",
        "    for i, (x, y) in enumerate(train_loader):\n",
        "        \n",
        "        optimizer. # обнулить градиент оптимизатора\n",
        "        x = \n",
        "        y = # перевести x, y на cuda\n",
        "        output = # получить выход сети\n",
        "        loss = # посчитать лосс\n",
        "        loss. # сделать backward propagation от лосса\n",
        "        optimizer. # шаг оптимизатора\n",
        "        \n",
        "        if (i + 1) % 100 == 0:\n",
        "            print(f\"Epoch {epoch + 1} / 10, iteration {i + 1} / {len(train_loader)}, loss: {loss.item():.3f}\")\n",
        "        \n",
        "    y_true = []\n",
        "    y_pred = []\n",
        "    \n",
        "    net. # перевести сеть в режим предсказаний\n",
        "    for i, (x, y) in enumerate(valid_loader):\n",
        "        # выключить градиент\n",
        "            x = # переводим x на cuda\n",
        "            y = # переводим y в numpy массив\n",
        "            \n",
        "            output = # считаем выход сети\n",
        "            output = # берем самый вероятный класс и переводим output на cpu и в numpy массив\n",
        "            y_true.extend(y)\n",
        "            y_pred.extend(output)\n",
        "            \n",
        "    score = accuracy_score(y_true, y_pred)\n",
        "    print(f\"Epoch {epoch + 1} / 10, accuracy: {score:.3f}\")"
      ]
    },
    {
      "cell_type": "code",
      "execution_count": null,
      "id": "116ac97f-c857-420d-8987-a16e8b29eaf2",
      "metadata": {
        "id": "116ac97f-c857-420d-8987-a16e8b29eaf2"
      },
      "outputs": [],
      "source": [
        "# считаем итоговое качество\n",
        "\n",
        "for i, (x, y) in enumerate(test_loader):\n",
        "    # выключить градиент\n",
        "        x = # переводим x на cuda\n",
        "        y = # переводим y в numpy массив\n",
        "        \n",
        "        output = # считаем выход сети\n",
        "        output = # берем самый вероятный класс и переводим output на cpu и в numpy массив\n",
        "        y_true.extend(y)\n",
        "        y_pred.extend(output)\n",
        "        \n",
        "score = accuracy_score(y_true, y_pred)\n",
        "print(f\"Test accuracy: {score:.3f}\")"
      ]
    }
  ],
  "metadata": {
    "kernelspec": {
      "display_name": "Python 3 (ipykernel)",
      "language": "python",
      "name": "python3"
    },
    "language_info": {
      "codemirror_mode": {
        "name": "ipython",
        "version": 3
      },
      "file_extension": ".py",
      "mimetype": "text/x-python",
      "name": "python",
      "nbconvert_exporter": "python",
      "pygments_lexer": "ipython3",
      "version": "3.8.12"
    },
    "colab": {
      "name": "hw2_template",
      "provenance": [],
      "collapsed_sections": []
    },
    "accelerator": "GPU"
  },
  "nbformat": 4,
  "nbformat_minor": 5
}