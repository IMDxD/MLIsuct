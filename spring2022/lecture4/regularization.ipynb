{
 "cells": [
  {
   "cell_type": "code",
   "execution_count": 1,
   "id": "461796ba-7fb7-4288-ae37-c35109133eaf",
   "metadata": {},
   "outputs": [],
   "source": [
    "import matplotlib.pyplot as plt\n",
    "import torch\n",
    "from torch import optim\n",
    "from torch import nn\n",
    "from torch.nn import functional as F\n",
    "from torch.utils.data import DataLoader\n",
    "from torchvision.datasets import FashionMNIST\n",
    "from torchvision import transforms\n",
    "from sklearn.metrics import accuracy_score"
   ]
  },
  {
   "cell_type": "code",
   "execution_count": 2,
   "id": "a74ad92b-4e2e-44e9-b4a7-d49af34915f9",
   "metadata": {},
   "outputs": [],
   "source": [
    "image_transform = transforms.ToTensor()"
   ]
  },
  {
   "cell_type": "code",
   "execution_count": null,
   "id": "ff608088-4f88-4f31-beac-fc8d84b5ccf4",
   "metadata": {},
   "outputs": [
    {
     "name": "stdout",
     "output_type": "stream",
     "text": [
      "Downloading http://fashion-mnist.s3-website.eu-central-1.amazonaws.com/train-images-idx3-ubyte.gz\n",
      "Downloading http://fashion-mnist.s3-website.eu-central-1.amazonaws.com/train-images-idx3-ubyte.gz to .\\FashionMNIST\\raw\\train-images-idx3-ubyte.gz\n"
     ]
    },
    {
     "name": "stderr",
     "output_type": "stream",
     "text": [
      " 44%|███████████████████████████████████████████                                                        | 11501568/26421880 [05:20<06:39, 37386.25it/s]"
     ]
    }
   ],
   "source": [
    "train_dataset = FashionMNIST(\".\", train=True, download=True, transform=image_transform)\n",
    "valid_dataset = FashionMNIST(\".\", train=False, download=True, transform=image_transform)"
   ]
  },
  {
   "cell_type": "code",
   "execution_count": null,
   "id": "c455968d-0810-4766-b1e6-f68b3ba28863",
   "metadata": {},
   "outputs": [],
   "source": [
    "train_loader = DataLoader(train_dataset, batch_size=128, shuffle=True)\n",
    "valid_loader = DataLoader(valid_dataset, batch_size=128)"
   ]
  },
  {
   "cell_type": "code",
   "execution_count": null,
   "id": "2d9ae85a-7b0f-42dd-9d4d-d1e62f98562d",
   "metadata": {},
   "outputs": [],
   "source": [
    "def draw_losses(train_loss, valid_loss):\n",
    "    plt.figure(figsize=(12, 8), num =\"loss\")\n",
    "    plt.plot(train_loss, color=\"blue\", label=\"train\")\n",
    "    plt.plot(valid_loss, color=\"orange\", label=\"valid\")"
   ]
  },
  {
   "cell_type": "code",
   "execution_count": null,
   "id": "bc8be008-4701-4c3b-afd9-eaf921fdd9ff",
   "metadata": {},
   "outputs": [],
   "source": [
    "class SimpleNet(nn.Module):\n",
    "    \n",
    "    def __init__(self, input_size, output_size):\n",
    "        super().__init__()\n",
    "        self.flatten = nn.Flatten()\n",
    "        self.lr1 = nn.Linear(input_size, 2048)\n",
    "        self.lr2 = nn.Linear(2048, 2048)\n",
    "        self.lr3 = nn.Linear(2048, 2048)\n",
    "        self.lr4 = nn.Linear(2048, output_size)\n",
    "        \n",
    "    def forward(self, x):\n",
    "        x = self.flatten(x)\n",
    "        x = F.relu(self.lr1(x))\n",
    "        x = F.relu(self.lr2(x))\n",
    "        x = F.relu(self.lr3(x))\n",
    "        x = self.lr4(x)\n",
    "        return x"
   ]
  },
  {
   "cell_type": "code",
   "execution_count": 7,
   "id": "b225faea-c055-4cac-9935-501b8ce4157a",
   "metadata": {},
   "outputs": [],
   "source": [
    "net = SimpleNet(28 * 28, len(train_dataset.classes))"
   ]
  },
  {
   "cell_type": "code",
   "execution_count": 8,
   "id": "234f1b87-009f-4434-8354-f2ff770fca42",
   "metadata": {},
   "outputs": [],
   "source": [
    "net = net.to(\"cuda\")"
   ]
  },
  {
   "cell_type": "code",
   "execution_count": 9,
   "id": "7fc69e52-d45e-49e3-8257-c3332607c675",
   "metadata": {},
   "outputs": [],
   "source": [
    "optimizer = optim.Adam(net.parameters(), lr=1e-3)"
   ]
  },
  {
   "cell_type": "code",
   "execution_count": 10,
   "id": "c71f775f-daab-4d33-b019-2963fa8adf95",
   "metadata": {},
   "outputs": [],
   "source": [
    "criteria = nn.CrossEntropyLoss()"
   ]
  },
  {
   "cell_type": "code",
   "execution_count": 11,
   "id": "da242edd-0db4-4946-8338-52aebd01f0d3",
   "metadata": {},
   "outputs": [
    {
     "data": {
      "image/png": "[encoded data removed]",
      "text/plain": [
       "<Figure size 864x576 with 1 Axes>"
      ]
     },
     "metadata": {
      "needs_background": "light"
     },
     "output_type": "display_data"
    }
   ],
   "source": [
    "train_losses = []\n",
    "valid_losses = []\n",
    "for epoch in range(20):\n",
    "    for x, y in train_loader:\n",
    "        optimizer.zero_grad()\n",
    "        x = x.to(\"cuda\")\n",
    "        y = y.to(\"cuda\")\n",
    "        output = net(x.float())\n",
    "        loss = criteria(output, y)\n",
    "        loss.backward()\n",
    "        optimizer.step()\n",
    "\n",
    "    with torch.no_grad():\n",
    "        y_pred = []\n",
    "        y_true = []\n",
    "        for x, y in valid_loader:\n",
    "            x = x.to(\"cuda\")\n",
    "            y_true.extend(y)\n",
    "            y = y.to(\"cuda\")\n",
    "            output = net(x.float())\n",
    "            y_pred.extend(output.argmax(1).cpu())\n",
    "        valid_losses.append(accuracy_score(y_true, y_pred))\n",
    "        \n",
    "        for x, y in train_loader:\n",
    "            x = x.to(\"cuda\")\n",
    "            y_true.extend(y)\n",
    "            y = y.to(\"cuda\")\n",
    "            output = net(x.float())\n",
    "            y_pred.extend(output.argmax(1).cpu())\n",
    "        train_losses.append(accuracy_score(y_true, y_pred))\n",
    "\n",
    "        draw_losses(train_losses, valid_losses)"
   ]
  },
  {
   "cell_type": "markdown",
   "id": "d5fca48e-38dc-4ba5-91fb-c93a5c25b48a",
   "metadata": {},
   "source": [
    "# Регуляризация \n",
    "\n",
    "Нейронные сети сильно поддвержены переобучению, особенно когда у них имеется большое число параметров. Чтобы уменьшить эффект данного процесса существуют различные методы регуляризации"
   ]
  },
  {
   "cell_type": "markdown",
   "id": "dc8cb515-ce83-4ef7-a7ea-d5ec3ac33637",
   "metadata": {},
   "source": [
    "## L2 L1 Regularization\n",
    "\n",
    "Как и с линейной регрессией мы можем штрафовать веса во время их обновления в зависимости от их квадрата или модуля (значение или знак в производной)"
   ]
  },
  {
   "cell_type": "code",
   "execution_count": 12,
   "id": "86ba202e-e151-4182-9a25-09f7b732d9b9",
   "metadata": {},
   "outputs": [],
   "source": [
    "net = SimpleNet(28 * 28, len(train_dataset.classes))"
   ]
  },
  {
   "cell_type": "code",
   "execution_count": 13,
   "id": "1da3aba6-5863-434c-af95-6d838ea7a2c8",
   "metadata": {},
   "outputs": [],
   "source": [
    "net = net.to(\"cuda\")"
   ]
  },
  {
   "cell_type": "code",
   "execution_count": 14,
   "id": "f190d865-57a9-486d-8dc2-a7288b3639f0",
   "metadata": {},
   "outputs": [],
   "source": [
    "# В практически всех оптимизаторах в pytorch есть l2 регуляризация, параметр weight_decay\n",
    "\n",
    "optimizer = optim.Adam(net.parameters(), lr=1e-3, weight_decay=1e-5)"
   ]
  },
  {
   "cell_type": "code",
   "execution_count": 15,
   "id": "f10b8af9-cdbf-4719-a26f-db123937616d",
   "metadata": {},
   "outputs": [
    {
     "data": {
      "image/png": "[encoded data removed]",
      "text/plain": [
       "<Figure size 864x576 with 1 Axes>"
      ]
     },
     "metadata": {
      "needs_background": "light"
     },
     "output_type": "display_data"
    }
   ],
   "source": [
    "train_losses = []\n",
    "valid_losses = []\n",
    "for epoch in range(20):\n",
    "    for x, y in train_loader:\n",
    "        optimizer.zero_grad()\n",
    "        x = x.to(\"cuda\")\n",
    "        y = y.to(\"cuda\")\n",
    "        output = net(x.float())\n",
    "        loss = criteria(output, y)\n",
    "        loss.backward()\n",
    "        optimizer.step()\n",
    "\n",
    "    with torch.no_grad():\n",
    "        y_pred = []\n",
    "        y_true = []\n",
    "        for x, y in valid_loader:\n",
    "            x = x.to(\"cuda\")\n",
    "            y_true.extend(y)\n",
    "            y = y.to(\"cuda\")\n",
    "            output = net(x.float())\n",
    "            y_pred.extend(output.argmax(1).cpu())\n",
    "        valid_losses.append(accuracy_score(y_true, y_pred))\n",
    "        \n",
    "        for x, y in train_loader:\n",
    "            x = x.to(\"cuda\")\n",
    "            y_true.extend(y)\n",
    "            y = y.to(\"cuda\")\n",
    "            output = net(x.float())\n",
    "            y_pred.extend(output.argmax(1).cpu())\n",
    "        train_losses.append(accuracy_score(y_true, y_pred))\n",
    "\n",
    "        draw_losses(train_losses, valid_losses)"
   ]
  },
  {
   "cell_type": "markdown",
   "id": "9335728b-65d1-49a3-85ea-685c8a8c238d",
   "metadata": {},
   "source": [
    "## Dropout\n",
    "\n",
    "Но гораздо более действенным методом является dropout\n",
    "\n",
    "Идея Dropout близка к l2 и l1 регуляризациям, мы хотим чтобы сеть обращала внимание на все признаки и не было слишком больших весов, однако подход отличается\n",
    "\n",
    "<img src=\"./img/dropout.jpeg\">\n",
    "\n",
    "Dropout во время forward pass делает некоторые из весов равными 0 - тем саммым исключая их из forward, во время backward они так же не учитываются\n",
    "\n",
    "Исключаются веса случайно с вероятностью p\n",
    "\n",
    "Однако после того как обучили сеть используются все веса и поскольку из суммарный вклад (xW), будет больше чем на этапе обучения выход линейного слоя дополнительно домножают на q = 1 - p (вероятность весов остаться)\n",
    "\n",
    "### Inversed Dropout\n",
    "\n",
    "Прямой dropout сейчас встречается достаточно редко и вместо него используется инвертированный, идея которого состоит в том чтобы не занижать веса во время предсказания, а увеличивать веса которые остались после Dropout\n",
    "\n",
    "на этапе тренировке веса домножаются на $\\large{\\frac{1}{q} = \\frac{1}{1 - p}}$"
   ]
  },
  {
   "cell_type": "code",
   "execution_count": 16,
   "id": "34d4a3eb-067c-4630-a676-f6e1b44ed746",
   "metadata": {},
   "outputs": [
    {
     "data": {
      "text/plain": [
       "\u001b[0;31mInit signature:\u001b[0m \u001b[0mnn\u001b[0m\u001b[0;34m.\u001b[0m\u001b[0mDropout\u001b[0m\u001b[0;34m(\u001b[0m\u001b[0mp\u001b[0m\u001b[0;34m:\u001b[0m \u001b[0mfloat\u001b[0m \u001b[0;34m=\u001b[0m \u001b[0;36m0.5\u001b[0m\u001b[0;34m,\u001b[0m \u001b[0minplace\u001b[0m\u001b[0;34m:\u001b[0m \u001b[0mbool\u001b[0m \u001b[0;34m=\u001b[0m \u001b[0;32mFalse\u001b[0m\u001b[0;34m)\u001b[0m \u001b[0;34m->\u001b[0m \u001b[0;32mNone\u001b[0m\u001b[0;34m\u001b[0m\u001b[0;34m\u001b[0m\u001b[0m\n",
       "\u001b[0;31mDocstring:\u001b[0m     \n",
       "During training, randomly zeroes some of the elements of the input\n",
       "tensor with probability :attr:`p` using samples from a Bernoulli\n",
       "distribution. Each channel will be zeroed out independently on every forward\n",
       "call.\n",
       "\n",
       "This has proven to be an effective technique for regularization and\n",
       "preventing the co-adaptation of neurons as described in the paper\n",
       "`Improving neural networks by preventing co-adaptation of feature\n",
       "detectors`_ .\n",
       "\n",
       "Furthermore, the outputs are scaled by a factor of :math:`\\frac{1}{1-p}` during\n",
       "training. This means that during evaluation the module simply computes an\n",
       "identity function.\n",
       "\n",
       "Args:\n",
       "    p: probability of an element to be zeroed. Default: 0.5\n",
       "    inplace: If set to ``True``, will do this operation in-place. Default: ``False``\n",
       "\n",
       "Shape:\n",
       "    - Input: :math:`(*)`. Input can be of any shape\n",
       "    - Output: :math:`(*)`. Output is of the same shape as input\n",
       "\n",
       "Examples::\n",
       "\n",
       "    >>> m = nn.Dropout(p=0.2)\n",
       "    >>> input = torch.randn(20, 16)\n",
       "    >>> output = m(input)\n",
       "\n",
       ".. _Improving neural networks by preventing co-adaptation of feature\n",
       "    detectors: https://arxiv.org/abs/1207.0580\n",
       "\u001b[0;31mInit docstring:\u001b[0m Initializes internal Module state, shared by both nn.Module and ScriptModule.\n",
       "\u001b[0;31mFile:\u001b[0m           ~/miniconda3/envs/mlisuct/lib/python3.8/site-packages/torch/nn/modules/dropout.py\n",
       "\u001b[0;31mType:\u001b[0m           type\n",
       "\u001b[0;31mSubclasses:\u001b[0m     \n"
      ]
     },
     "metadata": {},
     "output_type": "display_data"
    }
   ],
   "source": [
    "# в pytorch представлен inversed dropout\n",
    "\n",
    "nn.Dropout?"
   ]
  },
  {
   "cell_type": "code",
   "execution_count": 24,
   "id": "8567183d-59f1-4248-824f-9d969df73e5c",
   "metadata": {},
   "outputs": [],
   "source": [
    "class SimpleNet(nn.Module):\n",
    "    \n",
    "    def __init__(self, input_size, output_size):\n",
    "        super().__init__()\n",
    "        self.flatten = nn.Flatten()\n",
    "        self.lr1 = nn.Linear(input_size, 2048)\n",
    "        self.lr2 = nn.Linear(2048, 2048)\n",
    "        self.lr3 = nn.Linear(2048, 2048)\n",
    "        self.lr4 = nn.Linear(2048, output_size)\n",
    "        \n",
    "    def forward(self, x):\n",
    "        x = self.flatten(x)\n",
    "        x = F.dropout(F.relu(self.lr1(x)), p=0.1)\n",
    "        x = F.dropout(F.relu(self.lr2(x)), p=0.1)\n",
    "        x = F.dropout(F.relu(self.lr3(x)), p=0.1)\n",
    "        x = F.dropout(self.lr4(x), p=0.1)\n",
    "        return x"
   ]
  },
  {
   "cell_type": "code",
   "execution_count": 25,
   "id": "c73253a8-a06e-4d05-8d6e-267ddbeb8091",
   "metadata": {},
   "outputs": [],
   "source": [
    "net = SimpleNet(28 * 28, len(train_dataset.classes))"
   ]
  },
  {
   "cell_type": "code",
   "execution_count": 26,
   "id": "a5d53f86-615a-43ce-b787-b36959b8ca51",
   "metadata": {},
   "outputs": [],
   "source": [
    "net = net.to(\"cuda\")"
   ]
  },
  {
   "cell_type": "code",
   "execution_count": 27,
   "id": "ebb4b432-d30c-4f33-a922-8f3b762806f7",
   "metadata": {},
   "outputs": [],
   "source": [
    "optimizer = optim.Adam(net.parameters(), lr=1e-3, weight_decay=1e-5)"
   ]
  },
  {
   "cell_type": "code",
   "execution_count": 28,
   "id": "af58866c-33ad-4afc-98c6-f1134e5d24a2",
   "metadata": {},
   "outputs": [
    {
     "data": {
      "image/png": "[encoded data removed]",
      "text/plain": [
       "<Figure size 864x576 with 1 Axes>"
      ]
     },
     "metadata": {
      "needs_background": "light"
     },
     "output_type": "display_data"
    }
   ],
   "source": [
    "train_losses = []\n",
    "valid_losses = []\n",
    "for epoch in range(20):\n",
    "    net.train() # переводим сеть в стадию тренировки\n",
    "    for x, y in train_loader:\n",
    "        optimizer.zero_grad()\n",
    "        x = x.to(\"cuda\")\n",
    "        y = y.to(\"cuda\")\n",
    "        output = net(x.float())\n",
    "        loss = criteria(output, y)\n",
    "        loss.backward()\n",
    "        optimizer.step()\n",
    "    \n",
    "    net.eval() # теперь когда у нас появился слой который по разному себя ведет на тренировке и инференсе, не забывать переводить сетку в стадию инференса\n",
    "    with torch.no_grad():\n",
    "        y_pred = []\n",
    "        y_true = []\n",
    "        \n",
    "        for x, y in valid_loader:\n",
    "            x = x.to(\"cuda\")\n",
    "            y_true.extend(y)\n",
    "            y = y.to(\"cuda\")\n",
    "            output = net(x.float())\n",
    "            y_pred.extend(output.argmax(1).cpu())\n",
    "        valid_losses.append(accuracy_score(y_true, y_pred))\n",
    "        \n",
    "        for x, y in train_loader:\n",
    "            x = x.to(\"cuda\")\n",
    "            y_true.extend(y)\n",
    "            y = y.to(\"cuda\")\n",
    "            output = net(x.float())\n",
    "            y_pred.extend(output.argmax(1).cpu())\n",
    "        train_losses.append(accuracy_score(y_true, y_pred))\n",
    "\n",
    "        draw_losses(train_losses, valid_losses)"
   ]
  },
  {
   "cell_type": "markdown",
   "id": "9b8f70a8-549d-41aa-80ce-9c06d5eb0e22",
   "metadata": {},
   "source": [
    "## BatchNorm\n",
    "\n",
    "Хоть batch norm и не является прямой регуляризацией однако он позволяет увеличить скорость обучения сети и ее качество\n",
    "\n",
    "В чем же идея batch norm, у нас есть несколько линейных слоев, каждый из которых по сути отдельная линейная регрессия со своим входом\n",
    "\n",
    "Мы знаем что линейная регрессия крайне чувствительна к масштабированию признаков, для того чтобы градиент учитывал все направления.\n",
    "\n",
    "А не только направления с наибольшим признаком. Тогда давайте будем после каждого выхода из активации применять нормализацию признаков чтобы нормализовать масштаб\n",
    "\n",
    "$$\\large{x_{new} = \\frac{x - \\mu}{\\sigma}}$$\n",
    "\n",
    "Но учтем что распределение необязательно должно приходить к стандартному нормальному, давайте просто сделаем единное среднее для всех признаков и единую дисперсию и будем обучать эти параметры\n",
    "\n",
    "$$\\large{x_{new} = \\gamma \\frac{x - \\mu}{\\sigma} + \\beta}$$\n",
    "\n",
    "$\\gamma$, $\\beta$ - обучаемые параметры\n",
    "\n",
    "$\\mu$, $\\sigma$ - высчитываются из статистик батчей\n",
    "\n",
    "Сети с BatchNorm необходимо так же переводить в inference режим, чтобы не накапливать статистику батча (особенно если предсказывается отдельный семпл)"
   ]
  },
  {
   "cell_type": "code",
   "execution_count": 29,
   "id": "a7da4a05-0685-4149-bce6-14b4ab4aa9f8",
   "metadata": {},
   "outputs": [
    {
     "data": {
      "text/plain": [
       "\u001b[0;31mInit signature:\u001b[0m\n",
       "\u001b[0mnn\u001b[0m\u001b[0;34m.\u001b[0m\u001b[0mBatchNorm1d\u001b[0m\u001b[0;34m(\u001b[0m\u001b[0;34m\u001b[0m\n",
       "\u001b[0;34m\u001b[0m    \u001b[0mnum_features\u001b[0m\u001b[0;34m,\u001b[0m\u001b[0;34m\u001b[0m\n",
       "\u001b[0;34m\u001b[0m    \u001b[0meps\u001b[0m\u001b[0;34m=\u001b[0m\u001b[0;36m1e-05\u001b[0m\u001b[0;34m,\u001b[0m\u001b[0;34m\u001b[0m\n",
       "\u001b[0;34m\u001b[0m    \u001b[0mmomentum\u001b[0m\u001b[0;34m=\u001b[0m\u001b[0;36m0.1\u001b[0m\u001b[0;34m,\u001b[0m\u001b[0;34m\u001b[0m\n",
       "\u001b[0;34m\u001b[0m    \u001b[0maffine\u001b[0m\u001b[0;34m=\u001b[0m\u001b[0;32mTrue\u001b[0m\u001b[0;34m,\u001b[0m\u001b[0;34m\u001b[0m\n",
       "\u001b[0;34m\u001b[0m    \u001b[0mtrack_running_stats\u001b[0m\u001b[0;34m=\u001b[0m\u001b[0;32mTrue\u001b[0m\u001b[0;34m,\u001b[0m\u001b[0;34m\u001b[0m\n",
       "\u001b[0;34m\u001b[0m    \u001b[0mdevice\u001b[0m\u001b[0;34m=\u001b[0m\u001b[0;32mNone\u001b[0m\u001b[0;34m,\u001b[0m\u001b[0;34m\u001b[0m\n",
       "\u001b[0;34m\u001b[0m    \u001b[0mdtype\u001b[0m\u001b[0;34m=\u001b[0m\u001b[0;32mNone\u001b[0m\u001b[0;34m,\u001b[0m\u001b[0;34m\u001b[0m\n",
       "\u001b[0;34m\u001b[0m\u001b[0;34m)\u001b[0m\u001b[0;34m\u001b[0m\u001b[0;34m\u001b[0m\u001b[0m\n",
       "\u001b[0;31mDocstring:\u001b[0m     \n",
       "Applies Batch Normalization over a 2D or 3D input (a mini-batch of 1D\n",
       "inputs with optional additional channel dimension) as described in the paper\n",
       "`Batch Normalization: Accelerating Deep Network Training by Reducing\n",
       "Internal Covariate Shift <https://arxiv.org/abs/1502.03167>`__ .\n",
       "\n",
       ".. math::\n",
       "\n",
       "    y = \\frac{x - \\mathrm{E}[x]}{\\sqrt{\\mathrm{Var}[x] + \\epsilon}} * \\gamma + \\beta\n",
       "\n",
       "The mean and standard-deviation are calculated per-dimension over\n",
       "the mini-batches and :math:`\\gamma` and :math:`\\beta` are learnable parameter vectors\n",
       "of size `C` (where `C` is the input size). By default, the elements of :math:`\\gamma` are set\n",
       "to 1 and the elements of :math:`\\beta` are set to 0. The standard-deviation is calculated\n",
       "via the biased estimator, equivalent to `torch.var(input, unbiased=False)`.\n",
       "\n",
       "Also by default, during training this layer keeps running estimates of its\n",
       "computed mean and variance, which are then used for normalization during\n",
       "evaluation. The running estimates are kept with a default :attr:`momentum`\n",
       "of 0.1.\n",
       "\n",
       "If :attr:`track_running_stats` is set to ``False``, this layer then does not\n",
       "keep running estimates, and batch statistics are instead used during\n",
       "evaluation time as well.\n",
       "\n",
       ".. note::\n",
       "    This :attr:`momentum` argument is different from one used in optimizer\n",
       "    classes and the conventional notion of momentum. Mathematically, the\n",
       "    update rule for running statistics here is\n",
       "    :math:`\\hat{x}_\\text{new} = (1 - \\text{momentum}) \\times \\hat{x} + \\text{momentum} \\times x_t`,\n",
       "    where :math:`\\hat{x}` is the estimated statistic and :math:`x_t` is the\n",
       "    new observed value.\n",
       "\n",
       "Because the Batch Normalization is done over the `C` dimension, computing statistics\n",
       "on `(N, L)` slices, it's common terminology to call this Temporal Batch Normalization.\n",
       "\n",
       "Args:\n",
       "    num_features: :math:`C` from an expected input of size\n",
       "        :math:`(N, C, L)` or :math:`L` from input of size :math:`(N, L)`\n",
       "    eps: a value added to the denominator for numerical stability.\n",
       "        Default: 1e-5\n",
       "    momentum: the value used for the running_mean and running_var\n",
       "        computation. Can be set to ``None`` for cumulative moving average\n",
       "        (i.e. simple average). Default: 0.1\n",
       "    affine: a boolean value that when set to ``True``, this module has\n",
       "        learnable affine parameters. Default: ``True``\n",
       "    track_running_stats: a boolean value that when set to ``True``, this\n",
       "        module tracks the running mean and variance, and when set to ``False``,\n",
       "        this module does not track such statistics, and initializes statistics\n",
       "        buffers :attr:`running_mean` and :attr:`running_var` as ``None``.\n",
       "        When these buffers are ``None``, this module always uses batch statistics.\n",
       "        in both training and eval modes. Default: ``True``\n",
       "\n",
       "Shape:\n",
       "    - Input: :math:`(N, C)` or :math:`(N, C, L)`\n",
       "    - Output: :math:`(N, C)` or :math:`(N, C, L)` (same shape as input)\n",
       "\n",
       "Examples::\n",
       "\n",
       "    >>> # With Learnable Parameters\n",
       "    >>> m = nn.BatchNorm1d(100)\n",
       "    >>> # Without Learnable Parameters\n",
       "    >>> m = nn.BatchNorm1d(100, affine=False)\n",
       "    >>> input = torch.randn(20, 100)\n",
       "    >>> output = m(input)\n",
       "\u001b[0;31mInit docstring:\u001b[0m Initializes internal Module state, shared by both nn.Module and ScriptModule.\n",
       "\u001b[0;31mFile:\u001b[0m           ~/miniconda3/envs/mlisuct/lib/python3.8/site-packages/torch/nn/modules/batchnorm.py\n",
       "\u001b[0;31mType:\u001b[0m           type\n",
       "\u001b[0;31mSubclasses:\u001b[0m     \n"
      ]
     },
     "metadata": {},
     "output_type": "display_data"
    }
   ],
   "source": [
    "# батчнорм требует лишь размерность входящего вектора\n",
    "nn.BatchNorm1d?"
   ]
  },
  {
   "cell_type": "code",
   "execution_count": 30,
   "id": "4741d7ba-a710-4e32-a58d-85506d868c98",
   "metadata": {},
   "outputs": [],
   "source": [
    "class SimpleNet(nn.Module):\n",
    "    \n",
    "    def __init__(self, input_size, output_size):\n",
    "        super().__init__()\n",
    "        self.flatten = nn.Flatten()\n",
    "        self.lr1 = nn.Linear(input_size, 2048)\n",
    "        self.bn1 = nn.BatchNorm1d(2048)\n",
    "        self.lr2 = nn.Linear(2048, 2048)\n",
    "        self.bn2 = nn.BatchNorm1d(2048)\n",
    "        self.lr3 = nn.Linear(2048, 2048)\n",
    "        self.bn3 = nn.BatchNorm1d(2048)\n",
    "        self.lr4 = nn.Linear(2048, output_size)\n",
    "        \n",
    "    def forward(self, x):\n",
    "        x = self.flatten(x)\n",
    "        x = F.dropout(self.bn1(F.relu(self.lr1(x))), p=0.1)\n",
    "        x = F.dropout(self.bn2(F.relu(self.lr2(x))), p=0.1)\n",
    "        x = F.dropout(self.bn3(F.relu(self.lr3(x))), p=0.1)\n",
    "        x = F.dropout(self.lr4(x), p=0.1)\n",
    "        return x"
   ]
  },
  {
   "cell_type": "code",
   "execution_count": 31,
   "id": "e68e0426-0519-43bf-bd11-5692d2f5a9c0",
   "metadata": {},
   "outputs": [],
   "source": [
    "net = net.to(\"cuda\")"
   ]
  },
  {
   "cell_type": "code",
   "execution_count": 32,
   "id": "f36caa18-935b-4b1c-b2bd-9ee047b38bf9",
   "metadata": {},
   "outputs": [],
   "source": [
    "optimizer = optim.Adam(net.parameters(), lr=1e-3, weight_decay=1e-5)"
   ]
  },
  {
   "cell_type": "code",
   "execution_count": 33,
   "id": "da3e3aff-6c87-451f-b6db-e2ed13ef4cbd",
   "metadata": {},
   "outputs": [
    {
     "data": {
      "image/png": "[encoded data removed]",
      "text/plain": [
       "<Figure size 864x576 with 1 Axes>"
      ]
     },
     "metadata": {
      "needs_background": "light"
     },
     "output_type": "display_data"
    }
   ],
   "source": [
    "train_losses = []\n",
    "valid_losses = []\n",
    "for epoch in range(20):\n",
    "    net.train() # переводим сеть в стадию тренировки\n",
    "    for x, y in train_loader:\n",
    "        optimizer.zero_grad()\n",
    "        x = x.to(\"cuda\")\n",
    "        y = y.to(\"cuda\")\n",
    "        output = net(x.float())\n",
    "        loss = criteria(output, y)\n",
    "        loss.backward()\n",
    "        optimizer.step()\n",
    "    \n",
    "    net.eval() # теперь когда у нас появился слой который по разному себя ведет на тренировке и инференсе, не забывать переводить сетку в стадию инференса\n",
    "    with torch.no_grad():\n",
    "        y_pred = []\n",
    "        y_true = []\n",
    "        \n",
    "        for x, y in valid_loader:\n",
    "            x = x.to(\"cuda\")\n",
    "            y_true.extend(y)\n",
    "            y = y.to(\"cuda\")\n",
    "            output = net(x.float())\n",
    "            y_pred.extend(output.argmax(1).cpu())\n",
    "        valid_losses.append(accuracy_score(y_true, y_pred))\n",
    "        \n",
    "        for x, y in train_loader:\n",
    "            x = x.to(\"cuda\")\n",
    "            y_true.extend(y)\n",
    "            y = y.to(\"cuda\")\n",
    "            output = net(x.float())\n",
    "            y_pred.extend(output.argmax(1).cpu())\n",
    "        train_losses.append(accuracy_score(y_true, y_pred))\n",
    "\n",
    "        draw_losses(train_losses, valid_losses)"
   ]
  },
  {
   "cell_type": "code",
   "execution_count": null,
   "id": "839e3239-a872-4e34-84c5-bd609cb4fdf7",
   "metadata": {},
   "outputs": [],
   "source": []
  }
 ],
 "metadata": {
  "kernelspec": {
   "display_name": "Python 3 (ipykernel)",
   "language": "python",
   "name": "python3"
  },
  "language_info": {
   "codemirror_mode": {
    "name": "ipython",
    "version": 3
   },
   "file_extension": ".py",
   "mimetype": "text/x-python",
   "name": "python",
   "nbconvert_exporter": "python",
   "pygments_lexer": "ipython3",
   "version": "3.10.4"
  }
 },
 "nbformat": 4,
 "nbformat_minor": 5
}
