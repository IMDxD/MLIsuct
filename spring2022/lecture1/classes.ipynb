{
 "cells": [
  {
   "cell_type": "code",
   "execution_count": 1,
   "id": "7b26cabe-2068-42a6-8534-64dc26d7406d",
   "metadata": {},
   "outputs": [],
   "source": [
    "class A:\n",
    "    \n",
    "    x = 5\n",
    "    y = 6"
   ]
  },
  {
   "cell_type": "code",
   "execution_count": 2,
   "id": "724a0d55-77f9-4292-adec-6118f00da719",
   "metadata": {},
   "outputs": [
    {
     "ename": "NameError",
     "evalue": "name 'x' is not defined",
     "output_type": "error",
     "traceback": [
      "\u001b[0;31m---------------------------------------------------------------------------\u001b[0m",
      "\u001b[0;31mNameError\u001b[0m                                 Traceback (most recent call last)",
      "\u001b[0;32m/tmp/ipykernel_35982/32546335.py\u001b[0m in \u001b[0;36m<module>\u001b[0;34m\u001b[0m\n\u001b[0;32m----> 1\u001b[0;31m \u001b[0mx\u001b[0m\u001b[0;34m\u001b[0m\u001b[0;34m\u001b[0m\u001b[0m\n\u001b[0m",
      "\u001b[0;31mNameError\u001b[0m: name 'x' is not defined"
     ]
    }
   ],
   "source": [
    "x"
   ]
  },
  {
   "cell_type": "code",
   "execution_count": 3,
   "id": "f6b282fa-7df1-4897-a4de-f1d39147a4e0",
   "metadata": {},
   "outputs": [
    {
     "ename": "NameError",
     "evalue": "name 'y' is not defined",
     "output_type": "error",
     "traceback": [
      "\u001b[0;31m---------------------------------------------------------------------------\u001b[0m",
      "\u001b[0;31mNameError\u001b[0m                                 Traceback (most recent call last)",
      "\u001b[0;32m/tmp/ipykernel_35982/3563912222.py\u001b[0m in \u001b[0;36m<module>\u001b[0;34m\u001b[0m\n\u001b[0;32m----> 1\u001b[0;31m \u001b[0my\u001b[0m\u001b[0;34m\u001b[0m\u001b[0;34m\u001b[0m\u001b[0m\n\u001b[0m",
      "\u001b[0;31mNameError\u001b[0m: name 'y' is not defined"
     ]
    }
   ],
   "source": [
    "y"
   ]
  },
  {
   "cell_type": "code",
   "execution_count": 4,
   "id": "653c56d6-ef4d-4890-bc91-2e42a1da341d",
   "metadata": {},
   "outputs": [
    {
     "data": {
      "text/plain": [
       "5"
      ]
     },
     "execution_count": 4,
     "metadata": {},
     "output_type": "execute_result"
    }
   ],
   "source": [
    "A.x"
   ]
  },
  {
   "cell_type": "code",
   "execution_count": 5,
   "id": "2864484e-fab4-4aef-b797-0611aa0f51e6",
   "metadata": {},
   "outputs": [
    {
     "data": {
      "text/plain": [
       "6"
      ]
     },
     "execution_count": 5,
     "metadata": {},
     "output_type": "execute_result"
    }
   ],
   "source": [
    "A.y"
   ]
  },
  {
   "cell_type": "code",
   "execution_count": 7,
   "id": "6c26a5cf-3d97-475a-8675-d6e8241be35c",
   "metadata": {},
   "outputs": [],
   "source": [
    "class A:\n",
    "    \n",
    "    x = 5\n",
    "    y = 6\n",
    "    \n",
    "    def __init__(self):\n",
    "        self.z = 10"
   ]
  },
  {
   "cell_type": "code",
   "execution_count": 8,
   "id": "e8603661-fc6c-43dc-a70a-002a74867529",
   "metadata": {},
   "outputs": [
    {
     "ename": "AttributeError",
     "evalue": "type object 'A' has no attribute 'z'",
     "output_type": "error",
     "traceback": [
      "\u001b[0;31m---------------------------------------------------------------------------\u001b[0m",
      "\u001b[0;31mAttributeError\u001b[0m                            Traceback (most recent call last)",
      "\u001b[0;32m/tmp/ipykernel_35982/2458170164.py\u001b[0m in \u001b[0;36m<module>\u001b[0;34m\u001b[0m\n\u001b[0;32m----> 1\u001b[0;31m \u001b[0mA\u001b[0m\u001b[0;34m.\u001b[0m\u001b[0mz\u001b[0m\u001b[0;34m\u001b[0m\u001b[0;34m\u001b[0m\u001b[0m\n\u001b[0m",
      "\u001b[0;31mAttributeError\u001b[0m: type object 'A' has no attribute 'z'"
     ]
    }
   ],
   "source": [
    "A.z"
   ]
  },
  {
   "cell_type": "code",
   "execution_count": 9,
   "id": "c2dd88b8-e7a5-49b0-ad18-0a822ff94194",
   "metadata": {},
   "outputs": [],
   "source": [
    "new_obj = A()"
   ]
  },
  {
   "cell_type": "code",
   "execution_count": 10,
   "id": "be3b0301-f3c7-49bf-9e27-acab0090cc75",
   "metadata": {},
   "outputs": [
    {
     "data": {
      "text/plain": [
       "10"
      ]
     },
     "execution_count": 10,
     "metadata": {},
     "output_type": "execute_result"
    }
   ],
   "source": [
    "new_obj.z"
   ]
  },
  {
   "cell_type": "code",
   "execution_count": 11,
   "id": "8dbf61de-3141-4b55-8b9f-b18d1c86e772",
   "metadata": {},
   "outputs": [
    {
     "data": {
      "text/plain": [
       "5"
      ]
     },
     "execution_count": 11,
     "metadata": {},
     "output_type": "execute_result"
    }
   ],
   "source": [
    "new_obj.x"
   ]
  },
  {
   "cell_type": "code",
   "execution_count": 12,
   "id": "00a8b193-0540-4eb7-a040-54721c237934",
   "metadata": {},
   "outputs": [
    {
     "data": {
      "text/plain": [
       "6"
      ]
     },
     "execution_count": 12,
     "metadata": {},
     "output_type": "execute_result"
    }
   ],
   "source": [
    "new_obj.y"
   ]
  },
  {
   "cell_type": "code",
   "execution_count": 13,
   "id": "a28bce22-6a22-4c60-ab53-513de615d71a",
   "metadata": {},
   "outputs": [],
   "source": [
    "import example_name"
   ]
  },
  {
   "cell_type": "code",
   "execution_count": 14,
   "id": "710a2ae5-5200-4c8e-ae9e-eaf5e58e81d9",
   "metadata": {},
   "outputs": [
    {
     "data": {
      "text/plain": [
       "5"
      ]
     },
     "execution_count": 14,
     "metadata": {},
     "output_type": "execute_result"
    }
   ],
   "source": [
    "example_name.x"
   ]
  },
  {
   "cell_type": "code",
   "execution_count": 15,
   "id": "ce833d48-d84b-4359-bafd-85ff20c08889",
   "metadata": {},
   "outputs": [
    {
     "data": {
      "text/plain": [
       "6"
      ]
     },
     "execution_count": 15,
     "metadata": {},
     "output_type": "execute_result"
    }
   ],
   "source": [
    "example_name.y"
   ]
  },
  {
   "cell_type": "code",
   "execution_count": 18,
   "id": "458d1fee-a881-433e-bf7c-aedc701ba173",
   "metadata": {},
   "outputs": [],
   "source": [
    "l = [1, 2]"
   ]
  },
  {
   "cell_type": "code",
   "execution_count": 19,
   "id": "f28fdb83-0434-441d-9b1d-ee65fbb38d01",
   "metadata": {},
   "outputs": [
    {
     "data": {
      "text/plain": [
       "[1, 2]"
      ]
     },
     "execution_count": 19,
     "metadata": {},
     "output_type": "execute_result"
    }
   ],
   "source": [
    "l"
   ]
  },
  {
   "cell_type": "code",
   "execution_count": 20,
   "id": "76c84eba-997c-47ac-9e58-5f685bd2d11d",
   "metadata": {},
   "outputs": [],
   "source": [
    "l1 = [1, 2, 3]"
   ]
  },
  {
   "cell_type": "code",
   "execution_count": 21,
   "id": "6a3d5e29-7274-4647-b81c-b82c29a34f3d",
   "metadata": {},
   "outputs": [
    {
     "data": {
      "text/plain": [
       "[1, 2, 3]"
      ]
     },
     "execution_count": 21,
     "metadata": {},
     "output_type": "execute_result"
    }
   ],
   "source": [
    "l1"
   ]
  },
  {
   "cell_type": "code",
   "execution_count": 22,
   "id": "a9ceac7b-8859-4a0c-8f18-fdb8ab75fe33",
   "metadata": {},
   "outputs": [],
   "source": [
    "import numpy as np"
   ]
  },
  {
   "cell_type": "code",
   "execution_count": 24,
   "id": "701872dd-c7eb-477d-bb31-8acbe75dd798",
   "metadata": {},
   "outputs": [],
   "source": [
    "np_int1 = np.int32(2)\n",
    "np_int2 = np.int32(3)"
   ]
  },
  {
   "cell_type": "code",
   "execution_count": 25,
   "id": "4c2afb3c-87e9-4d28-967e-4f7ece9c1138",
   "metadata": {},
   "outputs": [
    {
     "data": {
      "text/plain": [
       "dtype('int32')"
      ]
     },
     "execution_count": 25,
     "metadata": {},
     "output_type": "execute_result"
    }
   ],
   "source": [
    "np_int1.dtype"
   ]
  },
  {
   "cell_type": "code",
   "execution_count": 26,
   "id": "357e0659-f71c-4b8f-8068-7c0f7ee2d6e4",
   "metadata": {},
   "outputs": [
    {
     "data": {
      "text/plain": [
       "dtype('int32')"
      ]
     },
     "execution_count": 26,
     "metadata": {},
     "output_type": "execute_result"
    }
   ],
   "source": [
    "np_int2.dtype"
   ]
  },
  {
   "cell_type": "code",
   "execution_count": 28,
   "id": "1771e4be-d006-4e11-be91-c6844d96589f",
   "metadata": {},
   "outputs": [
    {
     "data": {
      "text/plain": [
       "<memory at 0x7f5b5a76a4a0>"
      ]
     },
     "execution_count": 28,
     "metadata": {},
     "output_type": "execute_result"
    }
   ],
   "source": [
    "np_int1.data"
   ]
  },
  {
   "cell_type": "code",
   "execution_count": 29,
   "id": "baf7c5bf-6029-4060-a9d2-654e2c72474a",
   "metadata": {},
   "outputs": [
    {
     "data": {
      "text/plain": [
       "<memory at 0x7f5b5a76a0e0>"
      ]
     },
     "execution_count": 29,
     "metadata": {},
     "output_type": "execute_result"
    }
   ],
   "source": [
    "np_int2.data"
   ]
  },
  {
   "cell_type": "code",
   "execution_count": 30,
   "id": "04c359f4-011c-4b76-8d09-55cc9b20c973",
   "metadata": {},
   "outputs": [],
   "source": [
    "class B:\n",
    "    \n",
    "    x = 5\n",
    "    y = 6\n",
    "    \n",
    "    def __init__(self, z):\n",
    "        self.z = z"
   ]
  },
  {
   "cell_type": "code",
   "execution_count": 31,
   "id": "8c1b4bd7-6f8b-4b31-a2c4-ae47308dc647",
   "metadata": {},
   "outputs": [],
   "source": [
    "b = B(435)"
   ]
  },
  {
   "cell_type": "code",
   "execution_count": 32,
   "id": "836e5404-6bf9-449f-86bc-a5b4083cec84",
   "metadata": {},
   "outputs": [
    {
     "data": {
      "text/plain": [
       "435"
      ]
     },
     "execution_count": 32,
     "metadata": {},
     "output_type": "execute_result"
    }
   ],
   "source": [
    "b.z"
   ]
  },
  {
   "cell_type": "code",
   "execution_count": 33,
   "id": "6c739161-5bb3-445f-bc55-7d8d2b14003e",
   "metadata": {},
   "outputs": [
    {
     "data": {
      "text/plain": [
       "54654"
      ]
     },
     "execution_count": 33,
     "metadata": {},
     "output_type": "execute_result"
    }
   ],
   "source": [
    "b2 = B(54654)\n",
    "b2.z"
   ]
  },
  {
   "cell_type": "code",
   "execution_count": 42,
   "id": "d52ca65c-b1f0-4b18-948f-2af3bd03a23f",
   "metadata": {},
   "outputs": [],
   "source": [
    "class Detail:\n",
    "    \n",
    "    def __init__(self, name: str):\n",
    "        self.name = name\n",
    "        \n",
    "    def __repr__(self):\n",
    "        return f\"Detail(name={self.name})\""
   ]
  },
  {
   "cell_type": "code",
   "execution_count": 39,
   "id": "eaab74b1-8271-4701-aa58-b103f0f890e6",
   "metadata": {},
   "outputs": [
    {
     "data": {
      "text/plain": [
       "Detail(name=engine)"
      ]
     },
     "execution_count": 39,
     "metadata": {},
     "output_type": "execute_result"
    }
   ],
   "source": [
    "Detail(\"engine\")"
   ]
  },
  {
   "cell_type": "code",
   "execution_count": 40,
   "id": "bd1709f0-cee5-4426-88fc-f4891c94e21d",
   "metadata": {},
   "outputs": [],
   "source": [
    "class Detail:\n",
    "    \n",
    "    def __init__(self, name: str):\n",
    "        self.name = name\n"
   ]
  },
  {
   "cell_type": "code",
   "execution_count": 41,
   "id": "b9c7e1f5-36d1-401a-a273-dccbdfe09aef",
   "metadata": {},
   "outputs": [
    {
     "data": {
      "text/plain": [
       "<__main__.Detail at 0x7f5b5b352700>"
      ]
     },
     "execution_count": 41,
     "metadata": {},
     "output_type": "execute_result"
    }
   ],
   "source": [
    "Detail(\"engine\")"
   ]
  },
  {
   "cell_type": "code",
   "execution_count": 43,
   "id": "d3268ba1-3e16-40ec-99e3-adeeaa05c49e",
   "metadata": {},
   "outputs": [],
   "source": [
    "class Engine(Detail):\n",
    "    \n",
    "    def work(self):\n",
    "        return \"DrumDrumDrum\""
   ]
  },
  {
   "cell_type": "code",
   "execution_count": 45,
   "id": "ca65d3a2-0315-4977-b211-ebc19bbb874d",
   "metadata": {},
   "outputs": [],
   "source": [
    "eng = Engine(\"cs234\")"
   ]
  },
  {
   "cell_type": "code",
   "execution_count": 46,
   "id": "a3187cc5-05e1-495e-bdab-77288db769be",
   "metadata": {},
   "outputs": [
    {
     "data": {
      "text/plain": [
       "'DrumDrumDrum'"
      ]
     },
     "execution_count": 46,
     "metadata": {},
     "output_type": "execute_result"
    }
   ],
   "source": [
    "eng.work()"
   ]
  },
  {
   "cell_type": "code",
   "execution_count": 47,
   "id": "b1256921-0ba6-4971-a02b-286a270107c0",
   "metadata": {},
   "outputs": [
    {
     "data": {
      "text/plain": [
       "'cs234'"
      ]
     },
     "execution_count": 47,
     "metadata": {},
     "output_type": "execute_result"
    }
   ],
   "source": [
    "eng.name"
   ]
  },
  {
   "cell_type": "code",
   "execution_count": 48,
   "id": "33dafecd-47fc-40df-b958-19a8c378e49c",
   "metadata": {},
   "outputs": [],
   "source": [
    "det = Detail(\"engine\")"
   ]
  },
  {
   "cell_type": "code",
   "execution_count": 49,
   "id": "7e363963-f7d6-45c7-9768-2aa551d140dc",
   "metadata": {},
   "outputs": [
    {
     "ename": "AttributeError",
     "evalue": "'Detail' object has no attribute 'work'",
     "output_type": "error",
     "traceback": [
      "\u001b[0;31m---------------------------------------------------------------------------\u001b[0m",
      "\u001b[0;31mAttributeError\u001b[0m                            Traceback (most recent call last)",
      "\u001b[0;32m/tmp/ipykernel_35982/309684301.py\u001b[0m in \u001b[0;36m<module>\u001b[0;34m\u001b[0m\n\u001b[0;32m----> 1\u001b[0;31m \u001b[0mdet\u001b[0m\u001b[0;34m.\u001b[0m\u001b[0mwork\u001b[0m\u001b[0;34m(\u001b[0m\u001b[0;34m)\u001b[0m\u001b[0;34m\u001b[0m\u001b[0;34m\u001b[0m\u001b[0m\n\u001b[0m",
      "\u001b[0;31mAttributeError\u001b[0m: 'Detail' object has no attribute 'work'"
     ]
    }
   ],
   "source": [
    "det.work()"
   ]
  },
  {
   "cell_type": "code",
   "execution_count": 72,
   "id": "694ab24c-5b28-452c-9771-2c4c4e585571",
   "metadata": {},
   "outputs": [],
   "source": [
    "class WithLength:\n",
    "    \n",
    "    def __init__(self, *args):\n",
    "        self.arguments = args\n",
    "        \n",
    "    def __len__(self):\n",
    "        return len(self.arguments)\n",
    "    \n",
    "    def __getitem__(self, i):\n",
    "        return self.arguments[i]"
   ]
  },
  {
   "cell_type": "code",
   "execution_count": 73,
   "id": "4d33521e-07f2-410f-a1eb-a029462e2b2e",
   "metadata": {},
   "outputs": [],
   "source": [
    "a = WithLength(1, 2, 3, 4, 5, 6)"
   ]
  },
  {
   "cell_type": "code",
   "execution_count": 74,
   "id": "bb372588-357a-41ec-afcb-d3a676897ac4",
   "metadata": {},
   "outputs": [
    {
     "data": {
      "text/plain": [
       "(1, 2, 3, 4, 5, 6)"
      ]
     },
     "execution_count": 74,
     "metadata": {},
     "output_type": "execute_result"
    }
   ],
   "source": [
    "a.arguments"
   ]
  },
  {
   "cell_type": "code",
   "execution_count": 75,
   "id": "3b68cc12-c071-4942-b00b-6b0c6fded77f",
   "metadata": {},
   "outputs": [
    {
     "data": {
      "text/plain": [
       "6"
      ]
     },
     "execution_count": 75,
     "metadata": {},
     "output_type": "execute_result"
    }
   ],
   "source": [
    "len(a)"
   ]
  },
  {
   "cell_type": "code",
   "execution_count": 76,
   "id": "562c5c9c-c11d-4b71-89e0-e1285993a80e",
   "metadata": {},
   "outputs": [
    {
     "data": {
      "text/plain": [
       "2"
      ]
     },
     "execution_count": 76,
     "metadata": {},
     "output_type": "execute_result"
    }
   ],
   "source": [
    "a[1]"
   ]
  },
  {
   "cell_type": "code",
   "execution_count": 82,
   "id": "478745d1-c0be-436c-9e67-8d6d5b304c66",
   "metadata": {},
   "outputs": [],
   "source": [
    "class Functor:\n",
    "    \n",
    "    def __init__(self, x):\n",
    "        self.x = x\n",
    "        \n",
    "    def __call__(self, y):\n",
    "        return y ** self.x"
   ]
  },
  {
   "cell_type": "code",
   "execution_count": 83,
   "id": "87920ae7-4f5d-4b88-96f7-2bf6652ca475",
   "metadata": {},
   "outputs": [],
   "source": [
    "square = Functor(2)"
   ]
  },
  {
   "cell_type": "code",
   "execution_count": 84,
   "id": "7cbbf1b8-e8ea-4546-8385-a97e84db69ac",
   "metadata": {},
   "outputs": [
    {
     "data": {
      "text/plain": [
       "16"
      ]
     },
     "execution_count": 84,
     "metadata": {},
     "output_type": "execute_result"
    }
   ],
   "source": [
    "square(4)"
   ]
  },
  {
   "cell_type": "code",
   "execution_count": 85,
   "id": "855d746b-6038-4e29-a16a-2d72b688785d",
   "metadata": {},
   "outputs": [],
   "source": [
    "exp3 = Functor(3)"
   ]
  },
  {
   "cell_type": "code",
   "execution_count": 86,
   "id": "412ceac9-5db8-4733-83a0-e4df7bb87831",
   "metadata": {},
   "outputs": [
    {
     "data": {
      "text/plain": [
       "64"
      ]
     },
     "execution_count": 86,
     "metadata": {},
     "output_type": "execute_result"
    }
   ],
   "source": [
    "exp3(4)"
   ]
  },
  {
   "cell_type": "code",
   "execution_count": 87,
   "id": "b9d73571-10ff-4ad9-bd42-b44007996220",
   "metadata": {},
   "outputs": [],
   "source": [
    "class WithStaticMethod:\n",
    "    \n",
    "    @staticmethod\n",
    "    def sum_in_class(x, y):\n",
    "        return x + y"
   ]
  },
  {
   "cell_type": "code",
   "execution_count": 88,
   "id": "d7ee2ae2-bb65-45cf-8ef1-4ea3c36e90d4",
   "metadata": {},
   "outputs": [
    {
     "data": {
      "text/plain": [
       "5"
      ]
     },
     "execution_count": 88,
     "metadata": {},
     "output_type": "execute_result"
    }
   ],
   "source": [
    "WithStaticMethod.sum_in_class(2, 3)"
   ]
  }
 ],
 "metadata": {
  "kernelspec": {
   "display_name": "Python 3 (ipykernel)",
   "language": "python",
   "name": "python3"
  },
  "language_info": {
   "codemirror_mode": {
    "name": "ipython",
    "version": 3
   },
   "file_extension": ".py",
   "mimetype": "text/x-python",
   "name": "python",
   "nbconvert_exporter": "python",
   "pygments_lexer": "ipython3",
   "version": "3.8.0"
  }
 },
 "nbformat": 4,
 "nbformat_minor": 5
}
