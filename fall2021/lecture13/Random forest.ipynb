{
 "cells": [
  {
   "cell_type": "code",
   "execution_count": 2,
   "metadata": {},
   "outputs": [],
   "source": [
    "import numpy as np\n",
    "import pandas as pd\n",
    "import matplotlib.pyplot as plt\n",
    "import seaborn as sns\n",
    "from sklearn.model_selection import train_test_split, GridSearchCV\n",
    "from sklearn.metrics import mean_squared_error\n",
    "from sklearn.ensemble import RandomForestRegressor, ExtraTreesRegressor\n",
    "from sklearn.tree import DecisionTreeRegressor\n",
    "from sklearn.datasets import fetch_california_housing\n",
    "from sklearn.preprocessing import StandardScaler\n",
    "from sklearn.pipeline import Pipeline\n",
    "from sklearn.neighbors import KNeighborsRegressor\n",
    "%matplotlib inline"
   ]
  },
  {
   "cell_type": "code",
   "execution_count": 3,
   "metadata": {},
   "outputs": [],
   "source": [
    "data = fetch_california_housing()"
   ]
  },
  {
   "cell_type": "code",
   "execution_count": 4,
   "metadata": {},
   "outputs": [],
   "source": [
    "df = pd.DataFrame(data['data'], columns=data['feature_names'])"
   ]
  },
  {
   "cell_type": "code",
   "execution_count": 5,
   "metadata": {},
   "outputs": [],
   "source": [
    "df['Target'] = data['target']"
   ]
  },
  {
   "cell_type": "code",
   "execution_count": 6,
   "metadata": {},
   "outputs": [
    {
     "data": {
      "text/html": [
       "<div>\n",
       "<style scoped>\n",
       "    .dataframe tbody tr th:only-of-type {\n",
       "        vertical-align: middle;\n",
       "    }\n",
       "\n",
       "    .dataframe tbody tr th {\n",
       "        vertical-align: top;\n",
       "    }\n",
       "\n",
       "    .dataframe thead th {\n",
       "        text-align: right;\n",
       "    }\n",
       "</style>\n",
       "<table border=\"1\" class=\"dataframe\">\n",
       "  <thead>\n",
       "    <tr style=\"text-align: right;\">\n",
       "      <th></th>\n",
       "      <th>MedInc</th>\n",
       "      <th>HouseAge</th>\n",
       "      <th>AveRooms</th>\n",
       "      <th>AveBedrms</th>\n",
       "      <th>Population</th>\n",
       "      <th>AveOccup</th>\n",
       "      <th>Latitude</th>\n",
       "      <th>Longitude</th>\n",
       "      <th>Target</th>\n",
       "    </tr>\n",
       "  </thead>\n",
       "  <tbody>\n",
       "    <tr>\n",
       "      <th>0</th>\n",
       "      <td>8.3252</td>\n",
       "      <td>41.0</td>\n",
       "      <td>6.984127</td>\n",
       "      <td>1.023810</td>\n",
       "      <td>322.0</td>\n",
       "      <td>2.555556</td>\n",
       "      <td>37.88</td>\n",
       "      <td>-122.23</td>\n",
       "      <td>4.526</td>\n",
       "    </tr>\n",
       "    <tr>\n",
       "      <th>1</th>\n",
       "      <td>8.3014</td>\n",
       "      <td>21.0</td>\n",
       "      <td>6.238137</td>\n",
       "      <td>0.971880</td>\n",
       "      <td>2401.0</td>\n",
       "      <td>2.109842</td>\n",
       "      <td>37.86</td>\n",
       "      <td>-122.22</td>\n",
       "      <td>3.585</td>\n",
       "    </tr>\n",
       "    <tr>\n",
       "      <th>2</th>\n",
       "      <td>7.2574</td>\n",
       "      <td>52.0</td>\n",
       "      <td>8.288136</td>\n",
       "      <td>1.073446</td>\n",
       "      <td>496.0</td>\n",
       "      <td>2.802260</td>\n",
       "      <td>37.85</td>\n",
       "      <td>-122.24</td>\n",
       "      <td>3.521</td>\n",
       "    </tr>\n",
       "    <tr>\n",
       "      <th>3</th>\n",
       "      <td>5.6431</td>\n",
       "      <td>52.0</td>\n",
       "      <td>5.817352</td>\n",
       "      <td>1.073059</td>\n",
       "      <td>558.0</td>\n",
       "      <td>2.547945</td>\n",
       "      <td>37.85</td>\n",
       "      <td>-122.25</td>\n",
       "      <td>3.413</td>\n",
       "    </tr>\n",
       "    <tr>\n",
       "      <th>4</th>\n",
       "      <td>3.8462</td>\n",
       "      <td>52.0</td>\n",
       "      <td>6.281853</td>\n",
       "      <td>1.081081</td>\n",
       "      <td>565.0</td>\n",
       "      <td>2.181467</td>\n",
       "      <td>37.85</td>\n",
       "      <td>-122.25</td>\n",
       "      <td>3.422</td>\n",
       "    </tr>\n",
       "  </tbody>\n",
       "</table>\n",
       "</div>"
      ],
      "text/plain": [
       "   MedInc  HouseAge  AveRooms  AveBedrms  Population  AveOccup  Latitude  \\\n",
       "0  8.3252      41.0  6.984127   1.023810       322.0  2.555556     37.88   \n",
       "1  8.3014      21.0  6.238137   0.971880      2401.0  2.109842     37.86   \n",
       "2  7.2574      52.0  8.288136   1.073446       496.0  2.802260     37.85   \n",
       "3  5.6431      52.0  5.817352   1.073059       558.0  2.547945     37.85   \n",
       "4  3.8462      52.0  6.281853   1.081081       565.0  2.181467     37.85   \n",
       "\n",
       "   Longitude  Target  \n",
       "0    -122.23   4.526  \n",
       "1    -122.22   3.585  \n",
       "2    -122.24   3.521  \n",
       "3    -122.25   3.413  \n",
       "4    -122.25   3.422  "
      ]
     },
     "execution_count": 6,
     "metadata": {},
     "output_type": "execute_result"
    }
   ],
   "source": [
    "df.head()"
   ]
  },
  {
   "cell_type": "markdown",
   "metadata": {},
   "source": [
    "# Bootstrap"
   ]
  },
  {
   "cell_type": "markdown",
   "metadata": {},
   "source": [
    "<p>Практический компьютерный метод исследования распределения статистик вероятностных распределений, основанный на многократной генерации выборок методом случайного выбора с повторонеим семплов из имеющейся выборки. Позволяет просто и быстро оценивать самые разные статистики (доверительные интервалы, дисперсию, корреляцию и так далее) для сложных моделей</p>\n",
    "<img src=\"./img/bootstrap-sample.png\">\n",
    "<p>Оценка статистик с помощью бутстрепа является достаточно точной</p>"
   ]
  },
  {
   "cell_type": "code",
   "execution_count": 9,
   "metadata": {},
   "outputs": [],
   "source": [
    "means = []\n",
    "for i in range(1000):\n",
    "    means.append(df.sample(int(0.8 * df.shape[0]))['Target'].mean())"
   ]
  },
  {
   "cell_type": "code",
   "execution_count": 10,
   "metadata": {},
   "outputs": [
    {
     "name": "stderr",
     "output_type": "stream",
     "text": [
      "/home/imd/miniconda3/envs/mlisuct/lib/python3.8/site-packages/seaborn/distributions.py:2619: FutureWarning: `distplot` is a deprecated function and will be removed in a future version. Please adapt your code to use either `displot` (a figure-level function with similar flexibility) or `histplot` (an axes-level function for histograms).\n",
      "  warnings.warn(msg, FutureWarning)\n"
     ]
    },
    {
     "data": {
      "image/png": "[encoded data removed]",
      "text/plain": [
       "<Figure size 432x288 with 1 Axes>"
      ]
     },
     "metadata": {
      "needs_background": "light"
     },
     "output_type": "display_data"
    }
   ],
   "source": [
    "sns.distplot(means);"
   ]
  },
  {
   "cell_type": "code",
   "execution_count": 11,
   "metadata": {},
   "outputs": [
    {
     "data": {
      "text/plain": [
       "(2.0684734136440013, 2.0685581690891843)"
      ]
     },
     "execution_count": 11,
     "metadata": {},
     "output_type": "execute_result"
    }
   ],
   "source": [
    "np.mean(means), df['Target'].mean()"
   ]
  },
  {
   "cell_type": "markdown",
   "metadata": {},
   "source": [
    "<p>В машинном обучении, метод бустрепа позволяет генерировать различные выборки, на основе которых мы можем учить алгоритмы и объеденять их предсказания, самым простым методом объеденения является среднее</p>\n",
    "<img src=\"./img/bootstrap-learn.png\">"
   ]
  },
  {
   "cell_type": "code",
   "execution_count": 12,
   "metadata": {},
   "outputs": [],
   "source": [
    "train_X, valid_X, train_y, valid_y = train_test_split(df.drop('Target', axis=1), df['Target'], train_size=0.7)"
   ]
  },
  {
   "cell_type": "code",
   "execution_count": 14,
   "metadata": {},
   "outputs": [
    {
     "data": {
      "text/plain": [
       "0.6660947266632092"
      ]
     },
     "execution_count": 14,
     "metadata": {},
     "output_type": "execute_result"
    }
   ],
   "source": [
    "pipeline = Pipeline([\n",
    "    ('scaler', StandardScaler()), \n",
    "    ('estimator', KNeighborsRegressor(n_neighbors=3))\n",
    "])\n",
    "pipeline.fit(train_X, train_y)\n",
    "predicts = pipeline.predict(valid_X)\n",
    "np.sqrt(mean_squared_error(valid_y, predicts))"
   ]
  },
  {
   "cell_type": "code",
   "execution_count": 15,
   "metadata": {},
   "outputs": [
    {
     "data": {
      "text/plain": [
       "2.062597605360889"
      ]
     },
     "execution_count": 15,
     "metadata": {},
     "output_type": "execute_result"
    }
   ],
   "source": [
    "valid_y.mean()"
   ]
  },
  {
   "cell_type": "code",
   "execution_count": 16,
   "metadata": {},
   "outputs": [],
   "source": [
    "predicts = np.zeros((50, valid_X.shape[0]))\n",
    "for i in range(50):\n",
    "    pipeline = Pipeline(\n",
    "        [\n",
    "            ('scaler', StandardScaler()), \n",
    "            ('estimator', KNeighborsRegressor(n_neighbors=3))\n",
    "        ])\n",
    "    pipeline.fit(train_X, train_y)\n",
    "    predicts[i] = pipeline.predict(valid_X)"
   ]
  },
  {
   "cell_type": "code",
   "execution_count": 17,
   "metadata": {},
   "outputs": [
    {
     "data": {
      "text/plain": [
       "0.6660947266632092"
      ]
     },
     "execution_count": 17,
     "metadata": {},
     "output_type": "execute_result"
    }
   ],
   "source": [
    "np.sqrt(mean_squared_error(valid_y, predicts.mean(0)))"
   ]
  },
  {
   "cell_type": "code",
   "execution_count": 18,
   "metadata": {},
   "outputs": [],
   "source": [
    "predicts = np.zeros((50, valid_X.shape[0]))\n",
    "for i in range(50):\n",
    "    pipeline = Pipeline(\n",
    "        [\n",
    "            ('scaler', StandardScaler()), \n",
    "            ('estimator', KNeighborsRegressor(n_neighbors=3))\n",
    "        ])\n",
    "    idx = np.random.choice(np.arange(train_X.shape[0]), train_X.shape[0], replace=True)\n",
    "    pipeline.fit(train_X.iloc[idx], train_y.iloc[idx])\n",
    "    predicts[i] = pipeline.predict(valid_X)"
   ]
  },
  {
   "cell_type": "code",
   "execution_count": 19,
   "metadata": {},
   "outputs": [
    {
     "data": {
      "text/plain": [
       "0.6132515401598315"
      ]
     },
     "execution_count": 19,
     "metadata": {},
     "output_type": "execute_result"
    }
   ],
   "source": [
    "np.sqrt(mean_squared_error(valid_y, predicts.mean(0)))"
   ]
  },
  {
   "cell_type": "code",
   "execution_count": 43,
   "metadata": {},
   "outputs": [],
   "source": [
    "predicts = np.zeros((50, valid_X.shape[0]))\n",
    "for i in range(50):\n",
    "    pipeline = Pipeline(\n",
    "        [\n",
    "            ('scaler', StandardScaler()), \n",
    "            ('estimator', KNeighborsRegressor(n_neighbors=1))\n",
    "        ])\n",
    "    idx = np.random.choice(np.arange(train_X.shape[0]), train_X.shape[0], replace=True)\n",
    "    cols = list(np.random.choice(list(train_X.columns), int(0.8 * train_X.shape[1]), replace=False))\n",
    "    pipeline.fit(train_X[cols].iloc[idx], train_y.iloc[idx])\n",
    "    predicts[i] = pipeline.predict(valid_X[cols])"
   ]
  },
  {
   "cell_type": "code",
   "execution_count": 44,
   "metadata": {},
   "outputs": [
    {
     "data": {
      "text/plain": [
       "0.5762008009679468"
      ]
     },
     "execution_count": 44,
     "metadata": {},
     "output_type": "execute_result"
    }
   ],
   "source": [
    "np.sqrt(mean_squared_error(valid_y, predicts.mean(0)))"
   ]
  },
  {
   "cell_type": "markdown",
   "metadata": {},
   "source": [
    "# Бэггинг "
   ]
  },
  {
   "cell_type": "markdown",
   "metadata": {},
   "source": [
    "<p>Как видно из примера аггрегация предсказаний регрессоров на разных подвыборках, дает прирост в 0.05</p>\n",
    "<p>Без бутстрепа у нас не получилось бы аггрегировать предсказания, поскольку тренировка на однаковых данных давала бы одинаковый результат</p>\n",
    "<p>Если мы предположим что каждый из классификаторов дает предсказание с вероятностью 80%, то объеденение 5 классификаторов будет давать корректную оценку в:</p>\n",
    "<p><center>$$\\large{0.8^5 + C^4_50.8^40.2 + C^3_50.8^30.2^2 = 0.942}$$</center></p>\n",
    "<p><center>$$\\large{\\mu = \\sum_{i>\\frac{N}{2}}^{N}C^i_Np^i(1-p)^{N-i}}$$</center></p>\n",
    "<p>Данный подход назывется <b>бэггинг</b></p>\n",
    "<p>Бэггинг позволяет снизить дисперсию (variance) обучаемого классификатора, уменьшая величину, на сколько ошибка будет отличаться, если обучать модель на разных наборах данных, или другими словами, предотвращает переобучение. Эффективность бэггинга достигается благодаря тому, что базовые алгоритмы, обученные по различным подвыборкам, получаются достаточно различными, и их ошибки взаимно компенсируются при голосовании, а также за счёт того, что объекты-выбросы могут не попадать в некоторые обучающие подвыборки.</p>"
   ]
  },
  {
   "cell_type": "code",
   "execution_count": 33,
   "metadata": {},
   "outputs": [],
   "source": [
    "from sklearn.ensemble import BaggingRegressor"
   ]
  },
  {
   "cell_type": "code",
   "execution_count": 35,
   "metadata": {},
   "outputs": [],
   "source": [
    "pipeline = Pipeline([('scaler', StandardScaler()), ('estimator', KNeighborsRegressor(n_neighbors=3))])\n",
    "ensemble = BaggingRegressor(base_estimator=pipeline, n_estimators=50, n_jobs=-1, max_features=0.8, max_samples=1.0)"
   ]
  },
  {
   "cell_type": "code",
   "execution_count": 36,
   "metadata": {},
   "outputs": [
    {
     "data": {
      "text/plain": [
       "BaggingRegressor(base_estimator=Pipeline(steps=[('scaler', StandardScaler()),\n",
       "                                                ('estimator',\n",
       "                                                 KNeighborsRegressor(n_neighbors=3))]),\n",
       "                 max_features=0.8, n_estimators=50, n_jobs=-1)"
      ]
     },
     "execution_count": 36,
     "metadata": {},
     "output_type": "execute_result"
    }
   ],
   "source": [
    "ensemble.fit(train_X, train_y)"
   ]
  },
  {
   "cell_type": "code",
   "execution_count": 38,
   "metadata": {},
   "outputs": [
    {
     "data": {
      "text/plain": [
       "0.5801431646433869"
      ]
     },
     "execution_count": 38,
     "metadata": {},
     "output_type": "execute_result"
    }
   ],
   "source": [
    "predicts = ensemble.predict(valid_X)\n",
    "np.sqrt(mean_squared_error(valid_y, predicts))"
   ]
  },
  {
   "cell_type": "markdown",
   "metadata": {},
   "source": [
    "# Случайный лес"
   ]
  },
  {
   "cell_type": "markdown",
   "metadata": {},
   "source": [
    "<p>Деревья решений являются хорошими кандидатами в качестве базового алгоритма для бэггинга, поскольку они могут достигать нулевой ошибки на тренировочных данных и строить достаточно сложные границы</p>\n",
    "<p>Так же будем использовать не только различные подвыборки семплов, но и признаков для них, это позволяет обучать алгоритмы более независимо, тогда наша модель тренироваться следующим образом</p>\n",
    "\n",
    "- От 1 до N (число деревьев)\n",
    "- - Сгенировать выборку $\\large{X_n}$ с помощью бустрепа\n",
    "- - Обучить дерево решений на данной выборке\n",
    "\n",
    "<p>Предсказания же получаются:</p>\n",
    "\n",
    "- От 1 до N (число деревьев)\n",
    "- - Получить ответ на дереве решений и добавить его в список\n",
    "- Вернуть среднее списка"
   ]
  },
  {
   "cell_type": "code",
   "execution_count": 40,
   "metadata": {},
   "outputs": [
    {
     "data": {
      "text/plain": [
       "0.7313563181598863"
      ]
     },
     "execution_count": 40,
     "metadata": {},
     "output_type": "execute_result"
    }
   ],
   "source": [
    "pipeline = DecisionTreeRegressor()\n",
    "pipeline.fit(train_X, train_y)\n",
    "predicts = pipeline.predict(valid_X)\n",
    "np.sqrt(mean_squared_error(valid_y, predicts))"
   ]
  },
  {
   "cell_type": "code",
   "execution_count": 41,
   "metadata": {},
   "outputs": [],
   "source": [
    "predicts = np.zeros((50, valid_X.shape[0]))\n",
    "for i in range(50):\n",
    "    pipeline = DecisionTreeRegressor()\n",
    "    idx = np.random.choice(train_X.index, train_X.shape[0], replace=True)\n",
    "    feature_idx = np.random.choice(train_X.columns, int(train_X.shape[1]*0.8), replace=False)\n",
    "    pipeline.fit(train_X.loc[idx, feature_idx], train_y.loc[idx])\n",
    "    predicts[i] = pipeline.predict(valid_X[feature_idx])"
   ]
  },
  {
   "cell_type": "code",
   "execution_count": 42,
   "metadata": {},
   "outputs": [
    {
     "data": {
      "text/plain": [
       "0.5019016861985931"
      ]
     },
     "execution_count": 42,
     "metadata": {},
     "output_type": "execute_result"
    }
   ],
   "source": [
    "np.sqrt(mean_squared_error(valid_y, predicts.mean(0)))"
   ]
  },
  {
   "cell_type": "markdown",
   "metadata": {},
   "source": [
    "<p>Теоретически случайный лес обладает таким же смещением, а увеличение качества достигается за счет уменьшения дисперсии</p>"
   ]
  },
  {
   "cell_type": "markdown",
   "metadata": {},
   "source": [
    "## Параметры случайного леса"
   ]
  },
  {
   "cell_type": "markdown",
   "metadata": {},
   "source": [
    "<p>Параметры случайного леса аналогичны параметрам деревьев решений, только добавляется параметр количества деревьев</p>\n",
    "\n",
    "- n_estimators - количество деревьев в ансамбле\n",
    "- criterion - критерий качества для разбиения в деревьях\n",
    "- min_samples_split - минимальное количество семплов в ноде для дальнейшего ее разбиения\n",
    "- min_samples_leaf - минимальное количество семплов в листе после разбиения\n",
    "- min_weight_fraction_leaf - минимальная доля веса в листе после разбиения\n",
    "- max_features - количество признаков которое используется при каждом разбиении (по умолчанию $\\sqrt{N}$)\n",
    "- max_leaf_nodes - максимальное количество листов в дереве\n",
    "- min_impurity_decrease - минимальное изменение параметра качества чтобы сделать разбиение\n",
    "- oob_score - проверка качестве модели на данных которые не попали в семплы для текущего дерева"
   ]
  },
  {
   "cell_type": "code",
   "execution_count": 45,
   "metadata": {},
   "outputs": [],
   "source": [
    "ensemble = RandomForestRegressor(n_estimators=50, max_features=0.8)"
   ]
  },
  {
   "cell_type": "code",
   "execution_count": 46,
   "metadata": {},
   "outputs": [],
   "source": [
    "parametrs = {'n_estimators': [50, 100, 150, 200],\n",
    "             'min_samples_split': [3, 5, 10, 15],\n",
    "             'max_features': np.linspace(0.7, 1, 4),\n",
    "             'max_depth': np.arange(4, 11)}\n",
    "\n",
    "cv = GridSearchCV(RandomForestRegressor(), parametrs, n_jobs=-1, scoring='neg_mean_squared_error')"
   ]
  },
  {
   "cell_type": "code",
   "execution_count": null,
   "metadata": {},
   "outputs": [],
   "source": [
    "cv.fit(train_X, train_y)"
   ]
  },
  {
   "cell_type": "code",
   "execution_count": null,
   "metadata": {},
   "outputs": [],
   "source": [
    "np.sqrt(cv.best_score_)"
   ]
  },
  {
   "cell_type": "code",
   "execution_count": null,
   "metadata": {},
   "outputs": [],
   "source": [
    "cv.best_params_"
   ]
  },
  {
   "cell_type": "code",
   "execution_count": null,
   "metadata": {},
   "outputs": [],
   "source": [
    "ensemble = cv.best_estimator_\n",
    "parametrs = cv.best_params_"
   ]
  },
  {
   "cell_type": "code",
   "execution_count": 26,
   "metadata": {},
   "outputs": [
    {
     "data": {
      "text/plain": [
       "0.28692320478144934"
      ]
     },
     "execution_count": 26,
     "metadata": {},
     "output_type": "execute_result"
    }
   ],
   "source": [
    "ensemble.fit(train_X, train_y)\n",
    "predicts = ensemble.predict(valid_X)\n",
    "mean_squared_error(valid_y, predicts)"
   ]
  },
  {
   "cell_type": "markdown",
   "metadata": {},
   "source": [
    "## Сверхслучайные деревья"
   ]
  },
  {
   "cell_type": "markdown",
   "metadata": {},
   "source": [
    "<p>Так же существует реализация сверхслучайных деревьев, в данном алгоритме при подсчете разбиения выбирается не лучшее среди всех разбиений, а лучшее из случайного набора разбиений</p>\n",
    "<p>Данная имплементация обладает большем смещением, но меньшей дисперсией и может быть использована если обычный случайный лес или градиентый бустинг переобучаются</p>\n",
    "<p>В <i>sklearn</i> за сверхслучайные деревья отвечают классы: <i>ExtraTreesClassifier</i>, <i>ExtraTreesRegressor</i></p>"
   ]
  },
  {
   "cell_type": "code",
   "execution_count": 27,
   "metadata": {},
   "outputs": [
    {
     "data": {
      "text/plain": [
       "0.24862942461647897"
      ]
     },
     "execution_count": 27,
     "metadata": {},
     "output_type": "execute_result"
    }
   ],
   "source": [
    "ensemble = ExtraTreesRegressor(n_estimators=50, max_features=0.8)\n",
    "ensemble.fit(train_X, train_y)\n",
    "predicts = ensemble.predict(valid_X)\n",
    "mean_squared_error(valid_y, predicts)"
   ]
  },
  {
   "cell_type": "markdown",
   "metadata": {},
   "source": [
    "## Зависимость качества классификации от параметров леса"
   ]
  },
  {
   "cell_type": "markdown",
   "metadata": {},
   "source": [
    "### N_estimators"
   ]
  },
  {
   "cell_type": "code",
   "execution_count": 28,
   "metadata": {},
   "outputs": [],
   "source": [
    "scores_valid = []\n",
    "scores_train = []\n",
    "for n_est in np.arange(10, 110, 10):\n",
    "    ensemble = RandomForestRegressor(n_estimators=n_est)\n",
    "    ensemble.fit(train_X, train_y)\n",
    "    predicts_valid = ensemble.predict(valid_X)\n",
    "    predicts_train = ensemble.predict(train_X)\n",
    "    scores_valid.append(mean_squared_error(valid_y, predicts_valid))\n",
    "    scores_train.append(mean_squared_error(train_y, predicts_train))"
   ]
  },
  {
   "cell_type": "code",
   "execution_count": 29,
   "metadata": {},
   "outputs": [
    {
     "data": {
      "image/png": "[encoded data removed]",
      "text/plain": [
       "<Figure size 1152x864 with 1 Axes>"
      ]
     },
     "metadata": {
      "needs_background": "light"
     },
     "output_type": "display_data"
    }
   ],
   "source": [
    "plt.figure(figsize=(16, 12));\n",
    "plt.plot(np.arange(10, 110, 10), scores_valid, label='Valid');\n",
    "plt.plot(np.arange(10, 110, 10), scores_train, label='Train');\n",
    "plt.xlabel('N estimators');\n",
    "plt.ylabel('Mean squared error');\n",
    "plt.grid(True);\n",
    "plt.legend();\n",
    "plt.title('Quality - n_estimators dependence');"
   ]
  },
  {
   "cell_type": "markdown",
   "metadata": {},
   "source": [
    "### Max depth"
   ]
  },
  {
   "cell_type": "code",
   "execution_count": 30,
   "metadata": {},
   "outputs": [],
   "source": [
    "scores_valid = []\n",
    "scores_train = []\n",
    "for depth in np.arange(4, 16):\n",
    "    ensemble = RandomForestRegressor(max_depth=depth, n_estimators=50)\n",
    "    ensemble.fit(train_X, train_y)\n",
    "    predicts_valid = ensemble.predict(valid_X)\n",
    "    predicts_train = ensemble.predict(train_X)\n",
    "    scores_valid.append(mean_squared_error(valid_y, predicts_valid))\n",
    "    scores_train.append(mean_squared_error(train_y, predicts_train))"
   ]
  },
  {
   "cell_type": "code",
   "execution_count": 31,
   "metadata": {},
   "outputs": [
    {
     "data": {
      "image/png": "[encoded data removed]",
      "text/plain": [
       "<Figure size 1152x864 with 1 Axes>"
      ]
     },
     "metadata": {
      "needs_background": "light"
     },
     "output_type": "display_data"
    }
   ],
   "source": [
    "plt.figure(figsize=(16, 12));\n",
    "plt.plot(np.arange(4, 16), scores_valid, label='Valid');\n",
    "plt.plot(np.arange(4, 16), scores_train, label='Train');\n",
    "plt.xlabel('Max depth');\n",
    "plt.ylabel('Mean squared error');\n",
    "plt.grid(True);\n",
    "plt.legend();\n",
    "plt.title('Quality - max depth dependence');"
   ]
  },
  {
   "cell_type": "markdown",
   "metadata": {},
   "source": [
    "### Min samples split"
   ]
  },
  {
   "cell_type": "code",
   "execution_count": 32,
   "metadata": {},
   "outputs": [],
   "source": [
    "scores_valid = []\n",
    "scores_train = []\n",
    "for min_sample in np.arange(5, 51, 5):\n",
    "    ensemble = RandomForestRegressor(min_samples_split=min_sample, n_estimators=50)\n",
    "    ensemble.fit(train_X, train_y)\n",
    "    predicts_valid = ensemble.predict(valid_X)\n",
    "    predicts_train = ensemble.predict(train_X)\n",
    "    scores_valid.append(mean_squared_error(valid_y, predicts_valid))\n",
    "    scores_train.append(mean_squared_error(train_y, predicts_train))"
   ]
  },
  {
   "cell_type": "code",
   "execution_count": 33,
   "metadata": {},
   "outputs": [
    {
     "data": {
      "image/png": "[encoded data removed]",
      "text/plain": [
       "<Figure size 1152x864 with 1 Axes>"
      ]
     },
     "metadata": {
      "needs_background": "light"
     },
     "output_type": "display_data"
    }
   ],
   "source": [
    "plt.figure(figsize=(16, 12));\n",
    "plt.plot(np.arange(5, 51, 5), scores_valid, label='Valid');\n",
    "plt.plot(np.arange(5, 51, 5), scores_train, label='Train');\n",
    "plt.xlabel('Min samples split');\n",
    "plt.ylabel('Mean squared error');\n",
    "plt.grid(True);\n",
    "plt.legend();\n",
    "plt.title('Quality - min samples split dependence');"
   ]
  },
  {
   "cell_type": "markdown",
   "metadata": {},
   "source": [
    "## Плюсы и минусы случайного леса\n",
    "\n",
    "#### Плюсы\n",
    "\n",
    "- имеет высокую точность предсказания, на большинстве задач будет лучше линейных алгоритмов; точность сравнима с точностью бустинга\n",
    "- практически не чувствителен к выбросам в данных из-за случайного сэмлирования\n",
    "- не чувствителен к масштабированию (и вообще к любым монотонным преобразованиям) значений признаков, связано с выбором случайных подпространств\n",
    "- не требует тщательной настройки параметров, хорошо работает «из коробки». С помощью «тюнинга» параметров можно достичь прироста от 0.5 до 3% точности в зависимости от задачи и данных\n",
    "- способен эффективно обрабатывать данные с большим числом признаков и классов\n",
    "- одинаково хорошо обрабатывет как непрерывные, так и дискретные признаки\n",
    "- редко переобучается, на практике добавление деревьев почти всегда только улучшает композицию, но на валидации, после достижения определенного количества деревьев, кривая обучения выходит на асимптоту\n",
    "- для случайного леса существуют методы оценивания значимости отдельных признаков в модели\n",
    "- хорошо работает с пропущенными данными; сохраняет хорошую точность, если большая часть данных пропущенна\n",
    "- предполагает возможность сбалансировать вес каждого класса на всей выборке, либо на подвыборке каждого дерева\n",
    "- вычисляет близость между парами объектов, которые могут использоваться при кластеризации, обнаружении выбросов или (путем масштабирования) дают интересные представления данных\n",
    "- возможности, описанные выше, могут быть расширены до неразмеченных данных, что приводит к возможности делать кластеризацию и визуализацию данных, обнаруживать выбросы\n",
    "- высокая параллелизуемость и масштабируемость.\n",
    "\n",
    "\n",
    "#### Минусы:\n",
    "\n",
    "- в отличие от одного дерева, результаты случайного леса сложнее интерпретировать\n",
    "- нет формальных выводов (p-values), доступных для оценки важности переменных\n",
    "- алгоритм работает хуже многих линейных методов, когда в выборке очень много разреженных признаков (тексты, Bag of words)\n",
    "- случайный лес не умеет экстраполировать, в отличие от той же линейной регрессии (но это можно считать и плюсом, так как не будет экстремальных значений в случае попадания выброса)\n",
    "- алгоритм склонен к переобучению на некоторых задачах, особенно на зашумленных данных\n",
    "- для данных, включающих категориальные переменные с различным количеством уровней, случайные леса предвзяты в пользу признаков с большим количеством уровней: когда у признака много уровней, дерево будет сильнее подстраиваться именно под эти признаки, так как на них можно получить более высокое значение оптимизируемого функционала (типа прироста информации)\n",
    "- если данные содержат группы коррелированных признаков, имеющих схожую значимость для меток, то предпочтение отдается небольшим группам перед большими\n",
    "- больший размер получающихся моделей. Требуется  памяти $\\large{O(NK)}$ для хранения модели, где $\\large{K}$ — число деревьев."
   ]
  },
  {
   "cell_type": "markdown",
   "metadata": {},
   "source": [
    "<p><a href=\"https://habr.com/ru/company/ods/blog/324402/\">Статья на хабре о случайном лесе</a></p>"
   ]
  }
 ],
 "metadata": {
  "kernelspec": {
   "display_name": "Python 3 (ipykernel)",
   "language": "python",
   "name": "python3"
  },
  "language_info": {
   "codemirror_mode": {
    "name": "ipython",
    "version": 3
   },
   "file_extension": ".py",
   "mimetype": "text/x-python",
   "name": "python",
   "nbconvert_exporter": "python",
   "pygments_lexer": "ipython3",
   "version": "3.8.0"
  }
 },
 "nbformat": 4,
 "nbformat_minor": 4
}
