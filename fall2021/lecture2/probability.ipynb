{
 "cells": [
  {
   "cell_type": "markdown",
   "source": [
    "# Настроить линтер!\r\n",
    "\r\n",
    "Например <a href=\"https://marcobelo.medium.com/setting-up-python-black-on-visual-studio-code-5318eba4cd00\">black</a>"
   ],
   "metadata": {}
  },
  {
   "cell_type": "markdown",
   "source": [
    "# Вероятность, введение\r\n",
    "\r\n",
    "Вероятность имеет 2 равносильных определения\r\n",
    "\r\n",
    "- Частотная - вероятность это частота результата эксперимента, повторенного многократно\r\n",
    "- Баесовская - количественная оценка нашей неуверенности/неопределенности чего либо."
   ],
   "metadata": {}
  },
  {
   "cell_type": "code",
   "execution_count": 1,
   "source": [
    "from collections import Counter\r\n",
    "\r\n",
    "\r\n",
    "import matplotlib.pyplot as plt\r\n",
    "\r\n",
    "import numpy as np\r\n",
    "\r\n",
    "import seaborn as sns"
   ],
   "outputs": [],
   "metadata": {}
  },
  {
   "cell_type": "code",
   "execution_count": 2,
   "source": [
    "# Частотная\r\n",
    "\r\n",
    "\r\n",
    "np.random.seed(42)\r\n",
    "\r\n",
    "\r\n",
    "coin_array = np.random.randint(0, 2, size=10000)\r\n",
    "\r\n",
    "\r\n",
    "coin_frequencies = Counter(coin_array)\r\n",
    "\r\n",
    "\r\n",
    "print(f\"number of heads and tails: {coin_frequencies}\")\r\n",
    "\r\n",
    "\r\n",
    "print(f\"probability of head: {coin_frequencies[0] / coin_array.shape[0]}\")"
   ],
   "outputs": [
    {
     "output_type": "stream",
     "name": "stdout",
     "text": [
      "number of heads and tails: Counter({0: 5013, 1: 4987})\n",
      "probability of head: 0.5013\n"
     ]
    }
   ],
   "metadata": {}
  },
  {
   "cell_type": "code",
   "execution_count": 3,
   "source": [
    "# Баесовская\r\n",
    "\r\n",
    "\r\n",
    "np.random.seed(42)\r\n",
    "\r\n",
    "\r\n",
    "coin_array = np.random.binomial(1, 0.7, size=100)\r\n",
    "\r\n",
    "\r\n",
    "coin_frequencies = Counter(coin_array)\r\n",
    "\r\n",
    "\r\n",
    "print(f\"number of heads and tails: {coin_frequencies}\")\r\n",
    "\r\n",
    "\r\n",
    "print(f\"probability of head: {coin_frequencies[0] / coin_array.shape[0]}\")"
   ],
   "outputs": [
    {
     "output_type": "stream",
     "name": "stdout",
     "text": [
      "number of heads and tails: Counter({1: 70, 0: 30})\n",
      "probability of head: 0.3\n"
     ]
    }
   ],
   "metadata": {}
  },
  {
   "cell_type": "markdown",
   "source": [
    "Баесовская интерпритация позволяет генерировать данные меньших размеров"
   ],
   "metadata": {}
  },
  {
   "cell_type": "markdown",
   "source": [
    "## Виды неопределенности"
   ],
   "metadata": {}
  },
  {
   "cell_type": "code",
   "execution_count": 4,
   "source": [
    "# Неопределенность механизмов генерации данных\r\n",
    "\r\n",
    "\r\n",
    "np.random.seed(2)\r\n",
    "\r\n",
    "\r\n",
    "left = np.random.binomial(1, 0.7, size=500)\r\n",
    "\r\n",
    "\r\n",
    "right = np.random.binomial(1, 0.3, size=500)\r\n",
    "\r\n",
    "\r\n",
    "coin_array = np.append(left, right)\r\n",
    "\r\n",
    "\r\n",
    "coin_frequencies_left = Counter(coin_array[:500])\r\n",
    "\r\n",
    "\r\n",
    "coin_frequencies_right = Counter(coin_array[500:])\r\n",
    "\r\n",
    "\r\n",
    "coin_frequencies = Counter(coin_array)\r\n",
    "\r\n",
    "\r\n",
    "print(f\"number of heads and tails: {coin_frequencies}\")\r\n",
    "\r\n",
    "\r\n",
    "print(f\"number of heads and tails: {coin_frequencies_left}\")\r\n",
    "\r\n",
    "\r\n",
    "print(f\"number of heads and tails: {coin_frequencies_right}\")"
   ],
   "outputs": [
    {
     "output_type": "stream",
     "name": "stdout",
     "text": [
      "number of heads and tails: Counter({0: 505, 1: 495})\n",
      "number of heads and tails: Counter({1: 362, 0: 138})\n",
      "number of heads and tails: Counter({0: 367, 1: 133})\n"
     ]
    }
   ],
   "metadata": {}
  },
  {
   "cell_type": "code",
   "execution_count": 5,
   "source": [
    "# алеаторическая неопределенность\n",
    "\n",
    "\n",
    "np.random.seed(2)\n",
    "\n",
    "\n",
    "coin_array = np.random.binomial(1, 0.7, size=1000)\n",
    "\n",
    "\n",
    "coin_frequencies = Counter(coin_array)\n",
    "\n",
    "\n",
    "print(f\"number of heads and tails: {coin_frequencies}\")"
   ],
   "outputs": [
    {
     "output_type": "stream",
     "name": "stdout",
     "text": [
      "number of heads and tails: Counter({1: 729, 0: 271})\n"
     ]
    }
   ],
   "metadata": {}
  },
  {
   "cell_type": "markdown",
   "source": [
    "## Вероятность как расширение логики"
   ],
   "metadata": {}
  },
  {
   "cell_type": "markdown",
   "source": [
    "### Вероятность события\r\n",
    "\r\n",
    "Определим событие A - как некоторое бинарное событие, например будет пробка на ул. Ленина с 17:00 до 19:00 или сила тока > 3А\r\n",
    "\r\n",
    "Тогда: P(A) - вероятность наступления события A (P - probability)\r\n",
    "\r\n",
    "$ 0 \\le P(A) \\le 1 $\r\n",
    "\r\n",
    "- P(A) = 0 - означает что событие точно не наступит\r\n",
    "- P(A) = 1 - означает что событие точно наступит\r\n",
    "\r\n",
    "$ P(\\bar{A}) $ - вероятность не наступления события A\r\n",
    "\r\n",
    "$ P(\\bar{A}) = 1 - P(A)$\r\n",
    "\r\n",
    "$ 0 \\le P(\\bar{A}) \\le 1$ - доказать?"
   ],
   "metadata": {}
  },
  {
   "cell_type": "code",
   "execution_count": 6,
   "source": [
    "np.random.seed(0)\n",
    "\n",
    "\n",
    "coin_array = np.random.binomial(1, 0.6, size=(1000,))\n",
    "\n",
    "\n",
    "p_head = coin_array[coin_array == 0].shape[0] / coin_array.shape[0]\n",
    "\n",
    "\n",
    "p_tail = coin_array[coin_array == 1].shape[0] / coin_array.shape[0]\n",
    "\n",
    "\n",
    "print(f\"Вероятность орла: {p_head}\")\n",
    "\n",
    "\n",
    "print(f\"Вероятность решки: {p_tail}\")\n",
    "\n",
    "\n",
    "print(f\"1 - вероятность орла: {1 - p_head}\")"
   ],
   "outputs": [
    {
     "output_type": "stream",
     "name": "stdout",
     "text": [
      "Вероятность орла: 0.39\n",
      "Вероятность решки: 0.61\n",
      "1 - вероятность орла: 0.61\n"
     ]
    }
   ],
   "metadata": {}
  },
  {
   "cell_type": "markdown",
   "source": [
    "### Совместная вероятность\r\n",
    "\r\n",
    "Определим $ P(A \\land B) = P(A, B) $ - как вероятность одновременного наступления событий A и B - примеры?"
   ],
   "metadata": {}
  },
  {
   "cell_type": "code",
   "execution_count": 7,
   "source": [
    "np.random.seed(5)\r\n",
    "\r\n",
    "\r\n",
    "coin_array = np.random.binomial(1, 0.6, size=(10000, 2))\r\n",
    "\r\n",
    "\r\n",
    "intersection_events = coin_array[(coin_array[:, 0] == 0) & (coin_array[:, 1] == 1)]\r\n",
    "\r\n",
    "\r\n",
    "p_intersection = intersection_events.shape[0] / coin_array.shape[0]\r\n",
    "\r\n",
    "\r\n",
    "print(f\"Вероятность совместного события: {p_intersection}\")"
   ],
   "outputs": [
    {
     "output_type": "stream",
     "name": "stdout",
     "text": [
      "Вероятность совместного события: 0.2403\n"
     ]
    }
   ],
   "metadata": {}
  },
  {
   "cell_type": "markdown",
   "source": [
    "### Вероятность объеденения событий\r\n",
    "\r\n",
    "$ P (A \\lor B) $ - вероятность наступления или события A или события B\r\n",
    "\r\n",
    "$ P (A \\lor B) = P(A) + P(B) - P(A \\land B) $\r\n",
    "\r\n",
    "<img src=\"./img/union.png\">\r\n",
    "\r\n",
    "Если события взаимоисключающие то:\r\n",
    "\r\n",
    "$ P (A \\lor B) = P(A) + P(B) $ - нарисовать диаграмму"
   ],
   "metadata": {}
  },
  {
   "cell_type": "code",
   "execution_count": 8,
   "source": [
    "np.random.seed(5)\r\n",
    "\r\n",
    "\r\n",
    "coin_array = np.random.binomial(1, 0.6, size=(10000, 2))\r\n",
    "\r\n",
    "\r\n",
    "intersection_events = coin_array[(coin_array[:, 0] == 0) & (coin_array[:, 1] == 1)]\r\n",
    "\r\n",
    "\r\n",
    "union_events = coin_array[(coin_array[:, 0] == 0) | (coin_array[:, 1] == 1)]\r\n",
    "\r\n",
    "\r\n",
    "p_head = coin_array[(coin_array[:, 0] == 0)].shape[0] / coin_array.shape[0]\r\n",
    "\r\n",
    "\r\n",
    "p_tail = coin_array[(coin_array[:, 1] == 1)].shape[0] / coin_array.shape[0]\r\n",
    "\r\n",
    "\r\n",
    "p_intersection = intersection_events.shape[0] / coin_array.shape[0]\r\n",
    "\r\n",
    "\r\n",
    "p_union = union_events.shape[0] / coin_array.shape[0]\r\n",
    "\r\n",
    "\r\n",
    "print(f\"Вероятность первого орла: {p_head}\")\r\n",
    "\r\n",
    "\r\n",
    "print(f\"Вероятность второй решки: {p_tail}\")\r\n",
    "\r\n",
    "\r\n",
    "print(f\"Вероятность совместного события: {p_intersection}\")\r\n",
    "\r\n",
    "\r\n",
    "print(f\"Вероятность объеденения событий: {p_union}\")\r\n",
    "\r\n",
    "\r\n",
    "print(\r\n",
    "    f\"P(first=head) + P(second=tail) - P(first=head, second=tail): {np.round(p_head + p_tail - p_intersection, 4)}\"\r\n",
    ")"
   ],
   "outputs": [
    {
     "output_type": "stream",
     "name": "stdout",
     "text": [
      "Вероятность первого орла: 0.4081\n",
      "Вероятность второй решки: 0.5951\n",
      "Вероятность совместного события: 0.2403\n",
      "Вероятность объеденения событий: 0.7629\n",
      "P(first=head) + P(second=tail) - P(first=head, second=tail): 0.7629\n"
     ]
    }
   ],
   "metadata": {}
  },
  {
   "cell_type": "markdown",
   "source": [
    "### Условная вероятность\r\n",
    "\r\n",
    "Имея событие A - P(A)\r\n",
    "\r\n",
    "Требуется найти вероятность $ P(B|A) =\\frac{P(A, B)}{P(A)} $\r\n",
    "\r\n",
    "$ P(A) \\lt\\gt 0 $\r\n",
    "\r\n",
    "Пример условной вероятности?"
   ],
   "metadata": {}
  },
  {
   "cell_type": "code",
   "execution_count": 9,
   "source": [
    "np.random.seed(5)\n",
    "\n",
    "\n",
    "coin_array = np.random.binomial(1, 0.6, size=(10000, 2))\n",
    "\n",
    "\n",
    "intersection_events = coin_array[(coin_array[:, 0] == 0) & (coin_array[:, 1] == 1)]\n",
    "\n",
    "\n",
    "p_intersection = intersection_events.shape[0] / coin_array.shape[0]\n",
    "\n",
    "\n",
    "p_head = coin_array[(coin_array[:, 0] == 0)].shape[0] / coin_array.shape[0]\n",
    "\n",
    "\n",
    "subarray = coin_array[coin_array[:, 0] == 0]\n",
    "\n",
    "\n",
    "p_tail_of_head = subarray[subarray == 1].shape[0] / subarray.shape[0]\n",
    "\n",
    "\n",
    "print(\n",
    "    f\"Вероятность второй решки при условии первого орла: {np.round(p_tail_of_head, 4)}\"\n",
    ")\n",
    "\n",
    "\n",
    "print(f\"Вероятность первого орла: {p_head}\")\n",
    "\n",
    "\n",
    "print(f\"Вероятность совместного события: {p_intersection}\")\n",
    "\n",
    "\n",
    "print(f\"P(A, B) / P(A): {np.round(p_intersection / p_head, 4)}\")"
   ],
   "outputs": [
    {
     "output_type": "stream",
     "name": "stdout",
     "text": [
      "Вероятность второй решки при условии первого орла: 0.5888\n",
      "Вероятность первого орла: 0.4081\n",
      "Вероятность совместного события: 0.2403\n",
      "P(A, B) / P(A): 0.5888\n"
     ]
    }
   ],
   "metadata": {}
  },
  {
   "cell_type": "markdown",
   "source": [
    "### Вероятность независимых событий\r\n",
    "\r\n",
    "Событие B независимо от A если $ P(B|A) = P(B) $\r\n",
    "\r\n",
    "Тогда $ P(A, B) = P(A)P(B)$\r\n",
    "\r\n",
    "Пример независимых событий?"
   ],
   "metadata": {}
  },
  {
   "cell_type": "code",
   "execution_count": 10,
   "source": [
    "np.random.seed(0)\r\n",
    "\r\n",
    "\r\n",
    "coin_array = np.random.binomial(1, 0.6, size=(10000, 2))\r\n",
    "\r\n",
    "\r\n",
    "intersection_events = coin_array[(coin_array[:, 0] == 0) & (coin_array[:, 1] == 1)]\r\n",
    "\r\n",
    "\r\n",
    "p_intersection = intersection_events.shape[0] / coin_array.shape[0]\r\n",
    "\r\n",
    "\r\n",
    "p_head = coin_array[(coin_array[:, 0] == 0)].shape[0] / coin_array.shape[0]\r\n",
    "\r\n",
    "\r\n",
    "p_tail = coin_array[(coin_array[:, 1] == 1)].shape[0] / coin_array.shape[0]\r\n",
    "\r\n",
    "\r\n",
    "print(f\"Вероятность первого орла: {p_head}\")\r\n",
    "\r\n",
    "\r\n",
    "print(f\"Вероятность второй решки: {p_tail}\")\r\n",
    "\r\n",
    "\r\n",
    "print(f\"Вероятность совместного события: {p_intersection}\")\r\n",
    "\r\n",
    "\r\n",
    "print(f\"P(A) * P(B): {np.round(p_head * p_tail, 4)}\")"
   ],
   "outputs": [
    {
     "output_type": "stream",
     "name": "stdout",
     "text": [
      "Вероятность первого орла: 0.3932\n",
      "Вероятность второй решки: 0.6086\n",
      "Вероятность совместного события: 0.2388\n",
      "P(A) * P(B): 0.2393\n"
     ]
    }
   ],
   "metadata": {}
  },
  {
   "cell_type": "markdown",
   "source": [
    "### Условная независимость событий\r\n",
    "\r\n",
    "$ P(A, B| C) = P(A | C) P(B | C)$\r\n",
    "\r\n",
    "Пример?"
   ],
   "metadata": {}
  },
  {
   "cell_type": "markdown",
   "source": [
    "# Случайные величины\r\n",
    "\r\n",
    "Предположим что X представляет неизвестную величину, например число на грани игральной кости или количество свободных парковочных мест в 15:00 у какого либо здания.\r\n",
    "Если величина X неизвеста и может изменятся, тогда X мы будем называть случайной величиной. Все возможные значения X мы будем называть выборкой, например для игральной кости\r\n",
    "X = {1, 2, 3, 4, 5, 6}. Событием же будем называть множество исходов из выборки. Например событие четное число на игральной кости представляет собой {2, 4, 6}\r\n",
    "\r\n",
    "Примеры событий?"
   ],
   "metadata": {}
  },
  {
   "cell_type": "markdown",
   "source": [
    "## Дискретные случайные величины\r\n",
    "\r\n",
    "Если выборка конечна или счетно бесконечна (целые числа), тогда X называется дискретной случайной величиной, в этом случае будет обозначать вероятность события x случайной величины X, как P(X=x).\r\n",
    "\r\n",
    "Функция плотности вероятности (pmf - probability mass function) будет расчитываться, путем расчета вероятности X принять все возможные значения x\r\n",
    "\r\n",
    "Примеры дискретных случайных величин?"
   ],
   "metadata": {}
  },
  {
   "cell_type": "code",
   "execution_count": 11,
   "source": [
    "pmf = np.random.poisson(lam=2, size=(100,))"
   ],
   "outputs": [],
   "metadata": {}
  },
  {
   "cell_type": "code",
   "execution_count": 12,
   "source": [
    "values, counts = np.unique(pmf, return_counts=True)\r\n",
    "\r\n",
    "\r\n",
    "sns.barplot(x=values, y=counts / counts.sum())\r\n",
    "\r\n",
    "\r\n",
    "plt.grid(True);"
   ],
   "outputs": [
    {
     "output_type": "display_data",
     "data": {
      "image/png": "[encoded data removed]",
      "text/plain": [
       "<Figure size 432x288 with 1 Axes>"
      ]
     },
     "metadata": {
      "needs_background": "light"
     }
    }
   ],
   "metadata": {}
  },
  {
   "cell_type": "markdown",
   "source": [
    "## Непрерывные случайные величины\r\n",
    "\r\n",
    "Если $ X \\in R $ - это случайная действительная величина, тогда X будет называться непрерывной случайной величиной. В этом случае невозможно создать конечную выборку. С другой стороны мы можем определить конечный набор интервалов для X. Если мы рассмотрим случайную величину которая определена как принадлежность к одному из этих интервалов, тогда мы можем использовать методы для дискретных случайных величин. При стремлении размера интервала к 0 мы можем определить вероятность X принять какое либо значение.\r\n",
    "\r\n",
    "Примеры непрерывной случайной величины?"
   ],
   "metadata": {}
  },
  {
   "cell_type": "code",
   "execution_count": 13,
   "source": [
    "np.random.seed(0)\r\n",
    "\r\n",
    "\r\n",
    "X = np.random.normal(5, 3, size=(5_000,))\r\n",
    "\r\n",
    "\r\n",
    "kwargs = {\"edgecolor\": \"k\", \"linewidth\": 1}\r\n",
    "\r\n",
    "\r\n",
    "sns.distplot(x=X, bins=100, kde=False, hist_kws=kwargs, norm_hist=True);"
   ],
   "outputs": [
    {
     "output_type": "stream",
     "name": "stderr",
     "text": [
      "C:\\Users\\anton.nesterenko\\Miniconda3\\envs\\mlisuct\\lib\\site-packages\\seaborn\\distributions.py:2619: FutureWarning: `distplot` is a deprecated function and will be removed in a future version. Please adapt your code to use either `displot` (a figure-level function with similar flexibility) or `histplot` (an axes-level function for histograms).\n",
      "  warnings.warn(msg, FutureWarning)\n"
     ]
    },
    {
     "output_type": "display_data",
     "data": {
      "image/png": "[encoded data removed]",
      "text/plain": [
       "<Figure size 432x288 with 1 Axes>"
      ]
     },
     "metadata": {
      "needs_background": "light"
     }
    }
   ],
   "metadata": {}
  },
  {
   "cell_type": "code",
   "execution_count": 14,
   "source": [
    "np.random.seed(0)\r\n",
    "\r\n",
    "\r\n",
    "X = np.random.normal(5, 3, size=(5_000,))\r\n",
    "\r\n",
    "\r\n",
    "kwargs = {\"edgecolor\": \"k\", \"linewidth\": 1}\r\n",
    "\r\n",
    "\r\n",
    "sns.distplot(x=X, bins=20, kde=False, hist_kws=kwargs, norm_hist=True);"
   ],
   "outputs": [
    {
     "output_type": "display_data",
     "data": {
      "image/png": "[encoded data removed]",
      "text/plain": [
       "<Figure size 432x288 with 1 Axes>"
      ]
     },
     "metadata": {
      "needs_background": "light"
     }
    }
   ],
   "metadata": {}
  },
  {
   "cell_type": "markdown",
   "source": [
    "## Функция распределения (cdf - cumulative distribution function)\r\n",
    "\r\n",
    "Это функция события $A = X \\le x$\r\n",
    "\r\n",
    "Определим:\r\n",
    "\r\n",
    "- $ A = X \\le a$\r\n",
    "- $ B = X \\le b$\r\n",
    "- $ C = a \\le X \\le b$\r\n",
    "\r\n",
    "Тогда:\r\n",
    "\r\n",
    "- $ B = A \\lor C$, из этого следует $ P(B) = P(A) + P(C) $\r\n",
    "- $ P(C) = P(B) - P(A) $"
   ],
   "metadata": {}
  },
  {
   "cell_type": "code",
   "execution_count": 15,
   "source": [
    "np.random.seed(0)\r\n",
    "\r\n",
    "\r\n",
    "X = np.random.normal(5, 3, size=(5_000,))\r\n",
    "\r\n",
    "\r\n",
    "kwargs = {\"cumulative\": True, \"edgecolor\": \"k\", \"linewidth\": 1}\r\n",
    "\r\n",
    "\r\n",
    "sns.distplot(x=X, hist_kws=kwargs, bins=20, kde=False, norm_hist=True)\r\n",
    "\r\n",
    "\r\n",
    "plt.grid(True);"
   ],
   "outputs": [
    {
     "output_type": "display_data",
     "data": {
      "image/png": "[encoded data removed]",
      "text/plain": [
       "<Figure size 432x288 with 1 Axes>"
      ]
     },
     "metadata": {
      "needs_background": "light"
     }
    }
   ],
   "metadata": {}
  },
  {
   "cell_type": "code",
   "execution_count": 16,
   "source": [
    "# event A\r\n",
    "\r\n",
    "\r\n",
    "f, (ax1, ax2, ax3) = plt.subplots(1, 3, sharey=True)\r\n",
    "\r\n",
    "\r\n",
    "f.figure.set_figwidth(16)\r\n",
    "\r\n",
    "\r\n",
    "np.random.seed(0)\r\n",
    "\r\n",
    "\r\n",
    "X = np.random.normal(5, 3, size=(5_000,))\r\n",
    "\r\n",
    "\r\n",
    "is_A = (X <= 1.7).astype(np.uint8)\r\n",
    "\r\n",
    "\r\n",
    "ax1.set_title(\"A\")\r\n",
    "\r\n",
    "\r\n",
    "sns.histplot(x=X, bins=20, hue=is_A, ax=ax1)\r\n",
    "\r\n",
    "\r\n",
    "ax2.set_title(\"B\")\r\n",
    "\r\n",
    "\r\n",
    "is_B = (X >= 8.49).astype(np.uint8)\r\n",
    "\r\n",
    "\r\n",
    "sns.histplot(x=X, bins=20, hue=is_B, ax=ax2)\r\n",
    "\r\n",
    "\r\n",
    "ax3.set_title(\"C\")\r\n",
    "\r\n",
    "\r\n",
    "is_C = ((X >= 1.7) & (X <= 8.49)).astype(np.uint8)\r\n",
    "\r\n",
    "\r\n",
    "sns.histplot(x=X, bins=20, hue=is_C, ax=ax3);"
   ],
   "outputs": [
    {
     "output_type": "display_data",
     "data": {
      "image/png": "[encoded data removed]",
      "text/plain": [
       "<Figure size 1152x288 with 3 Axes>"
      ]
     },
     "metadata": {
      "needs_background": "light"
     }
    }
   ],
   "metadata": {}
  },
  {
   "cell_type": "markdown",
   "source": [
    "## Функция вероятности\r\n",
    "\r\n",
    "Определим функцию вероятности как производную от функции распределения\r\n",
    "\r\n",
    "$\\large {p(x) = \\frac{dP(x)}{dx}}$\r\n",
    "\r\n",
    "Тогда:\r\n",
    "\r\n",
    "- $ P(A) =  \\int_{-\\infty}^{a} p(x) dx $\r\n",
    "- $ P(B) =  \\int_{b}^{\\infty} p(x) dx $\r\n",
    "- $ P(C) =  \\int_{a}^{b} p(x) dx $\r\n",
    "\r\n",
    "Вероятность P(X = x)?"
   ],
   "metadata": {}
  },
  {
   "cell_type": "markdown",
   "source": [
    "## Квантили\r\n",
    "\r\n",
    "Поскольку функция распределения монотонно возрастающая функция, то у нее есть обратная функция - функция квантилей (ppf, percent point function, quantile function).\r\n",
    "\r\n",
    "Расмотрим $ P(X \\le x) = q $ - Тогда функция квантилей будет определена как $ P^{-1}(q) = x $\r\n",
    "\r\n",
    "- $ P^{-1}(0.5) $ - медиана\r\n",
    "- $ P^{-1}(0.25) $ - нижний квартиль\r\n",
    "- $ P^{-1}(0.75) $ - верхний квартиль\r\n",
    "\r\n",
    "<a href=\"https://malishoaib.files.wordpress.com/2014/04/untitled.jpg\">Таблица</a> для стандартного нормального распределения"
   ],
   "metadata": {}
  },
  {
   "cell_type": "code",
   "execution_count": 17,
   "source": [
    "X = np.random.randn(5_000)\r\n",
    "\r\n",
    "\r\n",
    "q_25 = np.quantile(X, 0.25)\r\n",
    "\r\n",
    "\r\n",
    "q_50 = np.quantile(X, 0.5)\r\n",
    "\r\n",
    "\r\n",
    "q_75 = np.quantile(X, 0.75)\r\n",
    "\r\n",
    "\r\n",
    "print(f\"Нижний квартиль: {q_25}\")\r\n",
    "\r\n",
    "\r\n",
    "print(f\"Медиана: {q_50}\")\r\n",
    "\r\n",
    "\r\n",
    "print(f\"Верхний квартиль: {q_75}\")\r\n",
    "\r\n",
    "\r\n",
    "print(f\"Отношение количества данных <= q_25: {X[X < q_25].shape[0]/X.shape[0]}\")\r\n",
    "\r\n",
    "\r\n",
    "print(f\"Отношение количества данных <= q_50: {X[X < q_50].shape[0]/X.shape[0]}\")\r\n",
    "\r\n",
    "\r\n",
    "print(f\"Отношение количества данных <= q_75: {X[X < q_75].shape[0]/X.shape[0]}\")"
   ],
   "outputs": [
    {
     "output_type": "stream",
     "name": "stdout",
     "text": [
      "Нижний квартиль: -0.6867898713403604\n",
      "Медиана: -0.03095875648593684\n",
      "Верхний квартиль: 0.6409258780878397\n",
      "Отношение количества данных <= q_25: 0.25\n",
      "Отношение количества данных <= q_50: 0.5\n",
      "Отношение количества данных <= q_75: 0.75\n"
     ]
    }
   ],
   "metadata": {}
  },
  {
   "cell_type": "markdown",
   "source": [
    "## Множество связанных случайных величин\r\n",
    "\r\n",
    "Представим что у нас есть 2 случайные величины X и Y. Мы можем определить совместное распределение $ p(x, y) = P(X = x, Y = y) $\r\n",
    "\r\n",
    "Если оба случайных значения имеют конечную выборку мы можем их отобразить с помощью таблицы:\r\n",
    "\r\n",
    "<table>\r\n",
    "  <tr>\r\n",
    "    <td>\r\n",
    "    p(X, Y)\r\n",
    "    </td>\r\n",
    "    <td>\r\n",
    "    Y = 0\r\n",
    "    </td>\r\n",
    "    <td>\r\n",
    "    Y = 1\r\n",
    "    </td>    \r\n",
    "  </tr>\r\n",
    "  <tr>\r\n",
    "    <td>\r\n",
    "    X = 0\r\n",
    "    </td>\r\n",
    "    <td>\r\n",
    "    0.1\r\n",
    "    </td>\r\n",
    "    <td>\r\n",
    "    0.4\r\n",
    "    </td>    \r\n",
    "  </tr>\r\n",
    "  <tr>\r\n",
    "    <td>\r\n",
    "    X = 1\r\n",
    "    </td>\r\n",
    "    <td>\r\n",
    "    0.2\r\n",
    "    </td>\r\n",
    "    <td>\r\n",
    "    0.3\r\n",
    "    </td>    \r\n",
    "  </tr>\r\n",
    "</table>\r\n",
    "\r\n",
    "Если две величины независимы мы можем представить таблицу как произведение векторов P(X) и P(Y)\r\n",
    "\r\n",
    "Имея таблицу совместного распределения мы можем расчитать вероятности P(X) и P(Y) через маргинализацию:\r\n",
    "\r\n",
    "- $ p(X = x) = \\sum_{y}p(X=x, Y=y) $\r\n",
    "- $ p(Y = y) = \\sum_{x}p(X=x, Y=y) $\r\n",
    "\r\n",
    "Посчитать для данной таблицы\r\n",
    "\r\n",
    "Определим условную вероятность как:\r\n",
    "\r\n",
    "$ p(X = x| Y = y) = \\frac{p(X = x, Y= y)}{p(Y)} $\r\n",
    "\r\n",
    "Перенесем знаменатель в левую часть\r\n",
    "\r\n",
    "$ p(x, y) = p(x|y)p(y) $\r\n",
    "\r\n",
    "Данное выражение называется правилом произведения, его можно расширить до цепочки правил произведения\r\n",
    "\r\n",
    "$ p(x_1, x_2, x_3, ... , x_n) = p(x_1)p(x_2|x_1)p(x_3|x_1, x_2)...p(x_n|x_{n-1}...x_1) $\r\n",
    "\r\n",
    "Доказать для:\r\n",
    "\r\n",
    "$ p(x_1, x_2, x_3) = p(x_1)p(x_2|x_1)p(x_3|x_1, x_2) $"
   ],
   "metadata": {}
  },
  {
   "cell_type": "code",
   "execution_count": 22,
   "source": [
    "X = np.array([0.2, 0.8])\r\n",
    "\r\n",
    "Y = np.array([0.4, 0.6])\r\n",
    "\r\n",
    "\r\n",
    "X.reshape(-1, 1).dot(Y.reshape(1, -1))"
   ],
   "outputs": [
    {
     "output_type": "execute_result",
     "data": {
      "text/plain": [
       "array([[0.08, 0.12],\n",
       "       [0.32, 0.48]])"
      ]
     },
     "metadata": {},
     "execution_count": 22
    }
   ],
   "metadata": {}
  },
  {
   "cell_type": "markdown",
   "source": [
    "## Независимость и условная независимость\r\n",
    "\r\n",
    "Если случайные величины $X_1, X_2, .. , X_n$ независимы, то\r\n",
    "\r\n",
    "$ p(X_1, X_2, ... , X_n) = \\prod_{i=1}^{n} p(X_i)$\r\n",
    "\r\n",
    "Если случайные величины $X_1, X_2, .. , X_n$ независимы при условии Z, то\r\n",
    "\r\n",
    "$ p(X_1, X_2, ... , X_n | z) = \\prod_{i=1}^{n} p(X_i | Z)$"
   ],
   "metadata": {}
  }
 ],
 "metadata": {
  "orig_nbformat": 4,
  "language_info": {
   "name": "python",
   "version": "3.8.0",
   "mimetype": "text/x-python",
   "codemirror_mode": {
    "name": "ipython",
    "version": 3
   },
   "pygments_lexer": "ipython3",
   "nbconvert_exporter": "python",
   "file_extension": ".py"
  },
  "kernelspec": {
   "name": "python3",
   "display_name": "Python 3.8.0 64-bit ('mlisuct': conda)"
  },
  "interpreter": {
   "hash": "c2f59a19f275b4730297ae82f69de846c181cbb4f157f83a66e1ed41889c0a5c"
  }
 },
 "nbformat": 4,
 "nbformat_minor": 2
}