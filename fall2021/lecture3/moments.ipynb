{
 "cells": [
  {
   "cell_type": "code",
   "execution_count": 11,
   "source": [
    "import numpy as np"
   ],
   "outputs": [],
   "metadata": {}
  },
  {
   "cell_type": "markdown",
   "source": [
    "# Моменты распределения"
   ],
   "metadata": {}
  },
  {
   "cell_type": "markdown",
   "source": [
    "## Математическое ожидание (Mean, среднее)\r\n",
    "\r\n",
    "Для большинства известных распределений среднее обозначается как $\\mu$\r\n",
    "\r\n",
    "Для дискретной случайной величины\r\n",
    "\r\n",
    "$ E[X] = \\sum_{X}xp(x) $\r\n",
    "\r\n",
    "Для непрерывной случайной величины\r\n",
    "\r\n",
    "$ E[X] = \\int_{X}xp(x)dx $\r\n",
    "\r\n",
    "Среднее линейно\r\n",
    "\r\n",
    "$ E[aX + b] = aE[x] + b $\r\n",
    "\r\n",
    "Среднее линейно по сумме случайных величин\r\n",
    "\r\n",
    "$ E[\\sum_{i=1}^{N}X_i] = \\sum_{i=1}^{N}E[X_i]$\r\n",
    "\r\n",
    "Если случайные величины независимы\r\n",
    "\r\n",
    "$ E[\\prod_{i=1}^{N}X_i] = \\prod_{i=1}^{N}E[X_i]$"
   ],
   "metadata": {}
  },
  {
   "cell_type": "code",
   "execution_count": 3,
   "source": [
    "X1 = np.random.normal(0, 1, size=(1_000,))\n",
    "\n",
    "\n",
    "X2 = np.random.normal(2, 2, size=(1_000,))\n",
    "\n",
    "\n",
    "X3 = np.random.normal(-4, 3, size=(1_000,))\n",
    "\n",
    "\n",
    "X = np.array([0.2, 0.8])\n",
    "\n",
    "\n",
    "X_mean = 0.8\n",
    "\n",
    "\n",
    "Y = np.array([0.4, 0.6])\n",
    "\n",
    "\n",
    "Y_mean = 0.6\n",
    "\n",
    "\n",
    "XY = X * Y\n",
    "\n",
    "\n",
    "print(f\"Среднее X1: {X1.mean()}\")\n",
    "\n",
    "\n",
    "print(f\"Среднее X2: {X2.mean()}\")\n",
    "\n",
    "\n",
    "print(f\"Среднее X3: {X3.mean()}\")\n",
    "\n",
    "\n",
    "print(f\"Среднее 5 * X2 + 2: {(5 * X2 + 2).mean()}\")\n",
    "\n",
    "\n",
    "print(f\"Среднее суммы распределений: {(X1 + X2 + X3).mean()}\")\n",
    "\n",
    "\n",
    "print(f\"Сумма средних распределений: {X1.mean() + X2.mean() + X3.mean()}\")\n",
    "\n",
    "\n",
    "print(f\"Произведенеие средних: {X_mean * Y_mean}\")\n",
    "\n",
    "\n",
    "print(f\"Среднее произведение: {XY[1]}\")"
   ],
   "outputs": [
    {
     "output_type": "stream",
     "name": "stdout",
     "text": [
      "Среднее X1: -0.05314522895016449\n",
      "Среднее X2: 1.9834067674941391\n",
      "Среднее X3: -3.8985191808782567\n",
      "Среднее 5 * X2 + 2: 11.917033837470695\n",
      "Среднее суммы распределений: -1.9682576423342817\n",
      "Сумма средних распределений: -1.9682576423342821\n",
      "Произведенеие средних: 0.48\n",
      "Среднее произведение: 0.48\n"
     ]
    }
   ],
   "metadata": {}
  },
  {
   "cell_type": "markdown",
   "source": [
    "## Дисперсия\n",
    "\n",
    "Дисперсия это мера \"разброса\" значений в распределении, обозначается как $\\sigma^2$\n",
    "\n",
    "$ V[X] = E[(X - \\mu)^2] = \\int (x - \\mu)^2p(x)dx = \\int x^2p(x)dx - 2\\mu \\int xp(x)dx + \\mu^2\\int p(x)dx = E[X^2] - \\mu^2$\n",
    "\n",
    "Тогда:\n",
    "\n",
    "$ E[X^2] = \\sigma^2 + \\mu^2 $\n",
    "\n",
    "Стандартное отклонение, является корнем из дисперсии\n",
    "\n",
    "$ std[X] = \\sqrt {V[X]} = \\sqrt {\\sigma^2} = \\sigma $\n",
    "\n",
    "Дисперсия линейной случайной величины\n",
    "\n",
    "$ V[aX+b] = a^2 V[X]$\n",
    "\n",
    "Дисперсия суммы независимых случайных величин\n",
    "\n",
    "$ V[\\sum_{i=1}^N X_i] = \\sum_{i=1}^N V[X_i]$"
   ],
   "metadata": {}
  },
  {
   "cell_type": "code",
   "execution_count": 4,
   "source": [
    "X1 = np.random.normal(0, 1, size=(1_000,))\n",
    "\n",
    "\n",
    "X2 = np.random.normal(2, 2, size=(1_000,))\n",
    "\n",
    "\n",
    "X3 = np.random.normal(-4, 3, size=(1_000,))\n",
    "\n",
    "\n",
    "print(f\"Дисперсия X1: {X1.var()}\")\n",
    "\n",
    "\n",
    "print(f\"Дисперсия X2: {X2.var()}\")\n",
    "\n",
    "\n",
    "print(f\"Дисперсия X3: {X3.var()}\")\n",
    "\n",
    "\n",
    "print(f\"Дисперсия суммы распределений: {(X1 + X2 + X3).var()}\")\n",
    "\n",
    "\n",
    "print(f\"Сумма дисперсий распределений: {X1.var() + X2.var() + X3.var()}\")"
   ],
   "outputs": [
    {
     "output_type": "stream",
     "name": "stdout",
     "text": [
      "Дисперсия X1: 0.9650902563758876\n",
      "Дисперсия X2: 4.112259319222379\n",
      "Дисперсия X3: 8.580111120003595\n",
      "Дисперсия суммы распределений: 13.753099442243776\n",
      "Сумма дисперсий распределений: 13.657460695601863\n"
     ]
    }
   ],
   "metadata": {}
  },
  {
   "cell_type": "markdown",
   "source": [
    "## Мода\r\n",
    "\r\n",
    "такое значение x случайной величины X, что p(x) - max (самое частое значение в распределении)\r\n",
    "\r\n",
    "$ x^* = argmax_xp(x)$"
   ],
   "metadata": {}
  },
  {
   "cell_type": "code",
   "execution_count": 14,
   "source": [
    "X = np.array([1, 2, 2, 3, 3, 3])\n",
    "\n",
    "values, counts = np.unique(X, return_counts=True)\n",
    "\n",
    "i_max = np.argmax(counts)\n",
    "\n",
    "\n",
    "print(f\"Мода: {values[i_max]}\")"
   ],
   "outputs": [
    {
     "output_type": "stream",
     "name": "stdout",
     "text": [
      "Мода: 3\n"
     ]
    }
   ],
   "metadata": {}
  }
 ],
 "metadata": {
  "orig_nbformat": 4,
  "language_info": {
   "name": "python",
   "version": "3.8.0",
   "mimetype": "text/x-python",
   "codemirror_mode": {
    "name": "ipython",
    "version": 3
   },
   "pygments_lexer": "ipython3",
   "nbconvert_exporter": "python",
   "file_extension": ".py"
  },
  "kernelspec": {
   "name": "python3",
   "display_name": "Python 3.8.0 64-bit ('mlisuct': conda)"
  },
  "interpreter": {
   "hash": "c2f59a19f275b4730297ae82f69de846c181cbb4f157f83a66e1ed41889c0a5c"
  }
 },
 "nbformat": 4,
 "nbformat_minor": 2
}