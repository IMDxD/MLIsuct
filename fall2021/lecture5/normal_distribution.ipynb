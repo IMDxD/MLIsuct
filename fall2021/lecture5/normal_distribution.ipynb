{
 "cells": [
  {
   "cell_type": "markdown",
   "source": [
    "# Нормальное распределение\r\n",
    "\r\n",
    "## CDF\r\n",
    "\r\n",
    "Наиболее часто встречаемое распределение случайной непрерывной величины - нормальное\r\n",
    "\r\n",
    "Вспомним определение CDF функции:\r\n",
    "\r\n",
    "$P(Y) \\triangleq Pr(Y \\le y)$\r\n",
    "\r\n",
    "Используя это равенство\r\n",
    "\r\n",
    "$Pr(a \\lt Y \\le b) = P(b) - P(a)$\r\n",
    "\r\n",
    "Вспомним что CDF это монотонно неубывающая функция, для нормального распределения она равна:\r\n",
    "\r\n",
    "$$\\large{\\Phi(y; \\mu, \\sigma) = \\int_{-\\infty}^yN (z|\\mu, \\sigma^2)dz = \\frac{1}{2}[1 + erf(\\frac{z}{\\sqrt{2}})]}$$\r\n",
    "\r\n",
    "Где:\r\n",
    "\r\n",
    "- $\\large{z = (y - \\mu)/\\sigma}$\r\n",
    "- $\\large{erf(u) = \\frac{2}{\\sqrt{\\pi}}\\int_0^ue^{-t^2}dt}$\r\n",
    "\r\n",
    "Параметры:\r\n",
    "\r\n",
    "- $\\mu$ - математическое ожидание, одинаково с модой поскольку распределение унимодально\r\n",
    "- $\\sigma$ - стандартное отклонение, $\\sigma^2$ - дисперсия\r\n",
    "- Иногда будем рассмаривать параметр точности (precision) $\\lambda = 1 / \\sigma^2$\r\n",
    "- если $\\mu = 0$ и $\\sigma = 1$, распределение называется стандартное нормальное\r\n",
    "\r\n",
    "Для стандартного нормально распределения, 95% плотности покрываются следующими квантилями\r\n",
    "\r\n",
    "- $\\Phi^{-1}(0.025) = -1.96$\r\n",
    "- $\\Phi^{-1}(0.975) = 1.96$\r\n",
    "\r\n",
    "Если распределение имеет отличное от нуля мат ожидание и дисперсию не равную 1:\r\n",
    "\r\n",
    "- $\\Phi^{-1}(0.025) = \\mu - 1.96\\sigma$\r\n",
    "- $\\Phi^{-1}(0.975) = \\mu + 1.96\\sigma$\r\n",
    "\r\n",
    "Достаточно часто апроксимируют как $\\mu \\pm 2\\sigma$"
   ],
   "metadata": {}
  },
  {
   "cell_type": "markdown",
   "source": [
    "## PDF\r\n",
    "\r\n",
    "$$\\large{p(y) = \\frac{d}{dy}P(y)}$$\r\n",
    "\r\n",
    "Для нормального распределения pdf:\r\n",
    "\r\n",
    "$$\\large{N(y; \\mu, \\sigma) \\triangleq \\frac{1}{\\sqrt{2\\pi\\sigma^2}}e^{-\\frac{(y-\\mu)^2}{\\sigma^2}}}$$\r\n",
    "\r\n",
    "Где $\\large{\\frac{1}{\\sqrt{2\\pi\\sigma^2}}}$ - нормальзовачная константа для того чтобы плотность всего распеределения равнялась 1\r\n",
    "\r\n",
    "Имея PDF мы можем расчитать вероятность случайной величины быть в интервале\r\n",
    "\r\n",
    "$$\\large{Pr(a \\lt Y \\le b) = \\int_a^bp(y)dy = P(b) - P(a)}$$"
   ],
   "metadata": {}
  },
  {
   "cell_type": "code",
   "execution_count": 1,
   "source": [
    "import numpy as np\r\n",
    "import seaborn as sns"
   ],
   "outputs": [],
   "metadata": {}
  },
  {
   "cell_type": "code",
   "execution_count": 3,
   "source": [
    "normal_distribution = np.random.normal(\r\n",
    "    12.5,  # мат ожидание\r\n",
    "    3,  # дисперсия\r\n",
    "    size=(10_000, )  # размер выходного массива - количество экспериментов\r\n",
    ")"
   ],
   "outputs": [],
   "metadata": {}
  },
  {
   "cell_type": "code",
   "execution_count": 5,
   "source": [
    "sns.displot(normal_distribution, height=6);"
   ],
   "outputs": [
    {
     "output_type": "display_data",
     "data": {
      "image/png": "[encoded data removed]",
      "text/plain": [
       "<Figure size 432x432 with 1 Axes>"
      ]
     },
     "metadata": {
      "needs_background": "light"
     }
    }
   ],
   "metadata": {}
  }
 ],
 "metadata": {
  "orig_nbformat": 4,
  "language_info": {
   "name": "python",
   "version": "3.8.0",
   "mimetype": "text/x-python",
   "codemirror_mode": {
    "name": "ipython",
    "version": 3
   },
   "pygments_lexer": "ipython3",
   "nbconvert_exporter": "python",
   "file_extension": ".py"
  },
  "kernelspec": {
   "name": "python3",
   "display_name": "Python 3.8.0 64-bit ('mlisuct': conda)"
  },
  "interpreter": {
   "hash": "c2f59a19f275b4730297ae82f69de846c181cbb4f157f83a66e1ed41889c0a5c"
  }
 },
 "nbformat": 4,
 "nbformat_minor": 2
}