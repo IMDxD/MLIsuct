{
 "cells": [
  {
   "cell_type": "markdown",
   "metadata": {},
   "source": [
    "# Распределение Бернулли\n",
    "\n",
    "Интересущее нас событие Y будет обозначать сторону монеты, формально Y = {1, 0}, где:\n",
    "\n",
    "- 0 - решка\n",
    "- 1 - орел\n",
    "\n",
    "Вероятность орла обозначим через $\\theta$\n",
    "\n",
    "Тогда:\n",
    "\n",
    "- $P(Y = 1) = \\theta$\n",
    "- $P(Y = 0) = 1 - \\theta$\n",
    "\n",
    "Такое распределение называется распределением Бернулли и обозначается\n",
    "\n",
    "$Y \\sim Ber(\\theta)$\n",
    "\n",
    "$\\sim$ - обозначает семплирование (получение случайного исхода из распределения)\n",
    "\n",
    "PMF\n",
    "\n",
    "$\\large{Ber(y|θ) = \\begin{cases}1 − \\theta\\hspace{2mm}if\\hspace{2mm}y = 0\\\\\\theta\\hspace{2mm}if\\hspace{2mm}y = 1\\end{cases}}$\n",
    "\n",
    "Или короче\n",
    "\n",
    "$\\large{Ber(y|θ) \\triangleq \\theta^y(1-\\theta)^{1-y}}$"
   ]
  },
  {
   "cell_type": "markdown",
   "metadata": {},
   "source": [
    "# Биномиальное (Multinominal) распределение\n",
    "\n",
    "Распределение Бернулли это частный случай биномиального распредления\n",
    "\n",
    "Будем считать успехом выпадение 1 (орла)\n",
    "\n",
    "Рассмотрим N попыток семплирования из распределения Бернулли, обозначим $y_n$ как последовательность бросков\n",
    "\n",
    "$\\large{y_n \\sim Ber(\\cdot|\\theta),\\hspace{2mm}for\\hspace{2mm}n = 1 : N}$\n",
    "\n",
    "Т.е подборосим монетку N раз, обозначим через s - количество успехов\n",
    "\n",
    "$\\large{s \\triangleq \\sum_{n=1}^N \\mathbb{I}(y_n = 1)}$\n",
    "\n",
    "Распределение количества успешных бросков это биномиальное распределение:\n",
    "\n",
    "$$\\large{Bin(s|N, \\theta) \\triangleq \\binom{N}{s} \\theta^s(1 - \\theta)^{1-s}}$$\n",
    "\n",
    "Где:\n",
    "\n",
    "$$\\large{\\binom{N}{s} = \\frac{N!}{(N-s)!s!}}$$"
   ]
  },
  {
   "cell_type": "code",
   "execution_count": 2,
   "metadata": {},
   "outputs": [],
   "source": [
    "import numpy as np\n",
    "import seaborn as sns"
   ]
  },
  {
   "cell_type": "code",
   "execution_count": 3,
   "metadata": {},
   "outputs": [],
   "source": [
    "coin_head_tosses = np.random.binomial(\n",
    "    50,  # количество бросков\n",
    "    0.25,  # вероятность 1\n",
    "    size=(10_000, )  # размер выходного массива - количество экспериментов\n",
    ")"
   ]
  },
  {
   "cell_type": "code",
   "execution_count": 16,
   "metadata": {},
   "outputs": [
    {
     "data": {
      "image/png": "[encoded data removed]",
      "text/plain": [
       "<Figure size 432x432 with 1 Axes>"
      ]
     },
     "metadata": {
      "needs_background": "light"
     },
     "output_type": "display_data"
    }
   ],
   "source": [
    "sns.displot(coin_head_tosses, height=6);"
   ]
  },
  {
   "cell_type": "code",
   "execution_count": null,
   "metadata": {},
   "outputs": [],
   "source": []
  }
 ],
 "metadata": {
  "interpreter": {
   "hash": "c2f59a19f275b4730297ae82f69de846c181cbb4f157f83a66e1ed41889c0a5c"
  },
  "kernelspec": {
   "display_name": "Python 3.8.0 64-bit ('mlisuct': conda)",
   "name": "python3"
  },
  "language_info": {
   "codemirror_mode": {
    "name": "ipython",
    "version": 3
   },
   "file_extension": ".py",
   "mimetype": "text/x-python",
   "name": "python",
   "nbconvert_exporter": "python",
   "pygments_lexer": "ipython3",
   "version": "3.8.0"
  },
  "orig_nbformat": 4
 },
 "nbformat": 4,
 "nbformat_minor": 2
}
