{
 "cells": [
  {
   "cell_type": "code",
   "execution_count": 2,
   "source": [
    "!conda install matplotlib seaborn -y"
   ],
   "outputs": [
    {
     "output_type": "stream",
     "name": "stdout",
     "text": [
      "Collecting package metadata (current_repodata.json): ...working... done\n",
      "Solving environment: ...working... done\n",
      "\n",
      "# All requested packages already installed.\n",
      "\n"
     ]
    }
   ],
   "metadata": {}
  },
  {
   "cell_type": "code",
   "execution_count": 1,
   "source": [
    "import numpy as np\r\n",
    "from sklearn.datasets import load_iris"
   ],
   "outputs": [],
   "metadata": {}
  },
  {
   "cell_type": "code",
   "execution_count": 3,
   "source": [
    "# фиксируем ядро генератора для повторяемости случайности\r\n",
    "np.random.seed(42)\r\n",
    "# грузим данные для алгоритма\r\n",
    "data = load_iris()\r\n",
    "\r\n",
    "# случайно выбираем 80% данных для обучения\r\n",
    "train_idx = np.random.choice(\r\n",
    "    np.arange(data['data'].shape[0]), \r\n",
    "    size=int(data['data'].shape[0] * 0.8), \r\n",
    "    replace=False\r\n",
    ")\r\n",
    "# остальные данные уйдут на валидацию модели\r\n",
    "test_idx = np.array([i for i in range(data['data'].shape[0]) if i not in train_idx])\r\n",
    "# признаки в данных\r\n",
    "train_X = data['data'][train_idx]\r\n",
    "test_X = data['data'][test_idx]\r\n",
    "# ответы в данных\r\n",
    "train_y = data['target'][train_idx]\r\n",
    "test_y = data['target'][test_idx]"
   ],
   "outputs": [],
   "metadata": {}
  },
  {
   "cell_type": "markdown",
   "source": [
    "Тут и далее мы считаем \r\n",
    "- train - данные для тренировки\r\n",
    "- test - данные для тестирования\r\n",
    "\r\n",
    "- X - матрица признаков в данных, каждая строка матрицы представляет собой отдельную точку в пространстве со значением координат по столбцам\r\n",
    "- y - классы каждой из точек в данных"
   ],
   "metadata": {}
  },
  {
   "cell_type": "code",
   "execution_count": 7,
   "source": [
    "# координаты первой точки и ее класс\r\n",
    "print(train_X[0])\r\n",
    "print(train_y[0])"
   ],
   "outputs": [
    {
     "output_type": "stream",
     "name": "stdout",
     "text": [
      "[6.1 2.8 4.7 1.2]\n",
      "1\n"
     ]
    }
   ],
   "metadata": {}
  },
  {
   "cell_type": "code",
   "execution_count": 10,
   "source": [
    "# первые 5 точек и их координаты\r\n",
    "train_X[:5]"
   ],
   "outputs": [
    {
     "output_type": "execute_result",
     "data": {
      "text/plain": [
       "array([[6.1, 2.8, 4.7, 1.2],\n",
       "       [5.7, 3.8, 1.7, 0.3],\n",
       "       [7.7, 2.6, 6.9, 2.3],\n",
       "       [6. , 2.9, 4.5, 1.5],\n",
       "       [6.8, 2.8, 4.8, 1.4]])"
      ]
     },
     "metadata": {},
     "execution_count": 10
    }
   ],
   "metadata": {}
  },
  {
   "cell_type": "code",
   "execution_count": 11,
   "source": [
    "# класс первых 5 точек\r\n",
    "train_y[:5]"
   ],
   "outputs": [
    {
     "output_type": "execute_result",
     "data": {
      "text/plain": [
       "array([1, 0, 2, 1, 1])"
      ]
     },
     "metadata": {},
     "execution_count": 11
    }
   ],
   "metadata": {}
  },
  {
   "cell_type": "markdown",
   "source": [
    "<img src=\"./img/knn.png\">"
   ],
   "metadata": {}
  },
  {
   "cell_type": "code",
   "execution_count": 13,
   "source": [
    "class KNN:\r\n",
    "\r\n",
    "    def __init__(self):\r\n",
    "        self.X = None\r\n",
    "        self.y = None\r\n",
    "\r\n",
    "    def calc_metric(self, vector):\r\n",
    "        # Посчитать растояние от каждой точки в данных до данного вектора\r\n",
    "        pass\r\n",
    "\r\n",
    "    def get_closest_index(self, distances):\r\n",
    "        # возвращает индекс ближайшей точки\r\n",
    "        pass\r\n",
    "\r\n",
    "    def fit(self, X, y):\r\n",
    "        # запомнить данные для объекта класса\r\n",
    "        pass\r\n",
    "\r\n",
    "    def predict(self, X):\r\n",
    "        # предсказать класс каждой точки из X\r\n",
    "        result = list()\r\n",
    "        for i in range(X.shape[0]):\r\n",
    "            vector = X[i]\r\n",
    "            distances = self.calc_metric(vector)\r\n",
    "            idx = self.get_closest_index(distances)\r\n",
    "            closest_class = None # найти класс ближайшего объекта\r\n",
    "            result.append(closest_class)\r\n",
    "        return result"
   ],
   "outputs": [],
   "metadata": {}
  },
  {
   "cell_type": "code",
   "execution_count": null,
   "source": [],
   "outputs": [],
   "metadata": {}
  }
 ],
 "metadata": {
  "orig_nbformat": 4,
  "language_info": {
   "name": "python",
   "version": "3.8.0",
   "mimetype": "text/x-python",
   "codemirror_mode": {
    "name": "ipython",
    "version": 3
   },
   "pygments_lexer": "ipython3",
   "nbconvert_exporter": "python",
   "file_extension": ".py"
  },
  "kernelspec": {
   "name": "python3",
   "display_name": "Python 3.8.0 64-bit ('mlisuct': conda)"
  },
  "interpreter": {
   "hash": "c2f59a19f275b4730297ae82f69de846c181cbb4f157f83a66e1ed41889c0a5c"
  }
 },
 "nbformat": 4,
 "nbformat_minor": 2
}