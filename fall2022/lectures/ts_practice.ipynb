{
 "cells": [
  {
   "cell_type": "code",
   "execution_count": 17,
   "id": "74342ad2-47d0-4933-aaaa-d3fe6ec9cedd",
   "metadata": {},
   "outputs": [],
   "source": [
    "import warnings\n",
    "from datetime import datetime\n",
    "\n",
    "\n",
    "import matplotlib.pyplot as plt\n",
    "import numpy as np\n",
    "import pandas as pd\n",
    "import seaborn as sns\n",
    "from sklearn.linear_model import LinearRegression, Ridge, Lasso\n",
    "from sklearn.metrics import mean_absolute_error, mean_squared_error"
   ]
  },
  {
   "cell_type": "code",
   "execution_count": 18,
   "id": "8a63d590-cbb2-4e25-b0d0-6186b5854fb2",
   "metadata": {},
   "outputs": [],
   "source": [
    "warnings.filterwarnings(\"ignore\")"
   ]
  },
  {
   "cell_type": "code",
   "execution_count": 2,
   "id": "3113aa77-7e60-4895-8f85-f698d4f71af6",
   "metadata": {},
   "outputs": [],
   "source": [
    "df = pd.read_csv(\"data/data.csv\")"
   ]
  },
  {
   "cell_type": "code",
   "execution_count": 3,
   "id": "dbe9bdf2-949d-4b0e-be5b-0593f41cb9e2",
   "metadata": {},
   "outputs": [
    {
     "data": {
      "text/html": [
       "<div>\n",
       "<style scoped>\n",
       "    .dataframe tbody tr th:only-of-type {\n",
       "        vertical-align: middle;\n",
       "    }\n",
       "\n",
       "    .dataframe tbody tr th {\n",
       "        vertical-align: top;\n",
       "    }\n",
       "\n",
       "    .dataframe thead th {\n",
       "        text-align: right;\n",
       "    }\n",
       "</style>\n",
       "<table border=\"1\" class=\"dataframe\">\n",
       "  <thead>\n",
       "    <tr style=\"text-align: right;\">\n",
       "      <th></th>\n",
       "      <th>MSN</th>\n",
       "      <th>YYYYMM</th>\n",
       "      <th>Value</th>\n",
       "      <th>Column_Order</th>\n",
       "      <th>Description</th>\n",
       "      <th>Unit</th>\n",
       "    </tr>\n",
       "  </thead>\n",
       "  <tbody>\n",
       "    <tr>\n",
       "      <th>0</th>\n",
       "      <td>ELEGPUS</td>\n",
       "      <td>197301</td>\n",
       "      <td>159.913</td>\n",
       "      <td>1</td>\n",
       "      <td>Electricity Net Generation, Electric Power Sector</td>\n",
       "      <td>Billion Kilowatthours</td>\n",
       "    </tr>\n",
       "    <tr>\n",
       "      <th>1</th>\n",
       "      <td>ELEGPUS</td>\n",
       "      <td>197302</td>\n",
       "      <td>143.257</td>\n",
       "      <td>1</td>\n",
       "      <td>Electricity Net Generation, Electric Power Sector</td>\n",
       "      <td>Billion Kilowatthours</td>\n",
       "    </tr>\n",
       "    <tr>\n",
       "      <th>2</th>\n",
       "      <td>ELEGPUS</td>\n",
       "      <td>197303</td>\n",
       "      <td>147.847</td>\n",
       "      <td>1</td>\n",
       "      <td>Electricity Net Generation, Electric Power Sector</td>\n",
       "      <td>Billion Kilowatthours</td>\n",
       "    </tr>\n",
       "    <tr>\n",
       "      <th>3</th>\n",
       "      <td>ELEGPUS</td>\n",
       "      <td>197304</td>\n",
       "      <td>139.292</td>\n",
       "      <td>1</td>\n",
       "      <td>Electricity Net Generation, Electric Power Sector</td>\n",
       "      <td>Billion Kilowatthours</td>\n",
       "    </tr>\n",
       "    <tr>\n",
       "      <th>4</th>\n",
       "      <td>ELEGPUS</td>\n",
       "      <td>197305</td>\n",
       "      <td>147.088</td>\n",
       "      <td>1</td>\n",
       "      <td>Electricity Net Generation, Electric Power Sector</td>\n",
       "      <td>Billion Kilowatthours</td>\n",
       "    </tr>\n",
       "    <tr>\n",
       "      <th>5</th>\n",
       "      <td>ELEGPUS</td>\n",
       "      <td>197306</td>\n",
       "      <td>160.945</td>\n",
       "      <td>1</td>\n",
       "      <td>Electricity Net Generation, Electric Power Sector</td>\n",
       "      <td>Billion Kilowatthours</td>\n",
       "    </tr>\n",
       "    <tr>\n",
       "      <th>6</th>\n",
       "      <td>ELEGPUS</td>\n",
       "      <td>197307</td>\n",
       "      <td>173.467</td>\n",
       "      <td>1</td>\n",
       "      <td>Electricity Net Generation, Electric Power Sector</td>\n",
       "      <td>Billion Kilowatthours</td>\n",
       "    </tr>\n",
       "    <tr>\n",
       "      <th>7</th>\n",
       "      <td>ELEGPUS</td>\n",
       "      <td>197308</td>\n",
       "      <td>177.109</td>\n",
       "      <td>1</td>\n",
       "      <td>Electricity Net Generation, Electric Power Sector</td>\n",
       "      <td>Billion Kilowatthours</td>\n",
       "    </tr>\n",
       "    <tr>\n",
       "      <th>8</th>\n",
       "      <td>ELEGPUS</td>\n",
       "      <td>197309</td>\n",
       "      <td>156.651</td>\n",
       "      <td>1</td>\n",
       "      <td>Electricity Net Generation, Electric Power Sector</td>\n",
       "      <td>Billion Kilowatthours</td>\n",
       "    </tr>\n",
       "    <tr>\n",
       "      <th>9</th>\n",
       "      <td>ELEGPUS</td>\n",
       "      <td>197310</td>\n",
       "      <td>153.954</td>\n",
       "      <td>1</td>\n",
       "      <td>Electricity Net Generation, Electric Power Sector</td>\n",
       "      <td>Billion Kilowatthours</td>\n",
       "    </tr>\n",
       "    <tr>\n",
       "      <th>10</th>\n",
       "      <td>ELEGPUS</td>\n",
       "      <td>197311</td>\n",
       "      <td>147.881</td>\n",
       "      <td>1</td>\n",
       "      <td>Electricity Net Generation, Electric Power Sector</td>\n",
       "      <td>Billion Kilowatthours</td>\n",
       "    </tr>\n",
       "    <tr>\n",
       "      <th>11</th>\n",
       "      <td>ELEGPUS</td>\n",
       "      <td>197312</td>\n",
       "      <td>153.307</td>\n",
       "      <td>1</td>\n",
       "      <td>Electricity Net Generation, Electric Power Sector</td>\n",
       "      <td>Billion Kilowatthours</td>\n",
       "    </tr>\n",
       "    <tr>\n",
       "      <th>12</th>\n",
       "      <td>ELEGPUS</td>\n",
       "      <td>197313</td>\n",
       "      <td>1860.710</td>\n",
       "      <td>1</td>\n",
       "      <td>Electricity Net Generation, Electric Power Sector</td>\n",
       "      <td>Billion Kilowatthours</td>\n",
       "    </tr>\n",
       "  </tbody>\n",
       "</table>\n",
       "</div>"
      ],
      "text/plain": [
       "        MSN  YYYYMM     Value  Column_Order  \\\n",
       "0   ELEGPUS  197301   159.913             1   \n",
       "1   ELEGPUS  197302   143.257             1   \n",
       "2   ELEGPUS  197303   147.847             1   \n",
       "3   ELEGPUS  197304   139.292             1   \n",
       "4   ELEGPUS  197305   147.088             1   \n",
       "5   ELEGPUS  197306   160.945             1   \n",
       "6   ELEGPUS  197307   173.467             1   \n",
       "7   ELEGPUS  197308   177.109             1   \n",
       "8   ELEGPUS  197309   156.651             1   \n",
       "9   ELEGPUS  197310   153.954             1   \n",
       "10  ELEGPUS  197311   147.881             1   \n",
       "11  ELEGPUS  197312   153.307             1   \n",
       "12  ELEGPUS  197313  1860.710             1   \n",
       "\n",
       "                                          Description                   Unit  \n",
       "0   Electricity Net Generation, Electric Power Sector  Billion Kilowatthours  \n",
       "1   Electricity Net Generation, Electric Power Sector  Billion Kilowatthours  \n",
       "2   Electricity Net Generation, Electric Power Sector  Billion Kilowatthours  \n",
       "3   Electricity Net Generation, Electric Power Sector  Billion Kilowatthours  \n",
       "4   Electricity Net Generation, Electric Power Sector  Billion Kilowatthours  \n",
       "5   Electricity Net Generation, Electric Power Sector  Billion Kilowatthours  \n",
       "6   Electricity Net Generation, Electric Power Sector  Billion Kilowatthours  \n",
       "7   Electricity Net Generation, Electric Power Sector  Billion Kilowatthours  \n",
       "8   Electricity Net Generation, Electric Power Sector  Billion Kilowatthours  \n",
       "9   Electricity Net Generation, Electric Power Sector  Billion Kilowatthours  \n",
       "10  Electricity Net Generation, Electric Power Sector  Billion Kilowatthours  \n",
       "11  Electricity Net Generation, Electric Power Sector  Billion Kilowatthours  \n",
       "12  Electricity Net Generation, Electric Power Sector  Billion Kilowatthours  "
      ]
     },
     "execution_count": 3,
     "metadata": {},
     "output_type": "execute_result"
    }
   ],
   "source": [
    "df.head(13)"
   ]
  },
  {
   "cell_type": "code",
   "execution_count": 4,
   "id": "47175575-8fad-4594-bbc0-6da17c4fed2c",
   "metadata": {},
   "outputs": [],
   "source": [
    "to_remove = df.loc[\n",
    "    df[\"YYYYMM\"].astype(str).str.endswith(\"13\"),\n",
    "    :\n",
    "].index"
   ]
  },
  {
   "cell_type": "code",
   "execution_count": 5,
   "id": "192ae53d-196e-4ede-b1fb-658fae211d5e",
   "metadata": {},
   "outputs": [],
   "source": [
    "df.drop(index=to_remove, inplace=True)"
   ]
  },
  {
   "cell_type": "code",
   "execution_count": 6,
   "id": "f8f04c77-bf26-4fb6-a7e0-83505a735eec",
   "metadata": {},
   "outputs": [
    {
     "data": {
      "text/plain": [
       "(582, 6)"
      ]
     },
     "execution_count": 6,
     "metadata": {},
     "output_type": "execute_result"
    }
   ],
   "source": [
    "df.shape"
   ]
  },
  {
   "cell_type": "code",
   "execution_count": 7,
   "id": "64485776-96b1-4aa3-832e-2b805335d393",
   "metadata": {},
   "outputs": [
    {
     "name": "stdout",
     "output_type": "stream",
     "text": [
      "<class 'pandas.core.frame.DataFrame'>\n",
      "Int64Index: 582 entries, 0 to 629\n",
      "Data columns (total 6 columns):\n",
      " #   Column        Non-Null Count  Dtype  \n",
      "---  ------        --------------  -----  \n",
      " 0   MSN           582 non-null    object \n",
      " 1   YYYYMM        582 non-null    int64  \n",
      " 2   Value         582 non-null    float64\n",
      " 3   Column_Order  582 non-null    int64  \n",
      " 4   Description   582 non-null    object \n",
      " 5   Unit          582 non-null    object \n",
      "dtypes: float64(1), int64(2), object(3)\n",
      "memory usage: 31.8+ KB\n"
     ]
    }
   ],
   "source": [
    "df.info()"
   ]
  },
  {
   "cell_type": "code",
   "execution_count": 8,
   "id": "d2d71c15-fc28-43da-8d34-737fdfce378b",
   "metadata": {},
   "outputs": [
    {
     "data": {
      "text/plain": [
       "array(['Billion Kilowatthours'], dtype=object)"
      ]
     },
     "execution_count": 8,
     "metadata": {},
     "output_type": "execute_result"
    }
   ],
   "source": [
    "df[\"Unit\"].unique()"
   ]
  },
  {
   "cell_type": "code",
   "execution_count": 9,
   "id": "4b657fde-1fc7-41cf-b416-fbc2dd3728ee",
   "metadata": {},
   "outputs": [],
   "source": [
    "df[\"YYYYMM\"] = pd.to_datetime(df[\"YYYYMM\"].astype(str), format=\"%Y%m\")"
   ]
  },
  {
   "cell_type": "code",
   "execution_count": 10,
   "id": "da523c27-6bf3-4d03-a272-7a1e51b7663c",
   "metadata": {},
   "outputs": [
    {
     "data": {
      "text/html": [
       "<div>\n",
       "<style scoped>\n",
       "    .dataframe tbody tr th:only-of-type {\n",
       "        vertical-align: middle;\n",
       "    }\n",
       "\n",
       "    .dataframe tbody tr th {\n",
       "        vertical-align: top;\n",
       "    }\n",
       "\n",
       "    .dataframe thead th {\n",
       "        text-align: right;\n",
       "    }\n",
       "</style>\n",
       "<table border=\"1\" class=\"dataframe\">\n",
       "  <thead>\n",
       "    <tr style=\"text-align: right;\">\n",
       "      <th></th>\n",
       "      <th>MSN</th>\n",
       "      <th>YYYYMM</th>\n",
       "      <th>Value</th>\n",
       "      <th>Column_Order</th>\n",
       "      <th>Description</th>\n",
       "      <th>Unit</th>\n",
       "    </tr>\n",
       "  </thead>\n",
       "  <tbody>\n",
       "    <tr>\n",
       "      <th>0</th>\n",
       "      <td>ELEGPUS</td>\n",
       "      <td>1973-01-01</td>\n",
       "      <td>159.913</td>\n",
       "      <td>1</td>\n",
       "      <td>Electricity Net Generation, Electric Power Sector</td>\n",
       "      <td>Billion Kilowatthours</td>\n",
       "    </tr>\n",
       "    <tr>\n",
       "      <th>1</th>\n",
       "      <td>ELEGPUS</td>\n",
       "      <td>1973-02-01</td>\n",
       "      <td>143.257</td>\n",
       "      <td>1</td>\n",
       "      <td>Electricity Net Generation, Electric Power Sector</td>\n",
       "      <td>Billion Kilowatthours</td>\n",
       "    </tr>\n",
       "    <tr>\n",
       "      <th>2</th>\n",
       "      <td>ELEGPUS</td>\n",
       "      <td>1973-03-01</td>\n",
       "      <td>147.847</td>\n",
       "      <td>1</td>\n",
       "      <td>Electricity Net Generation, Electric Power Sector</td>\n",
       "      <td>Billion Kilowatthours</td>\n",
       "    </tr>\n",
       "    <tr>\n",
       "      <th>3</th>\n",
       "      <td>ELEGPUS</td>\n",
       "      <td>1973-04-01</td>\n",
       "      <td>139.292</td>\n",
       "      <td>1</td>\n",
       "      <td>Electricity Net Generation, Electric Power Sector</td>\n",
       "      <td>Billion Kilowatthours</td>\n",
       "    </tr>\n",
       "    <tr>\n",
       "      <th>4</th>\n",
       "      <td>ELEGPUS</td>\n",
       "      <td>1973-05-01</td>\n",
       "      <td>147.088</td>\n",
       "      <td>1</td>\n",
       "      <td>Electricity Net Generation, Electric Power Sector</td>\n",
       "      <td>Billion Kilowatthours</td>\n",
       "    </tr>\n",
       "  </tbody>\n",
       "</table>\n",
       "</div>"
      ],
      "text/plain": [
       "       MSN     YYYYMM    Value  Column_Order  \\\n",
       "0  ELEGPUS 1973-01-01  159.913             1   \n",
       "1  ELEGPUS 1973-02-01  143.257             1   \n",
       "2  ELEGPUS 1973-03-01  147.847             1   \n",
       "3  ELEGPUS 1973-04-01  139.292             1   \n",
       "4  ELEGPUS 1973-05-01  147.088             1   \n",
       "\n",
       "                                         Description                   Unit  \n",
       "0  Electricity Net Generation, Electric Power Sector  Billion Kilowatthours  \n",
       "1  Electricity Net Generation, Electric Power Sector  Billion Kilowatthours  \n",
       "2  Electricity Net Generation, Electric Power Sector  Billion Kilowatthours  \n",
       "3  Electricity Net Generation, Electric Power Sector  Billion Kilowatthours  \n",
       "4  Electricity Net Generation, Electric Power Sector  Billion Kilowatthours  "
      ]
     },
     "execution_count": 10,
     "metadata": {},
     "output_type": "execute_result"
    }
   ],
   "source": [
    "df.head()"
   ]
  },
  {
   "cell_type": "code",
   "execution_count": 11,
   "id": "9df41585-87b2-4f1d-90d7-e73401a6e91b",
   "metadata": {},
   "outputs": [],
   "source": [
    "test_start_date = datetime(2015, 1, 1)"
   ]
  },
  {
   "cell_type": "code",
   "execution_count": 13,
   "id": "17dae75c-c94f-40c3-a647-e454a161847e",
   "metadata": {},
   "outputs": [],
   "source": [
    "train_df = df.loc[df[\"YYYYMM\"] < test_start_date, :]\n",
    "test_df = df.loc[df[\"YYYYMM\"] >= test_start_date, :]"
   ]
  },
  {
   "cell_type": "code",
   "execution_count": 14,
   "id": "4a6af0a7-6255-4c53-8117-f8ca7e3cecdd",
   "metadata": {},
   "outputs": [
    {
     "data": {
      "text/plain": [
       "((504, 6), (78, 6))"
      ]
     },
     "execution_count": 14,
     "metadata": {},
     "output_type": "execute_result"
    }
   ],
   "source": [
    "train_df.shape, test_df.shape"
   ]
  },
  {
   "cell_type": "code",
   "execution_count": 13,
   "id": "34d22689-fb5e-4f7d-b72f-ca70e081bcfe",
   "metadata": {},
   "outputs": [
    {
     "data": {
      "image/png": "[encoded data removed]",
      "text/plain": [
       "<Figure size 432x288 with 1 Axes>"
      ]
     },
     "metadata": {
      "needs_background": "light"
     },
     "output_type": "display_data"
    }
   ],
   "source": [
    "sns.lineplot(x=\"YYYYMM\", y=\"Value\", data=train_df);"
   ]
  },
  {
   "cell_type": "code",
   "execution_count": 19,
   "id": "c6d5456d-f1ee-4f5e-af33-1b29e4b84037",
   "metadata": {},
   "outputs": [],
   "source": [
    "train_df[\"month_number\"] = train_df[\"YYYYMM\"].dt.year * 12 + train_df[\"YYYYMM\"].dt.month\n",
    "test_df[\"month_number\"] = test_df[\"YYYYMM\"].dt.year * 12 + test_df[\"YYYYMM\"].dt.month"
   ]
  },
  {
   "cell_type": "code",
   "execution_count": 20,
   "id": "8e71f34f-862e-4643-84f8-a5c5c7547242",
   "metadata": {},
   "outputs": [
    {
     "data": {
      "text/plain": [
       "23677"
      ]
     },
     "execution_count": 20,
     "metadata": {},
     "output_type": "execute_result"
    }
   ],
   "source": [
    "train_df[\"month_number\"].min()"
   ]
  },
  {
   "cell_type": "code",
   "execution_count": 21,
   "id": "ff52731b-2ffd-4816-84cf-baa0b782b59f",
   "metadata": {},
   "outputs": [],
   "source": [
    "min_month = train_df[\"month_number\"].min()\n",
    "\n",
    "train_df[\"month_number\"] -= min_month + 1\n",
    "test_df[\"month_number\"] -= min_month + 1"
   ]
  },
  {
   "cell_type": "code",
   "execution_count": 22,
   "id": "a2682529-fb6b-4ca7-a5a5-9f888ad34327",
   "metadata": {},
   "outputs": [
    {
     "data": {
      "image/png": "[encoded data removed]",
      "text/plain": [
       "<Figure size 432x288 with 1 Axes>"
      ]
     },
     "metadata": {
      "needs_background": "light"
     },
     "output_type": "display_data"
    }
   ],
   "source": [
    "sns.lineplot(x=\"month_number\", y=\"Value\", data=train_df);"
   ]
  },
  {
   "cell_type": "code",
   "execution_count": 16,
   "id": "8f82046d-7c9d-4eeb-a8ab-ff41b30e6a71",
   "metadata": {},
   "outputs": [],
   "source": [
    "model = LinearRegression()"
   ]
  },
  {
   "cell_type": "code",
   "execution_count": 23,
   "id": "b9bfee23-03b4-46e9-8d1a-eccedbc076dd",
   "metadata": {},
   "outputs": [],
   "source": [
    "features = [\"month_number\"]"
   ]
  },
  {
   "cell_type": "code",
   "execution_count": 24,
   "id": "d5859e5b-92b3-4448-9350-dc0000428105",
   "metadata": {},
   "outputs": [
    {
     "data": {
      "text/plain": [
       "LinearRegression()"
      ]
     },
     "execution_count": 24,
     "metadata": {},
     "output_type": "execute_result"
    }
   ],
   "source": [
    "model.fit(train_df[features], train_df[\"Value\"])"
   ]
  },
  {
   "cell_type": "code",
   "execution_count": 25,
   "id": "2ef29561-7be1-4ea6-9fc3-ceafe7c999ed",
   "metadata": {},
   "outputs": [],
   "source": [
    "prediction_train = model.predict(train_df[features])\n",
    "prediction_test = model.predict(test_df[features])"
   ]
  },
  {
   "cell_type": "code",
   "execution_count": 26,
   "id": "fc0e41b3-f8d0-46db-aee4-776b7496c088",
   "metadata": {},
   "outputs": [
    {
     "data": {
      "image/png": "[encoded data removed]",
      "text/plain": [
       "<Figure size 432x288 with 1 Axes>"
      ]
     },
     "metadata": {
      "needs_background": "light"
     },
     "output_type": "display_data"
    }
   ],
   "source": [
    "sns.lineplot(x=\"month_number\", y=\"Value\", data=train_df);\n",
    "sns.lineplot(x=train_df[\"month_number\"], y=prediction_train);"
   ]
  },
  {
   "cell_type": "code",
   "execution_count": 28,
   "id": "f5cb62e8-ce25-4c9d-8b13-a79abd761afc",
   "metadata": {},
   "outputs": [
    {
     "data": {
      "text/plain": [
       "672.7117351621268"
      ]
     },
     "execution_count": 28,
     "metadata": {},
     "output_type": "execute_result"
    }
   ],
   "source": [
    "mean_squared_error(train_df[\"Value\"], prediction_train)"
   ]
  },
  {
   "cell_type": "code",
   "execution_count": 30,
   "id": "b86dc043-3f01-451f-acc0-f1f88893cea9",
   "metadata": {},
   "outputs": [
    {
     "data": {
      "text/plain": [
       "19.838967793357163"
      ]
     },
     "execution_count": 30,
     "metadata": {},
     "output_type": "execute_result"
    }
   ],
   "source": [
    "mean_absolute_error(train_df[\"Value\"], prediction_train)"
   ]
  },
  {
   "cell_type": "code",
   "execution_count": 27,
   "id": "406551b2-37a0-4526-bed0-140647e879c6",
   "metadata": {},
   "outputs": [
    {
     "data": {
      "image/png": "[encoded data removed]",
      "text/plain": [
       "<Figure size 432x288 with 1 Axes>"
      ]
     },
     "metadata": {
      "needs_background": "light"
     },
     "output_type": "display_data"
    }
   ],
   "source": [
    "sns.lineplot(x=\"month_number\", y=\"Value\", data=test_df);\n",
    "sns.lineplot(x=test_df[\"month_number\"], y=prediction_test);"
   ]
  },
  {
   "cell_type": "code",
   "execution_count": 29,
   "id": "2f62da84-15f4-44be-8f97-c3ac6d6ae092",
   "metadata": {},
   "outputs": [
    {
     "data": {
      "text/plain": [
       "3397.2583639052323"
      ]
     },
     "execution_count": 29,
     "metadata": {},
     "output_type": "execute_result"
    }
   ],
   "source": [
    "mean_squared_error(test_df[\"Value\"], prediction_test)"
   ]
  },
  {
   "cell_type": "code",
   "execution_count": 31,
   "id": "11a9fcd1-8db5-4e43-a749-caa8d7940497",
   "metadata": {},
   "outputs": [
    {
     "data": {
      "text/plain": [
       "51.513472887372025"
      ]
     },
     "execution_count": 31,
     "metadata": {},
     "output_type": "execute_result"
    }
   ],
   "source": [
    "mean_absolute_error(test_df[\"Value\"], prediction_test)"
   ]
  },
  {
   "cell_type": "code",
   "execution_count": 32,
   "id": "407e9c6b-b866-46a7-be3b-1d3c5caa841b",
   "metadata": {},
   "outputs": [
    {
     "data": {
      "text/plain": [
       "0     1973-01-01\n",
       "1     1973-02-01\n",
       "2     1973-03-01\n",
       "3     1973-04-01\n",
       "4     1973-05-01\n",
       "         ...    \n",
       "540   2014-08-01\n",
       "541   2014-09-01\n",
       "542   2014-10-01\n",
       "543   2014-11-01\n",
       "544   2014-12-01\n",
       "Name: YYYYMM, Length: 504, dtype: datetime64[ns]"
      ]
     },
     "execution_count": 32,
     "metadata": {},
     "output_type": "execute_result"
    }
   ],
   "source": [
    "train_df[\"YYYYMM\"]"
   ]
  },
  {
   "cell_type": "code",
   "execution_count": 34,
   "id": "ca09de1b-7b47-47c8-afea-5309d83a0416",
   "metadata": {},
   "outputs": [],
   "source": [
    "for i in range(1, 13):\n",
    "    train_df[f\"Value_{i}_month_before\"] = train_df[\"Value\"].shift(i)"
   ]
  },
  {
   "cell_type": "code",
   "execution_count": 35,
   "id": "a320c1e0-8cab-4b0a-9fea-8cbd222f6072",
   "metadata": {},
   "outputs": [],
   "source": [
    "value_columns = [col for col in train_df.columns if col.startswith(\"Value\")]"
   ]
  },
  {
   "cell_type": "code",
   "execution_count": 36,
   "id": "48a7df04-410a-411f-baf2-dfd1e45203db",
   "metadata": {},
   "outputs": [
    {
     "data": {
      "text/html": [
       "<div>\n",
       "<style scoped>\n",
       "    .dataframe tbody tr th:only-of-type {\n",
       "        vertical-align: middle;\n",
       "    }\n",
       "\n",
       "    .dataframe tbody tr th {\n",
       "        vertical-align: top;\n",
       "    }\n",
       "\n",
       "    .dataframe thead th {\n",
       "        text-align: right;\n",
       "    }\n",
       "</style>\n",
       "<table border=\"1\" class=\"dataframe\">\n",
       "  <thead>\n",
       "    <tr style=\"text-align: right;\">\n",
       "      <th></th>\n",
       "      <th>Value</th>\n",
       "      <th>Value_1_month_before</th>\n",
       "      <th>Value_2_month_before</th>\n",
       "      <th>Value_3_month_before</th>\n",
       "      <th>Value_4_month_before</th>\n",
       "      <th>Value_5_month_before</th>\n",
       "      <th>Value_6_month_before</th>\n",
       "      <th>Value_7_month_before</th>\n",
       "      <th>Value_8_month_before</th>\n",
       "      <th>Value_9_month_before</th>\n",
       "      <th>Value_10_month_before</th>\n",
       "      <th>Value_11_month_before</th>\n",
       "      <th>Value_12_month_before</th>\n",
       "    </tr>\n",
       "  </thead>\n",
       "  <tbody>\n",
       "    <tr>\n",
       "      <th>0</th>\n",
       "      <td>159.913</td>\n",
       "      <td>NaN</td>\n",
       "      <td>NaN</td>\n",
       "      <td>NaN</td>\n",
       "      <td>NaN</td>\n",
       "      <td>NaN</td>\n",
       "      <td>NaN</td>\n",
       "      <td>NaN</td>\n",
       "      <td>NaN</td>\n",
       "      <td>NaN</td>\n",
       "      <td>NaN</td>\n",
       "      <td>NaN</td>\n",
       "      <td>NaN</td>\n",
       "    </tr>\n",
       "    <tr>\n",
       "      <th>1</th>\n",
       "      <td>143.257</td>\n",
       "      <td>159.913</td>\n",
       "      <td>NaN</td>\n",
       "      <td>NaN</td>\n",
       "      <td>NaN</td>\n",
       "      <td>NaN</td>\n",
       "      <td>NaN</td>\n",
       "      <td>NaN</td>\n",
       "      <td>NaN</td>\n",
       "      <td>NaN</td>\n",
       "      <td>NaN</td>\n",
       "      <td>NaN</td>\n",
       "      <td>NaN</td>\n",
       "    </tr>\n",
       "    <tr>\n",
       "      <th>2</th>\n",
       "      <td>147.847</td>\n",
       "      <td>143.257</td>\n",
       "      <td>159.913</td>\n",
       "      <td>NaN</td>\n",
       "      <td>NaN</td>\n",
       "      <td>NaN</td>\n",
       "      <td>NaN</td>\n",
       "      <td>NaN</td>\n",
       "      <td>NaN</td>\n",
       "      <td>NaN</td>\n",
       "      <td>NaN</td>\n",
       "      <td>NaN</td>\n",
       "      <td>NaN</td>\n",
       "    </tr>\n",
       "    <tr>\n",
       "      <th>3</th>\n",
       "      <td>139.292</td>\n",
       "      <td>147.847</td>\n",
       "      <td>143.257</td>\n",
       "      <td>159.913</td>\n",
       "      <td>NaN</td>\n",
       "      <td>NaN</td>\n",
       "      <td>NaN</td>\n",
       "      <td>NaN</td>\n",
       "      <td>NaN</td>\n",
       "      <td>NaN</td>\n",
       "      <td>NaN</td>\n",
       "      <td>NaN</td>\n",
       "      <td>NaN</td>\n",
       "    </tr>\n",
       "    <tr>\n",
       "      <th>4</th>\n",
       "      <td>147.088</td>\n",
       "      <td>139.292</td>\n",
       "      <td>147.847</td>\n",
       "      <td>143.257</td>\n",
       "      <td>159.913</td>\n",
       "      <td>NaN</td>\n",
       "      <td>NaN</td>\n",
       "      <td>NaN</td>\n",
       "      <td>NaN</td>\n",
       "      <td>NaN</td>\n",
       "      <td>NaN</td>\n",
       "      <td>NaN</td>\n",
       "      <td>NaN</td>\n",
       "    </tr>\n",
       "  </tbody>\n",
       "</table>\n",
       "</div>"
      ],
      "text/plain": [
       "     Value  Value_1_month_before  Value_2_month_before  Value_3_month_before  \\\n",
       "0  159.913                   NaN                   NaN                   NaN   \n",
       "1  143.257               159.913                   NaN                   NaN   \n",
       "2  147.847               143.257               159.913                   NaN   \n",
       "3  139.292               147.847               143.257               159.913   \n",
       "4  147.088               139.292               147.847               143.257   \n",
       "\n",
       "   Value_4_month_before  Value_5_month_before  Value_6_month_before  \\\n",
       "0                   NaN                   NaN                   NaN   \n",
       "1                   NaN                   NaN                   NaN   \n",
       "2                   NaN                   NaN                   NaN   \n",
       "3                   NaN                   NaN                   NaN   \n",
       "4               159.913                   NaN                   NaN   \n",
       "\n",
       "   Value_7_month_before  Value_8_month_before  Value_9_month_before  \\\n",
       "0                   NaN                   NaN                   NaN   \n",
       "1                   NaN                   NaN                   NaN   \n",
       "2                   NaN                   NaN                   NaN   \n",
       "3                   NaN                   NaN                   NaN   \n",
       "4                   NaN                   NaN                   NaN   \n",
       "\n",
       "   Value_10_month_before  Value_11_month_before  Value_12_month_before  \n",
       "0                    NaN                    NaN                    NaN  \n",
       "1                    NaN                    NaN                    NaN  \n",
       "2                    NaN                    NaN                    NaN  \n",
       "3                    NaN                    NaN                    NaN  \n",
       "4                    NaN                    NaN                    NaN  "
      ]
     },
     "execution_count": 36,
     "metadata": {},
     "output_type": "execute_result"
    }
   ],
   "source": [
    "train_df[value_columns].head()"
   ]
  },
  {
   "cell_type": "code",
   "execution_count": 16,
   "id": "cd60328b-eb1a-47ac-97cf-b6cd0d3a1ab4",
   "metadata": {},
   "outputs": [
    {
     "data": {
      "text/html": [
       "<div>\n",
       "<style scoped>\n",
       "    .dataframe tbody tr th:only-of-type {\n",
       "        vertical-align: middle;\n",
       "    }\n",
       "\n",
       "    .dataframe tbody tr th {\n",
       "        vertical-align: top;\n",
       "    }\n",
       "\n",
       "    .dataframe thead th {\n",
       "        text-align: right;\n",
       "    }\n",
       "</style>\n",
       "<table border=\"1\" class=\"dataframe\">\n",
       "  <thead>\n",
       "    <tr style=\"text-align: right;\">\n",
       "      <th></th>\n",
       "      <th>Value</th>\n",
       "      <th>Value_1_month_before</th>\n",
       "      <th>Value_2_month_before</th>\n",
       "      <th>Value_3_month_before</th>\n",
       "      <th>Value_4_month_before</th>\n",
       "      <th>Value_5_month_before</th>\n",
       "      <th>Value_6_month_before</th>\n",
       "      <th>Value_7_month_before</th>\n",
       "      <th>Value_8_month_before</th>\n",
       "      <th>Value_9_month_before</th>\n",
       "      <th>Value_10_month_before</th>\n",
       "      <th>Value_11_month_before</th>\n",
       "      <th>Value_12_month_before</th>\n",
       "    </tr>\n",
       "  </thead>\n",
       "  <tbody>\n",
       "    <tr>\n",
       "      <th>Value</th>\n",
       "      <td>1.000000</td>\n",
       "      <td>0.928929</td>\n",
       "      <td>0.837980</td>\n",
       "      <td>0.778664</td>\n",
       "      <td>0.793415</td>\n",
       "      <td>0.855148</td>\n",
       "      <td>0.873863</td>\n",
       "      <td>0.856194</td>\n",
       "      <td>0.794874</td>\n",
       "      <td>0.779915</td>\n",
       "      <td>0.838802</td>\n",
       "      <td>0.924808</td>\n",
       "      <td>0.986991</td>\n",
       "    </tr>\n",
       "    <tr>\n",
       "      <th>Value_1_month_before</th>\n",
       "      <td>0.928929</td>\n",
       "      <td>1.000000</td>\n",
       "      <td>0.929299</td>\n",
       "      <td>0.838697</td>\n",
       "      <td>0.779276</td>\n",
       "      <td>0.793764</td>\n",
       "      <td>0.855604</td>\n",
       "      <td>0.874187</td>\n",
       "      <td>0.856738</td>\n",
       "      <td>0.796127</td>\n",
       "      <td>0.780644</td>\n",
       "      <td>0.839415</td>\n",
       "      <td>0.925275</td>\n",
       "    </tr>\n",
       "    <tr>\n",
       "      <th>Value_2_month_before</th>\n",
       "      <td>0.837980</td>\n",
       "      <td>0.929299</td>\n",
       "      <td>1.000000</td>\n",
       "      <td>0.929608</td>\n",
       "      <td>0.839381</td>\n",
       "      <td>0.780288</td>\n",
       "      <td>0.794891</td>\n",
       "      <td>0.856363</td>\n",
       "      <td>0.874769</td>\n",
       "      <td>0.857583</td>\n",
       "      <td>0.797035</td>\n",
       "      <td>0.781668</td>\n",
       "      <td>0.840543</td>\n",
       "    </tr>\n",
       "    <tr>\n",
       "      <th>Value_3_month_before</th>\n",
       "      <td>0.778664</td>\n",
       "      <td>0.838697</td>\n",
       "      <td>0.929608</td>\n",
       "      <td>1.000000</td>\n",
       "      <td>0.929999</td>\n",
       "      <td>0.840493</td>\n",
       "      <td>0.781536</td>\n",
       "      <td>0.795844</td>\n",
       "      <td>0.856992</td>\n",
       "      <td>0.875429</td>\n",
       "      <td>0.858221</td>\n",
       "      <td>0.797929</td>\n",
       "      <td>0.782949</td>\n",
       "    </tr>\n",
       "    <tr>\n",
       "      <th>Value_4_month_before</th>\n",
       "      <td>0.793415</td>\n",
       "      <td>0.779276</td>\n",
       "      <td>0.839381</td>\n",
       "      <td>0.929999</td>\n",
       "      <td>1.000000</td>\n",
       "      <td>0.930337</td>\n",
       "      <td>0.840863</td>\n",
       "      <td>0.781925</td>\n",
       "      <td>0.796538</td>\n",
       "      <td>0.857934</td>\n",
       "      <td>0.875795</td>\n",
       "      <td>0.858709</td>\n",
       "      <td>0.798367</td>\n",
       "    </tr>\n",
       "    <tr>\n",
       "      <th>Value_5_month_before</th>\n",
       "      <td>0.855148</td>\n",
       "      <td>0.793764</td>\n",
       "      <td>0.780288</td>\n",
       "      <td>0.840493</td>\n",
       "      <td>0.930337</td>\n",
       "      <td>1.000000</td>\n",
       "      <td>0.930088</td>\n",
       "      <td>0.840693</td>\n",
       "      <td>0.782594</td>\n",
       "      <td>0.798222</td>\n",
       "      <td>0.858369</td>\n",
       "      <td>0.876394</td>\n",
       "      <td>0.858286</td>\n",
       "    </tr>\n",
       "    <tr>\n",
       "      <th>Value_6_month_before</th>\n",
       "      <td>0.873863</td>\n",
       "      <td>0.855604</td>\n",
       "      <td>0.794891</td>\n",
       "      <td>0.781536</td>\n",
       "      <td>0.840863</td>\n",
       "      <td>0.930088</td>\n",
       "      <td>1.000000</td>\n",
       "      <td>0.930114</td>\n",
       "      <td>0.841456</td>\n",
       "      <td>0.784448</td>\n",
       "      <td>0.798755</td>\n",
       "      <td>0.859089</td>\n",
       "      <td>0.876048</td>\n",
       "    </tr>\n",
       "    <tr>\n",
       "      <th>Value_7_month_before</th>\n",
       "      <td>0.856194</td>\n",
       "      <td>0.874187</td>\n",
       "      <td>0.856363</td>\n",
       "      <td>0.795844</td>\n",
       "      <td>0.781925</td>\n",
       "      <td>0.840693</td>\n",
       "      <td>0.930114</td>\n",
       "      <td>1.000000</td>\n",
       "      <td>0.930493</td>\n",
       "      <td>0.842739</td>\n",
       "      <td>0.784988</td>\n",
       "      <td>0.799416</td>\n",
       "      <td>0.859080</td>\n",
       "    </tr>\n",
       "    <tr>\n",
       "      <th>Value_8_month_before</th>\n",
       "      <td>0.794874</td>\n",
       "      <td>0.856738</td>\n",
       "      <td>0.874769</td>\n",
       "      <td>0.856992</td>\n",
       "      <td>0.796538</td>\n",
       "      <td>0.782594</td>\n",
       "      <td>0.841456</td>\n",
       "      <td>0.930493</td>\n",
       "      <td>1.000000</td>\n",
       "      <td>0.931011</td>\n",
       "      <td>0.843347</td>\n",
       "      <td>0.785892</td>\n",
       "      <td>0.800281</td>\n",
       "    </tr>\n",
       "    <tr>\n",
       "      <th>Value_9_month_before</th>\n",
       "      <td>0.779915</td>\n",
       "      <td>0.796127</td>\n",
       "      <td>0.857583</td>\n",
       "      <td>0.875429</td>\n",
       "      <td>0.857934</td>\n",
       "      <td>0.798222</td>\n",
       "      <td>0.784448</td>\n",
       "      <td>0.842739</td>\n",
       "      <td>0.931011</td>\n",
       "      <td>1.000000</td>\n",
       "      <td>0.931604</td>\n",
       "      <td>0.844342</td>\n",
       "      <td>0.787788</td>\n",
       "    </tr>\n",
       "    <tr>\n",
       "      <th>Value_10_month_before</th>\n",
       "      <td>0.838802</td>\n",
       "      <td>0.780644</td>\n",
       "      <td>0.797035</td>\n",
       "      <td>0.858221</td>\n",
       "      <td>0.875795</td>\n",
       "      <td>0.858369</td>\n",
       "      <td>0.798755</td>\n",
       "      <td>0.784988</td>\n",
       "      <td>0.843347</td>\n",
       "      <td>0.931604</td>\n",
       "      <td>1.000000</td>\n",
       "      <td>0.931876</td>\n",
       "      <td>0.844941</td>\n",
       "    </tr>\n",
       "    <tr>\n",
       "      <th>Value_11_month_before</th>\n",
       "      <td>0.924808</td>\n",
       "      <td>0.839415</td>\n",
       "      <td>0.781668</td>\n",
       "      <td>0.797929</td>\n",
       "      <td>0.858709</td>\n",
       "      <td>0.876394</td>\n",
       "      <td>0.859089</td>\n",
       "      <td>0.799416</td>\n",
       "      <td>0.785892</td>\n",
       "      <td>0.844342</td>\n",
       "      <td>0.931876</td>\n",
       "      <td>1.000000</td>\n",
       "      <td>0.932555</td>\n",
       "    </tr>\n",
       "    <tr>\n",
       "      <th>Value_12_month_before</th>\n",
       "      <td>0.986991</td>\n",
       "      <td>0.925275</td>\n",
       "      <td>0.840543</td>\n",
       "      <td>0.782949</td>\n",
       "      <td>0.798367</td>\n",
       "      <td>0.858286</td>\n",
       "      <td>0.876048</td>\n",
       "      <td>0.859080</td>\n",
       "      <td>0.800281</td>\n",
       "      <td>0.787788</td>\n",
       "      <td>0.844941</td>\n",
       "      <td>0.932555</td>\n",
       "      <td>1.000000</td>\n",
       "    </tr>\n",
       "  </tbody>\n",
       "</table>\n",
       "</div>"
      ],
      "text/plain": [
       "                          Value  Value_1_month_before  Value_2_month_before  \\\n",
       "Value                  1.000000              0.928929              0.837980   \n",
       "Value_1_month_before   0.928929              1.000000              0.929299   \n",
       "Value_2_month_before   0.837980              0.929299              1.000000   \n",
       "Value_3_month_before   0.778664              0.838697              0.929608   \n",
       "Value_4_month_before   0.793415              0.779276              0.839381   \n",
       "Value_5_month_before   0.855148              0.793764              0.780288   \n",
       "Value_6_month_before   0.873863              0.855604              0.794891   \n",
       "Value_7_month_before   0.856194              0.874187              0.856363   \n",
       "Value_8_month_before   0.794874              0.856738              0.874769   \n",
       "Value_9_month_before   0.779915              0.796127              0.857583   \n",
       "Value_10_month_before  0.838802              0.780644              0.797035   \n",
       "Value_11_month_before  0.924808              0.839415              0.781668   \n",
       "Value_12_month_before  0.986991              0.925275              0.840543   \n",
       "\n",
       "                       Value_3_month_before  Value_4_month_before  \\\n",
       "Value                              0.778664              0.793415   \n",
       "Value_1_month_before               0.838697              0.779276   \n",
       "Value_2_month_before               0.929608              0.839381   \n",
       "Value_3_month_before               1.000000              0.929999   \n",
       "Value_4_month_before               0.929999              1.000000   \n",
       "Value_5_month_before               0.840493              0.930337   \n",
       "Value_6_month_before               0.781536              0.840863   \n",
       "Value_7_month_before               0.795844              0.781925   \n",
       "Value_8_month_before               0.856992              0.796538   \n",
       "Value_9_month_before               0.875429              0.857934   \n",
       "Value_10_month_before              0.858221              0.875795   \n",
       "Value_11_month_before              0.797929              0.858709   \n",
       "Value_12_month_before              0.782949              0.798367   \n",
       "\n",
       "                       Value_5_month_before  Value_6_month_before  \\\n",
       "Value                              0.855148              0.873863   \n",
       "Value_1_month_before               0.793764              0.855604   \n",
       "Value_2_month_before               0.780288              0.794891   \n",
       "Value_3_month_before               0.840493              0.781536   \n",
       "Value_4_month_before               0.930337              0.840863   \n",
       "Value_5_month_before               1.000000              0.930088   \n",
       "Value_6_month_before               0.930088              1.000000   \n",
       "Value_7_month_before               0.840693              0.930114   \n",
       "Value_8_month_before               0.782594              0.841456   \n",
       "Value_9_month_before               0.798222              0.784448   \n",
       "Value_10_month_before              0.858369              0.798755   \n",
       "Value_11_month_before              0.876394              0.859089   \n",
       "Value_12_month_before              0.858286              0.876048   \n",
       "\n",
       "                       Value_7_month_before  Value_8_month_before  \\\n",
       "Value                              0.856194              0.794874   \n",
       "Value_1_month_before               0.874187              0.856738   \n",
       "Value_2_month_before               0.856363              0.874769   \n",
       "Value_3_month_before               0.795844              0.856992   \n",
       "Value_4_month_before               0.781925              0.796538   \n",
       "Value_5_month_before               0.840693              0.782594   \n",
       "Value_6_month_before               0.930114              0.841456   \n",
       "Value_7_month_before               1.000000              0.930493   \n",
       "Value_8_month_before               0.930493              1.000000   \n",
       "Value_9_month_before               0.842739              0.931011   \n",
       "Value_10_month_before              0.784988              0.843347   \n",
       "Value_11_month_before              0.799416              0.785892   \n",
       "Value_12_month_before              0.859080              0.800281   \n",
       "\n",
       "                       Value_9_month_before  Value_10_month_before  \\\n",
       "Value                              0.779915               0.838802   \n",
       "Value_1_month_before               0.796127               0.780644   \n",
       "Value_2_month_before               0.857583               0.797035   \n",
       "Value_3_month_before               0.875429               0.858221   \n",
       "Value_4_month_before               0.857934               0.875795   \n",
       "Value_5_month_before               0.798222               0.858369   \n",
       "Value_6_month_before               0.784448               0.798755   \n",
       "Value_7_month_before               0.842739               0.784988   \n",
       "Value_8_month_before               0.931011               0.843347   \n",
       "Value_9_month_before               1.000000               0.931604   \n",
       "Value_10_month_before              0.931604               1.000000   \n",
       "Value_11_month_before              0.844342               0.931876   \n",
       "Value_12_month_before              0.787788               0.844941   \n",
       "\n",
       "                       Value_11_month_before  Value_12_month_before  \n",
       "Value                               0.924808               0.986991  \n",
       "Value_1_month_before                0.839415               0.925275  \n",
       "Value_2_month_before                0.781668               0.840543  \n",
       "Value_3_month_before                0.797929               0.782949  \n",
       "Value_4_month_before                0.858709               0.798367  \n",
       "Value_5_month_before                0.876394               0.858286  \n",
       "Value_6_month_before                0.859089               0.876048  \n",
       "Value_7_month_before                0.799416               0.859080  \n",
       "Value_8_month_before                0.785892               0.800281  \n",
       "Value_9_month_before                0.844342               0.787788  \n",
       "Value_10_month_before               0.931876               0.844941  \n",
       "Value_11_month_before               1.000000               0.932555  \n",
       "Value_12_month_before               0.932555               1.000000  "
      ]
     },
     "execution_count": 16,
     "metadata": {},
     "output_type": "execute_result"
    }
   ],
   "source": [
    "train_df.iloc[12:][value_columns].corr()"
   ]
  },
  {
   "cell_type": "code",
   "execution_count": 37,
   "id": "43bb23dc-66c1-46db-bd7e-1b696b7453da",
   "metadata": {},
   "outputs": [],
   "source": [
    "train_df[\"Value_diff\"] = train_df[\"Value\"] - train_df[\"Value_12_month_before\"]"
   ]
  },
  {
   "cell_type": "code",
   "execution_count": 38,
   "id": "02dd14e2-af09-4f1f-bdb0-e6a4063f5aa9",
   "metadata": {},
   "outputs": [],
   "source": [
    "value_columns = [col for col in train_df.columns if col.startswith(\"Value\")]"
   ]
  },
  {
   "cell_type": "code",
   "execution_count": 39,
   "id": "f12528ba-81fc-4fb1-b0ab-2101097ce609",
   "metadata": {},
   "outputs": [
    {
     "data": {
      "text/html": [
       "<div>\n",
       "<style scoped>\n",
       "    .dataframe tbody tr th:only-of-type {\n",
       "        vertical-align: middle;\n",
       "    }\n",
       "\n",
       "    .dataframe tbody tr th {\n",
       "        vertical-align: top;\n",
       "    }\n",
       "\n",
       "    .dataframe thead th {\n",
       "        text-align: right;\n",
       "    }\n",
       "</style>\n",
       "<table border=\"1\" class=\"dataframe\">\n",
       "  <thead>\n",
       "    <tr style=\"text-align: right;\">\n",
       "      <th></th>\n",
       "      <th>Value</th>\n",
       "      <th>Value_1_month_before</th>\n",
       "      <th>Value_2_month_before</th>\n",
       "      <th>Value_3_month_before</th>\n",
       "      <th>Value_4_month_before</th>\n",
       "      <th>Value_5_month_before</th>\n",
       "      <th>Value_6_month_before</th>\n",
       "      <th>Value_7_month_before</th>\n",
       "      <th>Value_8_month_before</th>\n",
       "      <th>Value_9_month_before</th>\n",
       "      <th>Value_10_month_before</th>\n",
       "      <th>Value_11_month_before</th>\n",
       "      <th>Value_12_month_before</th>\n",
       "      <th>Value_diff</th>\n",
       "    </tr>\n",
       "  </thead>\n",
       "  <tbody>\n",
       "    <tr>\n",
       "      <th>Value</th>\n",
       "      <td>1.000000</td>\n",
       "      <td>0.928929</td>\n",
       "      <td>0.837980</td>\n",
       "      <td>0.778664</td>\n",
       "      <td>0.793415</td>\n",
       "      <td>0.855148</td>\n",
       "      <td>0.873863</td>\n",
       "      <td>0.856194</td>\n",
       "      <td>0.794874</td>\n",
       "      <td>0.779915</td>\n",
       "      <td>0.838802</td>\n",
       "      <td>0.924808</td>\n",
       "      <td>0.986991</td>\n",
       "      <td>0.006492</td>\n",
       "    </tr>\n",
       "    <tr>\n",
       "      <th>Value_1_month_before</th>\n",
       "      <td>0.928929</td>\n",
       "      <td>1.000000</td>\n",
       "      <td>0.929299</td>\n",
       "      <td>0.838697</td>\n",
       "      <td>0.779276</td>\n",
       "      <td>0.793764</td>\n",
       "      <td>0.855604</td>\n",
       "      <td>0.874187</td>\n",
       "      <td>0.856738</td>\n",
       "      <td>0.796127</td>\n",
       "      <td>0.780644</td>\n",
       "      <td>0.839415</td>\n",
       "      <td>0.925275</td>\n",
       "      <td>-0.046402</td>\n",
       "    </tr>\n",
       "    <tr>\n",
       "      <th>Value_2_month_before</th>\n",
       "      <td>0.837980</td>\n",
       "      <td>0.929299</td>\n",
       "      <td>1.000000</td>\n",
       "      <td>0.929608</td>\n",
       "      <td>0.839381</td>\n",
       "      <td>0.780288</td>\n",
       "      <td>0.794891</td>\n",
       "      <td>0.856363</td>\n",
       "      <td>0.874769</td>\n",
       "      <td>0.857583</td>\n",
       "      <td>0.797035</td>\n",
       "      <td>0.781668</td>\n",
       "      <td>0.840543</td>\n",
       "      <td>-0.078309</td>\n",
       "    </tr>\n",
       "    <tr>\n",
       "      <th>Value_3_month_before</th>\n",
       "      <td>0.778664</td>\n",
       "      <td>0.838697</td>\n",
       "      <td>0.929608</td>\n",
       "      <td>1.000000</td>\n",
       "      <td>0.929999</td>\n",
       "      <td>0.840493</td>\n",
       "      <td>0.781536</td>\n",
       "      <td>0.795844</td>\n",
       "      <td>0.856992</td>\n",
       "      <td>0.875429</td>\n",
       "      <td>0.858221</td>\n",
       "      <td>0.797929</td>\n",
       "      <td>0.782949</td>\n",
       "      <td>-0.084600</td>\n",
       "    </tr>\n",
       "    <tr>\n",
       "      <th>Value_4_month_before</th>\n",
       "      <td>0.793415</td>\n",
       "      <td>0.779276</td>\n",
       "      <td>0.839381</td>\n",
       "      <td>0.929999</td>\n",
       "      <td>1.000000</td>\n",
       "      <td>0.930337</td>\n",
       "      <td>0.840863</td>\n",
       "      <td>0.781925</td>\n",
       "      <td>0.796538</td>\n",
       "      <td>0.857934</td>\n",
       "      <td>0.875795</td>\n",
       "      <td>0.858709</td>\n",
       "      <td>0.798367</td>\n",
       "      <td>-0.089847</td>\n",
       "    </tr>\n",
       "    <tr>\n",
       "      <th>Value_5_month_before</th>\n",
       "      <td>0.855148</td>\n",
       "      <td>0.793764</td>\n",
       "      <td>0.780288</td>\n",
       "      <td>0.840493</td>\n",
       "      <td>0.930337</td>\n",
       "      <td>1.000000</td>\n",
       "      <td>0.930088</td>\n",
       "      <td>0.840693</td>\n",
       "      <td>0.782594</td>\n",
       "      <td>0.798222</td>\n",
       "      <td>0.858369</td>\n",
       "      <td>0.876394</td>\n",
       "      <td>0.858286</td>\n",
       "      <td>-0.083162</td>\n",
       "    </tr>\n",
       "    <tr>\n",
       "      <th>Value_6_month_before</th>\n",
       "      <td>0.873863</td>\n",
       "      <td>0.855604</td>\n",
       "      <td>0.794891</td>\n",
       "      <td>0.781536</td>\n",
       "      <td>0.840863</td>\n",
       "      <td>0.930088</td>\n",
       "      <td>1.000000</td>\n",
       "      <td>0.930114</td>\n",
       "      <td>0.841456</td>\n",
       "      <td>0.784448</td>\n",
       "      <td>0.798755</td>\n",
       "      <td>0.859089</td>\n",
       "      <td>0.876048</td>\n",
       "      <td>-0.078619</td>\n",
       "    </tr>\n",
       "    <tr>\n",
       "      <th>Value_7_month_before</th>\n",
       "      <td>0.856194</td>\n",
       "      <td>0.874187</td>\n",
       "      <td>0.856363</td>\n",
       "      <td>0.795844</td>\n",
       "      <td>0.781925</td>\n",
       "      <td>0.840693</td>\n",
       "      <td>0.930114</td>\n",
       "      <td>1.000000</td>\n",
       "      <td>0.930493</td>\n",
       "      <td>0.842739</td>\n",
       "      <td>0.784988</td>\n",
       "      <td>0.799416</td>\n",
       "      <td>0.859080</td>\n",
       "      <td>-0.081670</td>\n",
       "    </tr>\n",
       "    <tr>\n",
       "      <th>Value_8_month_before</th>\n",
       "      <td>0.794874</td>\n",
       "      <td>0.856738</td>\n",
       "      <td>0.874769</td>\n",
       "      <td>0.856992</td>\n",
       "      <td>0.796538</td>\n",
       "      <td>0.782594</td>\n",
       "      <td>0.841456</td>\n",
       "      <td>0.930493</td>\n",
       "      <td>1.000000</td>\n",
       "      <td>0.931011</td>\n",
       "      <td>0.843347</td>\n",
       "      <td>0.785892</td>\n",
       "      <td>0.800281</td>\n",
       "      <td>-0.092782</td>\n",
       "    </tr>\n",
       "    <tr>\n",
       "      <th>Value_9_month_before</th>\n",
       "      <td>0.779915</td>\n",
       "      <td>0.796127</td>\n",
       "      <td>0.857583</td>\n",
       "      <td>0.875429</td>\n",
       "      <td>0.857934</td>\n",
       "      <td>0.798222</td>\n",
       "      <td>0.784448</td>\n",
       "      <td>0.842739</td>\n",
       "      <td>0.931011</td>\n",
       "      <td>1.000000</td>\n",
       "      <td>0.931604</td>\n",
       "      <td>0.844342</td>\n",
       "      <td>0.787788</td>\n",
       "      <td>-0.107009</td>\n",
       "    </tr>\n",
       "    <tr>\n",
       "      <th>Value_10_month_before</th>\n",
       "      <td>0.838802</td>\n",
       "      <td>0.780644</td>\n",
       "      <td>0.797035</td>\n",
       "      <td>0.858221</td>\n",
       "      <td>0.875795</td>\n",
       "      <td>0.858369</td>\n",
       "      <td>0.798755</td>\n",
       "      <td>0.784988</td>\n",
       "      <td>0.843347</td>\n",
       "      <td>0.931604</td>\n",
       "      <td>1.000000</td>\n",
       "      <td>0.931876</td>\n",
       "      <td>0.844941</td>\n",
       "      <td>-0.100611</td>\n",
       "    </tr>\n",
       "    <tr>\n",
       "      <th>Value_11_month_before</th>\n",
       "      <td>0.924808</td>\n",
       "      <td>0.839415</td>\n",
       "      <td>0.781668</td>\n",
       "      <td>0.797929</td>\n",
       "      <td>0.858709</td>\n",
       "      <td>0.876394</td>\n",
       "      <td>0.859089</td>\n",
       "      <td>0.799416</td>\n",
       "      <td>0.785892</td>\n",
       "      <td>0.844342</td>\n",
       "      <td>0.931876</td>\n",
       "      <td>1.000000</td>\n",
       "      <td>0.932555</td>\n",
       "      <td>-0.117006</td>\n",
       "    </tr>\n",
       "    <tr>\n",
       "      <th>Value_12_month_before</th>\n",
       "      <td>0.986991</td>\n",
       "      <td>0.925275</td>\n",
       "      <td>0.840543</td>\n",
       "      <td>0.782949</td>\n",
       "      <td>0.798367</td>\n",
       "      <td>0.858286</td>\n",
       "      <td>0.876048</td>\n",
       "      <td>0.859080</td>\n",
       "      <td>0.800281</td>\n",
       "      <td>0.787788</td>\n",
       "      <td>0.844941</td>\n",
       "      <td>0.932555</td>\n",
       "      <td>1.000000</td>\n",
       "      <td>-0.154365</td>\n",
       "    </tr>\n",
       "    <tr>\n",
       "      <th>Value_diff</th>\n",
       "      <td>0.006492</td>\n",
       "      <td>-0.046402</td>\n",
       "      <td>-0.078309</td>\n",
       "      <td>-0.084600</td>\n",
       "      <td>-0.089847</td>\n",
       "      <td>-0.083162</td>\n",
       "      <td>-0.078619</td>\n",
       "      <td>-0.081670</td>\n",
       "      <td>-0.092782</td>\n",
       "      <td>-0.107009</td>\n",
       "      <td>-0.100611</td>\n",
       "      <td>-0.117006</td>\n",
       "      <td>-0.154365</td>\n",
       "      <td>1.000000</td>\n",
       "    </tr>\n",
       "  </tbody>\n",
       "</table>\n",
       "</div>"
      ],
      "text/plain": [
       "                          Value  Value_1_month_before  Value_2_month_before  \\\n",
       "Value                  1.000000              0.928929              0.837980   \n",
       "Value_1_month_before   0.928929              1.000000              0.929299   \n",
       "Value_2_month_before   0.837980              0.929299              1.000000   \n",
       "Value_3_month_before   0.778664              0.838697              0.929608   \n",
       "Value_4_month_before   0.793415              0.779276              0.839381   \n",
       "Value_5_month_before   0.855148              0.793764              0.780288   \n",
       "Value_6_month_before   0.873863              0.855604              0.794891   \n",
       "Value_7_month_before   0.856194              0.874187              0.856363   \n",
       "Value_8_month_before   0.794874              0.856738              0.874769   \n",
       "Value_9_month_before   0.779915              0.796127              0.857583   \n",
       "Value_10_month_before  0.838802              0.780644              0.797035   \n",
       "Value_11_month_before  0.924808              0.839415              0.781668   \n",
       "Value_12_month_before  0.986991              0.925275              0.840543   \n",
       "Value_diff             0.006492             -0.046402             -0.078309   \n",
       "\n",
       "                       Value_3_month_before  Value_4_month_before  \\\n",
       "Value                              0.778664              0.793415   \n",
       "Value_1_month_before               0.838697              0.779276   \n",
       "Value_2_month_before               0.929608              0.839381   \n",
       "Value_3_month_before               1.000000              0.929999   \n",
       "Value_4_month_before               0.929999              1.000000   \n",
       "Value_5_month_before               0.840493              0.930337   \n",
       "Value_6_month_before               0.781536              0.840863   \n",
       "Value_7_month_before               0.795844              0.781925   \n",
       "Value_8_month_before               0.856992              0.796538   \n",
       "Value_9_month_before               0.875429              0.857934   \n",
       "Value_10_month_before              0.858221              0.875795   \n",
       "Value_11_month_before              0.797929              0.858709   \n",
       "Value_12_month_before              0.782949              0.798367   \n",
       "Value_diff                        -0.084600             -0.089847   \n",
       "\n",
       "                       Value_5_month_before  Value_6_month_before  \\\n",
       "Value                              0.855148              0.873863   \n",
       "Value_1_month_before               0.793764              0.855604   \n",
       "Value_2_month_before               0.780288              0.794891   \n",
       "Value_3_month_before               0.840493              0.781536   \n",
       "Value_4_month_before               0.930337              0.840863   \n",
       "Value_5_month_before               1.000000              0.930088   \n",
       "Value_6_month_before               0.930088              1.000000   \n",
       "Value_7_month_before               0.840693              0.930114   \n",
       "Value_8_month_before               0.782594              0.841456   \n",
       "Value_9_month_before               0.798222              0.784448   \n",
       "Value_10_month_before              0.858369              0.798755   \n",
       "Value_11_month_before              0.876394              0.859089   \n",
       "Value_12_month_before              0.858286              0.876048   \n",
       "Value_diff                        -0.083162             -0.078619   \n",
       "\n",
       "                       Value_7_month_before  Value_8_month_before  \\\n",
       "Value                              0.856194              0.794874   \n",
       "Value_1_month_before               0.874187              0.856738   \n",
       "Value_2_month_before               0.856363              0.874769   \n",
       "Value_3_month_before               0.795844              0.856992   \n",
       "Value_4_month_before               0.781925              0.796538   \n",
       "Value_5_month_before               0.840693              0.782594   \n",
       "Value_6_month_before               0.930114              0.841456   \n",
       "Value_7_month_before               1.000000              0.930493   \n",
       "Value_8_month_before               0.930493              1.000000   \n",
       "Value_9_month_before               0.842739              0.931011   \n",
       "Value_10_month_before              0.784988              0.843347   \n",
       "Value_11_month_before              0.799416              0.785892   \n",
       "Value_12_month_before              0.859080              0.800281   \n",
       "Value_diff                        -0.081670             -0.092782   \n",
       "\n",
       "                       Value_9_month_before  Value_10_month_before  \\\n",
       "Value                              0.779915               0.838802   \n",
       "Value_1_month_before               0.796127               0.780644   \n",
       "Value_2_month_before               0.857583               0.797035   \n",
       "Value_3_month_before               0.875429               0.858221   \n",
       "Value_4_month_before               0.857934               0.875795   \n",
       "Value_5_month_before               0.798222               0.858369   \n",
       "Value_6_month_before               0.784448               0.798755   \n",
       "Value_7_month_before               0.842739               0.784988   \n",
       "Value_8_month_before               0.931011               0.843347   \n",
       "Value_9_month_before               1.000000               0.931604   \n",
       "Value_10_month_before              0.931604               1.000000   \n",
       "Value_11_month_before              0.844342               0.931876   \n",
       "Value_12_month_before              0.787788               0.844941   \n",
       "Value_diff                        -0.107009              -0.100611   \n",
       "\n",
       "                       Value_11_month_before  Value_12_month_before  \\\n",
       "Value                               0.924808               0.986991   \n",
       "Value_1_month_before                0.839415               0.925275   \n",
       "Value_2_month_before                0.781668               0.840543   \n",
       "Value_3_month_before                0.797929               0.782949   \n",
       "Value_4_month_before                0.858709               0.798367   \n",
       "Value_5_month_before                0.876394               0.858286   \n",
       "Value_6_month_before                0.859089               0.876048   \n",
       "Value_7_month_before                0.799416               0.859080   \n",
       "Value_8_month_before                0.785892               0.800281   \n",
       "Value_9_month_before                0.844342               0.787788   \n",
       "Value_10_month_before               0.931876               0.844941   \n",
       "Value_11_month_before               1.000000               0.932555   \n",
       "Value_12_month_before               0.932555               1.000000   \n",
       "Value_diff                         -0.117006              -0.154365   \n",
       "\n",
       "                       Value_diff  \n",
       "Value                    0.006492  \n",
       "Value_1_month_before    -0.046402  \n",
       "Value_2_month_before    -0.078309  \n",
       "Value_3_month_before    -0.084600  \n",
       "Value_4_month_before    -0.089847  \n",
       "Value_5_month_before    -0.083162  \n",
       "Value_6_month_before    -0.078619  \n",
       "Value_7_month_before    -0.081670  \n",
       "Value_8_month_before    -0.092782  \n",
       "Value_9_month_before    -0.107009  \n",
       "Value_10_month_before   -0.100611  \n",
       "Value_11_month_before   -0.117006  \n",
       "Value_12_month_before   -0.154365  \n",
       "Value_diff               1.000000  "
      ]
     },
     "execution_count": 39,
     "metadata": {},
     "output_type": "execute_result"
    }
   ],
   "source": [
    "train_df.iloc[12:][value_columns].corr()"
   ]
  },
  {
   "cell_type": "code",
   "execution_count": 40,
   "id": "87b9248c-b28c-43a9-9a0d-9d9168f9ac58",
   "metadata": {},
   "outputs": [
    {
     "data": {
      "image/png": "[encoded data removed]",
      "text/plain": [
       "<Figure size 432x288 with 1 Axes>"
      ]
     },
     "metadata": {
      "needs_background": "light"
     },
     "output_type": "display_data"
    }
   ],
   "source": [
    "sns.lineplot(x=\"YYYYMM\", y=\"Value_diff\", data=train_df);"
   ]
  },
  {
   "cell_type": "code",
   "execution_count": 41,
   "id": "3253fd29-dadb-468e-81c7-6479e087d52f",
   "metadata": {},
   "outputs": [
    {
     "data": {
      "text/plain": [
       "LinearRegression()"
      ]
     },
     "execution_count": 41,
     "metadata": {},
     "output_type": "execute_result"
    }
   ],
   "source": [
    "model = LinearRegression()\n",
    "model.fit(train_df.iloc[12:][[\"month_number\"]], train_df.iloc[12:][\"Value_diff\"])"
   ]
  },
  {
   "cell_type": "code",
   "execution_count": 42,
   "id": "053c746c-8333-4162-9e06-a77e1d77ada0",
   "metadata": {},
   "outputs": [],
   "source": [
    "prediction_train = model.predict(train_df[[\"month_number\"]].iloc[12:])\n",
    "prediction_test = model.predict(test_df[[\"month_number\"]])"
   ]
  },
  {
   "cell_type": "code",
   "execution_count": 43,
   "id": "e653a4b6-34cb-410a-9c30-6b8203441a46",
   "metadata": {},
   "outputs": [
    {
     "data": {
      "image/png": "[encoded data removed]",
      "text/plain": [
       "<Figure size 432x288 with 1 Axes>"
      ]
     },
     "metadata": {
      "needs_background": "light"
     },
     "output_type": "display_data"
    }
   ],
   "source": [
    "sns.lineplot(x=\"YYYYMM\", y=\"Value_diff\", data=train_df.iloc[12:]);\n",
    "sns.lineplot(x=train_df[\"YYYYMM\"].iloc[12:], y=prediction_train);"
   ]
  },
  {
   "cell_type": "code",
   "execution_count": 44,
   "id": "6be6a14c-8e4f-4fda-b669-b1faf0795bcb",
   "metadata": {},
   "outputs": [],
   "source": [
    "prediction_train_total = (\n",
    "    prediction_train + \n",
    "    train_df[\"Value\"].iloc[:-12]\n",
    ")"
   ]
  },
  {
   "cell_type": "code",
   "execution_count": 45,
   "id": "3f946cfa-c011-4130-b6a3-fa491fc494af",
   "metadata": {},
   "outputs": [
    {
     "data": {
      "image/png": "[encoded data removed]",
      "text/plain": [
       "<Figure size 432x288 with 1 Axes>"
      ]
     },
     "metadata": {
      "needs_background": "light"
     },
     "output_type": "display_data"
    }
   ],
   "source": [
    "sns.lineplot(x=train_df[\"YYYYMM\"].iloc[12:], y=prediction_train_total);\n",
    "sns.lineplot(x=\"YYYYMM\", y=\"Value\", data=train_df.iloc[12:]);"
   ]
  },
  {
   "cell_type": "code",
   "execution_count": 46,
   "id": "d7ca2214-8de0-443c-893b-f57dd0a0b0f4",
   "metadata": {},
   "outputs": [
    {
     "data": {
      "text/plain": [
       "104.10679045339914"
      ]
     },
     "execution_count": 46,
     "metadata": {},
     "output_type": "execute_result"
    }
   ],
   "source": [
    "mean_squared_error(train_df[\"Value\"].iloc[12:], prediction_train_total)"
   ]
  },
  {
   "cell_type": "code",
   "execution_count": 47,
   "id": "9fd6cbcc-a546-4716-abe4-96eadf186d28",
   "metadata": {},
   "outputs": [
    {
     "data": {
      "text/plain": [
       "7.731972086495701"
      ]
     },
     "execution_count": 47,
     "metadata": {},
     "output_type": "execute_result"
    }
   ],
   "source": [
    "mean_absolute_error(train_df[\"Value\"].iloc[12:], prediction_train_total)"
   ]
  },
  {
   "cell_type": "code",
   "execution_count": 48,
   "id": "c065abe8-d503-4d44-90c5-d75692364285",
   "metadata": {},
   "outputs": [
    {
     "data": {
      "text/plain": [
       "(78,)"
      ]
     },
     "execution_count": 48,
     "metadata": {},
     "output_type": "execute_result"
    }
   ],
   "source": [
    "prediction_test.shape"
   ]
  },
  {
   "cell_type": "code",
   "execution_count": 50,
   "id": "17b43e2e-8740-494c-8c71-3196eb74f5f2",
   "metadata": {},
   "outputs": [
    {
     "data": {
      "text/plain": [
       "array([2.26690185, 2.2589781 , 2.25105436, 2.24313061, 2.23520686,\n",
       "       2.22728311, 2.21935936, 2.21143562, 2.20351187, 2.19558812,\n",
       "       2.18766437, 2.17974063, 2.17181688, 2.16389313, 2.15596938,\n",
       "       2.14804563, 2.14012189, 2.13219814, 2.12427439, 2.11635064,\n",
       "       2.10842689, 2.10050315, 2.0925794 , 2.08465565, 2.0767319 ,\n",
       "       2.06880816, 2.06088441, 2.05296066, 2.04503691, 2.03711316,\n",
       "       2.02918942, 2.02126567, 2.01334192, 2.00541817, 1.99749443,\n",
       "       1.98957068, 1.98164693, 1.97372318, 1.96579943, 1.95787569,\n",
       "       1.94995194, 1.94202819, 1.93410444, 1.92618069, 1.91825695,\n",
       "       1.9103332 , 1.90240945, 1.8944857 , 1.88656196, 1.87863821,\n",
       "       1.87071446, 1.86279071, 1.85486696, 1.84694322, 1.83901947,\n",
       "       1.83109572, 1.82317197, 1.81524822, 1.80732448, 1.79940073,\n",
       "       1.79147698, 1.78355323, 1.77562949, 1.76770574, 1.75978199,\n",
       "       1.75185824, 1.74393449, 1.73601075, 1.728087  , 1.72016325,\n",
       "       1.7122395 , 1.70431576, 1.69639201, 1.68846826, 1.68054451,\n",
       "       1.67262076, 1.66469702, 1.65677327, 0.        , 0.        ,\n",
       "       0.        , 0.        , 0.        , 0.        ])"
      ]
     },
     "execution_count": 50,
     "metadata": {},
     "output_type": "execute_result"
    }
   ],
   "source": [
    "prediction_test_padded"
   ]
  },
  {
   "cell_type": "code",
   "execution_count": 63,
   "id": "053e7063-b485-4d56-9c2e-b59359e17a13",
   "metadata": {},
   "outputs": [],
   "source": [
    "to_pad = (12 - prediction_test.shape[0] % 12)\n",
    "\n",
    "\n",
    "prediction_test_padded = np.append(prediction_test, np.zeros(to_pad))\n",
    "\n",
    "prediction_test_total_padded = (\n",
    "    prediction_test_padded.reshape(-1, 12).cumsum(0) + \n",
    "    train_df[\"Value\"].iloc[-12:].values.reshape(1, -1)\n",
    ").flatten()"
   ]
  },
  {
   "cell_type": "code",
   "execution_count": 64,
   "id": "0c04c3b4-fc1d-459d-805b-69b7f6e45fd0",
   "metadata": {},
   "outputs": [],
   "source": [
    "prediction_test_total = prediction_test_total_padded[:-to_pad]"
   ]
  },
  {
   "cell_type": "code",
   "execution_count": 65,
   "id": "1f52e52b-361f-4b08-be0d-dce84ac03b0a",
   "metadata": {},
   "outputs": [
    {
     "data": {
      "image/png": "[encoded data removed]",
      "text/plain": [
       "<Figure size 432x288 with 1 Axes>"
      ]
     },
     "metadata": {
      "needs_background": "light"
     },
     "output_type": "display_data"
    }
   ],
   "source": [
    "sns.lineplot(x=\"YYYYMM\", y=\"Value\", data=test_df);\n",
    "sns.lineplot(x=test_df[\"YYYYMM\"], y=prediction_test_total);"
   ]
  },
  {
   "cell_type": "code",
   "execution_count": 66,
   "id": "deca8e41-1d5e-4344-a6b3-753780e35bd5",
   "metadata": {},
   "outputs": [
    {
     "data": {
      "text/plain": [
       "330.0379670022676"
      ]
     },
     "execution_count": 66,
     "metadata": {},
     "output_type": "execute_result"
    }
   ],
   "source": [
    "mean_squared_error(test_df[\"Value\"], prediction_test_total)"
   ]
  },
  {
   "cell_type": "code",
   "execution_count": 67,
   "id": "e2d4f996-4949-442e-af33-28607b149f90",
   "metadata": {},
   "outputs": [
    {
     "data": {
      "text/plain": [
       "14.678326718236134"
      ]
     },
     "execution_count": 67,
     "metadata": {},
     "output_type": "execute_result"
    }
   ],
   "source": [
    "mean_absolute_error(test_df[\"Value\"], prediction_test_total)"
   ]
  },
  {
   "cell_type": "code",
   "execution_count": null,
   "id": "fbfe05d5-be33-403e-a842-0f993e7807fc",
   "metadata": {},
   "outputs": [],
   "source": []
  }
 ],
 "metadata": {
  "kernelspec": {
   "display_name": "Python 3 (ipykernel)",
   "language": "python",
   "name": "python3"
  },
  "language_info": {
   "codemirror_mode": {
    "name": "ipython",
    "version": 3
   },
   "file_extension": ".py",
   "mimetype": "text/x-python",
   "name": "python",
   "nbconvert_exporter": "python",
   "pygments_lexer": "ipython3",
   "version": "3.8.0"
  }
 },
 "nbformat": 4,
 "nbformat_minor": 5
}
