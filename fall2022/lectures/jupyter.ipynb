{
 "cells": [
  {
   "cell_type": "markdown",
   "source": [
    "# Старт проекта\r\n",
    "\r\n",
    "Всегда начинайте проект с нового окружения, для Windows я рекомендую использовать Miniconda - https://repo.anaconda.com/miniconda/Miniconda3-latest-Windows-x86_64.exe\r\n",
    "\r\n",
    "Создаем проект с помощью <code>conda create -n mlisuct python==3.8</code>\r\n",
    "\r\n",
    "Устанавливаем в окружение jupyterlab\r\n",
    "\r\n",
    "<code>\r\n",
    "conda activate mlisuct\r\n",
    "\r\n",
    "conda install jupyterlab\r\n",
    "</code>"
   ],
   "metadata": {}
  },
  {
   "cell_type": "markdown",
   "source": [
    "# Notebook modes\r\n",
    "\r\n",
    "1. In cell - курсор находится в ячейке, активируется по клавише \"Enter\", если курсор вне ячейки\r\n",
    "2. Out of cell - курсор вне ячейки, актвируется по \"Esc\", если курсор в ячейке"
   ],
   "metadata": {}
  },
  {
   "cell_type": "markdown",
   "source": [
    "## Out of cell\r\n",
    "- A - добавить ячейку сверху\r\n",
    "- B - добавить ячейку снизу\r\n",
    "- X - вырезать ячейку\r\n",
    "- V - вставить ячейку\r\n",
    "- M - тип ячейки текст\r\n",
    "- Y - тип ячейки код\r\n",
    "- Z - отмена последнего действия с ячейками\r\n",
    "- Shift + Z - возвращение последнего действия с ячейками"
   ],
   "metadata": {}
  },
  {
   "cell_type": "code",
   "execution_count": 1,
   "source": [
    "# In cell\r\n",
    "a = 1\r\n",
    "b = 2\r\n",
    "c = a + b\r\n",
    "c"
   ],
   "outputs": [
    {
     "output_type": "execute_result",
     "data": {
      "text/plain": [
       "3"
      ]
     },
     "metadata": {},
     "execution_count": 1
    }
   ],
   "metadata": {}
  },
  {
   "cell_type": "code",
   "execution_count": 2,
   "source": [
    "# Переменные сохраняются в разных ячейках\r\n",
    "a, b, c"
   ],
   "outputs": [
    {
     "output_type": "execute_result",
     "data": {
      "text/plain": [
       "(1, 2, 3)"
      ]
     },
     "metadata": {},
     "execution_count": 2
    }
   ],
   "metadata": {}
  },
  {
   "cell_type": "code",
   "execution_count": 3,
   "source": [
    "def f(n):\r\n",
    "    if n < 2:\r\n",
    "        return n\r\n",
    "    else:\r\n",
    "        return f(n - 2) + f(n - 1)"
   ],
   "outputs": [],
   "metadata": {}
  },
  {
   "cell_type": "code",
   "execution_count": 4,
   "source": [
    "%%time\r\n",
    "# Замерить время исполнения кода одноразово\r\n",
    "f(30)"
   ],
   "outputs": [
    {
     "output_type": "stream",
     "name": "stdout",
     "text": [
      "Wall time: 434 ms\n"
     ]
    },
    {
     "output_type": "execute_result",
     "data": {
      "text/plain": [
       "832040"
      ]
     },
     "metadata": {},
     "execution_count": 4
    }
   ],
   "metadata": {}
  },
  {
   "cell_type": "code",
   "execution_count": 5,
   "source": [
    "%%timeit\r\n",
    "# Замерить среднее время исполнения кода\r\n",
    "f(30)"
   ],
   "outputs": [
    {
     "output_type": "stream",
     "name": "stdout",
     "text": [
      "644 ms ± 110 ms per loop (mean ± std. dev. of 7 runs, 1 loop each)\n"
     ]
    }
   ],
   "metadata": {}
  },
  {
   "cell_type": "code",
   "execution_count": 6,
   "source": [
    "%%debug\r\n",
    "a = []\r\n",
    "for i in range(10):\r\n",
    "    a.append(i ** 2)"
   ],
   "outputs": [
    {
     "output_type": "stream",
     "name": "stdout",
     "text": [
      "NOTE: Enter 'c' at the ipdb>  prompt to continue execution.\n",
      "> \u001b[1;32m<string>\u001b[0m(2)\u001b[0;36m<module>\u001b[1;34m()\u001b[0m\n",
      "\n",
      "*** NameError: name 'с' is not defined\n",
      "*** NameError: name 'с' is not defined\n"
     ]
    }
   ],
   "metadata": {}
  },
  {
   "cell_type": "code",
   "execution_count": 7,
   "source": [
    "from collections import Counter"
   ],
   "outputs": [],
   "metadata": {}
  },
  {
   "cell_type": "code",
   "execution_count": 8,
   "source": [
    "# вывести docstring\r\n",
    "Counter?"
   ],
   "outputs": [
    {
     "output_type": "stream",
     "name": "stdout",
     "text": [
      "\u001b[1;31mInit signature:\u001b[0m \u001b[0mCounter\u001b[0m\u001b[1;33m(\u001b[0m\u001b[0miterable\u001b[0m\u001b[1;33m=\u001b[0m\u001b[1;32mNone\u001b[0m\u001b[1;33m,\u001b[0m \u001b[1;33m/\u001b[0m\u001b[1;33m,\u001b[0m \u001b[1;33m**\u001b[0m\u001b[0mkwds\u001b[0m\u001b[1;33m)\u001b[0m\u001b[1;33m\u001b[0m\u001b[1;33m\u001b[0m\u001b[0m\n",
      "\u001b[1;31mDocstring:\u001b[0m     \n",
      "Dict subclass for counting hashable items.  Sometimes called a bag\n",
      "or multiset.  Elements are stored as dictionary keys and their counts\n",
      "are stored as dictionary values.\n",
      "\n",
      ">>> c = Counter('abcdeabcdabcaba')  # count elements from a string\n",
      "\n",
      ">>> c.most_common(3)                # three most common elements\n",
      "[('a', 5), ('b', 4), ('c', 3)]\n",
      ">>> sorted(c)                       # list all unique elements\n",
      "['a', 'b', 'c', 'd', 'e']\n",
      ">>> ''.join(sorted(c.elements()))   # list elements with repetitions\n",
      "'aaaaabbbbcccdde'\n",
      ">>> sum(c.values())                 # total of all counts\n",
      "15\n",
      "\n",
      ">>> c['a']                          # count of letter 'a'\n",
      "5\n",
      ">>> for elem in 'shazam':           # update counts from an iterable\n",
      "...     c[elem] += 1                # by adding 1 to each element's count\n",
      ">>> c['a']                          # now there are seven 'a'\n",
      "7\n",
      ">>> del c['b']                      # remove all 'b'\n",
      ">>> c['b']                          # now there are zero 'b'\n",
      "0\n",
      "\n",
      ">>> d = Counter('simsalabim')       # make another counter\n",
      ">>> c.update(d)                     # add in the second counter\n",
      ">>> c['a']                          # now there are nine 'a'\n",
      "9\n",
      "\n",
      ">>> c.clear()                       # empty the counter\n",
      ">>> c\n",
      "Counter()\n",
      "\n",
      "Note:  If a count is set to zero or reduced to zero, it will remain\n",
      "in the counter until the entry is deleted or the counter is cleared:\n",
      "\n",
      ">>> c = Counter('aaabbc')\n",
      ">>> c['b'] -= 2                     # reduce the count of 'b' by two\n",
      ">>> c.most_common()                 # 'b' is still in, but its count is zero\n",
      "[('a', 3), ('c', 1), ('b', 0)]\n",
      "\u001b[1;31mInit docstring:\u001b[0m\n",
      "Create a new, empty Counter object.  And if given, count elements\n",
      "from an input iterable.  Or, initialize the count from another mapping\n",
      "of elements to their counts.\n",
      "\n",
      ">>> c = Counter()                           # a new, empty counter\n",
      ">>> c = Counter('gallahad')                 # a new counter from an iterable\n",
      ">>> c = Counter({'a': 4, 'b': 2})           # a new counter from a mapping\n",
      ">>> c = Counter(a=4, b=2)                   # a new counter from keyword args\n",
      "\u001b[1;31mFile:\u001b[0m           c:\\users\\anton.nesterenko\\miniconda3\\envs\\mlisuct\\lib\\collections\\__init__.py\n",
      "\u001b[1;31mType:\u001b[0m           type\n",
      "\u001b[1;31mSubclasses:\u001b[0m     \n"
     ]
    }
   ],
   "metadata": {}
  },
  {
   "cell_type": "code",
   "execution_count": 9,
   "source": [
    "# Обращение к терминалу\r\n",
    "!where python"
   ],
   "outputs": [
    {
     "output_type": "stream",
     "name": "stdout",
     "text": [
      "C:\\Users\\anton.nesterenko\\Miniconda3\\envs\\mlisuct\\python.exe\n",
      "C:\\Python36\\python.exe\n"
     ]
    }
   ],
   "metadata": {}
  },
  {
   "cell_type": "markdown",
   "source": [
    "- VSCode jupyter docs - https://code.visualstudio.com/docs/datascience/jupyter-notebooks\r\n",
    "- Jupyterlab docs - https://jupyterlab.readthedocs.io/en/latest/"
   ],
   "metadata": {}
  }
 ],
 "metadata": {
  "orig_nbformat": 4,
  "language_info": {
   "name": "python",
   "version": "3.8.0",
   "mimetype": "text/x-python",
   "codemirror_mode": {
    "name": "ipython",
    "version": 3
   },
   "pygments_lexer": "ipython3",
   "nbconvert_exporter": "python",
   "file_extension": ".py"
  },
  "kernelspec": {
   "name": "python3",
   "display_name": "Python 3.8.0 64-bit ('mlisuct': conda)"
  },
  "interpreter": {
   "hash": "c2f59a19f275b4730297ae82f69de846c181cbb4f157f83a66e1ed41889c0a5c"
  }
 },
 "nbformat": 4,
 "nbformat_minor": 2
}