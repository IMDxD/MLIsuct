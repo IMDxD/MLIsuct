{
 "cells": [
  {
   "cell_type": "code",
   "execution_count": 1,
   "metadata": {},
   "outputs": [],
   "source": [
    "import numpy as np\n",
    "import pandas as pd\n",
    "import matplotlib as mlp\n",
    "import matplotlib.pyplot as plt\n",
    "import seaborn as sns\n",
    "from sklearn.preprocessing import LabelEncoder, OneHotEncoder, StandardScaler, MinMaxScaler\n",
    "from sklearn.metrics import accuracy_score, log_loss, roc_auc_score, f1_score, confusion_matrix\n",
    "from sklearn.metrics import mean_squared_error, mean_absolute_error, r2_score, mean_squared_log_error\n",
    "from sklearn.feature_extraction.text import CountVectorizer, TfidfVectorizer\n",
    "from sklearn.model_selection import cross_val_predict, KFold\n",
    "from sklearn.base import BaseEstimator, TransformerMixin\n",
    "from sklearn.pipeline import make_pipeline, Pipeline, FeatureUnion\n",
    "from sklearn.tree import DecisionTreeClassifier, DecisionTreeRegressor\n",
    "from sklearn.neighbors import KNeighborsClassifier, KNeighborsRegressor\n",
    "from sklearn.compose import ColumnTransformer\n",
    "%matplotlib inline"
   ]
  },
  {
   "cell_type": "code",
   "execution_count": 2,
   "metadata": {},
   "outputs": [],
   "source": [
    "df = pd.read_csv('data/thecure_discography.csv')"
   ]
  },
  {
   "cell_type": "code",
   "execution_count": 3,
   "metadata": {},
   "outputs": [],
   "source": [
    "df.drop(['album_uri', 'album_img', 'track_uri'], axis=1, inplace=True)"
   ]
  },
  {
   "cell_type": "code",
   "execution_count": 4,
   "metadata": {},
   "outputs": [
    {
     "data": {
      "text/html": [
       "<div>\n",
       "<style scoped>\n",
       "    .dataframe tbody tr th:only-of-type {\n",
       "        vertical-align: middle;\n",
       "    }\n",
       "\n",
       "    .dataframe tbody tr th {\n",
       "        vertical-align: top;\n",
       "    }\n",
       "\n",
       "    .dataframe thead th {\n",
       "        text-align: right;\n",
       "    }\n",
       "</style>\n",
       "<table border=\"1\" class=\"dataframe\">\n",
       "  <thead>\n",
       "    <tr style=\"text-align: right;\">\n",
       "      <th></th>\n",
       "      <th>album_name</th>\n",
       "      <th>album_release_date</th>\n",
       "      <th>album_release_year</th>\n",
       "      <th>album_popularity</th>\n",
       "      <th>track_name</th>\n",
       "      <th>danceability</th>\n",
       "      <th>energy</th>\n",
       "      <th>key</th>\n",
       "      <th>loudness</th>\n",
       "      <th>mode</th>\n",
       "      <th>speechiness</th>\n",
       "      <th>acousticness</th>\n",
       "      <th>instrumentalness</th>\n",
       "      <th>liveness</th>\n",
       "      <th>valence</th>\n",
       "      <th>tempo</th>\n",
       "      <th>duration_ms</th>\n",
       "      <th>time_signature</th>\n",
       "      <th>key_mode</th>\n",
       "      <th>track_popularity</th>\n",
       "    </tr>\n",
       "  </thead>\n",
       "  <tbody>\n",
       "    <tr>\n",
       "      <th>0</th>\n",
       "      <td>Pornography</td>\n",
       "      <td>1982-05-03</td>\n",
       "      <td>1982-05-03</td>\n",
       "      <td>34</td>\n",
       "      <td>One Hundred Years - Remastered Version</td>\n",
       "      <td>0.436</td>\n",
       "      <td>0.881</td>\n",
       "      <td>G</td>\n",
       "      <td>-5.998</td>\n",
       "      <td>major</td>\n",
       "      <td>0.0439</td>\n",
       "      <td>0.001230</td>\n",
       "      <td>0.509</td>\n",
       "      <td>0.1080</td>\n",
       "      <td>0.262</td>\n",
       "      <td>132.590</td>\n",
       "      <td>401000</td>\n",
       "      <td>4</td>\n",
       "      <td>G major</td>\n",
       "      <td>33</td>\n",
       "    </tr>\n",
       "    <tr>\n",
       "      <th>1</th>\n",
       "      <td>Pornography</td>\n",
       "      <td>1982-05-03</td>\n",
       "      <td>1982-05-03</td>\n",
       "      <td>34</td>\n",
       "      <td>A Short Term Effect - Remastered Version</td>\n",
       "      <td>0.516</td>\n",
       "      <td>0.836</td>\n",
       "      <td>C</td>\n",
       "      <td>-5.872</td>\n",
       "      <td>major</td>\n",
       "      <td>0.0319</td>\n",
       "      <td>0.001710</td>\n",
       "      <td>0.165</td>\n",
       "      <td>0.1360</td>\n",
       "      <td>0.649</td>\n",
       "      <td>116.566</td>\n",
       "      <td>262493</td>\n",
       "      <td>4</td>\n",
       "      <td>C major</td>\n",
       "      <td>28</td>\n",
       "    </tr>\n",
       "    <tr>\n",
       "      <th>2</th>\n",
       "      <td>Pornography</td>\n",
       "      <td>1982-05-03</td>\n",
       "      <td>1982-05-03</td>\n",
       "      <td>34</td>\n",
       "      <td>The Hanging Garden - Remastered Version</td>\n",
       "      <td>0.420</td>\n",
       "      <td>0.889</td>\n",
       "      <td>C</td>\n",
       "      <td>-5.860</td>\n",
       "      <td>major</td>\n",
       "      <td>0.0393</td>\n",
       "      <td>0.004020</td>\n",
       "      <td>0.488</td>\n",
       "      <td>0.0795</td>\n",
       "      <td>0.634</td>\n",
       "      <td>135.421</td>\n",
       "      <td>274240</td>\n",
       "      <td>4</td>\n",
       "      <td>C major</td>\n",
       "      <td>35</td>\n",
       "    </tr>\n",
       "    <tr>\n",
       "      <th>3</th>\n",
       "      <td>Pornography</td>\n",
       "      <td>1982-05-03</td>\n",
       "      <td>1982-05-03</td>\n",
       "      <td>34</td>\n",
       "      <td>Siamese Twins - Remastered Version</td>\n",
       "      <td>0.772</td>\n",
       "      <td>0.523</td>\n",
       "      <td>D</td>\n",
       "      <td>-9.788</td>\n",
       "      <td>major</td>\n",
       "      <td>0.0364</td>\n",
       "      <td>0.000298</td>\n",
       "      <td>0.795</td>\n",
       "      <td>0.2820</td>\n",
       "      <td>0.752</td>\n",
       "      <td>94.194</td>\n",
       "      <td>328360</td>\n",
       "      <td>4</td>\n",
       "      <td>D major</td>\n",
       "      <td>34</td>\n",
       "    </tr>\n",
       "    <tr>\n",
       "      <th>4</th>\n",
       "      <td>Pornography</td>\n",
       "      <td>1982-05-03</td>\n",
       "      <td>1982-05-03</td>\n",
       "      <td>34</td>\n",
       "      <td>The Figurehead - Remastered Version</td>\n",
       "      <td>0.655</td>\n",
       "      <td>0.842</td>\n",
       "      <td>A#</td>\n",
       "      <td>-5.349</td>\n",
       "      <td>minor</td>\n",
       "      <td>0.0264</td>\n",
       "      <td>0.001250</td>\n",
       "      <td>0.642</td>\n",
       "      <td>0.1100</td>\n",
       "      <td>0.727</td>\n",
       "      <td>110.370</td>\n",
       "      <td>375173</td>\n",
       "      <td>4</td>\n",
       "      <td>A# minor</td>\n",
       "      <td>28</td>\n",
       "    </tr>\n",
       "  </tbody>\n",
       "</table>\n",
       "</div>"
      ],
      "text/plain": [
       "    album_name album_release_date album_release_year  album_popularity  \\\n",
       "0  Pornography         1982-05-03         1982-05-03                34   \n",
       "1  Pornography         1982-05-03         1982-05-03                34   \n",
       "2  Pornography         1982-05-03         1982-05-03                34   \n",
       "3  Pornography         1982-05-03         1982-05-03                34   \n",
       "4  Pornography         1982-05-03         1982-05-03                34   \n",
       "\n",
       "                                 track_name  danceability  energy key  \\\n",
       "0    One Hundred Years - Remastered Version         0.436   0.881   G   \n",
       "1  A Short Term Effect - Remastered Version         0.516   0.836   C   \n",
       "2   The Hanging Garden - Remastered Version         0.420   0.889   C   \n",
       "3        Siamese Twins - Remastered Version         0.772   0.523   D   \n",
       "4       The Figurehead - Remastered Version         0.655   0.842  A#   \n",
       "\n",
       "   loudness   mode  speechiness  acousticness  instrumentalness  liveness  \\\n",
       "0    -5.998  major       0.0439      0.001230             0.509    0.1080   \n",
       "1    -5.872  major       0.0319      0.001710             0.165    0.1360   \n",
       "2    -5.860  major       0.0393      0.004020             0.488    0.0795   \n",
       "3    -9.788  major       0.0364      0.000298             0.795    0.2820   \n",
       "4    -5.349  minor       0.0264      0.001250             0.642    0.1100   \n",
       "\n",
       "   valence    tempo  duration_ms  time_signature  key_mode  track_popularity  \n",
       "0    0.262  132.590       401000               4   G major                33  \n",
       "1    0.649  116.566       262493               4   C major                28  \n",
       "2    0.634  135.421       274240               4   C major                35  \n",
       "3    0.752   94.194       328360               4   D major                34  \n",
       "4    0.727  110.370       375173               4  A# minor                28  "
      ]
     },
     "execution_count": 4,
     "metadata": {},
     "output_type": "execute_result"
    }
   ],
   "source": [
    "df.head()"
   ]
  },
  {
   "cell_type": "code",
   "execution_count": 5,
   "metadata": {},
   "outputs": [],
   "source": [
    "df['album_release_year'] = pd.to_datetime(df['album_release_date'], format=\"%Y-%m-%d\")"
   ]
  },
  {
   "cell_type": "code",
   "execution_count": 6,
   "metadata": {},
   "outputs": [],
   "source": [
    "df['album_release_year'] = df['album_release_year'].dt.year"
   ]
  },
  {
   "cell_type": "code",
   "execution_count": 7,
   "metadata": {},
   "outputs": [],
   "source": [
    "df.drop(['album_release_date', 'album_release_year', 'key_mode'], axis=1, inplace=True)"
   ]
  },
  {
   "cell_type": "code",
   "execution_count": 8,
   "metadata": {},
   "outputs": [],
   "source": [
    "df['mode'] = df['mode'].map({'minor': 0, 'major': 1})"
   ]
  },
  {
   "cell_type": "code",
   "execution_count": 9,
   "metadata": {
    "scrolled": true
   },
   "outputs": [
    {
     "name": "stdout",
     "output_type": "stream",
     "text": [
      "<class 'pandas.core.frame.DataFrame'>\n",
      "RangeIndex: 223 entries, 0 to 222\n",
      "Data columns (total 17 columns):\n",
      " #   Column            Non-Null Count  Dtype  \n",
      "---  ------            --------------  -----  \n",
      " 0   album_name        223 non-null    object \n",
      " 1   album_popularity  223 non-null    int64  \n",
      " 2   track_name        223 non-null    object \n",
      " 3   danceability      223 non-null    float64\n",
      " 4   energy            223 non-null    float64\n",
      " 5   key               223 non-null    object \n",
      " 6   loudness          223 non-null    float64\n",
      " 7   mode              223 non-null    int64  \n",
      " 8   speechiness       223 non-null    float64\n",
      " 9   acousticness      223 non-null    float64\n",
      " 10  instrumentalness  223 non-null    float64\n",
      " 11  liveness          223 non-null    float64\n",
      " 12  valence           223 non-null    float64\n",
      " 13  tempo             223 non-null    float64\n",
      " 14  duration_ms       223 non-null    int64  \n",
      " 15  time_signature    223 non-null    int64  \n",
      " 16  track_popularity  223 non-null    int64  \n",
      "dtypes: float64(9), int64(5), object(3)\n",
      "memory usage: 29.7+ KB\n"
     ]
    }
   ],
   "source": [
    "df.info()"
   ]
  },
  {
   "cell_type": "markdown",
   "metadata": {},
   "source": [
    "# Encoding"
   ]
  },
  {
   "cell_type": "markdown",
   "metadata": {},
   "source": [
    "Кодиррование категориальных переменных - важная часть будущей предикативной модели, для различных моделей хороши различные виды кодирования. Кодирование необходимо поскольку модели (в основном) умееют работать только с числовыми признаками\n",
    "Основные виды кодирования категориальных признаков\n",
    "\n",
    "\n",
    "- Label encoding\n",
    "- One hot encoding\n",
    "- Mean encoding"
   ]
  },
  {
   "cell_type": "markdown",
   "metadata": {},
   "source": [
    "## Label encoding"
   ]
  },
  {
   "cell_type": "markdown",
   "metadata": {},
   "source": [
    "При label encoding каждой категории в соответствие ставится свое число, данные числа равномерно упорядочены\n",
    "<b>Плюсы</b>\n",
    "\n",
    "- Сохраняет размерность данных\n",
    "- Простота реализации\n",
    "- Возможность задать порядок ординальных переменных\n",
    "\n",
    "<b>Минусы</b>\n",
    "\n",
    "- При использовании на категориальных признаках (не ординальных) вносит в данные не существующий порядок\n",
    "- Расстояние между значениями категорий одинаково (не масшатбируется)\n",
    "\n",
    "<b>Применение</b>\n",
    "\n",
    "- Данное кодирование имеет смысл только в логических моделях (на основе деревьев решений), но часто другие виды кодирования показывают лучшие результаты"
   ]
  },
  {
   "cell_type": "code",
   "execution_count": 10,
   "metadata": {},
   "outputs": [],
   "source": [
    "encoder = LabelEncoder()"
   ]
  },
  {
   "cell_type": "code",
   "execution_count": 11,
   "metadata": {},
   "outputs": [
    {
     "data": {
      "text/plain": [
       "LabelEncoder()"
      ]
     },
     "execution_count": 11,
     "metadata": {},
     "output_type": "execute_result"
    }
   ],
   "source": [
    "encoder.fit(df['album_name'])"
   ]
  },
  {
   "cell_type": "code",
   "execution_count": 12,
   "metadata": {
    "tags": []
   },
   "outputs": [
    {
     "data": {
      "text/plain": [
       "array(['Pornography', 'Pornography', 'Pornography', 'Pornography',\n",
       "       'Pornography', 'Pornography', 'Pornography', 'Pornography',\n",
       "       'The Top', 'The Top', 'The Top', 'The Top', 'The Top', 'The Top',\n",
       "       'The Top', 'The Top', 'The Top', 'The Top', 'The Top', 'The Top',\n",
       "       'The Top', 'The Top', 'The Top', 'The Top', 'The Top', 'The Top',\n",
       "       'The Top', 'The Top', 'Concert - The Cure Live',\n",
       "       'Concert - The Cure Live', 'Concert - The Cure Live',\n",
       "       'Concert - The Cure Live', 'Concert - The Cure Live',\n",
       "       'Concert - The Cure Live', 'Concert - The Cure Live',\n",
       "       'Concert - The Cure Live', 'Concert - The Cure Live',\n",
       "       'Concert - The Cure Live', 'The Head On The Door',\n",
       "       'The Head On The Door', 'The Head On The Door',\n",
       "       'The Head On The Door', 'The Head On The Door',\n",
       "       'The Head On The Door', 'The Head On The Door',\n",
       "       'The Head On The Door', 'The Head On The Door',\n",
       "       'The Head On The Door', 'Kiss Me Kiss Me Kiss Me',\n",
       "       'Kiss Me Kiss Me Kiss Me', 'Kiss Me Kiss Me Kiss Me',\n",
       "       'Kiss Me Kiss Me Kiss Me', 'Kiss Me Kiss Me Kiss Me',\n",
       "       'Kiss Me Kiss Me Kiss Me', 'Kiss Me Kiss Me Kiss Me',\n",
       "       'Kiss Me Kiss Me Kiss Me', 'Kiss Me Kiss Me Kiss Me',\n",
       "       'Kiss Me Kiss Me Kiss Me', 'Kiss Me Kiss Me Kiss Me',\n",
       "       'Kiss Me Kiss Me Kiss Me', 'Kiss Me Kiss Me Kiss Me',\n",
       "       'Kiss Me Kiss Me Kiss Me', 'Kiss Me Kiss Me Kiss Me',\n",
       "       'Kiss Me Kiss Me Kiss Me', 'Kiss Me Kiss Me Kiss Me',\n",
       "       'Kiss Me Kiss Me Kiss Me', 'Kiss Me Kiss Me Kiss Me',\n",
       "       'Kiss Me Kiss Me Kiss Me',\n",
       "       'Disintegration (Deluxe Edition [Remastered])',\n",
       "       'Disintegration (Deluxe Edition [Remastered])',\n",
       "       'Disintegration (Deluxe Edition [Remastered])',\n",
       "       'Disintegration (Deluxe Edition [Remastered])',\n",
       "       'Disintegration (Deluxe Edition [Remastered])',\n",
       "       'Disintegration (Deluxe Edition [Remastered])',\n",
       "       'Disintegration (Deluxe Edition [Remastered])',\n",
       "       'Disintegration (Deluxe Edition [Remastered])',\n",
       "       'Disintegration (Deluxe Edition [Remastered])',\n",
       "       'Disintegration (Deluxe Edition [Remastered])',\n",
       "       'Disintegration (Deluxe Edition [Remastered])',\n",
       "       'Disintegration (Deluxe Edition [Remastered])',\n",
       "       'Disintegration (Deluxe Edition [Remastered])',\n",
       "       'Disintegration (Deluxe Edition [Remastered])',\n",
       "       'Disintegration (Deluxe Edition [Remastered])',\n",
       "       'Disintegration (Deluxe Edition [Remastered])',\n",
       "       'Disintegration (Deluxe Edition [Remastered])',\n",
       "       'Disintegration (Deluxe Edition [Remastered])',\n",
       "       'Disintegration (Deluxe Edition [Remastered])',\n",
       "       'Disintegration (Deluxe Edition [Remastered])',\n",
       "       'Mixed Up (Remastered 2018 / Deluxe Edition)',\n",
       "       'Mixed Up (Remastered 2018 / Deluxe Edition)',\n",
       "       'Mixed Up (Remastered 2018 / Deluxe Edition)',\n",
       "       'Mixed Up (Remastered 2018 / Deluxe Edition)',\n",
       "       'Mixed Up (Remastered 2018 / Deluxe Edition)',\n",
       "       'Mixed Up (Remastered 2018 / Deluxe Edition)',\n",
       "       'Mixed Up (Remastered 2018 / Deluxe Edition)',\n",
       "       'Mixed Up (Remastered 2018 / Deluxe Edition)',\n",
       "       'Mixed Up (Remastered 2018 / Deluxe Edition)',\n",
       "       'Mixed Up (Remastered 2018 / Deluxe Edition)',\n",
       "       'Mixed Up (Remastered 2018 / Deluxe Edition)',\n",
       "       'Mixed Up (Remastered 2018 / Deluxe Edition)',\n",
       "       'Mixed Up (Remastered 2018 / Deluxe Edition)',\n",
       "       'Mixed Up (Remastered 2018 / Deluxe Edition)',\n",
       "       'Mixed Up (Remastered 2018 / Deluxe Edition)',\n",
       "       'Mixed Up (Remastered 2018 / Deluxe Edition)',\n",
       "       'Mixed Up (Remastered 2018 / Deluxe Edition)',\n",
       "       'Mixed Up (Remastered 2018 / Deluxe Edition)',\n",
       "       'Mixed Up (Remastered 2018 / Deluxe Edition)',\n",
       "       'Mixed Up (Remastered 2018 / Deluxe Edition)', 'Wish', 'Wish',\n",
       "       'Wish', 'Wish', 'Wish', 'Wish', 'Wish', 'Wish', 'Wish', 'Wish',\n",
       "       'Wish', 'Wish', 'Paris', 'Paris', 'Paris', 'Paris', 'Paris',\n",
       "       'Paris', 'Paris', 'Paris', 'Paris', 'Paris', 'Paris', 'Paris',\n",
       "       'Show', 'Show', 'Show', 'Show', 'Show', 'Show', 'Show', 'Show',\n",
       "       'Show', 'Show', 'Show', 'Show', 'Show', 'Show', 'Show', 'Show',\n",
       "       'Show', 'Show', 'Wild Mood Swings', 'Wild Mood Swings',\n",
       "       'Wild Mood Swings', 'Wild Mood Swings', 'Wild Mood Swings',\n",
       "       'Wild Mood Swings', 'Wild Mood Swings', 'Wild Mood Swings',\n",
       "       'Wild Mood Swings', 'Wild Mood Swings', 'Wild Mood Swings',\n",
       "       'Wild Mood Swings', 'Wild Mood Swings', 'Wild Mood Swings',\n",
       "       'Bloodflowers', 'Bloodflowers', 'Bloodflowers', 'Bloodflowers',\n",
       "       'Bloodflowers', 'Bloodflowers', 'Bloodflowers', 'Bloodflowers',\n",
       "       'Bloodflowers', 'The Cure', 'The Cure', 'The Cure', 'The Cure',\n",
       "       'The Cure', 'The Cure', 'The Cure', 'The Cure', 'The Cure',\n",
       "       'The Cure', 'The Cure', 'Hypnagogic States', 'Hypnagogic States',\n",
       "       'Hypnagogic States', 'Hypnagogic States', 'Hypnagogic States',\n",
       "       'Hypnagogic States', '4:13 Dream', '4:13 Dream', '4:13 Dream',\n",
       "       '4:13 Dream', '4:13 Dream', '4:13 Dream', '4:13 Dream',\n",
       "       '4:13 Dream', '4:13 Dream', '4:13 Dream', '4:13 Dream',\n",
       "       '4:13 Dream', '4:13 Dream', 'Bestival Live 2011',\n",
       "       'Bestival Live 2011', 'Bestival Live 2011', 'Bestival Live 2011',\n",
       "       'Bestival Live 2011', 'Bestival Live 2011', 'Bestival Live 2011',\n",
       "       'Bestival Live 2011', 'Bestival Live 2011', 'Bestival Live 2011',\n",
       "       'Bestival Live 2011', 'Bestival Live 2011', 'Bestival Live 2011',\n",
       "       'Bestival Live 2011', 'Bestival Live 2011', 'Bestival Live 2011',\n",
       "       'Bestival Live 2011', 'Bestival Live 2011', 'Bestival Live 2011',\n",
       "       'Bestival Live 2011'], dtype=object)"
      ]
     },
     "execution_count": 12,
     "metadata": {},
     "output_type": "execute_result"
    }
   ],
   "source": [
    "df[\"album_name\"].values"
   ]
  },
  {
   "cell_type": "code",
   "execution_count": 13,
   "metadata": {},
   "outputs": [
    {
     "data": {
      "text/plain": [
       "array([ 9,  9,  9,  9,  9,  9,  9,  9, 13, 13, 13, 13, 13, 13, 13, 13, 13,\n",
       "       13, 13, 13, 13, 13, 13, 13, 13, 13, 13, 13,  3,  3,  3,  3,  3,  3,\n",
       "        3,  3,  3,  3, 12, 12, 12, 12, 12, 12, 12, 12, 12, 12,  6,  6,  6,\n",
       "        6,  6,  6,  6,  6,  6,  6,  6,  6,  6,  6,  6,  6,  6,  6,  6,  6,\n",
       "        4,  4,  4,  4,  4,  4,  4,  4,  4,  4,  4,  4,  4,  4,  4,  4,  4,\n",
       "        4,  4,  4,  7,  7,  7,  7,  7,  7,  7,  7,  7,  7,  7,  7,  7,  7,\n",
       "        7,  7,  7,  7,  7,  7, 15, 15, 15, 15, 15, 15, 15, 15, 15, 15, 15,\n",
       "       15,  8,  8,  8,  8,  8,  8,  8,  8,  8,  8,  8,  8, 10, 10, 10, 10,\n",
       "       10, 10, 10, 10, 10, 10, 10, 10, 10, 10, 10, 10, 10, 10, 14, 14, 14,\n",
       "       14, 14, 14, 14, 14, 14, 14, 14, 14, 14, 14,  2,  2,  2,  2,  2,  2,\n",
       "        2,  2,  2, 11, 11, 11, 11, 11, 11, 11, 11, 11, 11, 11,  5,  5,  5,\n",
       "        5,  5,  5,  0,  0,  0,  0,  0,  0,  0,  0,  0,  0,  0,  0,  0,  1,\n",
       "        1,  1,  1,  1,  1,  1,  1,  1,  1,  1,  1,  1,  1,  1,  1,  1,  1,\n",
       "        1,  1])"
      ]
     },
     "execution_count": 13,
     "metadata": {},
     "output_type": "execute_result"
    }
   ],
   "source": [
    "encoder.transform(df['album_name'])"
   ]
  },
  {
   "cell_type": "code",
   "execution_count": 14,
   "metadata": {},
   "outputs": [
    {
     "data": {
      "text/plain": [
       "array(['4:13 Dream', 'Bestival Live 2011', 'Bloodflowers',\n",
       "       'Concert - The Cure Live',\n",
       "       'Disintegration (Deluxe Edition [Remastered])',\n",
       "       'Hypnagogic States', 'Kiss Me Kiss Me Kiss Me',\n",
       "       'Mixed Up (Remastered 2018 / Deluxe Edition)', 'Paris',\n",
       "       'Pornography', 'Show', 'The Cure', 'The Head On The Door',\n",
       "       'The Top', 'Wild Mood Swings', 'Wish'], dtype=object)"
      ]
     },
     "execution_count": 14,
     "metadata": {},
     "output_type": "execute_result"
    }
   ],
   "source": [
    "encoder.classes_"
   ]
  },
  {
   "cell_type": "markdown",
   "metadata": {},
   "source": [
    "## One Hot Encoding"
   ]
  },
  {
   "cell_type": "markdown",
   "metadata": {},
   "source": [
    "Данный вид кодирования для каждой категории создает новый бинарный признак (1 - Если у строки данная категория,  - иначе), в результате создает разреженный вектор длиной равной количеству категорий, с нулями везде кроме оси текущей категории\n",
    "\n",
    "<b>Плюсы</b>\n",
    "\n",
    "- Не вносит не существуещего порядка в данные\n",
    "- Более логичное разбиение для деревьев решений (эта категория или нет) и веса в линейных моделях\n",
    "- Для метрических моделей расстояние меряется в пространстве да/нет и оно одинаково\n",
    "\n",
    "<b>Минусы</b>\n",
    "\n",
    "- Сильно увеличивается пространство признаков, что приводит либо к бесконечному множеству решений в линейных моделей, либо к очень долгой тренировке логических\n",
    "\n",
    "<b>Примение</b>\n",
    "\n",
    "- Данный вид кодирования применяется во всех моделях, при умеренном количестве категорий в признаке"
   ]
  },
  {
   "cell_type": "code",
   "execution_count": 15,
   "metadata": {},
   "outputs": [],
   "source": [
    "encoder = OneHotEncoder(sparse=False)"
   ]
  },
  {
   "cell_type": "code",
   "execution_count": 16,
   "metadata": {},
   "outputs": [
    {
     "data": {
      "text/plain": [
       "Index(['album_name', 'album_popularity', 'track_name', 'danceability',\n",
       "       'energy', 'key', 'loudness', 'mode', 'speechiness', 'acousticness',\n",
       "       'instrumentalness', 'liveness', 'valence', 'tempo', 'duration_ms',\n",
       "       'time_signature', 'track_popularity'],\n",
       "      dtype='object')"
      ]
     },
     "execution_count": 16,
     "metadata": {},
     "output_type": "execute_result"
    }
   ],
   "source": [
    "df.columns"
   ]
  },
  {
   "cell_type": "code",
   "execution_count": 17,
   "metadata": {},
   "outputs": [
    {
     "data": {
      "text/plain": [
       "OneHotEncoder(sparse=False)"
      ]
     },
     "execution_count": 17,
     "metadata": {},
     "output_type": "execute_result"
    }
   ],
   "source": [
    "encoder.fit(df[['album_name', 'key']])"
   ]
  },
  {
   "cell_type": "code",
   "execution_count": 18,
   "metadata": {},
   "outputs": [
    {
     "data": {
      "text/plain": [
       "array([[0., 0., 0., ..., 0., 1., 0.],\n",
       "       [0., 0., 0., ..., 0., 0., 0.],\n",
       "       [0., 0., 0., ..., 0., 0., 0.],\n",
       "       ...,\n",
       "       [0., 1., 0., ..., 1., 0., 0.],\n",
       "       [0., 1., 0., ..., 0., 0., 0.],\n",
       "       [0., 1., 0., ..., 0., 0., 0.]])"
      ]
     },
     "execution_count": 18,
     "metadata": {},
     "output_type": "execute_result"
    }
   ],
   "source": [
    "encoder.transform(df[['album_name', 'key']])"
   ]
  },
  {
   "cell_type": "code",
   "execution_count": 19,
   "metadata": {},
   "outputs": [
    {
     "data": {
      "text/plain": [
       "array(['x0_4:13 Dream', 'x0_Bestival Live 2011', 'x0_Bloodflowers',\n",
       "       'x0_Concert - The Cure Live',\n",
       "       'x0_Disintegration (Deluxe Edition [Remastered])',\n",
       "       'x0_Hypnagogic States', 'x0_Kiss Me Kiss Me Kiss Me',\n",
       "       'x0_Mixed Up (Remastered 2018 / Deluxe Edition)', 'x0_Paris',\n",
       "       'x0_Pornography', 'x0_Show', 'x0_The Cure',\n",
       "       'x0_The Head On The Door', 'x0_The Top', 'x0_Wild Mood Swings',\n",
       "       'x0_Wish', 'x1_A', 'x1_A#', 'x1_B', 'x1_C', 'x1_C#', 'x1_D',\n",
       "       'x1_D#', 'x1_E', 'x1_F', 'x1_F#', 'x1_G', 'x1_G#'], dtype=object)"
      ]
     },
     "execution_count": 19,
     "metadata": {},
     "output_type": "execute_result"
    }
   ],
   "source": [
    "encoder.get_feature_names()"
   ]
  },
  {
   "cell_type": "code",
   "execution_count": 20,
   "metadata": {},
   "outputs": [
    {
     "data": {
      "image/png": "[encoded data removed]",
      "text/plain": [
       "<Figure size 864x576 with 2 Axes>"
      ]
     },
     "metadata": {
      "needs_background": "light"
     },
     "output_type": "display_data"
    }
   ],
   "source": [
    "plt.figure(figsize=(12, 8))\n",
    "sns.heatmap(encoder.transform(df[['album_name', 'key']]), cmap='BuPu');"
   ]
  },
  {
   "cell_type": "code",
   "execution_count": 21,
   "metadata": {},
   "outputs": [],
   "source": [
    "df_t = pd.read_csv(\"data/titanik.csv\")"
   ]
  },
  {
   "cell_type": "code",
   "execution_count": 22,
   "metadata": {},
   "outputs": [
    {
     "data": {
      "text/html": [
       "<div>\n",
       "<style scoped>\n",
       "    .dataframe tbody tr th:only-of-type {\n",
       "        vertical-align: middle;\n",
       "    }\n",
       "\n",
       "    .dataframe tbody tr th {\n",
       "        vertical-align: top;\n",
       "    }\n",
       "\n",
       "    .dataframe thead th {\n",
       "        text-align: right;\n",
       "    }\n",
       "</style>\n",
       "<table border=\"1\" class=\"dataframe\">\n",
       "  <thead>\n",
       "    <tr style=\"text-align: right;\">\n",
       "      <th></th>\n",
       "      <th>PassengerId</th>\n",
       "      <th>Survived</th>\n",
       "      <th>Pclass</th>\n",
       "      <th>Name</th>\n",
       "      <th>Sex</th>\n",
       "      <th>Age</th>\n",
       "      <th>SibSp</th>\n",
       "      <th>Parch</th>\n",
       "      <th>Ticket</th>\n",
       "      <th>Fare</th>\n",
       "      <th>Cabin</th>\n",
       "      <th>Embarked</th>\n",
       "    </tr>\n",
       "  </thead>\n",
       "  <tbody>\n",
       "    <tr>\n",
       "      <th>0</th>\n",
       "      <td>1</td>\n",
       "      <td>0</td>\n",
       "      <td>3</td>\n",
       "      <td>Braund, Mr. Owen Harris</td>\n",
       "      <td>male</td>\n",
       "      <td>22.0</td>\n",
       "      <td>1</td>\n",
       "      <td>0</td>\n",
       "      <td>A/5 21171</td>\n",
       "      <td>7.2500</td>\n",
       "      <td>NaN</td>\n",
       "      <td>S</td>\n",
       "    </tr>\n",
       "    <tr>\n",
       "      <th>1</th>\n",
       "      <td>2</td>\n",
       "      <td>1</td>\n",
       "      <td>1</td>\n",
       "      <td>Cumings, Mrs. John Bradley (Florence Briggs Th...</td>\n",
       "      <td>female</td>\n",
       "      <td>38.0</td>\n",
       "      <td>1</td>\n",
       "      <td>0</td>\n",
       "      <td>PC 17599</td>\n",
       "      <td>71.2833</td>\n",
       "      <td>C85</td>\n",
       "      <td>C</td>\n",
       "    </tr>\n",
       "    <tr>\n",
       "      <th>2</th>\n",
       "      <td>3</td>\n",
       "      <td>1</td>\n",
       "      <td>3</td>\n",
       "      <td>Heikkinen, Miss. Laina</td>\n",
       "      <td>female</td>\n",
       "      <td>26.0</td>\n",
       "      <td>0</td>\n",
       "      <td>0</td>\n",
       "      <td>STON/O2. 3101282</td>\n",
       "      <td>7.9250</td>\n",
       "      <td>NaN</td>\n",
       "      <td>S</td>\n",
       "    </tr>\n",
       "    <tr>\n",
       "      <th>3</th>\n",
       "      <td>4</td>\n",
       "      <td>1</td>\n",
       "      <td>1</td>\n",
       "      <td>Futrelle, Mrs. Jacques Heath (Lily May Peel)</td>\n",
       "      <td>female</td>\n",
       "      <td>35.0</td>\n",
       "      <td>1</td>\n",
       "      <td>0</td>\n",
       "      <td>113803</td>\n",
       "      <td>53.1000</td>\n",
       "      <td>C123</td>\n",
       "      <td>S</td>\n",
       "    </tr>\n",
       "    <tr>\n",
       "      <th>4</th>\n",
       "      <td>5</td>\n",
       "      <td>0</td>\n",
       "      <td>3</td>\n",
       "      <td>Allen, Mr. William Henry</td>\n",
       "      <td>male</td>\n",
       "      <td>35.0</td>\n",
       "      <td>0</td>\n",
       "      <td>0</td>\n",
       "      <td>373450</td>\n",
       "      <td>8.0500</td>\n",
       "      <td>NaN</td>\n",
       "      <td>S</td>\n",
       "    </tr>\n",
       "  </tbody>\n",
       "</table>\n",
       "</div>"
      ],
      "text/plain": [
       "   PassengerId  Survived  Pclass  \\\n",
       "0            1         0       3   \n",
       "1            2         1       1   \n",
       "2            3         1       3   \n",
       "3            4         1       1   \n",
       "4            5         0       3   \n",
       "\n",
       "                                                Name     Sex   Age  SibSp  \\\n",
       "0                            Braund, Mr. Owen Harris    male  22.0      1   \n",
       "1  Cumings, Mrs. John Bradley (Florence Briggs Th...  female  38.0      1   \n",
       "2                             Heikkinen, Miss. Laina  female  26.0      0   \n",
       "3       Futrelle, Mrs. Jacques Heath (Lily May Peel)  female  35.0      1   \n",
       "4                           Allen, Mr. William Henry    male  35.0      0   \n",
       "\n",
       "   Parch            Ticket     Fare Cabin Embarked  \n",
       "0      0         A/5 21171   7.2500   NaN        S  \n",
       "1      0          PC 17599  71.2833   C85        C  \n",
       "2      0  STON/O2. 3101282   7.9250   NaN        S  \n",
       "3      0            113803  53.1000  C123        S  \n",
       "4      0            373450   8.0500   NaN        S  "
      ]
     },
     "execution_count": 22,
     "metadata": {},
     "output_type": "execute_result"
    }
   ],
   "source": [
    "df_t.head()"
   ]
  },
  {
   "cell_type": "code",
   "execution_count": 23,
   "metadata": {},
   "outputs": [
    {
     "name": "stderr",
     "output_type": "stream",
     "text": [
      "/home/imd/miniconda3/envs/mlisuct/lib/python3.8/site-packages/seaborn/_decorators.py:36: FutureWarning: Pass the following variable as a keyword arg: x. From version 0.12, the only valid positional argument will be `data`, and passing other arguments without an explicit keyword will result in an error or misinterpretation.\n",
      "  warnings.warn(\n"
     ]
    },
    {
     "data": {
      "image/png": "[encoded data removed]",
      "text/plain": [
       "<Figure size 432x288 with 1 Axes>"
      ]
     },
     "metadata": {
      "needs_background": "light"
     },
     "output_type": "display_data"
    }
   ],
   "source": [
    "sns.countplot(\"Pclass\", hue=\"Survived\", orient=\"h\", data=df_t);"
   ]
  },
  {
   "cell_type": "code",
   "execution_count": 24,
   "metadata": {},
   "outputs": [
    {
     "data": {
      "text/plain": [
       "Pclass\n",
       "1    0.629630\n",
       "2    0.472826\n",
       "3    0.242363\n",
       "Name: Survived, dtype: float64"
      ]
     },
     "execution_count": 24,
     "metadata": {},
     "output_type": "execute_result"
    }
   ],
   "source": [
    "df_t.groupby(\"Pclass\")[\"Survived\"].mean()"
   ]
  },
  {
   "cell_type": "code",
   "execution_count": 25,
   "metadata": {},
   "outputs": [
    {
     "data": {
      "text/plain": [
       "Embarked\n",
       "C    0.553571\n",
       "Q    0.389610\n",
       "S    0.336957\n",
       "Name: Survived, dtype: float64"
      ]
     },
     "execution_count": 25,
     "metadata": {},
     "output_type": "execute_result"
    }
   ],
   "source": [
    "df_t.groupby(\"Embarked\")[\"Survived\"].mean()"
   ]
  },
  {
   "cell_type": "code",
   "execution_count": 26,
   "metadata": {},
   "outputs": [
    {
     "data": {
      "text/plain": [
       "S    644\n",
       "C    168\n",
       "Q     77\n",
       "Name: Embarked, dtype: int64"
      ]
     },
     "execution_count": 26,
     "metadata": {},
     "output_type": "execute_result"
    }
   ],
   "source": [
    "df_t[\"Embarked\"].value_counts()"
   ]
  },
  {
   "cell_type": "markdown",
   "metadata": {},
   "source": [
    "$$\\large{f(x)} = \\frac{1}{|D : x \\in D|}\\sum{y}$$\n",
    "\n",
    "$$\\frac{\\sum(y : |x \\in D|) + alpha * y_{mean}}{|D : x \\in D| + alpha}$$"
   ]
  },
  {
   "cell_type": "markdown",
   "metadata": {},
   "source": [
    "## MeanEncoding"
   ]
  },
  {
   "cell_type": "markdown",
   "metadata": {},
   "source": [
    "Кодирование средним мощный метод кодирования категориальных переменных, где в соответствие каждой переменной ставится среднее значение таргета на этой переменной\n",
    "\n",
    "<b>Плюсы</b>\n",
    "\n",
    "- Вносится корректный порядок следования категорий\n",
    "- Пространство признаков сохраняет свою размерность\n",
    "- Расстояние между категориями измеряется в статистике влияния на таргет\n",
    "\n",
    "<b>Минусы</b>\n",
    "\n",
    "- Высокий риск переобучения (особенно на категориях с малым количеством данных)\n",
    "- Для мноклассовой классификации, каждую категорию надо кодировать на свой класс таргета (увеличивается размерность)\n",
    "\n",
    "<b>Применение</b>\n",
    "\n",
    "- Кодирование применяется во всех моделях с различными регуляризациями для предотвращение переобучения"
   ]
  },
  {
   "cell_type": "code",
   "execution_count": 97,
   "metadata": {},
   "outputs": [],
   "source": [
    "class MeanEncoder(BaseEstimator, TransformerMixin):\n",
    "    \n",
    "    def __init__(self, alpha=10):\n",
    "        self.mapping = {}\n",
    "        self.mean = 0\n",
    "        self.alpha = alpha\n",
    "        \n",
    "    def calc_smooth_encoding(self, df):\n",
    "        return (\n",
    "            (df.groupby(\"Feature\")['Target'].sum() + self.alpha * self.mean)/\n",
    "            (df['Feature'].value_counts() + self.alpha)\n",
    "        )\n",
    "        \n",
    "    def fit(self, X, y):\n",
    "        self.mean = y.mean()\n",
    "        for col in X.columns:\n",
    "            target_df = pd.concat([X[col], pd.Series(y)], axis=1)\n",
    "            target_df.columns = [\"Feature\", \"Target\"]\n",
    "            self.mapping[col] = self.calc_smooth_encoding(target_df).to_dict()\n",
    "        return self\n",
    "    \n",
    "    def transform(self, X):\n",
    "        result = np.zeros((X.shape[0], len(self.mapping)), dtype=np.float32)\n",
    "        for i, col in enumerate(X.columns):\n",
    "            encoded = X[col].map(self.mapping[col]).fillna(self.mean)\n",
    "            result[:, i] = encoded\n",
    "        return result\n",
    "    \n",
    "    def fit_transform(self, X, y=None):\n",
    "        self.fit(X, y)\n",
    "        return self.transform(X)"
   ]
  },
  {
   "cell_type": "code",
   "execution_count": 28,
   "metadata": {},
   "outputs": [],
   "source": [
    "encoder = MeanEncoder(alpha=10)"
   ]
  },
  {
   "cell_type": "code",
   "execution_count": 29,
   "metadata": {},
   "outputs": [
    {
     "data": {
      "text/plain": [
       "{}"
      ]
     },
     "execution_count": 29,
     "metadata": {},
     "output_type": "execute_result"
    }
   ],
   "source": [
    "encoder.mapping"
   ]
  },
  {
   "cell_type": "code",
   "execution_count": 30,
   "metadata": {},
   "outputs": [
    {
     "data": {
      "text/plain": [
       "MeanEncoder()"
      ]
     },
     "execution_count": 30,
     "metadata": {},
     "output_type": "execute_result"
    }
   ],
   "source": [
    "encoder.fit(df_t[[\"Sex\", \"Pclass\"]], df_t[\"Survived\"])"
   ]
  },
  {
   "cell_type": "code",
   "execution_count": 31,
   "metadata": {},
   "outputs": [
    {
     "data": {
      "text/plain": [
       "{'Sex': {'female': 0.7309826661678513, 'male': 0.19222893328515134},\n",
       " 'Pclass': {1: 0.618753910789309,\n",
       "  2: 0.4682390919504321,\n",
       "  3: 0.24518639488699367}}"
      ]
     },
     "execution_count": 31,
     "metadata": {},
     "output_type": "execute_result"
    }
   ],
   "source": [
    "encoder.mapping"
   ]
  },
  {
   "cell_type": "code",
   "execution_count": 32,
   "metadata": {
    "tags": []
   },
   "outputs": [
    {
     "data": {
      "text/plain": [
       "array([[0.19222893, 0.24518639],\n",
       "       [0.73098266, 0.6187539 ],\n",
       "       [0.73098266, 0.24518639],\n",
       "       ...,\n",
       "       [0.73098266, 0.24518639],\n",
       "       [0.19222893, 0.6187539 ],\n",
       "       [0.19222893, 0.24518639]], dtype=float32)"
      ]
     },
     "execution_count": 32,
     "metadata": {},
     "output_type": "execute_result"
    }
   ],
   "source": [
    "encoder.transform(df_t[[\"Sex\", \"Pclass\"]])"
   ]
  },
  {
   "cell_type": "markdown",
   "metadata": {},
   "source": [
    "$$\\large{\\frac{x - x_{min}}{x_{max} - x_{min}}}$$"
   ]
  },
  {
   "cell_type": "markdown",
   "metadata": {},
   "source": [
    "# Scaling"
   ]
  },
  {
   "cell_type": "markdown",
   "metadata": {},
   "source": [
    "Масштабирование важная часть предобработки данных для использования количественных признаков в метрических и линейных моделях. Масштабирование необходимо чтобы измежать слишком сильного влияния признака с большим масштабом значений по сравнению с другими\n",
    "<b>Основные виды масштабирования</b>\n",
    "\n",
    "- MinMaxScaler\n",
    "- StandartScaler"
   ]
  },
  {
   "cell_type": "markdown",
   "metadata": {},
   "source": [
    "## MinMaxScaler"
   ]
  },
  {
   "cell_type": "markdown",
   "metadata": {},
   "source": [
    "## StandartScaler"
   ]
  },
  {
   "cell_type": "code",
   "execution_count": 33,
   "metadata": {},
   "outputs": [],
   "source": [
    "scaler = MinMaxScaler()"
   ]
  },
  {
   "cell_type": "code",
   "execution_count": 34,
   "metadata": {},
   "outputs": [
    {
     "name": "stderr",
     "output_type": "stream",
     "text": [
      "/home/imd/miniconda3/envs/mlisuct/lib/python3.8/site-packages/seaborn/distributions.py:2619: FutureWarning: `distplot` is a deprecated function and will be removed in a future version. Please adapt your code to use either `displot` (a figure-level function with similar flexibility) or `histplot` (an axes-level function for histograms).\n",
      "  warnings.warn(msg, FutureWarning)\n",
      "/home/imd/miniconda3/envs/mlisuct/lib/python3.8/site-packages/seaborn/distributions.py:2619: FutureWarning: `distplot` is a deprecated function and will be removed in a future version. Please adapt your code to use either `displot` (a figure-level function with similar flexibility) or `histplot` (an axes-level function for histograms).\n",
      "  warnings.warn(msg, FutureWarning)\n"
     ]
    },
    {
     "data": {
      "image/png": "[encoded data removed]",
      "text/plain": [
       "<Figure size 864x360 with 2 Axes>"
      ]
     },
     "metadata": {
      "needs_background": "light"
     },
     "output_type": "display_data"
    }
   ],
   "source": [
    "scaler.fit(df['speechiness'].values.reshape(-1, 1))\n",
    "plt.figure(figsize=(12, 5))\n",
    "plt.subplot(1, 2, 1);\n",
    "sns.distplot(df['speechiness']);\n",
    "plt.subplot(1, 2, 2);\n",
    "sns.distplot(scaler.transform(df['speechiness'].values.reshape(-1, 1)).ravel());"
   ]
  },
  {
   "cell_type": "code",
   "execution_count": 35,
   "metadata": {},
   "outputs": [],
   "source": [
    "scaler = StandardScaler()"
   ]
  },
  {
   "cell_type": "code",
   "execution_count": 36,
   "metadata": {},
   "outputs": [
    {
     "name": "stderr",
     "output_type": "stream",
     "text": [
      "/home/imd/miniconda3/envs/mlisuct/lib/python3.8/site-packages/seaborn/distributions.py:2619: FutureWarning: `distplot` is a deprecated function and will be removed in a future version. Please adapt your code to use either `displot` (a figure-level function with similar flexibility) or `histplot` (an axes-level function for histograms).\n",
      "  warnings.warn(msg, FutureWarning)\n",
      "/home/imd/miniconda3/envs/mlisuct/lib/python3.8/site-packages/seaborn/distributions.py:2619: FutureWarning: `distplot` is a deprecated function and will be removed in a future version. Please adapt your code to use either `displot` (a figure-level function with similar flexibility) or `histplot` (an axes-level function for histograms).\n",
      "  warnings.warn(msg, FutureWarning)\n"
     ]
    },
    {
     "data": {
      "image/png": "[encoded data removed]",
      "text/plain": [
       "<Figure size 864x360 with 2 Axes>"
      ]
     },
     "metadata": {
      "needs_background": "light"
     },
     "output_type": "display_data"
    }
   ],
   "source": [
    "scaler.fit(np.log(df['speechiness']).values.reshape(-1, 1))\n",
    "plt.figure(figsize=(12, 5))\n",
    "plt.subplot(1, 2, 1);\n",
    "sns.distplot(np.log(df['speechiness']));\n",
    "plt.subplot(1, 2, 2);\n",
    "sns.distplot(scaler.transform(np.log(df['speechiness']).values.reshape(-1, 1)).ravel());"
   ]
  },
  {
   "cell_type": "markdown",
   "metadata": {},
   "source": [
    "Сложно сказать для каких моделей какой масштабирование подходит лучше, поэтому стоит попробовать оба"
   ]
  },
  {
   "cell_type": "markdown",
   "metadata": {},
   "source": [
    "# Кодирование текста"
   ]
  },
  {
   "cell_type": "markdown",
   "metadata": {},
   "source": [
    "# Text"
   ]
  },
  {
   "cell_type": "markdown",
   "metadata": {},
   "source": [
    "Текстовые данные особый вид переменных, поскольку количество уникальных значений сопоставимо с количественными признаками, однако они не выражаются в числах\n",
    "Способов кодирования текста очень много, однако мы рассмотрим только два из них\n",
    "\n",
    "- Bag of words\n",
    "- Term frequency inverse documemnt frequency"
   ]
  },
  {
   "cell_type": "markdown",
   "metadata": {},
   "source": [
    "## BOW"
   ]
  },
  {
   "cell_type": "code",
   "execution_count": 37,
   "metadata": {},
   "outputs": [],
   "source": [
    "# BOW\n",
    "text_endoder = CountVectorizer(stop_words=\"english\", max_df=0.3, min_df=2, ngram_range=(1, 3))"
   ]
  },
  {
   "cell_type": "code",
   "execution_count": 38,
   "metadata": {},
   "outputs": [
    {
     "name": "stderr",
     "output_type": "stream",
     "text": [
      "/tmp/ipykernel_12108/602786422.py:1: FutureWarning: The default value of regex will change from True to False in a future version.\n",
      "  df['track_name'] = df['track_name'].str.replace(r'\\W+', ' ').str.strip().str.lower()\n"
     ]
    }
   ],
   "source": [
    "df['track_name'] = df['track_name'].str.replace(r'\\W+', ' ').str.strip().str.lower()"
   ]
  },
  {
   "cell_type": "markdown",
   "metadata": {},
   "source": [
    "## TfIdf"
   ]
  },
  {
   "cell_type": "markdown",
   "metadata": {},
   "source": [
    "В подходе tfidf вместо 1 на месте токена, мы ставим его tfidf, TfIdf - это аббревиатура из двух частей Tf и Idf\n",
    "- Tf- term frequency частота слова в данном тексте деленная на количество слов в тексте\n",
    "- Idf - inverse document frequency общее количество документов деленое на количество документов где встречается данное слово, обычно берут десятичный логарифм от этого значения\n",
    "$$\\large{TfIdf = \\frac{n_t}{\\sum_k{n_w}}\\log_{10}{\\frac{|D|}{|D:W\\in D|}}}$$"
   ]
  },
  {
   "cell_type": "code",
   "execution_count": 41,
   "metadata": {},
   "outputs": [],
   "source": [
    "text_endoder = TfidfVectorizer(stop_words=\"english\", max_df=0.3, min_df=2, ngram_range=(1, 3), norm='l1')"
   ]
  },
  {
   "cell_type": "markdown",
   "metadata": {},
   "source": [
    "# Metrics"
   ]
  },
  {
   "cell_type": "markdown",
   "metadata": {},
   "source": [
    "Метрики - это показатель качества, насколько хорошо наша модель решает ту или иную задачу. Выбор правильной метрики для задачи, является важной частью модели. Основные метрики:\n",
    "<b>Классификация</b>\n",
    "\n",
    "- Accuracy\n",
    "- Roc auc\n",
    "- f1 score\n",
    "- logloss\n",
    "\n",
    "<b>Регрессия</b>\n",
    "\n",
    "- MSE\n",
    "- RMSE\n",
    "- R2\n",
    "- MAE\n",
    "- MSLE"
   ]
  },
  {
   "cell_type": "markdown",
   "metadata": {},
   "source": [
    "## Classification"
   ]
  },
  {
   "cell_type": "markdown",
   "metadata": {},
   "source": [
    "### Accuracy"
   ]
  },
  {
   "cell_type": "markdown",
   "metadata": {},
   "source": [
    "Выберем лучший классификатор для нашей задачи, на основе метрики accuracy\n",
    "Accuracy - это доля правильных ответов классификатора"
   ]
  },
  {
   "cell_type": "code",
   "execution_count": 54,
   "metadata": {},
   "outputs": [],
   "source": [
    "class Idomp(BaseEstimator, TransformerMixin):\n",
    "    \n",
    "    def fit(self, X, y):\n",
    "        return self\n",
    "    \n",
    "    def transform(self, X):\n",
    "        return X"
   ]
  },
  {
   "cell_type": "code",
   "execution_count": 55,
   "metadata": {},
   "outputs": [],
   "source": [
    "real_cols = [\n",
    "    'album_popularity', 'danceability', 'energy', 'loudness', \n",
    "    'speechiness', 'acousticness', 'instrumentalness', 'liveness', \n",
    "    'valence', 'tempo', 'duration_ms', 'time_signature', 'track_popularity'\n",
    "]"
   ]
  },
  {
   "cell_type": "code",
   "execution_count": 44,
   "metadata": {},
   "outputs": [],
   "source": [
    "tree_df_label = df.copy()"
   ]
  },
  {
   "cell_type": "code",
   "execution_count": 98,
   "metadata": {},
   "outputs": [],
   "source": [
    "ct = ColumnTransformer([\n",
    "    (\"real\", Idomp(), real_cols),\n",
    "    (\"text\", CountVectorizer(ngram_range=(1, 2), min_df=3, max_df=0.5), \"track_name\"),\n",
    "    (\"categorical\", MeanEncoder(alpha=1000), [\"album_name\", \"key\"])\n",
    "])"
   ]
  },
  {
   "cell_type": "code",
   "execution_count": 99,
   "metadata": {},
   "outputs": [],
   "source": [
    "pipeline = Pipeline([\n",
    "     (\"transofrm\", ct),\n",
    "     ('clf', DecisionTreeClassifier(max_depth=5, random_state=42))\n",
    "])"
   ]
  },
  {
   "cell_type": "code",
   "execution_count": 100,
   "metadata": {},
   "outputs": [],
   "source": [
    "cv = KFold(n_splits=5, shuffle=True, random_state=42)"
   ]
  },
  {
   "cell_type": "code",
   "execution_count": 101,
   "metadata": {},
   "outputs": [],
   "source": [
    "predict = cross_val_predict(pipeline, X=df, y=df['mode'], cv=cv, method='predict')"
   ]
  },
  {
   "cell_type": "code",
   "execution_count": 102,
   "metadata": {},
   "outputs": [
    {
     "data": {
      "text/plain": [
       "array([[54, 36],\n",
       "       [41, 92]])"
      ]
     },
     "execution_count": 102,
     "metadata": {},
     "output_type": "execute_result"
    }
   ],
   "source": [
    "confusion_matrix(df[\"mode\"], predict, labels=[0, 1])"
   ]
  },
  {
   "cell_type": "markdown",
   "metadata": {},
   "source": [
    "Мы получили точность 55%, что интуитивно лучше случайного выбора. Однако если мы посмотрим на распределение классов в данных, то увидим что если бы мы всегда предсказывали 1 - accuracy была бы 59%"
   ]
  },
  {
   "cell_type": "code",
   "execution_count": 103,
   "metadata": {},
   "outputs": [
    {
     "data": {
      "text/plain": [
       "0.6547085201793722"
      ]
     },
     "execution_count": 103,
     "metadata": {},
     "output_type": "execute_result"
    }
   ],
   "source": [
    "accuracy_score(df['mode'], predict)"
   ]
  },
  {
   "cell_type": "code",
   "execution_count": 104,
   "metadata": {},
   "outputs": [
    {
     "data": {
      "text/plain": [
       "1    133\n",
       "0     90\n",
       "Name: mode, dtype: int64"
      ]
     },
     "execution_count": 104,
     "metadata": {},
     "output_type": "execute_result"
    }
   ],
   "source": [
    "df['mode'].value_counts()"
   ]
  },
  {
   "cell_type": "code",
   "execution_count": 105,
   "metadata": {},
   "outputs": [
    {
     "data": {
      "text/plain": [
       "0.5964125560538116"
      ]
     },
     "execution_count": 105,
     "metadata": {},
     "output_type": "execute_result"
    }
   ],
   "source": [
    "accuracy_score(df['mode'], [1] * df.shape[0])"
   ]
  },
  {
   "cell_type": "code",
   "execution_count": 106,
   "metadata": {},
   "outputs": [],
   "source": [
    "pipeline = Pipeline([\n",
    "     (\"transofrm\", ct),\n",
    "     ('clf', DecisionTreeClassifier(max_depth=5, random_state=42))\n",
    "])"
   ]
  },
  {
   "cell_type": "code",
   "execution_count": 109,
   "metadata": {},
   "outputs": [],
   "source": [
    "predict = cross_val_predict(pipeline, X=df, y=df['mode'], cv=cv, method='predict_proba')[:, 1]"
   ]
  },
  {
   "cell_type": "code",
   "execution_count": 110,
   "metadata": {},
   "outputs": [
    {
     "data": {
      "text/plain": [
       "0.57847533632287"
      ]
     },
     "execution_count": 110,
     "metadata": {},
     "output_type": "execute_result"
    }
   ],
   "source": [
    "accuracy_score(df['mode'], predict > 0.5)"
   ]
  },
  {
   "cell_type": "code",
   "execution_count": 117,
   "metadata": {},
   "outputs": [
    {
     "name": "stderr",
     "output_type": "stream",
     "text": [
      "/home/imd/miniconda3/envs/mlisuct/lib/python3.8/site-packages/seaborn/_decorators.py:36: FutureWarning: Pass the following variables as keyword args: x, y. From version 0.12, the only valid positional argument will be `data`, and passing other arguments without an explicit keyword will result in an error or misinterpretation.\n",
      "  warnings.warn(\n"
     ]
    },
    {
     "data": {
      "image/png": "[encoded data removed]",
      "text/plain": [
       "<Figure size 432x288 with 1 Axes>"
      ]
     },
     "metadata": {
      "needs_background": "light"
     },
     "output_type": "display_data"
    }
   ],
   "source": [
    "sns.boxplot(predict, df[\"mode\"], orient=\"h\");"
   ]
  },
  {
   "cell_type": "code",
   "execution_count": 121,
   "metadata": {},
   "outputs": [
    {
     "data": {
      "text/plain": [
       "0.5662907268170426"
      ]
     },
     "execution_count": 121,
     "metadata": {},
     "output_type": "execute_result"
    }
   ],
   "source": [
    "roc_auc_score(df[\"mode\"], predict)"
   ]
  },
  {
   "cell_type": "code",
   "execution_count": 119,
   "metadata": {},
   "outputs": [],
   "source": [
    "score = []\n",
    "for i in np.linspace(0, 1, 11):\n",
    "    s = accuracy_score(df['mode'], predict > i)\n",
    "    score.append((i, s))"
   ]
  },
  {
   "cell_type": "code",
   "execution_count": 122,
   "metadata": {},
   "outputs": [
    {
     "data": {
      "text/plain": [
       "0.6802721088435374"
      ]
     },
     "execution_count": 122,
     "metadata": {},
     "output_type": "execute_result"
    }
   ],
   "source": [
    "f1_score(df[\"mode\"], predict > 0.5)"
   ]
  },
  {
   "cell_type": "markdown",
   "metadata": {},
   "source": [
    "<b>Плюсы accuracy</b>\n",
    "\n",
    "- Интерпретируемость, при равных долях классов\n",
    "\n",
    "<b>Минусы accuracy</b>\n",
    "\n",
    "- При большом дисбалансе классов, не видно улучшения модели\n",
    "- Не оптимизируется напрямую"
   ]
  },
  {
   "cell_type": "markdown",
   "metadata": {},
   "source": [
    "### Roc auc"
   ]
  },
  {
   "cell_type": "markdown",
   "metadata": {},
   "source": [
    "Метрика Roc-auc часто описывается как площадь под кривой ошибок, взглянем на нее поближе.\n",
    "Чтобы построить roc auc необходимо ввести понятия TPR (true positive rate) и FPR (false positive rate)\n",
    "<b>True positive rate</b> - количество корректно определенных меток положительно класса, т.е. количество корректно определенных положительных меток на общее количество положительных меток в данных\n",
    "<b>False positive rate</b> - количество некорректно определенных меток отрицательного класса, т.е. количество некорректно определенных положительных меток на общее количество отрицательных меток\n",
    "Очевидно что при разных процентах определения границы положительного/отрицательного класса, метрики будут изменятся"
   ]
  },
  {
   "cell_type": "markdown",
   "metadata": {},
   "source": [
    "график взаимного изменения TPR и FPR называется ROC кривая"
   ]
  },
  {
   "cell_type": "markdown",
   "metadata": {},
   "source": [
    "Площадь под данным графиком и есть метрика ROC AUC\n",
    "Основной baseline для roc auc это 0.5 что соответствует случайным предсказаниям"
   ]
  },
  {
   "cell_type": "markdown",
   "metadata": {},
   "source": [
    "Однако ROC AUC еще можно интерпритировать как долю корректно отсортированных пар меток и данная интерпритация показывает качество классификации независимо от выбора границы разделения классов"
   ]
  },
  {
   "cell_type": "markdown",
   "metadata": {},
   "source": [
    "### F1"
   ]
  },
  {
   "cell_type": "markdown",
   "metadata": {},
   "source": [
    "F1 score это метрика балансирующая точность на метках определения различных классов и равна среднему гармоническому между recall и precision\n",
    "\n",
    "$\\large{F1 = \\frac{2 * precision * recall}{precision + recall}}$\n",
    "\n",
    "<b>Precision</b> - количество корректно определенных меток положительного класса, среди всех предсказаний положительного класса\n",
    "<b>Recall</b> - по факту тоже самое что и true positive rate"
   ]
  },
  {
   "cell_type": "markdown",
   "metadata": {},
   "source": [
    "## Regression"
   ]
  },
  {
   "cell_type": "code",
   "execution_count": null,
   "metadata": {},
   "outputs": [],
   "source": [
    "number_cols = number_cols[:-1]"
   ]
  },
  {
   "cell_type": "code",
   "execution_count": null,
   "metadata": {},
   "outputs": [],
   "source": [
    "best_pipeline = pipeline = Pipeline(\n",
    "    [('features', FeatureUnion(\n",
    "        [\n",
    "        ('album_name', make_pipeline(ColumnsSelector(['album_name']), OneHotEncoder(handle_unknown='ignore'))),\n",
    "        ('key', make_pipeline(ColumnsSelector(['key']), OneHotEncoder(handle_unknown='ignore'))),\n",
    "        ('text', make_pipeline(ColumnsSelector('track_name', reshape=True), \n",
    "                               CountVectorizer(ngram_range=(1, 2), min_df=3, max_df=0.5))),\n",
    "        ('number_features', ColumnsSelector(number_cols)),\n",
    "        ])), \n",
    "     ('clf', DecisionTreeRegressor(max_depth=5, random_state=42))\n",
    "])"
   ]
  },
  {
   "cell_type": "code",
   "execution_count": null,
   "metadata": {},
   "outputs": [],
   "source": [
    "predict = cross_val_predict(best_pipeline, X=df, y=df['track_popularity'], cv=cv, method='predict')"
   ]
  },
  {
   "cell_type": "code",
   "execution_count": null,
   "metadata": {},
   "outputs": [],
   "source": [
    "df['track_popularity'].mean()"
   ]
  },
  {
   "cell_type": "markdown",
   "metadata": {},
   "source": [
    "### MSE"
   ]
  },
  {
   "cell_type": "markdown",
   "metadata": {},
   "source": [
    "Mean squared error - среднее квадратов ошибок на таргете, данная метрика часто является так же и тем функционалом который оптимизируется при решении задач, с этим и связана ее популярность\n",
    "\n",
    "$\\large{MSE = \\frac{1}{N}\\sum_{i=1}^{N}{(y_{i}^{pred} - y_{i}^{true})^2}}$"
   ]
  },
  {
   "cell_type": "code",
   "execution_count": null,
   "metadata": {},
   "outputs": [],
   "source": [
    "mean_squared_error(df['track_popularity'], predict)"
   ]
  },
  {
   "cell_type": "markdown",
   "metadata": {},
   "source": [
    "Основная проблема MSE в том что она плохо интепретируется, поскольку это квадрат ошибки и имеет иной масштаб чем таргет\n",
    "Чтобы превести ошибку в такую же шкалу как и наш таргет используют RMSE - который является просто корнем из MSE\n",
    "$\\large{RMSE = \\sqrt{MSE}}$"
   ]
  },
  {
   "cell_type": "code",
   "execution_count": null,
   "metadata": {},
   "outputs": [],
   "source": [
    "np.sqrt(mean_squared_error(df['track_popularity'], predict))"
   ]
  },
  {
   "cell_type": "code",
   "execution_count": null,
   "metadata": {},
   "outputs": [],
   "source": [
    "idx = np.argsort((df['track_popularity'].values - predict))"
   ]
  },
  {
   "cell_type": "code",
   "execution_count": null,
   "metadata": {},
   "outputs": [],
   "source": [
    "plt.plot((df['track_popularity'].values - predict)[idx], ((df['track_popularity'].values - predict)**2)[idx]);"
   ]
  },
  {
   "cell_type": "markdown",
   "metadata": {},
   "source": [
    "Как видно на графике вклад в MSE растет сильно быстрее чем сама ошибка, поэтому при оптимизации MSE мы стремимся убрать количество ошибочно определенных величин с большими значениями, вместо оптимизации в среднем"
   ]
  },
  {
   "cell_type": "markdown",
   "metadata": {},
   "source": [
    "### MAE"
   ]
  },
  {
   "cell_type": "markdown",
   "metadata": {},
   "source": [
    "MAE - это среднее абсолютной ошибки на данных, в отличии от MSE, МAE не оптимизируется напрямую, однако из-за того что MAE убирает квадратичную разницу, при его оптимизации мы будем оптимизировать функционал в среднем\n",
    "$\\large{MAE = \\frac{1}{N}\\sum_{i=1}^{N}{|y_{i}^{pred} - y_{i}^{true}|}}$"
   ]
  },
  {
   "cell_type": "code",
   "execution_count": null,
   "metadata": {},
   "outputs": [],
   "source": [
    "mean_absolute_error(df['track_popularity'], predict)"
   ]
  },
  {
   "cell_type": "code",
   "execution_count": null,
   "metadata": {},
   "outputs": [],
   "source": [
    "plt.plot((df['track_popularity'].values - predict)[idx], np.abs(df['track_popularity'].values - predict)[idx]);"
   ]
  },
  {
   "cell_type": "markdown",
   "metadata": {},
   "source": [
    "<b>Baseline MSE</b> - среднее таргета\n",
    "<b>Baseline MAE</b> - медиана таргета\n",
    "MAE - метрика гораздо более устойчивая к выбросам"
   ]
  },
  {
   "cell_type": "markdown",
   "metadata": {},
   "source": [
    "### R2"
   ]
  },
  {
   "cell_type": "markdown",
   "metadata": {},
   "source": [
    "R2 - метрика которая показывает долю объясненной дисперсии модели\n",
    "Это хорошо тем что R2 устойчив к масштабу таргета, в отличии от MSE и MAE для которых 10 является хорошим показателем если среднее таргета 1000 и плохим если среднее 2\n",
    "$\\large{R2 = 1 - \\frac{MSE}{\\frac{1}{N}\\sum_{i=1}^{N}{(y^{mean} - y_{i}^{true})^2}}}$"
   ]
  },
  {
   "cell_type": "code",
   "execution_count": null,
   "metadata": {},
   "outputs": [],
   "source": [
    "r2_score(df['track_popularity'], predict)"
   ]
  },
  {
   "cell_type": "markdown",
   "metadata": {},
   "source": [
    "### MSLE"
   ]
  },
  {
   "cell_type": "markdown",
   "metadata": {},
   "source": [
    "Еще одним способом убрать большое влияние выбросов на метрику является MSLE\n",
    "MSLE - это средний квадрат ошибок логарифмов предсказаний и таргета\n",
    "\n",
    "$\\large{MSLE = \\frac{1}{N}\\sum_{i=1}^{N}{(\\log{y_{i}^{pred}} - \\log{y_{i}^{true}})^2}}$"
   ]
  },
  {
   "cell_type": "code",
   "execution_count": null,
   "metadata": {},
   "outputs": [],
   "source": [
    "mean_squared_log_error(df['track_popularity'], predict)"
   ]
  }
 ],
 "metadata": {
  "kernelspec": {
   "display_name": "Python 3 (ipykernel)",
   "language": "python",
   "name": "python3"
  },
  "language_info": {
   "codemirror_mode": {
    "name": "ipython",
    "version": 3
   },
   "file_extension": ".py",
   "mimetype": "text/x-python",
   "name": "python",
   "nbconvert_exporter": "python",
   "pygments_lexer": "ipython3",
   "version": "3.8.0"
  }
 },
 "nbformat": 4,
 "nbformat_minor": 4
}
