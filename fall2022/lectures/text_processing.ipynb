{
 "cells": [
  {
   "cell_type": "code",
   "execution_count": 1,
   "id": "15d60d7d-980b-4e67-9d0c-f2d4937523ea",
   "metadata": {},
   "outputs": [
    {
     "name": "stdout",
     "output_type": "stream",
     "text": [
      "Requirement already satisfied: nltk in /home/imd/miniconda3/envs/mlisuct/lib/python3.8/site-packages (3.6.5)\n",
      "Requirement already satisfied: regex>=2021.8.3 in /home/imd/miniconda3/envs/mlisuct/lib/python3.8/site-packages (from nltk) (2021.11.2)\n",
      "Requirement already satisfied: joblib in /home/imd/miniconda3/envs/mlisuct/lib/python3.8/site-packages (from nltk) (1.0.1)\n",
      "Requirement already satisfied: click in /home/imd/miniconda3/envs/mlisuct/lib/python3.8/site-packages (from nltk) (8.0.3)\n",
      "Requirement already satisfied: tqdm in /home/imd/miniconda3/envs/mlisuct/lib/python3.8/site-packages (from nltk) (4.62.3)\n"
     ]
    }
   ],
   "source": [
    "!pip install nltk"
   ]
  },
  {
   "cell_type": "code",
   "execution_count": 2,
   "id": "c387f7f9-9ee8-4d1e-9db4-f8d5cdbe1349",
   "metadata": {},
   "outputs": [],
   "source": [
    "%config Completer.use_jedi = False"
   ]
  },
  {
   "cell_type": "code",
   "execution_count": 91,
   "id": "0bbd12fb-d8a5-437b-b3cc-c0471defcea1",
   "metadata": {},
   "outputs": [],
   "source": [
    "import re\n",
    "from datetime import datetime\n",
    "\n",
    "import numpy as np\n",
    "import pandas as pd\n",
    "import seaborn as sns\n",
    "from sklearn.feature_extraction.text import CountVectorizer, TfidfVectorizer\n",
    "from sklearn.compose import ColumnTransformer\n",
    "from sklearn.pipeline import Pipeline\n",
    "from sklearn.linear_model import LinearRegression, Ridge, Lasso, LogisticRegression, SGDRegressor\n",
    "from sklearn.model_selection import train_test_split\n",
    "from sklearn.metrics import mean_squared_error, mean_absolute_error\n",
    "import nltk\n",
    "from nltk import wordpunct_tokenize, WordNetLemmatizer, SnowballStemmer\n",
    "from nltk.corpus import stopwords\n",
    "import gensim.downloader as api\n",
    "from sklearn.base import BaseEstimator, TransformerMixin"
   ]
  },
  {
   "cell_type": "code",
   "execution_count": 4,
   "id": "d22e15c5-7501-4ca4-aae3-96ce91ed2fb0",
   "metadata": {},
   "outputs": [
    {
     "name": "stderr",
     "output_type": "stream",
     "text": [
      "[nltk_data] Downloading package stopwords to /home/imd/nltk_data...\n",
      "[nltk_data]   Package stopwords is already up-to-date!\n",
      "[nltk_data] Downloading package wordnet to /home/imd/nltk_data...\n",
      "[nltk_data]   Package wordnet is already up-to-date!\n"
     ]
    },
    {
     "data": {
      "text/plain": [
       "True"
      ]
     },
     "execution_count": 4,
     "metadata": {},
     "output_type": "execute_result"
    }
   ],
   "source": [
    "nltk.download('stopwords')\n",
    "nltk.download('wordnet')"
   ]
  },
  {
   "cell_type": "code",
   "execution_count": 5,
   "id": "034b4df5-e57a-4f0c-8a9d-a196eaa73750",
   "metadata": {},
   "outputs": [],
   "source": [
    "df = pd.read_csv(\"train.csv\")"
   ]
  },
  {
   "cell_type": "code",
   "execution_count": 6,
   "id": "02d1ac92-8510-4658-8fe7-317952f97f0d",
   "metadata": {},
   "outputs": [
    {
     "data": {
      "text/html": [
       "<div>\n",
       "<style scoped>\n",
       "    .dataframe tbody tr th:only-of-type {\n",
       "        vertical-align: middle;\n",
       "    }\n",
       "\n",
       "    .dataframe tbody tr th {\n",
       "        vertical-align: top;\n",
       "    }\n",
       "\n",
       "    .dataframe thead th {\n",
       "        text-align: right;\n",
       "    }\n",
       "</style>\n",
       "<table border=\"1\" class=\"dataframe\">\n",
       "  <thead>\n",
       "    <tr style=\"text-align: right;\">\n",
       "      <th></th>\n",
       "      <th>name</th>\n",
       "      <th>review</th>\n",
       "      <th>game</th>\n",
       "      <th>platform</th>\n",
       "      <th>score</th>\n",
       "      <th>date</th>\n",
       "      <th>ID</th>\n",
       "    </tr>\n",
       "  </thead>\n",
       "  <tbody>\n",
       "    <tr>\n",
       "      <th>0</th>\n",
       "      <td>GameSpy</td>\n",
       "      <td>Sporting some of the best writing and voice wo...</td>\n",
       "      <td>Portal 2</td>\n",
       "      <td>PC</td>\n",
       "      <td>100.0</td>\n",
       "      <td>Apr 22, 2011</td>\n",
       "      <td>6</td>\n",
       "    </tr>\n",
       "    <tr>\n",
       "      <th>1</th>\n",
       "      <td>DarkZero</td>\n",
       "      <td>In conclusion, Portal 2 is a textbook example ...</td>\n",
       "      <td>Portal 2</td>\n",
       "      <td>PC</td>\n",
       "      <td>100.0</td>\n",
       "      <td>Apr 21, 2011</td>\n",
       "      <td>7</td>\n",
       "    </tr>\n",
       "    <tr>\n",
       "      <th>2</th>\n",
       "      <td>Destructoid</td>\n",
       "      <td>Without a doubt, one of the best games ever ma...</td>\n",
       "      <td>Portal 2</td>\n",
       "      <td>PC</td>\n",
       "      <td>100.0</td>\n",
       "      <td>Apr 21, 2011</td>\n",
       "      <td>9</td>\n",
       "    </tr>\n",
       "    <tr>\n",
       "      <th>3</th>\n",
       "      <td>GameWatcher</td>\n",
       "      <td>Never before has a review embargo had us screa...</td>\n",
       "      <td>Portal 2</td>\n",
       "      <td>PC</td>\n",
       "      <td>100.0</td>\n",
       "      <td>Apr 19, 2011</td>\n",
       "      <td>11</td>\n",
       "    </tr>\n",
       "    <tr>\n",
       "      <th>4</th>\n",
       "      <td>VideoGamer</td>\n",
       "      <td>A mere ten minutes here will yield more memora...</td>\n",
       "      <td>Portal 2</td>\n",
       "      <td>PC</td>\n",
       "      <td>100.0</td>\n",
       "      <td>Apr 19, 2011</td>\n",
       "      <td>13</td>\n",
       "    </tr>\n",
       "  </tbody>\n",
       "</table>\n",
       "</div>"
      ],
      "text/plain": [
       "          name                                             review      game  \\\n",
       "0      GameSpy  Sporting some of the best writing and voice wo...  Portal 2   \n",
       "1     DarkZero  In conclusion, Portal 2 is a textbook example ...  Portal 2   \n",
       "2  Destructoid  Without a doubt, one of the best games ever ma...  Portal 2   \n",
       "3  GameWatcher  Never before has a review embargo had us screa...  Portal 2   \n",
       "4   VideoGamer  A mere ten minutes here will yield more memora...  Portal 2   \n",
       "\n",
       "  platform  score          date  ID  \n",
       "0       PC  100.0  Apr 22, 2011   6  \n",
       "1       PC  100.0  Apr 21, 2011   7  \n",
       "2       PC  100.0  Apr 21, 2011   9  \n",
       "3       PC  100.0  Apr 19, 2011  11  \n",
       "4       PC  100.0  Apr 19, 2011  13  "
      ]
     },
     "execution_count": 6,
     "metadata": {},
     "output_type": "execute_result"
    }
   ],
   "source": [
    "df.head()"
   ]
  },
  {
   "cell_type": "code",
   "execution_count": 7,
   "id": "553f8f60-6fbc-44f8-8f60-a3a2bc3060b7",
   "metadata": {},
   "outputs": [
    {
     "name": "stdout",
     "output_type": "stream",
     "text": [
      "<class 'pandas.core.frame.DataFrame'>\n",
      "RangeIndex: 62175 entries, 0 to 62174\n",
      "Data columns (total 7 columns):\n",
      " #   Column    Non-Null Count  Dtype  \n",
      "---  ------    --------------  -----  \n",
      " 0   name      62175 non-null  object \n",
      " 1   review    62175 non-null  object \n",
      " 2   game      62175 non-null  object \n",
      " 3   platform  62175 non-null  object \n",
      " 4   score     62175 non-null  float64\n",
      " 5   date      62151 non-null  object \n",
      " 6   ID        62175 non-null  int64  \n",
      "dtypes: float64(1), int64(1), object(5)\n",
      "memory usage: 3.3+ MB\n"
     ]
    }
   ],
   "source": [
    "df.info()"
   ]
  },
  {
   "cell_type": "code",
   "execution_count": 8,
   "id": "9fc8943c-8faf-4d4b-8a54-16eb487fb0dc",
   "metadata": {},
   "outputs": [
    {
     "data": {
      "text/html": [
       "<div>\n",
       "<style scoped>\n",
       "    .dataframe tbody tr th:only-of-type {\n",
       "        vertical-align: middle;\n",
       "    }\n",
       "\n",
       "    .dataframe tbody tr th {\n",
       "        vertical-align: top;\n",
       "    }\n",
       "\n",
       "    .dataframe thead th {\n",
       "        text-align: right;\n",
       "    }\n",
       "</style>\n",
       "<table border=\"1\" class=\"dataframe\">\n",
       "  <thead>\n",
       "    <tr style=\"text-align: right;\">\n",
       "      <th></th>\n",
       "      <th>score</th>\n",
       "      <th>ID</th>\n",
       "    </tr>\n",
       "  </thead>\n",
       "  <tbody>\n",
       "    <tr>\n",
       "      <th>count</th>\n",
       "      <td>62175.000000</td>\n",
       "      <td>62175.000000</td>\n",
       "    </tr>\n",
       "    <tr>\n",
       "      <th>mean</th>\n",
       "      <td>74.529136</td>\n",
       "      <td>62537.721721</td>\n",
       "    </tr>\n",
       "    <tr>\n",
       "      <th>std</th>\n",
       "      <td>14.479894</td>\n",
       "      <td>36353.332485</td>\n",
       "    </tr>\n",
       "    <tr>\n",
       "      <th>min</th>\n",
       "      <td>0.000000</td>\n",
       "      <td>6.000000</td>\n",
       "    </tr>\n",
       "    <tr>\n",
       "      <th>25%</th>\n",
       "      <td>70.000000</td>\n",
       "      <td>31031.500000</td>\n",
       "    </tr>\n",
       "    <tr>\n",
       "      <th>50%</th>\n",
       "      <td>80.000000</td>\n",
       "      <td>62230.000000</td>\n",
       "    </tr>\n",
       "    <tr>\n",
       "      <th>75%</th>\n",
       "      <td>85.000000</td>\n",
       "      <td>94068.000000</td>\n",
       "    </tr>\n",
       "    <tr>\n",
       "      <th>max</th>\n",
       "      <td>100.000000</td>\n",
       "      <td>125875.000000</td>\n",
       "    </tr>\n",
       "  </tbody>\n",
       "</table>\n",
       "</div>"
      ],
      "text/plain": [
       "              score             ID\n",
       "count  62175.000000   62175.000000\n",
       "mean      74.529136   62537.721721\n",
       "std       14.479894   36353.332485\n",
       "min        0.000000       6.000000\n",
       "25%       70.000000   31031.500000\n",
       "50%       80.000000   62230.000000\n",
       "75%       85.000000   94068.000000\n",
       "max      100.000000  125875.000000"
      ]
     },
     "execution_count": 8,
     "metadata": {},
     "output_type": "execute_result"
    }
   ],
   "source": [
    "df.describe()"
   ]
  },
  {
   "cell_type": "code",
   "execution_count": 9,
   "id": "359acb36-5de2-4276-b950-76e095b5da0a",
   "metadata": {},
   "outputs": [],
   "source": [
    "df[\"date\"] = pd.to_datetime(df[\"date\"])"
   ]
  },
  {
   "cell_type": "code",
   "execution_count": 10,
   "id": "b191bec3-c1f4-44d2-9d50-1ad93fc63611",
   "metadata": {},
   "outputs": [],
   "source": [
    "df.sort_values(\"date\", ascending=True, inplace=True)"
   ]
  },
  {
   "cell_type": "code",
   "execution_count": 11,
   "id": "51561b57-41c2-4f49-b03b-d6d260831f1b",
   "metadata": {},
   "outputs": [],
   "source": [
    "train_df, test_df = train_test_split(df, test_size=0.2, shuffle=False)"
   ]
  },
  {
   "cell_type": "code",
   "execution_count": 12,
   "id": "683b447c-b65a-4398-ad03-e436e99bee29",
   "metadata": {},
   "outputs": [],
   "source": [
    "COLS_TO_DROP = [\n",
    "    \"date\", \"ID\"\n",
    "]"
   ]
  },
  {
   "cell_type": "code",
   "execution_count": 13,
   "id": "3e4fda47-483e-46d8-9e88-7661182e4ba1",
   "metadata": {},
   "outputs": [
    {
     "name": "stderr",
     "output_type": "stream",
     "text": [
      "/home/imd/miniconda3/envs/mlisuct/lib/python3.8/site-packages/seaborn/_decorators.py:36: FutureWarning: Pass the following variables as keyword args: x, y. From version 0.12, the only valid positional argument will be `data`, and passing other arguments without an explicit keyword will result in an error or misinterpretation.\n",
      "  warnings.warn(\n"
     ]
    },
    {
     "data": {
      "image/png": "[encoded data removed]",
      "text/plain": [
       "<Figure size 432x288 with 1 Axes>"
      ]
     },
     "metadata": {
      "needs_background": "light"
     },
     "output_type": "display_data"
    }
   ],
   "source": [
    "sns.boxplot(train_df[\"score\"], train_df[\"platform\"], orient=\"h\");"
   ]
  },
  {
   "cell_type": "code",
   "execution_count": 15,
   "id": "aa84b977-8258-421e-8230-9976675b9e28",
   "metadata": {},
   "outputs": [],
   "source": [
    "COLS_TO_DROP.append(\"platform\")"
   ]
  },
  {
   "cell_type": "code",
   "execution_count": 16,
   "id": "ae946f0f-967a-4bda-bdaa-6f04500ed6c6",
   "metadata": {},
   "outputs": [
    {
     "data": {
      "text/plain": [
       "name\n",
       "1UP              2016-03-24\n",
       "3DJuegos         2017-11-03\n",
       "4Players.de      2017-10-27\n",
       "Absolute Games   2012-11-29\n",
       "ActionTrip       2016-06-20\n",
       "                    ...    \n",
       "XboxAddict       2017-10-30\n",
       "Yahoo!           2017-10-26\n",
       "YouGamers        2011-08-25\n",
       "ZTGD             2017-10-25\n",
       "games(TM)        2017-11-03\n",
       "Name: date, Length: 265, dtype: datetime64[ns]"
      ]
     },
     "execution_count": 16,
     "metadata": {},
     "output_type": "execute_result"
    }
   ],
   "source": [
    "train_df.groupby(\"name\")[\"date\"].max()"
   ]
  },
  {
   "cell_type": "code",
   "execution_count": 17,
   "id": "3d92cca0-f4f2-40cf-92e6-2dcfa3b1dd36",
   "metadata": {},
   "outputs": [
    {
     "data": {
      "text/plain": [
       "name\n",
       "1UP              2011-01-25\n",
       "3DJuegos         2011-02-02\n",
       "4Players.de      2012-02-01\n",
       "Absolute Games   2010-12-23\n",
       "ActionTrip       2011-03-17\n",
       "                    ...    \n",
       "XboxAddict       2016-07-13\n",
       "Yahoo!           2015-11-18\n",
       "YouGamers        2011-02-04\n",
       "ZTGD             2011-02-22\n",
       "games(TM)        2011-03-21\n",
       "Name: date, Length: 265, dtype: datetime64[ns]"
      ]
     },
     "execution_count": 17,
     "metadata": {},
     "output_type": "execute_result"
    }
   ],
   "source": [
    "train_df.groupby(\"name\")[\"date\"].min()"
   ]
  },
  {
   "cell_type": "code",
   "execution_count": 18,
   "id": "6a4092b4-d81a-40d2-8c32-7b0d1b87bb96",
   "metadata": {},
   "outputs": [],
   "source": [
    "COLS_TO_DROP.append(\"name\")"
   ]
  },
  {
   "cell_type": "code",
   "execution_count": 19,
   "id": "9e0207f5-99f4-4f46-bc13-e566020b7098",
   "metadata": {},
   "outputs": [
    {
     "data": {
      "text/plain": [
       "game\n",
       "#IDARB                        2015-03-30\n",
       ".hack//G.U. Last Recode       2017-11-03\n",
       "0RBITALIS                     2015-07-07\n",
       "1-2-Switch                    2017-05-19\n",
       "10 Second Ninja               2014-03-17\n",
       "                                 ...    \n",
       "htoL#NiQ: The Firefly Diary   2015-07-27\n",
       "inFamous: First Light         2014-10-17\n",
       "inFamous: Second Son          2014-05-16\n",
       "inMomentum                    2012-02-27\n",
       "theHunter: Call of the Wild   2017-05-22\n",
       "Name: date, Length: 3226, dtype: datetime64[ns]"
      ]
     },
     "execution_count": 19,
     "metadata": {},
     "output_type": "execute_result"
    }
   ],
   "source": [
    "train_df.groupby(\"game\")[\"date\"].max()"
   ]
  },
  {
   "cell_type": "code",
   "execution_count": 21,
   "id": "bcbf2835-794f-4950-b662-bf642c502a13",
   "metadata": {},
   "outputs": [],
   "source": [
    "game_date_range = train_df.groupby(\"game\")[\"date\"].max() - train_df.groupby(\"game\")[\"date\"].min()"
   ]
  },
  {
   "cell_type": "code",
   "execution_count": 25,
   "id": "35bab8e2-9526-4bf1-972b-f283cb97c0fb",
   "metadata": {
    "tags": []
   },
   "outputs": [
    {
     "data": {
      "image/png": "[encoded data removed]",
      "text/plain": [
       "<Figure size 360x360 with 1 Axes>"
      ]
     },
     "metadata": {
      "needs_background": "light"
     },
     "output_type": "display_data"
    }
   ],
   "source": [
    "sns.displot(game_date_range.dt.days.sort_values(ascending=False));"
   ]
  },
  {
   "cell_type": "code",
   "execution_count": 26,
   "id": "3484751d-d6de-48c0-ab47-29534823920b",
   "metadata": {},
   "outputs": [],
   "source": [
    "COLS_TO_DROP.append(\"game\")"
   ]
  },
  {
   "cell_type": "code",
   "execution_count": 27,
   "id": "f62f8894-41a4-4081-91ac-066f20d0aa09",
   "metadata": {},
   "outputs": [
    {
     "data": {
      "text/plain": [
       "['date', 'ID', 'platform', 'name', 'game']"
      ]
     },
     "execution_count": 27,
     "metadata": {},
     "output_type": "execute_result"
    }
   ],
   "source": [
    "COLS_TO_DROP"
   ]
  },
  {
   "cell_type": "code",
   "execution_count": 28,
   "id": "4d5bd7c5-5be7-4c86-b95b-452cc4925391",
   "metadata": {},
   "outputs": [
    {
     "name": "stderr",
     "output_type": "stream",
     "text": [
      "/home/imd/miniconda3/envs/mlisuct/lib/python3.8/site-packages/pandas/core/frame.py:4901: SettingWithCopyWarning: \n",
      "A value is trying to be set on a copy of a slice from a DataFrame\n",
      "\n",
      "See the caveats in the documentation: https://pandas.pydata.org/pandas-docs/stable/user_guide/indexing.html#returning-a-view-versus-a-copy\n",
      "  return super().drop(\n"
     ]
    }
   ],
   "source": [
    "train_df.drop(columns=COLS_TO_DROP, inplace=True)\n",
    "test_df.drop(columns=COLS_TO_DROP, inplace=True)"
   ]
  },
  {
   "cell_type": "code",
   "execution_count": 29,
   "id": "c3ccd725-3104-4989-8865-1995fecfa277",
   "metadata": {},
   "outputs": [
    {
     "data": {
      "text/html": [
       "<div>\n",
       "<style scoped>\n",
       "    .dataframe tbody tr th:only-of-type {\n",
       "        vertical-align: middle;\n",
       "    }\n",
       "\n",
       "    .dataframe tbody tr th {\n",
       "        vertical-align: top;\n",
       "    }\n",
       "\n",
       "    .dataframe thead th {\n",
       "        text-align: right;\n",
       "    }\n",
       "</style>\n",
       "<table border=\"1\" class=\"dataframe\">\n",
       "  <thead>\n",
       "    <tr style=\"text-align: right;\">\n",
       "      <th></th>\n",
       "      <th>review</th>\n",
       "      <th>score</th>\n",
       "    </tr>\n",
       "  </thead>\n",
       "  <tbody>\n",
       "    <tr>\n",
       "      <th>1364</th>\n",
       "      <td>Two Worlds is atmospheric and exiting, vast an...</td>\n",
       "      <td>70.0</td>\n",
       "    </tr>\n",
       "    <tr>\n",
       "      <th>1352</th>\n",
       "      <td>If you are looking for a really good role play...</td>\n",
       "      <td>91.0</td>\n",
       "    </tr>\n",
       "    <tr>\n",
       "      <th>1353</th>\n",
       "      <td>Two Worlds 2 has lots of different quests, lot...</td>\n",
       "      <td>90.0</td>\n",
       "    </tr>\n",
       "    <tr>\n",
       "      <th>1356</th>\n",
       "      <td>Quotation forthcoming.</td>\n",
       "      <td>85.0</td>\n",
       "    </tr>\n",
       "    <tr>\n",
       "      <th>2596</th>\n",
       "      <td>Still, Faery is commendable for being among th...</td>\n",
       "      <td>58.0</td>\n",
       "    </tr>\n",
       "  </tbody>\n",
       "</table>\n",
       "</div>"
      ],
      "text/plain": [
       "                                                 review  score\n",
       "1364  Two Worlds is atmospheric and exiting, vast an...   70.0\n",
       "1352  If you are looking for a really good role play...   91.0\n",
       "1353  Two Worlds 2 has lots of different quests, lot...   90.0\n",
       "1356                             Quotation forthcoming.   85.0\n",
       "2596  Still, Faery is commendable for being among th...   58.0"
      ]
     },
     "execution_count": 29,
     "metadata": {},
     "output_type": "execute_result"
    }
   ],
   "source": [
    "train_df.head()"
   ]
  },
  {
   "cell_type": "code",
   "execution_count": 32,
   "id": "9fee0743-d65e-4c26-b56b-542702732ce4",
   "metadata": {},
   "outputs": [
    {
     "data": {
      "text/plain": [
       "'Whether playing a campaign against the computer or taking on eight other players in a random map, it bears the hallmark only a few empire building games have--the addiction to take \"just one more turn\".'"
      ]
     },
     "execution_count": 32,
     "metadata": {},
     "output_type": "execute_result"
    }
   ],
   "source": [
    "train_df[\"review\"].sample().iloc[0]"
   ]
  },
  {
   "cell_type": "code",
   "execution_count": 35,
   "id": "00864520-9aee-48f7-8291-4f27eff33285",
   "metadata": {},
   "outputs": [],
   "source": [
    "stem = SnowballStemmer(\"english\")\n",
    "lemma = WordNetLemmatizer()"
   ]
  },
  {
   "cell_type": "code",
   "execution_count": 55,
   "id": "3533e250-ee4b-4bc8-a5bc-35145a719ddd",
   "metadata": {},
   "outputs": [],
   "source": [
    "stopwords_english = stopwords.words(\"english\")"
   ]
  },
  {
   "cell_type": "code",
   "execution_count": 56,
   "id": "06f76b50-6c66-4620-9676-938d4b197e98",
   "metadata": {},
   "outputs": [],
   "source": [
    "stopwords_english = set(stopwords_english)"
   ]
  },
  {
   "cell_type": "code",
   "execution_count": 57,
   "id": "c0b7d315-86bd-4c84-b64b-3d3f4d888192",
   "metadata": {},
   "outputs": [],
   "source": [
    "stopwords_english.remove(\"not\")"
   ]
  },
  {
   "cell_type": "code",
   "execution_count": 67,
   "id": "96ad038c-a788-45c3-9c22-91c69271673c",
   "metadata": {
    "collapsed": true,
    "jupyter": {
     "outputs_hidden": true
    },
    "tags": []
   },
   "outputs": [
    {
     "data": {
      "text/plain": [
       "{'a',\n",
       " 'about',\n",
       " 'above',\n",
       " 'after',\n",
       " 'again',\n",
       " 'against',\n",
       " 'ain',\n",
       " 'all',\n",
       " 'am',\n",
       " 'an',\n",
       " 'and',\n",
       " 'any',\n",
       " 'are',\n",
       " 'aren',\n",
       " \"aren't\",\n",
       " 'as',\n",
       " 'at',\n",
       " 'be',\n",
       " 'because',\n",
       " 'been',\n",
       " 'before',\n",
       " 'being',\n",
       " 'below',\n",
       " 'between',\n",
       " 'both',\n",
       " 'but',\n",
       " 'by',\n",
       " 'can',\n",
       " 'couldn',\n",
       " \"couldn't\",\n",
       " 'd',\n",
       " 'did',\n",
       " 'didn',\n",
       " \"didn't\",\n",
       " 'do',\n",
       " 'does',\n",
       " 'doesn',\n",
       " \"doesn't\",\n",
       " 'doing',\n",
       " 'don',\n",
       " \"don't\",\n",
       " 'down',\n",
       " 'during',\n",
       " 'each',\n",
       " 'few',\n",
       " 'for',\n",
       " 'from',\n",
       " 'further',\n",
       " 'had',\n",
       " 'hadn',\n",
       " \"hadn't\",\n",
       " 'has',\n",
       " 'hasn',\n",
       " \"hasn't\",\n",
       " 'have',\n",
       " 'haven',\n",
       " \"haven't\",\n",
       " 'having',\n",
       " 'he',\n",
       " 'her',\n",
       " 'here',\n",
       " 'hers',\n",
       " 'herself',\n",
       " 'him',\n",
       " 'himself',\n",
       " 'his',\n",
       " 'how',\n",
       " 'i',\n",
       " 'if',\n",
       " 'in',\n",
       " 'into',\n",
       " 'is',\n",
       " 'isn',\n",
       " \"isn't\",\n",
       " 'it',\n",
       " \"it's\",\n",
       " 'its',\n",
       " 'itself',\n",
       " 'just',\n",
       " 'll',\n",
       " 'm',\n",
       " 'ma',\n",
       " 'me',\n",
       " 'mightn',\n",
       " \"mightn't\",\n",
       " 'more',\n",
       " 'most',\n",
       " 'mustn',\n",
       " \"mustn't\",\n",
       " 'my',\n",
       " 'myself',\n",
       " 'needn',\n",
       " \"needn't\",\n",
       " 'no',\n",
       " 'nor',\n",
       " 'now',\n",
       " 'o',\n",
       " 'of',\n",
       " 'off',\n",
       " 'on',\n",
       " 'once',\n",
       " 'only',\n",
       " 'or',\n",
       " 'other',\n",
       " 'our',\n",
       " 'ours',\n",
       " 'ourselves',\n",
       " 'out',\n",
       " 'over',\n",
       " 'own',\n",
       " 're',\n",
       " 's',\n",
       " 'same',\n",
       " 'shan',\n",
       " \"shan't\",\n",
       " 'she',\n",
       " \"she's\",\n",
       " 'should',\n",
       " \"should've\",\n",
       " 'shouldn',\n",
       " \"shouldn't\",\n",
       " 'so',\n",
       " 'some',\n",
       " 'such',\n",
       " 't',\n",
       " 'than',\n",
       " 'that',\n",
       " \"that'll\",\n",
       " 'the',\n",
       " 'their',\n",
       " 'theirs',\n",
       " 'them',\n",
       " 'themselves',\n",
       " 'then',\n",
       " 'there',\n",
       " 'these',\n",
       " 'they',\n",
       " 'this',\n",
       " 'those',\n",
       " 'through',\n",
       " 'to',\n",
       " 'too',\n",
       " 'under',\n",
       " 'until',\n",
       " 'up',\n",
       " 've',\n",
       " 'very',\n",
       " 'was',\n",
       " 'wasn',\n",
       " \"wasn't\",\n",
       " 'we',\n",
       " 'were',\n",
       " 'weren',\n",
       " \"weren't\",\n",
       " 'what',\n",
       " 'when',\n",
       " 'where',\n",
       " 'which',\n",
       " 'while',\n",
       " 'who',\n",
       " 'whom',\n",
       " 'why',\n",
       " 'will',\n",
       " 'with',\n",
       " 'won',\n",
       " \"won't\",\n",
       " 'wouldn',\n",
       " \"wouldn't\",\n",
       " 'y',\n",
       " 'you',\n",
       " \"you'd\",\n",
       " \"you'll\",\n",
       " \"you're\",\n",
       " \"you've\",\n",
       " 'your',\n",
       " 'yours',\n",
       " 'yourself',\n",
       " 'yourselves'}"
      ]
     },
     "execution_count": 67,
     "metadata": {},
     "output_type": "execute_result"
    }
   ],
   "source": [
    "stopwords_english"
   ]
  },
  {
   "cell_type": "code",
   "execution_count": 58,
   "id": "a5808f3f-d258-4489-9028-a8b178c47d5a",
   "metadata": {},
   "outputs": [],
   "source": [
    "IS_ALPHA = re.compile(\"[\\w!?]+\")\n",
    "\n",
    "\n",
    "def preprocess(text):\n",
    "    text = text.replace(\"&\", \" and \")\n",
    "    text = text.replace(\"n't\", \" not \")\n",
    "    text = text.lower()\n",
    "    text_tokens = wordpunct_tokenize(text)\n",
    "    text_tokens = [lemma.lemmatize(token) for token in text_tokens if IS_ALPHA.match(token)]\n",
    "    text_tokens = [token for token in text_tokens if token not in stopwords_english]\n",
    "    text = \" \".join(text_tokens)\n",
    "    return text.strip()"
   ]
  },
  {
   "cell_type": "code",
   "execution_count": 61,
   "id": "d00370e9-4447-48eb-a3e2-84d2192ec015",
   "metadata": {},
   "outputs": [
    {
     "name": "stderr",
     "output_type": "stream",
     "text": [
      "/tmp/ipykernel_13860/494565386.py:1: SettingWithCopyWarning: \n",
      "A value is trying to be set on a copy of a slice from a DataFrame.\n",
      "Try using .loc[row_indexer,col_indexer] = value instead\n",
      "\n",
      "See the caveats in the documentation: https://pandas.pydata.org/pandas-docs/stable/user_guide/indexing.html#returning-a-view-versus-a-copy\n",
      "  train_df[\"review_proceed\"] = train_df[\"review\"].apply(preprocess)\n",
      "/tmp/ipykernel_13860/494565386.py:2: SettingWithCopyWarning: \n",
      "A value is trying to be set on a copy of a slice from a DataFrame.\n",
      "Try using .loc[row_indexer,col_indexer] = value instead\n",
      "\n",
      "See the caveats in the documentation: https://pandas.pydata.org/pandas-docs/stable/user_guide/indexing.html#returning-a-view-versus-a-copy\n",
      "  test_df[\"review_proceed\"] = test_df[\"review\"].apply(preprocess)\n"
     ]
    }
   ],
   "source": [
    "train_df[\"review_proceed\"] = train_df[\"review\"].apply(preprocess)\n",
    "test_df[\"review_proceed\"] = test_df[\"review\"].apply(preprocess)"
   ]
  },
  {
   "cell_type": "code",
   "execution_count": 62,
   "id": "a8d04bb6-3896-4fc1-b725-524ad7d30f1b",
   "metadata": {},
   "outputs": [],
   "source": [
    "COLS_TO_FIT = \"review_proceed\"\n",
    "TARGET_COL = \"score\""
   ]
  },
  {
   "cell_type": "code",
   "execution_count": 72,
   "id": "2c61504d-98fb-42d4-9515-ca29390f632e",
   "metadata": {},
   "outputs": [],
   "source": [
    "pipe = Pipeline([\n",
    "    (\"vectorizer\", CountVectorizer(token_pattern=r\"\\S+\")),\n",
    "    (\"model\", SGDRegressor(alpha=0)),\n",
    "])"
   ]
  },
  {
   "cell_type": "code",
   "execution_count": 73,
   "id": "4d4d131f-9c6c-459c-9b52-64126a978e74",
   "metadata": {},
   "outputs": [],
   "source": [
    "def train_and_validate(model, train_df, test_df):\n",
    "    model.fit(train_df[COLS_TO_FIT], train_df[TARGET_COL])\n",
    "    prediction = model.predict(test_df[COLS_TO_FIT])\n",
    "    mse = mean_squared_error(test_df[TARGET_COL], prediction)\n",
    "    print(f\"mse: {mean_squared_error(test_df[TARGET_COL], prediction):.3f}\")\n",
    "    print(f\"mae: {mean_absolute_error(test_df[TARGET_COL], prediction):.3f}\")\n",
    "    return mse"
   ]
  },
  {
   "cell_type": "code",
   "execution_count": null,
   "id": "c21cc329-3882-4a33-a25c-48bf19142f4b",
   "metadata": {},
   "outputs": [
    {
     "name": "stderr",
     "output_type": "stream",
     "text": [
      "/home/imd/miniconda3/envs/mlisuct/lib/python3.8/site-packages/sklearn/linear_model/_stochastic_gradient.py:1225: ConvergenceWarning: Maximum number of iteration reached before convergence. Consider increasing max_iter to improve the fit.\n",
      "  warnings.warn(\"Maximum number of iteration reached before \"\n"
     ]
    },
    {
     "name": "stdout",
     "output_type": "stream",
     "text": [
      "mse: 138.634\n",
      "mae: 8.973\n"
     ]
    }
   ],
   "source": [
    "train_and_validate(pipe, train_df, test_df)"
   ]
  },
  {
   "cell_type": "code",
   "execution_count": 75,
   "id": "6735c58c-98f0-4014-957a-27821905ec10",
   "metadata": {},
   "outputs": [],
   "source": [
    "pipe = Pipeline([\n",
    "    (\"vectorizer\", CountVectorizer(token_pattern=r\"\\S+\", ngram_range=(1, 2))),\n",
    "    (\"model\", SGDRegressor(alpha=0)),\n",
    "])"
   ]
  },
  {
   "cell_type": "code",
   "execution_count": 76,
   "id": "cec6474f-d94e-4262-9f48-990c2a2bfe35",
   "metadata": {},
   "outputs": [
    {
     "name": "stderr",
     "output_type": "stream",
     "text": [
      "/home/imd/miniconda3/envs/mlisuct/lib/python3.8/site-packages/sklearn/linear_model/_stochastic_gradient.py:1225: ConvergenceWarning: Maximum number of iteration reached before convergence. Consider increasing max_iter to improve the fit.\n",
      "  warnings.warn(\"Maximum number of iteration reached before \"\n"
     ]
    },
    {
     "name": "stdout",
     "output_type": "stream",
     "text": [
      "mse: 172.044\n",
      "mae: 10.185\n"
     ]
    }
   ],
   "source": [
    "train_and_validate(pipe, train_df, test_df)"
   ]
  },
  {
   "cell_type": "code",
   "execution_count": 84,
   "id": "e8ff8056-bdda-49ef-b6a1-07a965939e49",
   "metadata": {},
   "outputs": [],
   "source": [
    "pipe = Pipeline([\n",
    "    (\"vectorizer\", CountVectorizer(token_pattern=r\"\\S+\", ngram_range=(1, 1), min_df=5, max_df=0.3)),\n",
    "    (\"model\", SGDRegressor(alpha=0)),\n",
    "])"
   ]
  },
  {
   "cell_type": "code",
   "execution_count": 85,
   "id": "2fdfde35-e37d-4edc-b700-e391cf5613a4",
   "metadata": {},
   "outputs": [
    {
     "name": "stderr",
     "output_type": "stream",
     "text": [
      "/home/imd/miniconda3/envs/mlisuct/lib/python3.8/site-packages/sklearn/linear_model/_stochastic_gradient.py:1225: ConvergenceWarning: Maximum number of iteration reached before convergence. Consider increasing max_iter to improve the fit.\n",
      "  warnings.warn(\"Maximum number of iteration reached before \"\n"
     ]
    },
    {
     "name": "stdout",
     "output_type": "stream",
     "text": [
      "mse: 136.653\n",
      "mae: 8.913\n"
     ]
    }
   ],
   "source": [
    "train_and_validate(pipe, train_df, test_df)"
   ]
  },
  {
   "cell_type": "code",
   "execution_count": 88,
   "id": "69123ba1-fd42-4bff-87db-885133928198",
   "metadata": {},
   "outputs": [],
   "source": [
    "pipe = Pipeline([\n",
    "    (\"vectorizer\", TfidfVectorizer(token_pattern=r\"\\S+\", ngram_range=(1, 1), min_df=5, max_df=0.3)),\n",
    "    (\"model\", SGDRegressor(alpha=0)),\n",
    "])"
   ]
  },
  {
   "cell_type": "code",
   "execution_count": 89,
   "id": "448b4770-a521-4053-9024-d34878ae26e5",
   "metadata": {},
   "outputs": [
    {
     "name": "stderr",
     "output_type": "stream",
     "text": [
      "/home/imd/miniconda3/envs/mlisuct/lib/python3.8/site-packages/sklearn/linear_model/_stochastic_gradient.py:1225: ConvergenceWarning: Maximum number of iteration reached before convergence. Consider increasing max_iter to improve the fit.\n",
      "  warnings.warn(\"Maximum number of iteration reached before \"\n"
     ]
    },
    {
     "name": "stdout",
     "output_type": "stream",
     "text": [
      "mse: 117.016\n",
      "mae: 8.167\n"
     ]
    }
   ],
   "source": [
    "train_and_validate(pipe, train_df, test_df)"
   ]
  },
  {
   "cell_type": "code",
   "execution_count": 86,
   "id": "273ce138-e675-485f-b1ac-f1ae04d64b60",
   "metadata": {},
   "outputs": [],
   "source": [
    "model = api.load(\"word2vec-google-news-300\")"
   ]
  },
  {
   "cell_type": "code",
   "execution_count": 96,
   "id": "a1a171a9-cdf6-446b-9f9d-1bd44c6e05d2",
   "metadata": {},
   "outputs": [],
   "source": [
    "class Word2VecModel(BaseEstimator, TransformerMixin):\n",
    "    \n",
    "    def __init__(self, model):\n",
    "        self.model = model\n",
    "        \n",
    "    def get_mean_vector(self, text):\n",
    "        v = np.zeros(300)\n",
    "        c = 0\n",
    "        for word in text.split(\" \"):\n",
    "            if word in self.model:\n",
    "                v += self.model.get_vector(word)\n",
    "                c += 1\n",
    "        c = max(1, c)\n",
    "        return v / c\n",
    "        \n",
    "    def fit(self, X, y):\n",
    "        return self\n",
    "    \n",
    "    def transform(self, X):\n",
    "        return np.array([self.get_mean_vector(x) for x in X])"
   ]
  },
  {
   "cell_type": "code",
   "execution_count": 97,
   "id": "c7e05cdf-28c9-48dc-ac10-05dab8333e62",
   "metadata": {},
   "outputs": [],
   "source": [
    "pipe = Pipeline([\n",
    "    (\"vectorizer\", Word2VecModel(model)),\n",
    "    (\"model\", SGDRegressor(alpha=0)),\n",
    "])"
   ]
  },
  {
   "cell_type": "code",
   "execution_count": 98,
   "id": "eb0dcad1-c136-4ac6-90aa-12b6310b2abd",
   "metadata": {},
   "outputs": [
    {
     "name": "stdout",
     "output_type": "stream",
     "text": [
      "mse: 134.995\n",
      "mae: 8.797\n"
     ]
    }
   ],
   "source": [
    "train_and_validate(pipe, train_df, test_df)"
   ]
  }
 ],
 "metadata": {
  "kernelspec": {
   "display_name": "Python 3 (ipykernel)",
   "language": "python",
   "name": "python3"
  },
  "language_info": {
   "codemirror_mode": {
    "name": "ipython",
    "version": 3
   },
   "file_extension": ".py",
   "mimetype": "text/x-python",
   "name": "python",
   "nbconvert_exporter": "python",
   "pygments_lexer": "ipython3",
   "version": "3.10.4"
  }
 },
 "nbformat": 4,
 "nbformat_minor": 5
}
