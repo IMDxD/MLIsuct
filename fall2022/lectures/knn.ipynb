{
 "cells": [
  {
   "cell_type": "code",
   "execution_count": 1,
   "id": "795fcf4c-db2f-4429-9d8b-41ff7308858c",
   "metadata": {},
   "outputs": [],
   "source": [
    "%config Completer.use_jedi=False"
   ]
  },
  {
   "cell_type": "code",
   "execution_count": 2,
   "id": "2baa090b-e1ef-4ab3-ac3b-25b8c457175b",
   "metadata": {},
   "outputs": [],
   "source": [
    "import numpy as np\n",
    "import pandas as pd\n",
    "import matplotlib.pyplot as plt\n",
    "from scipy.spatial.distance import cdist\n",
    "from sklearn.datasets import load_iris\n",
    "from sklearn.preprocessing import MinMaxScaler\n",
    "from sklearn.model_selection import train_test_split\n",
    "from sklearn.metrics import accuracy_score"
   ]
  },
  {
   "cell_type": "code",
   "execution_count": 3,
   "id": "15799cc9-05c3-44c0-bd3d-4144fe9c1512",
   "metadata": {},
   "outputs": [],
   "source": [
    "# подгружаем данные по цветкам ирисов, данные представляют собой словарь где по ключам находятся объекты, нас интересуют свойства цветков и метки их видов\n",
    "data = load_iris()"
   ]
  },
  {
   "cell_type": "code",
   "execution_count": 4,
   "id": "da3c8dfa-47b9-4208-aff7-8e5f524fed7c",
   "metadata": {},
   "outputs": [],
   "source": [
    "X = data[\"data\"] # как и в дальнейшем данные для обучения будем называть Х\n",
    "y = data[\"target\"] # как и в дальнейшем метки для обучения будем называть Х"
   ]
  },
  {
   "cell_type": "code",
   "execution_count": 5,
   "id": "94201958-437a-4378-a9a8-b7759be395bf",
   "metadata": {},
   "outputs": [
    {
     "data": {
      "text/plain": [
       "(150, 4)"
      ]
     },
     "execution_count": 5,
     "metadata": {},
     "output_type": "execute_result"
    }
   ],
   "source": [
    "X.shape # 150 строк, 4 столбца"
   ]
  },
  {
   "cell_type": "code",
   "execution_count": 6,
   "id": "522e8e2e-e62e-4877-9424-dc30ecfbbf7c",
   "metadata": {},
   "outputs": [
    {
     "data": {
      "text/plain": [
       "(150,)"
      ]
     },
     "execution_count": 6,
     "metadata": {},
     "output_type": "execute_result"
    }
   ],
   "source": [
    "y.shape # массив из 150 значений"
   ]
  },
  {
   "cell_type": "code",
   "execution_count": 7,
   "id": "489845d8-dff8-4a12-b81d-732b8f545051",
   "metadata": {},
   "outputs": [],
   "source": [
    "# созданим датафрейм на основе двумерного массива Х, названия колонок возьмем из data по ключу feature_names\n",
    "\n",
    "df = pd.DataFrame(X, columns=data[\"feature_names\"])"
   ]
  },
  {
   "cell_type": "code",
   "execution_count": 8,
   "id": "5c13e72d-36a9-4cf0-8ca7-cd5673a26085",
   "metadata": {},
   "outputs": [
    {
     "data": {
      "text/html": [
       "<div>\n",
       "<style scoped>\n",
       "    .dataframe tbody tr th:only-of-type {\n",
       "        vertical-align: middle;\n",
       "    }\n",
       "\n",
       "    .dataframe tbody tr th {\n",
       "        vertical-align: top;\n",
       "    }\n",
       "\n",
       "    .dataframe thead th {\n",
       "        text-align: right;\n",
       "    }\n",
       "</style>\n",
       "<table border=\"1\" class=\"dataframe\">\n",
       "  <thead>\n",
       "    <tr style=\"text-align: right;\">\n",
       "      <th></th>\n",
       "      <th>sepal length (cm)</th>\n",
       "      <th>sepal width (cm)</th>\n",
       "      <th>petal length (cm)</th>\n",
       "      <th>petal width (cm)</th>\n",
       "    </tr>\n",
       "  </thead>\n",
       "  <tbody>\n",
       "    <tr>\n",
       "      <th>0</th>\n",
       "      <td>5.1</td>\n",
       "      <td>3.5</td>\n",
       "      <td>1.4</td>\n",
       "      <td>0.2</td>\n",
       "    </tr>\n",
       "    <tr>\n",
       "      <th>1</th>\n",
       "      <td>4.9</td>\n",
       "      <td>3.0</td>\n",
       "      <td>1.4</td>\n",
       "      <td>0.2</td>\n",
       "    </tr>\n",
       "    <tr>\n",
       "      <th>2</th>\n",
       "      <td>4.7</td>\n",
       "      <td>3.2</td>\n",
       "      <td>1.3</td>\n",
       "      <td>0.2</td>\n",
       "    </tr>\n",
       "    <tr>\n",
       "      <th>3</th>\n",
       "      <td>4.6</td>\n",
       "      <td>3.1</td>\n",
       "      <td>1.5</td>\n",
       "      <td>0.2</td>\n",
       "    </tr>\n",
       "    <tr>\n",
       "      <th>4</th>\n",
       "      <td>5.0</td>\n",
       "      <td>3.6</td>\n",
       "      <td>1.4</td>\n",
       "      <td>0.2</td>\n",
       "    </tr>\n",
       "  </tbody>\n",
       "</table>\n",
       "</div>"
      ],
      "text/plain": [
       "   sepal length (cm)  sepal width (cm)  petal length (cm)  petal width (cm)\n",
       "0                5.1               3.5                1.4               0.2\n",
       "1                4.9               3.0                1.4               0.2\n",
       "2                4.7               3.2                1.3               0.2\n",
       "3                4.6               3.1                1.5               0.2\n",
       "4                5.0               3.6                1.4               0.2"
      ]
     },
     "execution_count": 8,
     "metadata": {},
     "output_type": "execute_result"
    }
   ],
   "source": [
    "# смотрим первые N строчек, по умолчанию 5\n",
    "\n",
    "df.head()"
   ]
  },
  {
   "cell_type": "code",
   "execution_count": 9,
   "id": "c80ac9a4-e539-4c22-8c5d-e3929eb85081",
   "metadata": {},
   "outputs": [],
   "source": [
    "# добавим новую колонку label куда запишем метки из y (150 меток для 150 строк)\n",
    "\n",
    "df[\"label\"] = y"
   ]
  },
  {
   "cell_type": "code",
   "execution_count": 10,
   "id": "915c1343-25f2-49e4-b2e8-ae3670325194",
   "metadata": {},
   "outputs": [
    {
     "data": {
      "text/html": [
       "<div>\n",
       "<style scoped>\n",
       "    .dataframe tbody tr th:only-of-type {\n",
       "        vertical-align: middle;\n",
       "    }\n",
       "\n",
       "    .dataframe tbody tr th {\n",
       "        vertical-align: top;\n",
       "    }\n",
       "\n",
       "    .dataframe thead th {\n",
       "        text-align: right;\n",
       "    }\n",
       "</style>\n",
       "<table border=\"1\" class=\"dataframe\">\n",
       "  <thead>\n",
       "    <tr style=\"text-align: right;\">\n",
       "      <th></th>\n",
       "      <th>sepal length (cm)</th>\n",
       "      <th>sepal width (cm)</th>\n",
       "      <th>petal length (cm)</th>\n",
       "      <th>petal width (cm)</th>\n",
       "      <th>label</th>\n",
       "    </tr>\n",
       "  </thead>\n",
       "  <tbody>\n",
       "    <tr>\n",
       "      <th>15</th>\n",
       "      <td>5.7</td>\n",
       "      <td>4.4</td>\n",
       "      <td>1.5</td>\n",
       "      <td>0.4</td>\n",
       "      <td>0</td>\n",
       "    </tr>\n",
       "    <tr>\n",
       "      <th>59</th>\n",
       "      <td>5.2</td>\n",
       "      <td>2.7</td>\n",
       "      <td>3.9</td>\n",
       "      <td>1.4</td>\n",
       "      <td>1</td>\n",
       "    </tr>\n",
       "    <tr>\n",
       "      <th>69</th>\n",
       "      <td>5.6</td>\n",
       "      <td>2.5</td>\n",
       "      <td>3.9</td>\n",
       "      <td>1.1</td>\n",
       "      <td>1</td>\n",
       "    </tr>\n",
       "    <tr>\n",
       "      <th>0</th>\n",
       "      <td>5.1</td>\n",
       "      <td>3.5</td>\n",
       "      <td>1.4</td>\n",
       "      <td>0.2</td>\n",
       "      <td>0</td>\n",
       "    </tr>\n",
       "    <tr>\n",
       "      <th>53</th>\n",
       "      <td>5.5</td>\n",
       "      <td>2.3</td>\n",
       "      <td>4.0</td>\n",
       "      <td>1.3</td>\n",
       "      <td>1</td>\n",
       "    </tr>\n",
       "  </tbody>\n",
       "</table>\n",
       "</div>"
      ],
      "text/plain": [
       "    sepal length (cm)  sepal width (cm)  petal length (cm)  petal width (cm)  \\\n",
       "15                5.7               4.4                1.5               0.4   \n",
       "59                5.2               2.7                3.9               1.4   \n",
       "69                5.6               2.5                3.9               1.1   \n",
       "0                 5.1               3.5                1.4               0.2   \n",
       "53                5.5               2.3                4.0               1.3   \n",
       "\n",
       "    label  \n",
       "15      0  \n",
       "59      1  \n",
       "69      1  \n",
       "0       0  \n",
       "53      1  "
      ]
     },
     "execution_count": 10,
     "metadata": {},
     "output_type": "execute_result"
    }
   ],
   "source": [
    "# случайно возьмем 5 строк, мы можем попробовать визуально найти способ чтобы выделить свойства каждой из меток\n",
    "\n",
    "df.sample(5)"
   ]
  },
  {
   "cell_type": "code",
   "execution_count": 11,
   "id": "248febd7-a11f-446f-aa72-68142e0a81a1",
   "metadata": {},
   "outputs": [
    {
     "data": {
      "image/png": "[encoded data removed]",
      "text/plain": [
       "<Figure size 1600x1200 with 1 Axes>"
      ]
     },
     "metadata": {},
     "output_type": "display_data"
    }
   ],
   "source": [
    "# отобразим данные для удобства восприятия, возьмем свойства sepal length (cm) и petal length (cm), попробуем спрогнозировать к какому классу принадлежит красная точка\n",
    "plt.figure(figsize=(16, 12))\n",
    "\n",
    "for i in range(3):\n",
    "    plt.scatter(\n",
    "        df.loc[df[\"label\"] == i][\"sepal length (cm)\"], \n",
    "        df.loc[df[\"label\"] == i][\"petal length (cm)\"],\n",
    "        label=data[\"target_names\"][i]\n",
    "    )\n",
    "plt.scatter([4.7], [4], label=\"unk\")\n",
    "plt.xlabel(\"sepal length (cm)\")\n",
    "plt.ylabel(\"petal length (cm)\")\n",
    "plt.legend();"
   ]
  },
  {
   "cell_type": "markdown",
   "id": "230083ba-d297-450f-9869-5417a25d934d",
   "metadata": {},
   "source": [
    "Сделаем предположение что точка будет принадлежать к тому классу, к точке которого она находится ближе всего\n",
    "\n",
    "Для этого нам необходимо посчитать расстояние до всех точек, от заданной $\\large{z}$ по формуле $\\large{\\sqrt{\\sum_i^N(x_i - z)^2}}$\n",
    "\n",
    "После этого нам необходимо найти наименьшее расстояние и взять класс этой точки\n",
    "\n",
    "Заметим что для поиска наименьшего расстояния необходимо знать только порядок отношения (больше меньше) и не важны абсолютные значения, поэтому корень считать не обязательно, поскольку квадратичная функция для неотрицательных значений постоянно возрастающая и не меняет порядок отношения"
   ]
  },
  {
   "cell_type": "code",
   "execution_count": 12,
   "id": "ffa234f4-39eb-43a8-a0d1-619e4df579cf",
   "metadata": {},
   "outputs": [],
   "source": [
    "class NN:\n",
    "    \n",
    "    def __init__(self):\n",
    "        self.X = None # инициализируем X и y для того чтобы аттрибуты класса были предопределенны заранее\n",
    "        self.y = None\n",
    "    \n",
    "    def fit(self, X, y):\n",
    "        self.X = X # запоминаем данные внутри объекта\n",
    "        self.y = y\n",
    "    \n",
    "    def predict(self, X):\n",
    "        \"\"\"\n",
    "        self.X (N, 4)\n",
    "        X (1, 4)\n",
    "        \"\"\"\n",
    "\n",
    "        square_coords = (self.X - X) ** 2 # считаем квадраты разности координат от точки до наших данных\n",
    "        distances = square_coords.sum(1) # суммируем квадраты координат вдоль стоблцов чтобы получить квадрат расстояния\n",
    "        min_index = np.argmin(distances) # находим индекс минимального расстояния\n",
    "        return self.y[min_index: min_index + 1] # возвращаяем класс по индексу"
   ]
  },
  {
   "cell_type": "code",
   "execution_count": 13,
   "id": "b5c16cf9-6916-4663-b1a4-b8101f1f942b",
   "metadata": {},
   "outputs": [],
   "source": [
    "# для проверки алгорима нам необходимо разделить данные на тренировочные и проверочные, сделать это можно с помощью метода train_test_split в который передаются данные, метки\n",
    "# аргументы test_size - размер проверочных данных, shuffle случайная сортировка перед разделением, random_state - ядро генератора случайных чисел для воспроизводимости\n",
    "\n",
    "train_X, test_X, train_y, test_y = train_test_split(\n",
    "    X, y, test_size=0.2, shuffle=True, random_state=42\n",
    ")"
   ]
  },
  {
   "cell_type": "code",
   "execution_count": 14,
   "id": "7179dfdd-0d55-4088-8f6c-239bad410c5f",
   "metadata": {},
   "outputs": [
    {
     "data": {
      "text/plain": [
       "array([0, 0, 0, 0, 0, 0, 0, 0, 0, 0, 0, 0, 0, 0, 0, 0, 0, 0, 0, 0, 0, 0,\n",
       "       0, 0, 0, 0, 0, 0, 0, 0, 0, 0, 0, 0, 0, 0, 0, 0, 0, 0, 0, 0, 0, 0,\n",
       "       0, 0, 0, 0, 0, 0, 1, 1, 1, 1, 1, 1, 1, 1, 1, 1, 1, 1, 1, 1, 1, 1,\n",
       "       1, 1, 1, 1, 1, 1, 1, 1, 1, 1, 1, 1, 1, 1, 1, 1, 1, 1, 1, 1, 1, 1,\n",
       "       1, 1, 1, 1, 1, 1, 1, 1, 1, 1, 1, 1, 2, 2, 2, 2, 2, 2, 2, 2, 2, 2,\n",
       "       2, 2, 2, 2, 2, 2, 2, 2, 2, 2, 2, 2, 2, 2, 2, 2, 2, 2, 2, 2, 2, 2,\n",
       "       2, 2, 2, 2, 2, 2, 2, 2, 2, 2, 2, 2, 2, 2, 2, 2, 2, 2])"
      ]
     },
     "execution_count": 14,
     "metadata": {},
     "output_type": "execute_result"
    }
   ],
   "source": [
    "y # данные нужно перемешать чтобы не получить только 2ю метку в проверке"
   ]
  },
  {
   "cell_type": "code",
   "execution_count": 15,
   "id": "8d961588-d8e7-44bc-8090-70d8ba040539",
   "metadata": {},
   "outputs": [],
   "source": [
    "model = NN() # инициализирует объект модели"
   ]
  },
  {
   "cell_type": "code",
   "execution_count": 16,
   "id": "3e20ecfb-5352-45f0-9718-f476a311732c",
   "metadata": {},
   "outputs": [],
   "source": [
    "model.fit(train_X, train_y) # тренируем модель"
   ]
  },
  {
   "cell_type": "code",
   "execution_count": 17,
   "id": "c169aa0f-07b8-4ebc-8707-0c466fdab75a",
   "metadata": {},
   "outputs": [],
   "source": [
    "# делаем предсказания модели\n",
    "\n",
    "y_preds = []\n",
    "for i in range(test_X.shape[0]):\n",
    "    sample = test_X[i: i+1, :]\n",
    "    prediction = model.predict(sample)\n",
    "    y_preds.extend(prediction)"
   ]
  },
  {
   "cell_type": "code",
   "execution_count": 18,
   "id": "d1eab057-c27d-4290-91c4-aec0c9185dfe",
   "metadata": {},
   "outputs": [
    {
     "data": {
      "text/plain": [
       "array([1, 0, 2, 1, 1, 0, 1, 2, 1, 1, 2, 0, 0, 0, 0, 1, 2, 1, 1, 2, 0, 2,\n",
       "       0, 2, 2, 2, 2, 2, 0, 0])"
      ]
     },
     "execution_count": 18,
     "metadata": {},
     "output_type": "execute_result"
    }
   ],
   "source": [
    "test_y"
   ]
  },
  {
   "cell_type": "code",
   "execution_count": 19,
   "id": "9dbfc6ef-3979-4344-bba6-5b8ffcd4aab2",
   "metadata": {},
   "outputs": [
    {
     "data": {
      "text/plain": [
       "array([1, 0, 2, 1, 1, 0, 1, 2, 1, 1, 2, 0, 0, 0, 0, 1, 2, 1, 1, 2, 0, 2,\n",
       "       0, 2, 2, 2, 2, 2, 0, 0])"
      ]
     },
     "execution_count": 19,
     "metadata": {},
     "output_type": "execute_result"
    }
   ],
   "source": [
    "np.array(y_preds) # предсказания можно проверить глазами, но лучше посчитать accuracy"
   ]
  },
  {
   "cell_type": "code",
   "execution_count": 20,
   "id": "d0c55a50-e319-4d02-be41-e5b23bdad7a8",
   "metadata": {},
   "outputs": [],
   "source": [
    "y_preds_array = np.array(y_preds) # переводим предсказания в массив \n",
    "is_same = (test_y == y_preds_array) # поэлементно сравниваем предсказания и действительные метки\n",
    "is_same_count = is_same.sum() # поскольку True это 1 а False это 0, то сумма значений будет равна количеству совпадающих элементов\n",
    "accuracy = is_same_count / test_y.shape[0] # делим количество совпадающих элементов на общее количество элементов чтобы узнать процент совпавших элементов"
   ]
  },
  {
   "cell_type": "code",
   "execution_count": 21,
   "id": "35398ea0-791e-4240-bcc0-39b581fceb74",
   "metadata": {},
   "outputs": [
    {
     "data": {
      "text/plain": [
       "1.0"
      ]
     },
     "execution_count": 21,
     "metadata": {},
     "output_type": "execute_result"
    }
   ],
   "source": [
    "accuracy"
   ]
  },
  {
   "cell_type": "code",
   "execution_count": 22,
   "id": "9f8e0c15-479a-4af5-b758-0ac41d0762c5",
   "metadata": {},
   "outputs": [],
   "source": [
    "# перепишем то что мы сделали в функцию для удобства\n",
    "\n",
    "def test_model(X, y):\n",
    "    train_X, test_X, train_y, test_y = train_test_split(\n",
    "        X, y, test_size=0.2, shuffle=True, random_state=42\n",
    "    )\n",
    "    model = NN()\n",
    "    model.fit(train_X, train_y)\n",
    "    y_preds = []\n",
    "    for i in range(test_X.shape[0]):\n",
    "        sample = test_X[i: i+1, :]\n",
    "        prediction = model.predict(sample)\n",
    "        y_preds.extend(prediction)\n",
    "        \n",
    "    y_preds_array = np.array(y_preds)\n",
    "    is_same = (test_y == y_preds_array)\n",
    "    is_same_count = is_same.sum()\n",
    "    accuracy = is_same_count / test_y.shape[0]\n",
    "    return accuracy"
   ]
  },
  {
   "cell_type": "code",
   "execution_count": 23,
   "id": "298e89b2-5461-4c7e-b9d5-7fdfc904c76f",
   "metadata": {},
   "outputs": [
    {
     "data": {
      "text/plain": [
       "1.0"
      ]
     },
     "execution_count": 23,
     "metadata": {},
     "output_type": "execute_result"
    }
   ],
   "source": [
    "test_model(X, y)"
   ]
  },
  {
   "cell_type": "code",
   "execution_count": 24,
   "id": "a284f2a8-27c4-4679-8ce3-0a045a768d7b",
   "metadata": {},
   "outputs": [],
   "source": [
    "X_break = X.copy() # сделаем копию наших данных"
   ]
  },
  {
   "cell_type": "code",
   "execution_count": 25,
   "id": "9464ab99-a56c-4e0b-8d9c-d10bfbb524b9",
   "metadata": {},
   "outputs": [],
   "source": [
    "X_break[:, 0] *= 100 # умножим всю первую колонку на 100"
   ]
  },
  {
   "cell_type": "code",
   "execution_count": 26,
   "id": "3aed9a34-5a63-412b-b911-c541a709739f",
   "metadata": {},
   "outputs": [
    {
     "data": {
      "text/plain": [
       "0.8333333333333334"
      ]
     },
     "execution_count": 26,
     "metadata": {},
     "output_type": "execute_result"
    }
   ],
   "source": [
    "test_model(X_break, y) # качество модели просело на 17%"
   ]
  },
  {
   "cell_type": "markdown",
   "id": "d59fe3bb-7ca1-48c7-9faf-4a1da21a9bc6",
   "metadata": {},
   "source": [
    "Разберемся что произошло, по нашей формуле квадрат расстояния равен\n",
    "\n",
    "$$\\large{d = (x_1 - z_1)^2 + (x_2 - z_2)^2 + (x_3 - z_3)^2 + (x_4 - z_4)^2}$$\n",
    "\n",
    "мы домножили первую координату на 100\n",
    "\n",
    "$$\\large{d = (100 x_1 - 100 z_1)^2 + (x_2 - z_2)^2 + (x_3 - z_3)^2 + (x_4 - z_4)^2}$$\n",
    "\n",
    "$$\\large{d = 10^4(x_1 - z_1)^2 + (x_2 - z_2)^2 + (x_3 - z_3)^2 + (x_4 - z_4)^2}$$\n",
    "\n",
    "Учитывая что все координаты были примерно равны, после умножения на 100 значение первой координаты стало важнее в $10^4$ раз и остальные свойства практически не влияют на модель"
   ]
  },
  {
   "cell_type": "markdown",
   "id": "88a2a443-b02c-403e-a3ee-58a9ca4e02e2",
   "metadata": {},
   "source": [
    "Такое может быть не только в искуственных данных, например в модели предсказывающей вернет ли человек кредит, в данных есть такие факторы как возраст и зарплата которые отличаются в 1000 раз\n",
    "\n",
    "Для того чтобы данные влияли одинаково, необходимо их смаштабировать в одну систему координат, например от 0 до 1, для этого можно использовать min max нормализацию\n",
    "\n",
    "$$\\large{x_{scaled} = \\frac{x - x_{min}}{x_{max} - x_{min}}}$$"
   ]
  },
  {
   "cell_type": "code",
   "execution_count": 27,
   "id": "16dea0ff-338a-413f-b1a7-f1f79cf38a9c",
   "metadata": {},
   "outputs": [],
   "source": [
    "def test_model_scaled(X, y):\n",
    "    train_X, test_X, train_y, test_y = train_test_split(\n",
    "        X, y, test_size=0.2, shuffle=True, random_state=42\n",
    "    )\n",
    "    scaler = MinMaxScaler() # инициализируем класс min max нормализации\n",
    "    scaler.fit(train_X) # тренируем объект, только на данных для обучения!\n",
    "    scaled_train_X = scaler.transform(train_X) # масштабируем наши данные для обучения\n",
    "    model = NN()\n",
    "    model.fit(scaled_train_X, train_y)\n",
    "    y_preds = []\n",
    "    scaled_test_X = scaler.transform(test_X) # масштабируем наши данные для проверки\n",
    "    for i in range(test_X.shape[0]):\n",
    "        sample = scaled_test_X[i: i+1, :]\n",
    "        prediction = model.predict(sample)\n",
    "        y_preds.extend(prediction)\n",
    "    return (test_y == np.array(y_preds)).sum() / test_y.shape[0]"
   ]
  },
  {
   "cell_type": "code",
   "execution_count": 28,
   "id": "e768b1f3-7f69-4e82-84f1-7cf5acab67eb",
   "metadata": {},
   "outputs": [
    {
     "data": {
      "text/plain": [
       "1.0"
      ]
     },
     "execution_count": 28,
     "metadata": {},
     "output_type": "execute_result"
    }
   ],
   "source": [
    "test_model_scaled(X, y)"
   ]
  },
  {
   "cell_type": "code",
   "execution_count": 29,
   "id": "c7330077-7218-4bf6-9b8f-f747d1d14fb7",
   "metadata": {},
   "outputs": [
    {
     "data": {
      "text/plain": [
       "1.0"
      ]
     },
     "execution_count": 29,
     "metadata": {},
     "output_type": "execute_result"
    }
   ],
   "source": [
    "test_model_scaled(X_break, y)"
   ]
  },
  {
   "cell_type": "markdown",
   "id": "47fcac53-634e-48cb-b947-c427ba98bd56",
   "metadata": {},
   "source": [
    "Часто возникают ситуации когда данные имеют некорректные свойства, для разных точек, например у нас крайнее левая зеленая точка выбивается из кластера зеленых точек и возможно является выбросом и учитывая модель какая то область пространства будет неправильно классифицироваться вблизи этой точки.\n",
    "\n",
    "Это можно исправить если мы будем считать расстояние не до одной точки а до K ближайших и возвращать тот класс который представлен наиболее часто в этих K"
   ]
  },
  {
   "cell_type": "code",
   "execution_count": 30,
   "id": "3867ed81-1253-4888-ac62-a228f16d4abf",
   "metadata": {},
   "outputs": [
    {
     "data": {
      "text/plain": [
       "(array([0, 1, 2]), array([50, 50, 50], dtype=int64))"
      ]
     },
     "execution_count": 30,
     "metadata": {},
     "output_type": "execute_result"
    }
   ],
   "source": [
    "np.unique(y, return_counts=True)"
   ]
  },
  {
   "cell_type": "code",
   "execution_count": 31,
   "id": "4d5a3095-be7b-43bc-8ead-5df558e84410",
   "metadata": {},
   "outputs": [],
   "source": [
    "class KNN:\n",
    "    \n",
    "    def __init__(self, k):\n",
    "        # k - количество ближайших соседей\n",
    "        self.k = k\n",
    "        self.X = None\n",
    "        self.y = None\n",
    "    \n",
    "    def fit(self, X, y):\n",
    "        self.X = X\n",
    "        self.y = y\n",
    "    \n",
    "    def predict(self, X):\n",
    "\n",
    "        square_coords = (self.X - X) ** 2\n",
    "        distances = square_coords.sum(1)\n",
    "        min_indexes = np.argsort(distances)[:self.k] # argsort возвращает порядок индексов при правильной сортировке, возьмем первые k элементов\n",
    "        values, counts = np.unique(self.y[min_indexes], return_counts=True) \n",
    "        # np.unique возвращает уникальные значения в массиве y[min_index] в котором находятся классы ближайших точек\n",
    "        # return_counts = True так же возвращает количество каждого из уникальных значений\n",
    "        max_count = np.argmax(counts) # берем индекс наибольшего количество\n",
    "        return values[max_count: max_count + 1] # возвращаем класс с наибольшим количеством"
   ]
  },
  {
   "cell_type": "code",
   "execution_count": 32,
   "id": "7f9807bf-6b90-4690-a734-cbc26f8c6c88",
   "metadata": {},
   "outputs": [],
   "source": [
    "def test_model_scaled_knn(X, y, k=3): # k - количество ближайших соседей\n",
    "    train_X, test_X, train_y, test_y = train_test_split(\n",
    "        X, y, test_size=0.2, shuffle=True, random_state=42\n",
    "    )\n",
    "    scaler = MinMaxScaler()\n",
    "    scaler.fit(train_X)\n",
    "    scaled_train_X = scaler.transform(train_X)\n",
    "    model = KNN(k)\n",
    "    model.fit(scaled_train_X, train_y)\n",
    "    y_preds = []\n",
    "    scaled_test_X = scaler.transform(test_X)\n",
    "    for i in range(test_X.shape[0]):\n",
    "        sample = scaled_test_X[i: i+1, :]\n",
    "        prediction = model.predict(sample)\n",
    "        y_preds.extend(prediction)\n",
    "    return (test_y == np.array(y_preds)).sum() / test_y.shape[0]"
   ]
  },
  {
   "cell_type": "code",
   "execution_count": 33,
   "id": "894d87aa-db00-43a1-8c69-48071742f6be",
   "metadata": {},
   "outputs": [
    {
     "data": {
      "text/plain": [
       "1.0"
      ]
     },
     "execution_count": 33,
     "metadata": {},
     "output_type": "execute_result"
    }
   ],
   "source": [
    "test_model_scaled_knn(X, y, 3)"
   ]
  },
  {
   "cell_type": "code",
   "execution_count": 34,
   "id": "adbb5160-f166-4741-bdb3-4f68b4b56441",
   "metadata": {},
   "outputs": [
    {
     "data": {
      "text/plain": [
       "1.0"
      ]
     },
     "execution_count": 34,
     "metadata": {},
     "output_type": "execute_result"
    }
   ],
   "source": [
    "test_model_scaled_knn(X_break, y, 3)"
   ]
  },
  {
   "cell_type": "markdown",
   "id": "899997ba-c50b-42e2-a550-3448e991f954",
   "metadata": {},
   "source": [
    "Перепишем нашу модель, на расчет расстояний сразу для всех предсказываемых точек\n",
    "\n",
    "для этого воспользуемся методом cdist из scipy.spatial.distance\n",
    "\n",
    "Поскольку numpy имеет C оптимизацию и работает полностью параллельно это будет быстрее"
   ]
  },
  {
   "cell_type": "code",
   "execution_count": 35,
   "id": "7860c171-67fd-481c-9681-fec206239567",
   "metadata": {},
   "outputs": [],
   "source": [
    "class KNN2D:\n",
    "    \n",
    "    def __init__(self, k):\n",
    "        self.k = k\n",
    "        self.X = None\n",
    "        self.y = None\n",
    "    \n",
    "    def fit(self, X, y):\n",
    "        self.X = X\n",
    "        self.y = y\n",
    "    \n",
    "    def predict(self, X):\n",
    "        \n",
    "        distances = cdist(X, self.X) # X - (M, D), self.X - (N, D), результат (M, N)\n",
    "        min_indexes = np.argsort(distances, axis=1)[:, :self.k]\n",
    "        labels = self.y[min_indexes]\n",
    "        results = []\n",
    "        for i in range(labels.shape[0]):\n",
    "            row = labels[i]\n",
    "            values, counts = np.unique(row, return_counts=True)\n",
    "            max_count = np.argmax(counts)\n",
    "            results.append(values[max_count])\n",
    "        return np.array(results)"
   ]
  },
  {
   "cell_type": "code",
   "execution_count": 36,
   "id": "4c32ee4e-5791-4642-ba98-88c70019e47d",
   "metadata": {},
   "outputs": [
    {
     "data": {
      "text/plain": [
       "1.0"
      ]
     },
     "execution_count": 36,
     "metadata": {},
     "output_type": "execute_result"
    }
   ],
   "source": [
    "model = KNN2D(3)\n",
    "model.fit(train_X, train_y)\n",
    "pred = model.predict(test_X)\n",
    "accuracy_score(test_y, pred)"
   ]
  },
  {
   "cell_type": "code",
   "execution_count": 37,
   "id": "8058a284-3011-4a4f-8703-91fe859a8311",
   "metadata": {},
   "outputs": [],
   "source": [
    "class KNN2DProba:\n",
    "    \n",
    "    def __init__(self, k):\n",
    "        self.k = k\n",
    "        self.X = None\n",
    "        self.y = None\n",
    "        self.n_classes = None\n",
    "    \n",
    "    def fit(self, X, y):\n",
    "        self.X = X\n",
    "        self.y = y\n",
    "        self.n_classes = np.unique(y).size\n",
    "    \n",
    "    def predict_proba(self, X):\n",
    "        \n",
    "        distances = cdist(X, self.X)\n",
    "        min_indexes = np.argsort(distances, axis=1)[:, :self.k]\n",
    "        labels = self.y[min_indexes]\n",
    "        results = []\n",
    "        for i in range(labels.shape[0]):\n",
    "            row = labels[i]\n",
    "            values, counts = np.unique(row, return_counts=True)\n",
    "            probas = np.zeros(self.n_classes)\n",
    "            probas[values] = counts / counts.sum()\n",
    "            results.append(probas)\n",
    "        return np.array(results)\n",
    "    \n",
    "    def predict(self, X):\n",
    "        probas = self.predict_proba(X)\n",
    "        return np.argmax(probas, axis=1)"
   ]
  },
  {
   "cell_type": "code",
   "execution_count": 38,
   "id": "26cc65ed-ad98-4430-a226-a6e8bf2fe0cf",
   "metadata": {},
   "outputs": [
    {
     "data": {
      "text/plain": [
       "1.0"
      ]
     },
     "execution_count": 38,
     "metadata": {},
     "output_type": "execute_result"
    }
   ],
   "source": [
    "model = KNN2DProba(3)\n",
    "model.fit(train_X, train_y)\n",
    "pred = model.predict(test_X)\n",
    "accuracy_score(test_y, pred)"
   ]
  },
  {
   "cell_type": "code",
   "execution_count": 39,
   "id": "0ce761da-4ef3-43a5-ab3e-ad8f40565294",
   "metadata": {},
   "outputs": [
    {
     "data": {
      "text/plain": [
       "array([[0.        , 1.        , 0.        ],\n",
       "       [1.        , 0.        , 0.        ],\n",
       "       [0.        , 0.        , 1.        ],\n",
       "       [0.        , 1.        , 0.        ],\n",
       "       [0.        , 1.        , 0.        ],\n",
       "       [1.        , 0.        , 0.        ],\n",
       "       [0.        , 1.        , 0.        ],\n",
       "       [0.        , 0.        , 1.        ],\n",
       "       [0.        , 0.66666667, 0.33333333],\n",
       "       [0.        , 1.        , 0.        ],\n",
       "       [0.        , 0.33333333, 0.66666667],\n",
       "       [1.        , 0.        , 0.        ],\n",
       "       [1.        , 0.        , 0.        ],\n",
       "       [1.        , 0.        , 0.        ],\n",
       "       [1.        , 0.        , 0.        ],\n",
       "       [0.        , 1.        , 0.        ],\n",
       "       [0.        , 0.        , 1.        ],\n",
       "       [0.        , 1.        , 0.        ],\n",
       "       [0.        , 1.        , 0.        ],\n",
       "       [0.        , 0.        , 1.        ],\n",
       "       [1.        , 0.        , 0.        ],\n",
       "       [0.        , 0.        , 1.        ],\n",
       "       [1.        , 0.        , 0.        ],\n",
       "       [0.        , 0.        , 1.        ],\n",
       "       [0.        , 0.        , 1.        ],\n",
       "       [0.        , 0.        , 1.        ],\n",
       "       [0.        , 0.        , 1.        ],\n",
       "       [0.        , 0.        , 1.        ],\n",
       "       [1.        , 0.        , 0.        ],\n",
       "       [1.        , 0.        , 0.        ]])"
      ]
     },
     "execution_count": 39,
     "metadata": {},
     "output_type": "execute_result"
    }
   ],
   "source": [
    "model = KNN2DProba(3)\n",
    "model.fit(train_X, train_y)\n",
    "model.predict_proba(test_X)"
   ]
  },
  {
   "cell_type": "markdown",
   "id": "1e524a23-de48-4ffe-bd8f-ba565659e6e1",
   "metadata": {},
   "source": [
    "- Квадратичное $\\large{k = \\frac{15}{16}(1 - r^2)^2}$\n",
    "- Кубическое $\\large{k = \\frac{70}{81}(1 - |r|^3)^3}$\n",
    "- Гауссовское $\\large{k = \\frac{1}{\\sqrt{2 \\pi}} e^{- \\frac{1}{2} r^2}}$\n",
    "\n",
    "$$\\large{r = \\frac{dist_{i}}{radius}}$$"
   ]
  },
  {
   "cell_type": "code",
   "execution_count": 40,
   "id": "d6f4f49b-00e1-44ed-9310-8af1dd9b6ad5",
   "metadata": {},
   "outputs": [],
   "source": [
    "class ParzenWindow:\n",
    "    \n",
    "    def __init__(self, radius):\n",
    "        self.radius = radius\n",
    "        self.X = None\n",
    "        self.y = None\n",
    "        self.n_classes = None\n",
    "    \n",
    "    def fit(self, X, y):\n",
    "        self.X = X\n",
    "        self.y = y\n",
    "        self.n_classes = np.unique(y).size\n",
    "        \n",
    "    def kernel(self, r):\n",
    "        return 1 - np.abs(r)\n",
    "    \n",
    "    def predict_proba(self, X):\n",
    "        \n",
    "        distances = cdist(X, self.X)\n",
    "        results = []\n",
    "        for i in range(distances.shape[0]):\n",
    "            dist_row = distances[i]\n",
    "            indexes = np.where(dist_row < self.radius)\n",
    "            distances_lower = dist_row[indexes]\n",
    "            r = distances_lower / self.radius\n",
    "            k = self.kernel(r)\n",
    "            labels = self.y[indexes]\n",
    "            probas = np.zeros(self.n_classes)\n",
    "            for c in range(self.n_classes):\n",
    "                if (labels == c).sum() > 0:\n",
    "                    probas[c] = k[labels == c].sum()\n",
    "            probas /= probas.sum()\n",
    "            results.append(probas)\n",
    "        return results\n",
    "    \n",
    "    def predict(self, X):\n",
    "        probas = self.predict_proba(X)\n",
    "        return np.argmax(probas, axis=1)"
   ]
  }
 ],
 "metadata": {
  "kernelspec": {
   "display_name": "Python 3 (ipykernel)",
   "language": "python",
   "name": "python3"
  },
  "language_info": {
   "codemirror_mode": {
    "name": "ipython",
    "version": 3
   },
   "file_extension": ".py",
   "mimetype": "text/x-python",
   "name": "python",
   "nbconvert_exporter": "python",
   "pygments_lexer": "ipython3",
   "version": "3.10.4"
  }
 },
 "nbformat": 4,
 "nbformat_minor": 5
}
