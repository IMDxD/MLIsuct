{
 "cells": [
  {
   "cell_type": "code",
   "execution_count": 1,
   "id": "795fcf4c-db2f-4429-9d8b-41ff7308858c",
   "metadata": {},
   "outputs": [],
   "source": [
    "%config Completer.use_jedi=False"
   ]
  },
  {
   "cell_type": "code",
   "execution_count": 21,
   "id": "2baa090b-e1ef-4ab3-ac3b-25b8c457175b",
   "metadata": {},
   "outputs": [],
   "source": [
    "import numpy as np\n",
    "import pandas as pd\n",
    "import matplotlib.pyplot as plt\n",
    "from sklearn.datasets import load_iris\n",
    "from sklearn.preprocessing import MinMaxScaler\n",
    "from sklearn.model_selection import train_test_split"
   ]
  },
  {
   "cell_type": "code",
   "execution_count": 3,
   "id": "15799cc9-05c3-44c0-bd3d-4144fe9c1512",
   "metadata": {},
   "outputs": [],
   "source": [
    "data = load_iris()"
   ]
  },
  {
   "cell_type": "code",
   "execution_count": 4,
   "id": "da3c8dfa-47b9-4208-aff7-8e5f524fed7c",
   "metadata": {},
   "outputs": [],
   "source": [
    "X = data[\"data\"]\n",
    "y = data[\"target\"]"
   ]
  },
  {
   "cell_type": "code",
   "execution_count": 5,
   "id": "489845d8-dff8-4a12-b81d-732b8f545051",
   "metadata": {},
   "outputs": [],
   "source": [
    "df = pd.DataFrame(X, columns=data[\"feature_names\"])"
   ]
  },
  {
   "cell_type": "code",
   "execution_count": 6,
   "id": "5c13e72d-36a9-4cf0-8ca7-cd5673a26085",
   "metadata": {},
   "outputs": [
    {
     "data": {
      "text/html": [
       "<div>\n",
       "<style scoped>\n",
       "    .dataframe tbody tr th:only-of-type {\n",
       "        vertical-align: middle;\n",
       "    }\n",
       "\n",
       "    .dataframe tbody tr th {\n",
       "        vertical-align: top;\n",
       "    }\n",
       "\n",
       "    .dataframe thead th {\n",
       "        text-align: right;\n",
       "    }\n",
       "</style>\n",
       "<table border=\"1\" class=\"dataframe\">\n",
       "  <thead>\n",
       "    <tr style=\"text-align: right;\">\n",
       "      <th></th>\n",
       "      <th>sepal length (cm)</th>\n",
       "      <th>sepal width (cm)</th>\n",
       "      <th>petal length (cm)</th>\n",
       "      <th>petal width (cm)</th>\n",
       "    </tr>\n",
       "  </thead>\n",
       "  <tbody>\n",
       "    <tr>\n",
       "      <th>0</th>\n",
       "      <td>5.1</td>\n",
       "      <td>3.5</td>\n",
       "      <td>1.4</td>\n",
       "      <td>0.2</td>\n",
       "    </tr>\n",
       "    <tr>\n",
       "      <th>1</th>\n",
       "      <td>4.9</td>\n",
       "      <td>3.0</td>\n",
       "      <td>1.4</td>\n",
       "      <td>0.2</td>\n",
       "    </tr>\n",
       "    <tr>\n",
       "      <th>2</th>\n",
       "      <td>4.7</td>\n",
       "      <td>3.2</td>\n",
       "      <td>1.3</td>\n",
       "      <td>0.2</td>\n",
       "    </tr>\n",
       "    <tr>\n",
       "      <th>3</th>\n",
       "      <td>4.6</td>\n",
       "      <td>3.1</td>\n",
       "      <td>1.5</td>\n",
       "      <td>0.2</td>\n",
       "    </tr>\n",
       "    <tr>\n",
       "      <th>4</th>\n",
       "      <td>5.0</td>\n",
       "      <td>3.6</td>\n",
       "      <td>1.4</td>\n",
       "      <td>0.2</td>\n",
       "    </tr>\n",
       "  </tbody>\n",
       "</table>\n",
       "</div>"
      ],
      "text/plain": [
       "   sepal length (cm)  sepal width (cm)  petal length (cm)  petal width (cm)\n",
       "0                5.1               3.5                1.4               0.2\n",
       "1                4.9               3.0                1.4               0.2\n",
       "2                4.7               3.2                1.3               0.2\n",
       "3                4.6               3.1                1.5               0.2\n",
       "4                5.0               3.6                1.4               0.2"
      ]
     },
     "execution_count": 6,
     "metadata": {},
     "output_type": "execute_result"
    }
   ],
   "source": [
    "df.head()"
   ]
  },
  {
   "cell_type": "code",
   "execution_count": 7,
   "id": "c80ac9a4-e539-4c22-8c5d-e3929eb85081",
   "metadata": {},
   "outputs": [],
   "source": [
    "df[\"label\"] = y"
   ]
  },
  {
   "cell_type": "code",
   "execution_count": 8,
   "id": "915c1343-25f2-49e4-b2e8-ae3670325194",
   "metadata": {},
   "outputs": [
    {
     "data": {
      "text/html": [
       "<div>\n",
       "<style scoped>\n",
       "    .dataframe tbody tr th:only-of-type {\n",
       "        vertical-align: middle;\n",
       "    }\n",
       "\n",
       "    .dataframe tbody tr th {\n",
       "        vertical-align: top;\n",
       "    }\n",
       "\n",
       "    .dataframe thead th {\n",
       "        text-align: right;\n",
       "    }\n",
       "</style>\n",
       "<table border=\"1\" class=\"dataframe\">\n",
       "  <thead>\n",
       "    <tr style=\"text-align: right;\">\n",
       "      <th></th>\n",
       "      <th>sepal length (cm)</th>\n",
       "      <th>sepal width (cm)</th>\n",
       "      <th>petal length (cm)</th>\n",
       "      <th>petal width (cm)</th>\n",
       "      <th>label</th>\n",
       "    </tr>\n",
       "  </thead>\n",
       "  <tbody>\n",
       "    <tr>\n",
       "      <th>66</th>\n",
       "      <td>5.6</td>\n",
       "      <td>3.0</td>\n",
       "      <td>4.5</td>\n",
       "      <td>1.5</td>\n",
       "      <td>1</td>\n",
       "    </tr>\n",
       "    <tr>\n",
       "      <th>57</th>\n",
       "      <td>4.9</td>\n",
       "      <td>2.4</td>\n",
       "      <td>3.3</td>\n",
       "      <td>1.0</td>\n",
       "      <td>1</td>\n",
       "    </tr>\n",
       "    <tr>\n",
       "      <th>111</th>\n",
       "      <td>6.4</td>\n",
       "      <td>2.7</td>\n",
       "      <td>5.3</td>\n",
       "      <td>1.9</td>\n",
       "      <td>2</td>\n",
       "    </tr>\n",
       "    <tr>\n",
       "      <th>48</th>\n",
       "      <td>5.3</td>\n",
       "      <td>3.7</td>\n",
       "      <td>1.5</td>\n",
       "      <td>0.2</td>\n",
       "      <td>0</td>\n",
       "    </tr>\n",
       "    <tr>\n",
       "      <th>6</th>\n",
       "      <td>4.6</td>\n",
       "      <td>3.4</td>\n",
       "      <td>1.4</td>\n",
       "      <td>0.3</td>\n",
       "      <td>0</td>\n",
       "    </tr>\n",
       "  </tbody>\n",
       "</table>\n",
       "</div>"
      ],
      "text/plain": [
       "     sepal length (cm)  sepal width (cm)  petal length (cm)  petal width (cm)  \\\n",
       "66                 5.6               3.0                4.5               1.5   \n",
       "57                 4.9               2.4                3.3               1.0   \n",
       "111                6.4               2.7                5.3               1.9   \n",
       "48                 5.3               3.7                1.5               0.2   \n",
       "6                  4.6               3.4                1.4               0.3   \n",
       "\n",
       "     label  \n",
       "66       1  \n",
       "57       1  \n",
       "111      2  \n",
       "48       0  \n",
       "6        0  "
      ]
     },
     "execution_count": 8,
     "metadata": {},
     "output_type": "execute_result"
    }
   ],
   "source": [
    "df.sample(5)"
   ]
  },
  {
   "cell_type": "code",
   "execution_count": 9,
   "id": "248febd7-a11f-446f-aa72-68142e0a81a1",
   "metadata": {},
   "outputs": [
    {
     "data": {
      "text/plain": [
       "<matplotlib.legend.Legend at 0x170a9a66f50>"
      ]
     },
     "execution_count": 9,
     "metadata": {},
     "output_type": "execute_result"
    },
    {
     "data": {
      "image/png": "[encoded data removed]",
      "text/plain": [
       "<Figure size 640x480 with 1 Axes>"
      ]
     },
     "metadata": {},
     "output_type": "display_data"
    }
   ],
   "source": [
    "for i in range(3):\n",
    "    plt.scatter(\n",
    "        df.loc[df[\"label\"] == i][\"sepal length (cm)\"], \n",
    "        df.loc[df[\"label\"] == i][\"petal length (cm)\"],\n",
    "        label=data[\"target_names\"][i]\n",
    "    )\n",
    "plt.scatter([4.7], [4], label=\"unk\")\n",
    "plt.xlabel(\"sepal length (cm)\")\n",
    "plt.ylabel(\"petal length (cm)\")\n",
    "plt.legend()"
   ]
  },
  {
   "cell_type": "code",
   "execution_count": 46,
   "id": "4c1b920f-f13c-4f77-82c0-93b0ccef9412",
   "metadata": {},
   "outputs": [
    {
     "data": {
      "text/plain": [
       "(2, 1)"
      ]
     },
     "execution_count": 46,
     "metadata": {},
     "output_type": "execute_result"
    }
   ],
   "source": [
    "X.ndim, y.ndim"
   ]
  },
  {
   "cell_type": "code",
   "execution_count": 10,
   "id": "ffa234f4-39eb-43a8-a0d1-619e4df579cf",
   "metadata": {},
   "outputs": [],
   "source": [
    "class NN:\n",
    "    \n",
    "    def __init__(self):\n",
    "        self.X = None\n",
    "        self.y = None\n",
    "    \n",
    "    def fit(self, X, y):\n",
    "        self.X = X\n",
    "        self.y = y\n",
    "    \n",
    "    def predict(self, X):\n",
    "        \"\"\"\n",
    "        self.X (N, 4)\n",
    "        X (1, 4)\n",
    "        \"\"\"\n",
    "\n",
    "        square_coords = (self.X - X) ** 2\n",
    "        distances = square_coords.sum(1)\n",
    "        min_index = np.argmin(distances)\n",
    "        return self.y[min_index: min_index + 1]"
   ]
  },
  {
   "cell_type": "code",
   "execution_count": 52,
   "id": "b5c16cf9-6916-4663-b1a4-b8101f1f942b",
   "metadata": {},
   "outputs": [],
   "source": [
    "train_X, test_X, train_y, test_y = train_test_split(\n",
    "    X, y, test_size=0.2, shuffle=True, random_state=42\n",
    ")"
   ]
  },
  {
   "cell_type": "code",
   "execution_count": 53,
   "id": "8d961588-d8e7-44bc-8090-70d8ba040539",
   "metadata": {},
   "outputs": [],
   "source": [
    "model = NN()"
   ]
  },
  {
   "cell_type": "code",
   "execution_count": 54,
   "id": "3e20ecfb-5352-45f0-9718-f476a311732c",
   "metadata": {},
   "outputs": [],
   "source": [
    "model.fit(train_X, train_y)"
   ]
  },
  {
   "cell_type": "code",
   "execution_count": 56,
   "id": "9b0d2cd8-1660-48fa-a8a4-ed9ea40f2b51",
   "metadata": {},
   "outputs": [],
   "source": [
    "l = [1, 2, 3]"
   ]
  },
  {
   "cell_type": "code",
   "execution_count": 57,
   "id": "b6a8ca41-c3dc-485f-aecf-13bbd83a0d79",
   "metadata": {},
   "outputs": [
    {
     "data": {
      "text/plain": [
       "1"
      ]
     },
     "execution_count": 57,
     "metadata": {},
     "output_type": "execute_result"
    }
   ],
   "source": [
    "l[0]"
   ]
  },
  {
   "cell_type": "code",
   "execution_count": 58,
   "id": "b1a7350f-6891-4d7a-89eb-042eda42d11e",
   "metadata": {},
   "outputs": [
    {
     "data": {
      "text/plain": [
       "[1]"
      ]
     },
     "execution_count": 58,
     "metadata": {},
     "output_type": "execute_result"
    }
   ],
   "source": [
    "l[0:1]"
   ]
  },
  {
   "cell_type": "code",
   "execution_count": 14,
   "id": "c169aa0f-07b8-4ebc-8707-0c466fdab75a",
   "metadata": {},
   "outputs": [],
   "source": [
    "y_preds = []\n",
    "for i in range(test_X.shape[0]):\n",
    "    sample = test_X[i: i+1, :]\n",
    "    prediction = model.predict(sample)\n",
    "    y_preds.extend(prediction)"
   ]
  },
  {
   "cell_type": "code",
   "execution_count": 59,
   "id": "d1eab057-c27d-4290-91c4-aec0c9185dfe",
   "metadata": {},
   "outputs": [
    {
     "data": {
      "text/plain": [
       "array([1, 0, 2, 1, 1, 0, 1, 2, 1, 1, 2, 0, 0, 0, 0, 1, 2, 1, 1, 2, 0, 2,\n",
       "       0, 2, 2, 2, 2, 2, 0, 0])"
      ]
     },
     "execution_count": 59,
     "metadata": {},
     "output_type": "execute_result"
    }
   ],
   "source": [
    "test_y"
   ]
  },
  {
   "cell_type": "code",
   "execution_count": 61,
   "id": "9dbfc6ef-3979-4344-bba6-5b8ffcd4aab2",
   "metadata": {},
   "outputs": [
    {
     "data": {
      "text/plain": [
       "array([1, 0, 2, 1, 1, 0, 1, 2, 1, 1, 2, 0, 0, 0, 0, 1, 2, 1, 1, 2, 0, 2,\n",
       "       0, 2, 2, 2, 2, 2, 0, 0])"
      ]
     },
     "execution_count": 61,
     "metadata": {},
     "output_type": "execute_result"
    }
   ],
   "source": [
    "np.array(y_preds)"
   ]
  },
  {
   "cell_type": "code",
   "execution_count": 63,
   "id": "9f8e0c15-479a-4af5-b758-0ac41d0762c5",
   "metadata": {},
   "outputs": [],
   "source": [
    "def test_model(X, y):\n",
    "    train_X, test_X, train_y, test_y = train_test_split(\n",
    "        X, y, test_size=0.2, shuffle=True, random_state=42\n",
    "    )\n",
    "    model = NN()\n",
    "    model.fit(train_X, train_y)\n",
    "    y_preds = []\n",
    "    for i in range(test_X.shape[0]):\n",
    "        sample = test_X[i: i+1, :]\n",
    "        prediction = model.predict(sample)\n",
    "        y_preds.extend(prediction)\n",
    "    return (test_y == np.array(y_preds)).sum() / test_y.shape[0]"
   ]
  },
  {
   "cell_type": "code",
   "execution_count": 64,
   "id": "298e89b2-5461-4c7e-b9d5-7fdfc904c76f",
   "metadata": {},
   "outputs": [
    {
     "data": {
      "text/plain": [
       "1.0"
      ]
     },
     "execution_count": 64,
     "metadata": {},
     "output_type": "execute_result"
    }
   ],
   "source": [
    "test_model(X, y)"
   ]
  },
  {
   "cell_type": "code",
   "execution_count": 65,
   "id": "a284f2a8-27c4-4679-8ce3-0a045a768d7b",
   "metadata": {},
   "outputs": [],
   "source": [
    "X_break = X.copy()"
   ]
  },
  {
   "cell_type": "code",
   "execution_count": 66,
   "id": "9464ab99-a56c-4e0b-8d9c-d10bfbb524b9",
   "metadata": {},
   "outputs": [],
   "source": [
    "X_break[:, 0] *= 100"
   ]
  },
  {
   "cell_type": "code",
   "execution_count": 67,
   "id": "3aed9a34-5a63-412b-b911-c541a709739f",
   "metadata": {},
   "outputs": [
    {
     "data": {
      "text/plain": [
       "0.8333333333333334"
      ]
     },
     "execution_count": 67,
     "metadata": {},
     "output_type": "execute_result"
    }
   ],
   "source": [
    "test_model(X_break, y)"
   ]
  },
  {
   "cell_type": "code",
   "execution_count": 23,
   "id": "16dea0ff-338a-413f-b1a7-f1f79cf38a9c",
   "metadata": {},
   "outputs": [],
   "source": [
    "def test_model_scaled(X, y):\n",
    "    train_X, test_X, train_y, test_y = train_test_split(\n",
    "        X, y, test_size=0.2, shuffle=True, random_state=42\n",
    "    )\n",
    "    scaler = MinMaxScaler()\n",
    "    scaler.fit(train_X)\n",
    "    scaled_train_X = scaler.transform(train_X)\n",
    "    model = NN()\n",
    "    model.fit(scaled_train_X, train_y)\n",
    "    y_preds = []\n",
    "    scaled_test_X = scaler.transform(test_X)\n",
    "    for i in range(test_X.shape[0]):\n",
    "        sample = scaled_test_X[i: i+1, :]\n",
    "        prediction = model.predict(sample)\n",
    "        y_preds.extend(prediction)\n",
    "    return (test_y == np.array(y_preds)).sum() / test_y.shape[0]"
   ]
  },
  {
   "cell_type": "code",
   "execution_count": 29,
   "id": "e768b1f3-7f69-4e82-84f1-7cf5acab67eb",
   "metadata": {},
   "outputs": [
    {
     "data": {
      "text/plain": [
       "1.0"
      ]
     },
     "execution_count": 29,
     "metadata": {},
     "output_type": "execute_result"
    }
   ],
   "source": [
    "test_model_scaled(X, y)"
   ]
  },
  {
   "cell_type": "code",
   "execution_count": 30,
   "id": "c7330077-7218-4bf6-9b8f-f747d1d14fb7",
   "metadata": {},
   "outputs": [
    {
     "data": {
      "text/plain": [
       "1.0"
      ]
     },
     "execution_count": 30,
     "metadata": {},
     "output_type": "execute_result"
    }
   ],
   "source": [
    "test_model_scaled(X_break, y)"
   ]
  },
  {
   "cell_type": "code",
   "execution_count": 68,
   "id": "4d5a3095-be7b-43bc-8ead-5df558e84410",
   "metadata": {},
   "outputs": [],
   "source": [
    "class KNN:\n",
    "    \n",
    "    def __init__(self, k):\n",
    "        self.k = k\n",
    "        self.X = None\n",
    "        self.y = None\n",
    "    \n",
    "    def fit(self, X, y):\n",
    "        self.X = X\n",
    "        self.y = y\n",
    "    \n",
    "    def predict(self, X):\n",
    "\n",
    "        square_coords = (self.X - X) ** 2\n",
    "        distances = square_coords.sum(1)\n",
    "        min_indexes = np.argsort(distances)[:self.k]\n",
    "        values, counts = np.unique(self.y[min_indexes], return_counts=True)\n",
    "        max_count = np.argmax(counts)\n",
    "        return values[max_count: max_count + 1]"
   ]
  },
  {
   "cell_type": "code",
   "execution_count": 69,
   "id": "7f9807bf-6b90-4690-a734-cbc26f8c6c88",
   "metadata": {},
   "outputs": [],
   "source": [
    "def test_model_scaled_knn(X, y, k=3):\n",
    "    train_X, test_X, train_y, test_y = train_test_split(\n",
    "        X, y, test_size=0.2, shuffle=True, random_state=42\n",
    "    )\n",
    "    scaler = MinMaxScaler()\n",
    "    scaler.fit(train_X)\n",
    "    scaled_train_X = scaler.transform(train_X)\n",
    "    model = KNN(k)\n",
    "    model.fit(scaled_train_X, train_y)\n",
    "    y_preds = []\n",
    "    scaled_test_X = scaler.transform(test_X)\n",
    "    for i in range(test_X.shape[0]):\n",
    "        sample = scaled_test_X[i: i+1, :]\n",
    "        prediction = model.predict(sample)\n",
    "        y_preds.extend(prediction)\n",
    "    return (test_y == np.array(y_preds)).sum() / test_y.shape[0]"
   ]
  },
  {
   "cell_type": "code",
   "execution_count": 70,
   "id": "894d87aa-db00-43a1-8c69-48071742f6be",
   "metadata": {},
   "outputs": [
    {
     "data": {
      "text/plain": [
       "1.0"
      ]
     },
     "execution_count": 70,
     "metadata": {},
     "output_type": "execute_result"
    }
   ],
   "source": [
    "test_model_scaled_knn(X, y, 1)"
   ]
  },
  {
   "cell_type": "code",
   "execution_count": 71,
   "id": "785040de-4471-4369-b0ce-98f4f3ec8793",
   "metadata": {},
   "outputs": [
    {
     "data": {
      "text/plain": [
       "(array([0, 1, 2]), array([50, 50, 50], dtype=int64))"
      ]
     },
     "execution_count": 71,
     "metadata": {},
     "output_type": "execute_result"
    }
   ],
   "source": [
    "np.unique(y, return_counts=True)"
   ]
  },
  {
   "cell_type": "code",
   "execution_count": null,
   "id": "adbb5160-f166-4741-bdb3-4f68b4b56441",
   "metadata": {},
   "outputs": [],
   "source": []
  }
 ],
 "metadata": {
  "kernelspec": {
   "display_name": "Python 3 (ipykernel)",
   "language": "python",
   "name": "python3"
  },
  "language_info": {
   "codemirror_mode": {
    "name": "ipython",
    "version": 3
   },
   "file_extension": ".py",
   "mimetype": "text/x-python",
   "name": "python",
   "nbconvert_exporter": "python",
   "pygments_lexer": "ipython3",
   "version": "3.10.4"
  }
 },
 "nbformat": 4,
 "nbformat_minor": 5
}
