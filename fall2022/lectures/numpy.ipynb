{
 "cells": [
  {
   "cell_type": "markdown",
   "source": [
    "# Numpy"
   ],
   "metadata": {}
  },
  {
   "cell_type": "markdown",
   "source": [
    "- numpy - это библиотека для работы с многомерными массивами\r\n",
    "- numpy это python обертка для быстрых операций для линейной алгебры над архитектурами lapack, blas\r\n",
    "- lapack, blas написаны на более низкоуровневых языках чем Python (С++, Fortran)"
   ],
   "metadata": {}
  },
  {
   "cell_type": "code",
   "execution_count": 1,
   "source": [
    "# установим нужные библиотеки\r\n",
    "!conda install numpy scikit-learn -y"
   ],
   "outputs": [
    {
     "output_type": "stream",
     "name": "stdout",
     "text": [
      "Collecting package metadata (current_repodata.json): ...working... done\n",
      "Solving environment: ...working... done\n",
      "\n",
      "# All requested packages already installed.\n",
      "\n"
     ]
    }
   ],
   "metadata": {}
  },
  {
   "cell_type": "code",
   "execution_count": 2,
   "source": [
    "import numpy as np # стандартная запись импорта numpy\r\n",
    "from sklearn.datasets import load_iris # данные цветков iris"
   ],
   "outputs": [],
   "metadata": {}
  },
  {
   "cell_type": "code",
   "execution_count": 3,
   "source": [
    "# созданим объект с данными\r\n",
    "dataset = load_iris()"
   ],
   "outputs": [],
   "metadata": {}
  },
  {
   "cell_type": "code",
   "execution_count": 4,
   "source": [
    "X = dataset['data']\r\n",
    "y = dataset['target']"
   ],
   "outputs": [],
   "metadata": {}
  },
  {
   "cell_type": "code",
   "execution_count": 6,
   "source": [
    "# тип данных для экспериментов массив numpy\r\n",
    "type(X), type(y)"
   ],
   "outputs": [
    {
     "output_type": "execute_result",
     "data": {
      "text/plain": [
       "(numpy.ndarray, numpy.ndarray)"
      ]
     },
     "metadata": {},
     "execution_count": 6
    }
   ],
   "metadata": {}
  },
  {
   "cell_type": "code",
   "execution_count": 26,
   "source": [
    "# посмотрим размер массивов\r\n",
    "print(f\"Двумерный массив X: {X.shape}, {X.ndim}\")\r\n",
    "print(f\"Одномерный массив y: {y.shape}, {y.ndim}\")"
   ],
   "outputs": [
    {
     "output_type": "stream",
     "name": "stdout",
     "text": [
      "Двумерный массив X: (150, 4), 2\n",
      "Одномерный массив y: (150,), 1\n"
     ]
    }
   ],
   "metadata": {}
  },
  {
   "cell_type": "code",
   "execution_count": 25,
   "source": [
    "# посмотрим количество элементов массивов\r\n",
    "print(f\"Двумерный массив X: {X.size}\")\r\n",
    "print(f\"Одномерный массив y: {y.size}\")"
   ],
   "outputs": [
    {
     "output_type": "stream",
     "name": "stdout",
     "text": [
      "Двумерный массив X: 600\n",
      "Одномерный массив y: 150\n"
     ]
    }
   ],
   "metadata": {}
  },
  {
   "cell_type": "markdown",
   "source": [
    "## Создание массива"
   ],
   "metadata": {}
  },
  {
   "cell_type": "markdown",
   "source": [
    "основной класс данной библиотеки np.ndarray \r\n",
    "\r\n",
    "данный массив может иметь любую размерность и его возможно создать с помощью обьектов sequence (НЕ mapping!) и вызова np.array"
   ],
   "metadata": {}
  },
  {
   "cell_type": "code",
   "execution_count": 10,
   "source": [
    "np.array(range(10))"
   ],
   "outputs": [
    {
     "output_type": "execute_result",
     "data": {
      "text/plain": [
       "array([0, 1, 2, 3, 4, 5, 6, 7, 8, 9])"
      ]
     },
     "metadata": {},
     "execution_count": 10
    }
   ],
   "metadata": {}
  },
  {
   "cell_type": "code",
   "execution_count": 11,
   "source": [
    "np.array([1, 2, 3])"
   ],
   "outputs": [
    {
     "output_type": "execute_result",
     "data": {
      "text/plain": [
       "array([1, 2, 3])"
      ]
     },
     "metadata": {},
     "execution_count": 11
    }
   ],
   "metadata": {}
  },
  {
   "cell_type": "code",
   "execution_count": 12,
   "source": [
    "np.array((1, 2, 3))"
   ],
   "outputs": [
    {
     "output_type": "execute_result",
     "data": {
      "text/plain": [
       "array([1, 2, 3])"
      ]
     },
     "metadata": {},
     "execution_count": 12
    }
   ],
   "metadata": {}
  },
  {
   "cell_type": "code",
   "execution_count": 13,
   "source": [
    "def f(n):\r\n",
    "    for i in range(n):\r\n",
    "        yield i ** 2"
   ],
   "outputs": [],
   "metadata": {}
  },
  {
   "cell_type": "code",
   "execution_count": 16,
   "source": [
    "# генераторы не подходят\r\n",
    "np.array(f(5))"
   ],
   "outputs": [
    {
     "output_type": "execute_result",
     "data": {
      "text/plain": [
       "array(<generator object f at 0x0000022B53272970>, dtype=object)"
      ]
     },
     "metadata": {},
     "execution_count": 16
    }
   ],
   "metadata": {}
  },
  {
   "cell_type": "code",
   "execution_count": 20,
   "source": [
    "# генераторы не подходят\r\n",
    "np.array((i**2 for i in range(10)))"
   ],
   "outputs": [
    {
     "output_type": "execute_result",
     "data": {
      "text/plain": [
       "array(<generator object <genexpr> at 0x0000022B532735F0>, dtype=object)"
      ]
     },
     "metadata": {},
     "execution_count": 20
    }
   ],
   "metadata": {}
  },
  {
   "cell_type": "code",
   "execution_count": 21,
   "source": [
    "# mapping тоже не подходит\r\n",
    "np.array({1, 2})"
   ],
   "outputs": [
    {
     "output_type": "execute_result",
     "data": {
      "text/plain": [
       "array({1, 2}, dtype=object)"
      ]
     },
     "metadata": {},
     "execution_count": 21
    }
   ],
   "metadata": {}
  },
  {
   "cell_type": "code",
   "execution_count": 22,
   "source": [
    "# mapping тоже не подходит\r\n",
    "np.array({1:1, 2:2})"
   ],
   "outputs": [
    {
     "output_type": "execute_result",
     "data": {
      "text/plain": [
       "array({1: 1, 2: 2}, dtype=object)"
      ]
     },
     "metadata": {},
     "execution_count": 22
    }
   ],
   "metadata": {}
  },
  {
   "cell_type": "code",
   "execution_count": 28,
   "source": [
    "# многомерные массивы создаются из sequence of sequnce с одинаковым размером!\r\n",
    "np.array([[1, 2], [3, 4]])"
   ],
   "outputs": [
    {
     "output_type": "execute_result",
     "data": {
      "text/plain": [
       "array([[1, 2],\n",
       "       [3, 4]])"
      ]
     },
     "metadata": {},
     "execution_count": 28
    }
   ],
   "metadata": {}
  },
  {
   "cell_type": "code",
   "execution_count": 41,
   "source": [
    "# многомерные массивы создаются из sequence of sequnce с одинаковым размером!\r\n",
    "a = np.array([[[1, 2], [3, 4]], [[5, 6], [7, 8]]])\r\n",
    "print(f\"количество измерений может быть любое {a.ndim}\")\r\n",
    "a"
   ],
   "outputs": [
    {
     "output_type": "stream",
     "name": "stdout",
     "text": [
      "количество измерений может быть любое 3\n"
     ]
    },
    {
     "output_type": "execute_result",
     "data": {
      "text/plain": [
       "array([[[1, 2],\n",
       "        [3, 4]],\n",
       "\n",
       "       [[5, 6],\n",
       "        [7, 8]]])"
      ]
     },
     "metadata": {},
     "execution_count": 41
    }
   ],
   "metadata": {}
  },
  {
   "cell_type": "code",
   "execution_count": 29,
   "source": [
    "# многомерные массивы создаются из sequence of sequnce с одинаковым размером!\r\n",
    "np.array([[1, 2], [4]])"
   ],
   "outputs": [
    {
     "output_type": "stream",
     "name": "stderr",
     "text": [
      "C:\\Users\\ANTON~1.NES\\AppData\\Local\\Temp/ipykernel_9096/2814081267.py:2: VisibleDeprecationWarning: Creating an ndarray from ragged nested sequences (which is a list-or-tuple of lists-or-tuples-or ndarrays with different lengths or shapes) is deprecated. If you meant to do this, you must specify 'dtype=object' when creating the ndarray.\n",
      "  np.array([[1, 2], [4]])\n"
     ]
    },
    {
     "output_type": "execute_result",
     "data": {
      "text/plain": [
       "array([list([1, 2]), list([4])], dtype=object)"
      ]
     },
     "metadata": {},
     "execution_count": 29
    }
   ],
   "metadata": {}
  },
  {
   "cell_type": "code",
   "execution_count": 31,
   "source": [
    "# многомерные массивы создаются из sequence of sequnce с одинаковым размером! (можно создать массив объектов)\r\n",
    "np.array([[1, 2], [4]], dtype=\"object\")"
   ],
   "outputs": [
    {
     "output_type": "execute_result",
     "data": {
      "text/plain": [
       "array([list([1, 2]), list([4])], dtype=object)"
      ]
     },
     "metadata": {},
     "execution_count": 31
    }
   ],
   "metadata": {}
  },
  {
   "cell_type": "code",
   "execution_count": 36,
   "source": [
    "# все объекты в массиве будут приведены к одному типу, самый общий тип object (не поддерживает вычисления)\r\n",
    "np.array([1, \"asd\", None])"
   ],
   "outputs": [
    {
     "output_type": "execute_result",
     "data": {
      "text/plain": [
       "array([1, 'asd', None], dtype=object)"
      ]
     },
     "metadata": {},
     "execution_count": 36
    }
   ],
   "metadata": {}
  },
  {
   "cell_type": "code",
   "execution_count": 37,
   "source": [
    "# тип можно специфицировать\r\n",
    "np.array([\"1\", \"2\"], dtype=\"float\")"
   ],
   "outputs": [
    {
     "output_type": "execute_result",
     "data": {
      "text/plain": [
       "array([1., 2.])"
      ]
     },
     "metadata": {},
     "execution_count": 37
    }
   ],
   "metadata": {}
  },
  {
   "cell_type": "code",
   "execution_count": 38,
   "source": [
    "# тип можно специфицировать и даже задать размер в байтах\r\n",
    "np.array([\"1\", \"2\"], dtype=np.float16)"
   ],
   "outputs": [
    {
     "output_type": "execute_result",
     "data": {
      "text/plain": [
       "array([1., 2.], dtype=float16)"
      ]
     },
     "metadata": {},
     "execution_count": 38
    }
   ],
   "metadata": {}
  },
  {
   "cell_type": "code",
   "execution_count": 52,
   "source": [
    "# есть аналог range\r\n",
    "np.arange(10)"
   ],
   "outputs": [
    {
     "output_type": "execute_result",
     "data": {
      "text/plain": [
       "array([0, 1, 2, 3, 4, 5, 6, 7, 8, 9])"
      ]
     },
     "metadata": {},
     "execution_count": 52
    }
   ],
   "metadata": {}
  },
  {
   "cell_type": "code",
   "execution_count": 57,
   "source": [
    "# есть аналог range\r\n",
    "np.arange(5, 10)"
   ],
   "outputs": [
    {
     "output_type": "execute_result",
     "data": {
      "text/plain": [
       "array([5, 6, 7, 8, 9])"
      ]
     },
     "metadata": {},
     "execution_count": 57
    }
   ],
   "metadata": {}
  },
  {
   "cell_type": "code",
   "execution_count": 62,
   "source": [
    "# есть аналог range\r\n",
    "np.arange(5, 10, 2, dtype=\"float\")"
   ],
   "outputs": [
    {
     "output_type": "execute_result",
     "data": {
      "text/plain": [
       "array([5., 7., 9.])"
      ]
     },
     "metadata": {},
     "execution_count": 62
    }
   ],
   "metadata": {}
  },
  {
   "cell_type": "code",
   "execution_count": 72,
   "source": [
    "# можно создать числа от и до с определенным количеством\r\n",
    "np.linspace(0, 100, 11, dtype=np.int8)"
   ],
   "outputs": [
    {
     "output_type": "execute_result",
     "data": {
      "text/plain": [
       "array([  0,  10,  20,  30,  40,  50,  60,  70,  80,  90, 100], dtype=int8)"
      ]
     },
     "metadata": {},
     "execution_count": 72
    }
   ],
   "metadata": {}
  },
  {
   "cell_type": "code",
   "execution_count": 77,
   "source": [
    "# можно создать числа от и до с определенным количеством\r\n",
    "np.linspace(0, 100, 21, dtype=np.int8)"
   ],
   "outputs": [
    {
     "output_type": "execute_result",
     "data": {
      "text/plain": [
       "array([  0,   5,  10,  15,  20,  25,  30,  35,  40,  45,  50,  55,  60,\n",
       "        65,  70,  75,  80,  85,  90,  95, 100], dtype=int8)"
      ]
     },
     "metadata": {},
     "execution_count": 77
    }
   ],
   "metadata": {}
  },
  {
   "cell_type": "code",
   "execution_count": 87,
   "source": [
    "# создать еденичный массив\r\n",
    "np.ones((10, ))"
   ],
   "outputs": [
    {
     "output_type": "execute_result",
     "data": {
      "text/plain": [
       "array([1., 1., 1., 1., 1., 1., 1., 1., 1., 1.])"
      ]
     },
     "metadata": {},
     "execution_count": 87
    }
   ],
   "metadata": {}
  },
  {
   "cell_type": "code",
   "execution_count": 97,
   "source": [
    "# создать еденичный массив\r\n",
    "np.ones((10, 5), dtype=np.int32)"
   ],
   "outputs": [
    {
     "output_type": "execute_result",
     "data": {
      "text/plain": [
       "array([[1, 1, 1, 1, 1],\n",
       "       [1, 1, 1, 1, 1],\n",
       "       [1, 1, 1, 1, 1],\n",
       "       [1, 1, 1, 1, 1],\n",
       "       [1, 1, 1, 1, 1],\n",
       "       [1, 1, 1, 1, 1],\n",
       "       [1, 1, 1, 1, 1],\n",
       "       [1, 1, 1, 1, 1],\n",
       "       [1, 1, 1, 1, 1],\n",
       "       [1, 1, 1, 1, 1]])"
      ]
     },
     "metadata": {},
     "execution_count": 97
    }
   ],
   "metadata": {}
  },
  {
   "cell_type": "code",
   "execution_count": 102,
   "source": [
    "# создать еденичный массив\r\n",
    "np.ones((2, 2, 2, 2), dtype=np.int32)"
   ],
   "outputs": [
    {
     "output_type": "execute_result",
     "data": {
      "text/plain": [
       "array([[[[1, 1],\n",
       "         [1, 1]],\n",
       "\n",
       "        [[1, 1],\n",
       "         [1, 1]]],\n",
       "\n",
       "\n",
       "       [[[1, 1],\n",
       "         [1, 1]],\n",
       "\n",
       "        [[1, 1],\n",
       "         [1, 1]]]])"
      ]
     },
     "metadata": {},
     "execution_count": 102
    }
   ],
   "metadata": {}
  },
  {
   "cell_type": "code",
   "execution_count": 112,
   "source": [
    "# создать нулевой массив\r\n",
    "np.zeros((2, 2, 2, 2), dtype=np.int32)"
   ],
   "outputs": [
    {
     "output_type": "execute_result",
     "data": {
      "text/plain": [
       "array([[[[0, 0],\n",
       "         [0, 0]],\n",
       "\n",
       "        [[0, 0],\n",
       "         [0, 0]]],\n",
       "\n",
       "\n",
       "       [[[0, 0],\n",
       "         [0, 0]],\n",
       "\n",
       "        [[0, 0],\n",
       "         [0, 0]]]])"
      ]
     },
     "metadata": {},
     "execution_count": 112
    }
   ],
   "metadata": {}
  },
  {
   "cell_type": "code",
   "execution_count": 117,
   "source": [
    "# создать массив с определенным числом\r\n",
    "np.full((2, 2, 2, 2), 5, dtype=np.int32)"
   ],
   "outputs": [
    {
     "output_type": "execute_result",
     "data": {
      "text/plain": [
       "array([[[[5, 5],\n",
       "         [5, 5]],\n",
       "\n",
       "        [[5, 5],\n",
       "         [5, 5]]],\n",
       "\n",
       "\n",
       "       [[[5, 5],\n",
       "         [5, 5]],\n",
       "\n",
       "        [[5, 5],\n",
       "         [5, 5]]]])"
      ]
     },
     "metadata": {},
     "execution_count": 117
    }
   ],
   "metadata": {}
  },
  {
   "cell_type": "code",
   "execution_count": 122,
   "source": [
    "# сделать нулевой, едичный, заполненный массив размером как другой массив\r\n",
    "np.zeros_like(X)"
   ],
   "outputs": [
    {
     "output_type": "execute_result",
     "data": {
      "text/plain": [
       "array([[0., 0., 0., 0.],\n",
       "       [0., 0., 0., 0.],\n",
       "       [0., 0., 0., 0.],\n",
       "       [0., 0., 0., 0.],\n",
       "       [0., 0., 0., 0.],\n",
       "       [0., 0., 0., 0.],\n",
       "       [0., 0., 0., 0.],\n",
       "       [0., 0., 0., 0.],\n",
       "       [0., 0., 0., 0.],\n",
       "       [0., 0., 0., 0.],\n",
       "       [0., 0., 0., 0.],\n",
       "       [0., 0., 0., 0.],\n",
       "       [0., 0., 0., 0.],\n",
       "       [0., 0., 0., 0.],\n",
       "       [0., 0., 0., 0.],\n",
       "       [0., 0., 0., 0.],\n",
       "       [0., 0., 0., 0.],\n",
       "       [0., 0., 0., 0.],\n",
       "       [0., 0., 0., 0.],\n",
       "       [0., 0., 0., 0.],\n",
       "       [0., 0., 0., 0.],\n",
       "       [0., 0., 0., 0.],\n",
       "       [0., 0., 0., 0.],\n",
       "       [0., 0., 0., 0.],\n",
       "       [0., 0., 0., 0.],\n",
       "       [0., 0., 0., 0.],\n",
       "       [0., 0., 0., 0.],\n",
       "       [0., 0., 0., 0.],\n",
       "       [0., 0., 0., 0.],\n",
       "       [0., 0., 0., 0.],\n",
       "       [0., 0., 0., 0.],\n",
       "       [0., 0., 0., 0.],\n",
       "       [0., 0., 0., 0.],\n",
       "       [0., 0., 0., 0.],\n",
       "       [0., 0., 0., 0.],\n",
       "       [0., 0., 0., 0.],\n",
       "       [0., 0., 0., 0.],\n",
       "       [0., 0., 0., 0.],\n",
       "       [0., 0., 0., 0.],\n",
       "       [0., 0., 0., 0.],\n",
       "       [0., 0., 0., 0.],\n",
       "       [0., 0., 0., 0.],\n",
       "       [0., 0., 0., 0.],\n",
       "       [0., 0., 0., 0.],\n",
       "       [0., 0., 0., 0.],\n",
       "       [0., 0., 0., 0.],\n",
       "       [0., 0., 0., 0.],\n",
       "       [0., 0., 0., 0.],\n",
       "       [0., 0., 0., 0.],\n",
       "       [0., 0., 0., 0.],\n",
       "       [0., 0., 0., 0.],\n",
       "       [0., 0., 0., 0.],\n",
       "       [0., 0., 0., 0.],\n",
       "       [0., 0., 0., 0.],\n",
       "       [0., 0., 0., 0.],\n",
       "       [0., 0., 0., 0.],\n",
       "       [0., 0., 0., 0.],\n",
       "       [0., 0., 0., 0.],\n",
       "       [0., 0., 0., 0.],\n",
       "       [0., 0., 0., 0.],\n",
       "       [0., 0., 0., 0.],\n",
       "       [0., 0., 0., 0.],\n",
       "       [0., 0., 0., 0.],\n",
       "       [0., 0., 0., 0.],\n",
       "       [0., 0., 0., 0.],\n",
       "       [0., 0., 0., 0.],\n",
       "       [0., 0., 0., 0.],\n",
       "       [0., 0., 0., 0.],\n",
       "       [0., 0., 0., 0.],\n",
       "       [0., 0., 0., 0.],\n",
       "       [0., 0., 0., 0.],\n",
       "       [0., 0., 0., 0.],\n",
       "       [0., 0., 0., 0.],\n",
       "       [0., 0., 0., 0.],\n",
       "       [0., 0., 0., 0.],\n",
       "       [0., 0., 0., 0.],\n",
       "       [0., 0., 0., 0.],\n",
       "       [0., 0., 0., 0.],\n",
       "       [0., 0., 0., 0.],\n",
       "       [0., 0., 0., 0.],\n",
       "       [0., 0., 0., 0.],\n",
       "       [0., 0., 0., 0.],\n",
       "       [0., 0., 0., 0.],\n",
       "       [0., 0., 0., 0.],\n",
       "       [0., 0., 0., 0.],\n",
       "       [0., 0., 0., 0.],\n",
       "       [0., 0., 0., 0.],\n",
       "       [0., 0., 0., 0.],\n",
       "       [0., 0., 0., 0.],\n",
       "       [0., 0., 0., 0.],\n",
       "       [0., 0., 0., 0.],\n",
       "       [0., 0., 0., 0.],\n",
       "       [0., 0., 0., 0.],\n",
       "       [0., 0., 0., 0.],\n",
       "       [0., 0., 0., 0.],\n",
       "       [0., 0., 0., 0.],\n",
       "       [0., 0., 0., 0.],\n",
       "       [0., 0., 0., 0.],\n",
       "       [0., 0., 0., 0.],\n",
       "       [0., 0., 0., 0.],\n",
       "       [0., 0., 0., 0.],\n",
       "       [0., 0., 0., 0.],\n",
       "       [0., 0., 0., 0.],\n",
       "       [0., 0., 0., 0.],\n",
       "       [0., 0., 0., 0.],\n",
       "       [0., 0., 0., 0.],\n",
       "       [0., 0., 0., 0.],\n",
       "       [0., 0., 0., 0.],\n",
       "       [0., 0., 0., 0.],\n",
       "       [0., 0., 0., 0.],\n",
       "       [0., 0., 0., 0.],\n",
       "       [0., 0., 0., 0.],\n",
       "       [0., 0., 0., 0.],\n",
       "       [0., 0., 0., 0.],\n",
       "       [0., 0., 0., 0.],\n",
       "       [0., 0., 0., 0.],\n",
       "       [0., 0., 0., 0.],\n",
       "       [0., 0., 0., 0.],\n",
       "       [0., 0., 0., 0.],\n",
       "       [0., 0., 0., 0.],\n",
       "       [0., 0., 0., 0.],\n",
       "       [0., 0., 0., 0.],\n",
       "       [0., 0., 0., 0.],\n",
       "       [0., 0., 0., 0.],\n",
       "       [0., 0., 0., 0.],\n",
       "       [0., 0., 0., 0.],\n",
       "       [0., 0., 0., 0.],\n",
       "       [0., 0., 0., 0.],\n",
       "       [0., 0., 0., 0.],\n",
       "       [0., 0., 0., 0.],\n",
       "       [0., 0., 0., 0.],\n",
       "       [0., 0., 0., 0.],\n",
       "       [0., 0., 0., 0.],\n",
       "       [0., 0., 0., 0.],\n",
       "       [0., 0., 0., 0.],\n",
       "       [0., 0., 0., 0.],\n",
       "       [0., 0., 0., 0.],\n",
       "       [0., 0., 0., 0.],\n",
       "       [0., 0., 0., 0.],\n",
       "       [0., 0., 0., 0.],\n",
       "       [0., 0., 0., 0.],\n",
       "       [0., 0., 0., 0.],\n",
       "       [0., 0., 0., 0.],\n",
       "       [0., 0., 0., 0.],\n",
       "       [0., 0., 0., 0.],\n",
       "       [0., 0., 0., 0.],\n",
       "       [0., 0., 0., 0.],\n",
       "       [0., 0., 0., 0.],\n",
       "       [0., 0., 0., 0.],\n",
       "       [0., 0., 0., 0.]])"
      ]
     },
     "metadata": {},
     "execution_count": 122
    }
   ],
   "metadata": {}
  },
  {
   "cell_type": "code",
   "execution_count": 127,
   "source": [
    "np.full_like(y, 5)"
   ],
   "outputs": [
    {
     "output_type": "execute_result",
     "data": {
      "text/plain": [
       "array([5, 5, 5, 5, 5, 5, 5, 5, 5, 5, 5, 5, 5, 5, 5, 5, 5, 5, 5, 5, 5, 5,\n",
       "       5, 5, 5, 5, 5, 5, 5, 5, 5, 5, 5, 5, 5, 5, 5, 5, 5, 5, 5, 5, 5, 5,\n",
       "       5, 5, 5, 5, 5, 5, 5, 5, 5, 5, 5, 5, 5, 5, 5, 5, 5, 5, 5, 5, 5, 5,\n",
       "       5, 5, 5, 5, 5, 5, 5, 5, 5, 5, 5, 5, 5, 5, 5, 5, 5, 5, 5, 5, 5, 5,\n",
       "       5, 5, 5, 5, 5, 5, 5, 5, 5, 5, 5, 5, 5, 5, 5, 5, 5, 5, 5, 5, 5, 5,\n",
       "       5, 5, 5, 5, 5, 5, 5, 5, 5, 5, 5, 5, 5, 5, 5, 5, 5, 5, 5, 5, 5, 5,\n",
       "       5, 5, 5, 5, 5, 5, 5, 5, 5, 5, 5, 5, 5, 5, 5, 5, 5, 5])"
      ]
     },
     "metadata": {},
     "execution_count": 127
    }
   ],
   "metadata": {}
  },
  {
   "cell_type": "code",
   "execution_count": 132,
   "source": [
    "# и даже создать массив из ничего нужного размера\r\n",
    "np.empty((3, 2))"
   ],
   "outputs": [
    {
     "output_type": "execute_result",
     "data": {
      "text/plain": [
       "array([[0., 0.],\n",
       "       [0., 0.],\n",
       "       [0., 0.]])"
      ]
     },
     "metadata": {},
     "execution_count": 132
    }
   ],
   "metadata": {}
  },
  {
   "cell_type": "code",
   "execution_count": 147,
   "source": [
    "# и даже создать массив из ничего нужного размера (на самом деле он пустой, баг отображения)\r\n",
    "b = np.empty_like(y)\r\n",
    "print(b.sum())\r\n",
    "b"
   ],
   "outputs": [
    {
     "output_type": "stream",
     "name": "stdout",
     "text": [
      "-1768515946\n"
     ]
    },
    {
     "output_type": "execute_result",
     "data": {
      "text/plain": [
       "array([16843009, 16843009, 16843009, 16843009, 16843009, 16843009,\n",
       "       16843009, 16843009, 16843009, 16843009, 16843009, 16843009,\n",
       "       16843009, 16843009, 16843009, 16843009, 16843009, 16843009,\n",
       "       16843009, 16843009, 16843009, 16843009, 16843009, 16843009,\n",
       "       16843009, 16843009, 16843009, 16843009, 16843009, 16843009,\n",
       "       16843009, 16843009, 16843009, 16843009, 16843009, 16843009,\n",
       "       16843009, 16843009, 16843009, 16843009, 16843009, 16843009,\n",
       "       16843009, 16843009, 16843009, 16843009, 16843009, 16843009,\n",
       "       16843009, 16843009, 16843009, 16843009, 16843009, 16843009,\n",
       "       16843009, 16843009, 16843009, 16843009, 16843009, 16843009,\n",
       "       16843009, 16843009, 16843009, 16843009, 16843009, 16843009,\n",
       "       16843009, 16843009, 16843009, 16843009, 16843009, 16843009,\n",
       "       16843009, 16843009, 16843009, 16843009, 16843009, 16843009,\n",
       "       16843009, 16843009, 16843009, 16843009, 16843009, 16843009,\n",
       "       16843009, 16843009, 16843009, 16843009, 16843009, 16843009,\n",
       "       16843009, 16843009, 16843009, 16843009, 16843009, 16843009,\n",
       "       16843009, 16843009, 16843009, 16843009, 16843009, 16843009,\n",
       "       16843009, 16843009, 16843009, 16843009, 16843009, 16843009,\n",
       "       16843009, 16843009, 16843009, 16843009, 16843009, 16843009,\n",
       "       16843009, 16843009, 16843009, 16843009, 16843009, 16843009,\n",
       "       16843009, 16843009, 16843009, 16843009, 16843009, 16843009,\n",
       "       16843009, 16843009, 16843009, 16843009, 16843009, 16843009,\n",
       "       16843009, 16843009, 16843009, 16843009, 16843009, 16843009,\n",
       "       16843009, 16843009, 16843009, 16843009, 16843009, 16843009,\n",
       "       16843009, 16843009, 16843009, 16843009, 16843009, 16843009])"
      ]
     },
     "metadata": {},
     "execution_count": 147
    }
   ],
   "metadata": {}
  },
  {
   "cell_type": "code",
   "execution_count": 153,
   "source": [
    "# можно создавать массивы случайных чисел\r\n",
    "np.random.randint(0, 10, (2, 2))"
   ],
   "outputs": [
    {
     "output_type": "execute_result",
     "data": {
      "text/plain": [
       "array([[0, 0],\n",
       "       [5, 2]])"
      ]
     },
     "metadata": {},
     "execution_count": 153
    }
   ],
   "metadata": {}
  },
  {
   "cell_type": "code",
   "execution_count": 165,
   "source": [
    "# можно создавать массивы случайных чисел из распределения стандартного нормального\r\n",
    "np.random.randn(2, 2)"
   ],
   "outputs": [
    {
     "output_type": "execute_result",
     "data": {
      "text/plain": [
       "array([[-1.33093837, -0.46076235],\n",
       "       [-0.34813679,  1.97204058]])"
      ]
     },
     "metadata": {},
     "execution_count": 165
    }
   ],
   "metadata": {}
  },
  {
   "cell_type": "code",
   "execution_count": 189,
   "source": [
    "# можно создавать массивы случайных чисел из распределения нормального\r\n",
    "np.random.normal(2, 5, (20, ))"
   ],
   "outputs": [
    {
     "output_type": "execute_result",
     "data": {
      "text/plain": [
       "array([11.19492423,  3.03448035,  7.28242325,  8.28923377,  8.46149403,\n",
       "       -1.32747888,  0.56684908, -3.67333075,  1.3655405 ,  4.27684219,\n",
       "       12.87780912,  3.627575  , -9.61502413,  0.61777183,  3.73422463,\n",
       "       -3.48707698,  4.20564192,  8.940894  ,  5.88935406, -3.33427563])"
      ]
     },
     "metadata": {},
     "execution_count": 189
    }
   ],
   "metadata": {}
  },
  {
   "cell_type": "code",
   "execution_count": 195,
   "source": [
    "# можно создавать массивы случайных чисел из распределения равномерного\r\n",
    "np.random.uniform(2, 5, (20, ))"
   ],
   "outputs": [
    {
     "output_type": "execute_result",
     "data": {
      "text/plain": [
       "array([4.42658205, 4.89813359, 2.2419042 , 3.64516802, 2.26223576,\n",
       "       3.10805862, 2.76934107, 4.79016296, 4.76602178, 3.72193153,\n",
       "       2.11428906, 2.91854601, 2.56572919, 4.44268296, 3.17199244,\n",
       "       2.23088691, 4.69755587, 4.3461396 , 4.23311369, 4.67141442])"
      ]
     },
     "metadata": {},
     "execution_count": 195
    }
   ],
   "metadata": {}
  },
  {
   "cell_type": "code",
   "execution_count": 201,
   "source": [
    "# а еще можно менять размерность массива\r\n",
    "y.reshape(30, 5)"
   ],
   "outputs": [
    {
     "output_type": "execute_result",
     "data": {
      "text/plain": [
       "array([[0, 0, 0, 0, 0],\n",
       "       [0, 0, 0, 0, 0],\n",
       "       [0, 0, 0, 0, 0],\n",
       "       [0, 0, 0, 0, 0],\n",
       "       [0, 0, 0, 0, 0],\n",
       "       [0, 0, 0, 0, 0],\n",
       "       [0, 0, 0, 0, 0],\n",
       "       [0, 0, 0, 0, 0],\n",
       "       [0, 0, 0, 0, 0],\n",
       "       [0, 0, 0, 0, 0],\n",
       "       [1, 1, 1, 1, 1],\n",
       "       [1, 1, 1, 1, 1],\n",
       "       [1, 1, 1, 1, 1],\n",
       "       [1, 1, 1, 1, 1],\n",
       "       [1, 1, 1, 1, 1],\n",
       "       [1, 1, 1, 1, 1],\n",
       "       [1, 1, 1, 1, 1],\n",
       "       [1, 1, 1, 1, 1],\n",
       "       [1, 1, 1, 1, 1],\n",
       "       [1, 1, 1, 1, 1],\n",
       "       [2, 2, 2, 2, 2],\n",
       "       [2, 2, 2, 2, 2],\n",
       "       [2, 2, 2, 2, 2],\n",
       "       [2, 2, 2, 2, 2],\n",
       "       [2, 2, 2, 2, 2],\n",
       "       [2, 2, 2, 2, 2],\n",
       "       [2, 2, 2, 2, 2],\n",
       "       [2, 2, 2, 2, 2],\n",
       "       [2, 2, 2, 2, 2],\n",
       "       [2, 2, 2, 2, 2]])"
      ]
     },
     "metadata": {},
     "execution_count": 201
    }
   ],
   "metadata": {}
  },
  {
   "cell_type": "markdown",
   "source": [
    "## Индексирование массива"
   ],
   "metadata": {}
  },
  {
   "cell_type": "markdown",
   "source": [
    "индексация проводится по осям вдоль каждого измерения:\r\n",
    "\r\n",
    "<img src=\"./img/axis.png\">"
   ],
   "metadata": {}
  },
  {
   "cell_type": "code",
   "execution_count": 211,
   "source": [
    "#разделение между осями это \",\"\r\n",
    "x_reshaped = X.reshape(10, 10, 6)\r\n",
    "x_reshaped[1, 1, 1]"
   ],
   "outputs": [
    {
     "output_type": "execute_result",
     "data": {
      "text/plain": [
       "0.4"
      ]
     },
     "metadata": {},
     "execution_count": 211
    }
   ],
   "metadata": {}
  },
  {
   "cell_type": "code",
   "execution_count": 212,
   "source": [
    "# \":\" возвращает все элементы оси\r\n",
    "X[0, :]"
   ],
   "outputs": [
    {
     "output_type": "execute_result",
     "data": {
      "text/plain": [
       "array([5.1, 3.5, 1.4, 0.2])"
      ]
     },
     "metadata": {},
     "execution_count": 212
    }
   ],
   "metadata": {}
  },
  {
   "cell_type": "code",
   "execution_count": 213,
   "source": [
    "# можно пользовать slice\r\n",
    "X[1:10:2, :]"
   ],
   "outputs": [
    {
     "output_type": "execute_result",
     "data": {
      "text/plain": [
       "array([[4.9, 3. , 1.4, 0.2],\n",
       "       [4.6, 3.1, 1.5, 0.2],\n",
       "       [5.4, 3.9, 1.7, 0.4],\n",
       "       [5. , 3.4, 1.5, 0.2],\n",
       "       [4.9, 3.1, 1.5, 0.1]])"
      ]
     },
     "metadata": {},
     "execution_count": 213
    }
   ],
   "metadata": {}
  },
  {
   "cell_type": "code",
   "execution_count": 214,
   "source": [
    "# использование None, np.newaxis добавит новое измерение\r\n",
    "X[0, :, None]"
   ],
   "outputs": [
    {
     "output_type": "execute_result",
     "data": {
      "text/plain": [
       "array([[5.1],\n",
       "       [3.5],\n",
       "       [1.4],\n",
       "       [0.2]])"
      ]
     },
     "metadata": {},
     "execution_count": 214
    }
   ],
   "metadata": {}
  },
  {
   "cell_type": "code",
   "execution_count": 215,
   "source": [
    "# использование None, np.newaxis добавит новое измерение\r\n",
    "X[0, :, np.newaxis]"
   ],
   "outputs": [
    {
     "output_type": "execute_result",
     "data": {
      "text/plain": [
       "array([[5.1],\n",
       "       [3.5],\n",
       "       [1.4],\n",
       "       [0.2]])"
      ]
     },
     "metadata": {},
     "execution_count": 215
    }
   ],
   "metadata": {}
  },
  {
   "cell_type": "code",
   "execution_count": 217,
   "source": [
    "# индекс может быть другим массивом\r\n",
    "i = np.array([2, 3, 5])\r\n",
    "X[i, 0]"
   ],
   "outputs": [
    {
     "output_type": "execute_result",
     "data": {
      "text/plain": [
       "array([4.7, 4.6, 5.4])"
      ]
     },
     "metadata": {},
     "execution_count": 217
    }
   ],
   "metadata": {}
  },
  {
   "cell_type": "code",
   "execution_count": 220,
   "source": [
    "# индекс может быть другим массивом\r\n",
    "ii = np.arange(0, 3)\r\n",
    "X[i, ii]"
   ],
   "outputs": [
    {
     "output_type": "execute_result",
     "data": {
      "text/plain": [
       "array([4.7, 3.1, 1.7])"
      ]
     },
     "metadata": {},
     "execution_count": 220
    }
   ],
   "metadata": {}
  },
  {
   "cell_type": "code",
   "execution_count": 222,
   "source": [
    "# можем использовать логический индекс\r\n",
    "y[y == 2]"
   ],
   "outputs": [
    {
     "output_type": "execute_result",
     "data": {
      "text/plain": [
       "array([2, 2, 2, 2, 2, 2, 2, 2, 2, 2, 2, 2, 2, 2, 2, 2, 2, 2, 2, 2, 2, 2,\n",
       "       2, 2, 2, 2, 2, 2, 2, 2, 2, 2, 2, 2, 2, 2, 2, 2, 2, 2, 2, 2, 2, 2,\n",
       "       2, 2, 2, 2, 2, 2])"
      ]
     },
     "metadata": {},
     "execution_count": 222
    }
   ],
   "metadata": {}
  },
  {
   "cell_type": "code",
   "execution_count": 223,
   "source": [
    "# можем использовать логический индекс\r\n",
    "y[(y == 2) | (y == 0)]"
   ],
   "outputs": [
    {
     "output_type": "execute_result",
     "data": {
      "text/plain": [
       "array([0, 0, 0, 0, 0, 0, 0, 0, 0, 0, 0, 0, 0, 0, 0, 0, 0, 0, 0, 0, 0, 0,\n",
       "       0, 0, 0, 0, 0, 0, 0, 0, 0, 0, 0, 0, 0, 0, 0, 0, 0, 0, 0, 0, 0, 0,\n",
       "       0, 0, 0, 0, 0, 0, 2, 2, 2, 2, 2, 2, 2, 2, 2, 2, 2, 2, 2, 2, 2, 2,\n",
       "       2, 2, 2, 2, 2, 2, 2, 2, 2, 2, 2, 2, 2, 2, 2, 2, 2, 2, 2, 2, 2, 2,\n",
       "       2, 2, 2, 2, 2, 2, 2, 2, 2, 2, 2, 2])"
      ]
     },
     "metadata": {},
     "execution_count": 223
    }
   ],
   "metadata": {}
  },
  {
   "cell_type": "code",
   "execution_count": 224,
   "source": [
    "# можем использовать логический индекс\r\n",
    "y[(y < 2) & (y > 0)]"
   ],
   "outputs": [
    {
     "output_type": "execute_result",
     "data": {
      "text/plain": [
       "array([1, 1, 1, 1, 1, 1, 1, 1, 1, 1, 1, 1, 1, 1, 1, 1, 1, 1, 1, 1, 1, 1,\n",
       "       1, 1, 1, 1, 1, 1, 1, 1, 1, 1, 1, 1, 1, 1, 1, 1, 1, 1, 1, 1, 1, 1,\n",
       "       1, 1, 1, 1, 1, 1])"
      ]
     },
     "metadata": {},
     "execution_count": 224
    }
   ],
   "metadata": {}
  },
  {
   "cell_type": "code",
   "execution_count": 225,
   "source": [
    "# np.where вернет индексы где сравнение возвращает True\r\n",
    "np.where((y < 2) & (y > 0))"
   ],
   "outputs": [
    {
     "output_type": "execute_result",
     "data": {
      "text/plain": [
       "(array([50, 51, 52, 53, 54, 55, 56, 57, 58, 59, 60, 61, 62, 63, 64, 65, 66,\n",
       "        67, 68, 69, 70, 71, 72, 73, 74, 75, 76, 77, 78, 79, 80, 81, 82, 83,\n",
       "        84, 85, 86, 87, 88, 89, 90, 91, 92, 93, 94, 95, 96, 97, 98, 99],\n",
       "       dtype=int64),)"
      ]
     },
     "metadata": {},
     "execution_count": 225
    }
   ],
   "metadata": {}
  },
  {
   "cell_type": "markdown",
   "source": [
    "## Математические операции с массивами"
   ],
   "metadata": {}
  },
  {
   "cell_type": "code",
   "execution_count": 226,
   "source": [
    "# можно складывать, умножать, делить массивы у которых совпадают одна или более размерностей и другие размерности равны 1\r\n",
    "# reshape -1 перенесет не используемые размерности в ту где он стоит\r\n",
    "X + y.reshape(-1, 1)"
   ],
   "outputs": [
    {
     "output_type": "execute_result",
     "data": {
      "text/plain": [
       "array([[5.1, 3.5, 1.4, 0.2],\n",
       "       [4.9, 3. , 1.4, 0.2],\n",
       "       [4.7, 3.2, 1.3, 0.2],\n",
       "       [4.6, 3.1, 1.5, 0.2],\n",
       "       [5. , 3.6, 1.4, 0.2],\n",
       "       [5.4, 3.9, 1.7, 0.4],\n",
       "       [4.6, 3.4, 1.4, 0.3],\n",
       "       [5. , 3.4, 1.5, 0.2],\n",
       "       [4.4, 2.9, 1.4, 0.2],\n",
       "       [4.9, 3.1, 1.5, 0.1],\n",
       "       [5.4, 3.7, 1.5, 0.2],\n",
       "       [4.8, 3.4, 1.6, 0.2],\n",
       "       [4.8, 3. , 1.4, 0.1],\n",
       "       [4.3, 3. , 1.1, 0.1],\n",
       "       [5.8, 4. , 1.2, 0.2],\n",
       "       [5.7, 4.4, 1.5, 0.4],\n",
       "       [5.4, 3.9, 1.3, 0.4],\n",
       "       [5.1, 3.5, 1.4, 0.3],\n",
       "       [5.7, 3.8, 1.7, 0.3],\n",
       "       [5.1, 3.8, 1.5, 0.3],\n",
       "       [5.4, 3.4, 1.7, 0.2],\n",
       "       [5.1, 3.7, 1.5, 0.4],\n",
       "       [4.6, 3.6, 1. , 0.2],\n",
       "       [5.1, 3.3, 1.7, 0.5],\n",
       "       [4.8, 3.4, 1.9, 0.2],\n",
       "       [5. , 3. , 1.6, 0.2],\n",
       "       [5. , 3.4, 1.6, 0.4],\n",
       "       [5.2, 3.5, 1.5, 0.2],\n",
       "       [5.2, 3.4, 1.4, 0.2],\n",
       "       [4.7, 3.2, 1.6, 0.2],\n",
       "       [4.8, 3.1, 1.6, 0.2],\n",
       "       [5.4, 3.4, 1.5, 0.4],\n",
       "       [5.2, 4.1, 1.5, 0.1],\n",
       "       [5.5, 4.2, 1.4, 0.2],\n",
       "       [4.9, 3.1, 1.5, 0.2],\n",
       "       [5. , 3.2, 1.2, 0.2],\n",
       "       [5.5, 3.5, 1.3, 0.2],\n",
       "       [4.9, 3.6, 1.4, 0.1],\n",
       "       [4.4, 3. , 1.3, 0.2],\n",
       "       [5.1, 3.4, 1.5, 0.2],\n",
       "       [5. , 3.5, 1.3, 0.3],\n",
       "       [4.5, 2.3, 1.3, 0.3],\n",
       "       [4.4, 3.2, 1.3, 0.2],\n",
       "       [5. , 3.5, 1.6, 0.6],\n",
       "       [5.1, 3.8, 1.9, 0.4],\n",
       "       [4.8, 3. , 1.4, 0.3],\n",
       "       [5.1, 3.8, 1.6, 0.2],\n",
       "       [4.6, 3.2, 1.4, 0.2],\n",
       "       [5.3, 3.7, 1.5, 0.2],\n",
       "       [5. , 3.3, 1.4, 0.2],\n",
       "       [8. , 4.2, 5.7, 2.4],\n",
       "       [7.4, 4.2, 5.5, 2.5],\n",
       "       [7.9, 4.1, 5.9, 2.5],\n",
       "       [6.5, 3.3, 5. , 2.3],\n",
       "       [7.5, 3.8, 5.6, 2.5],\n",
       "       [6.7, 3.8, 5.5, 2.3],\n",
       "       [7.3, 4.3, 5.7, 2.6],\n",
       "       [5.9, 3.4, 4.3, 2. ],\n",
       "       [7.6, 3.9, 5.6, 2.3],\n",
       "       [6.2, 3.7, 4.9, 2.4],\n",
       "       [6. , 3. , 4.5, 2. ],\n",
       "       [6.9, 4. , 5.2, 2.5],\n",
       "       [7. , 3.2, 5. , 2. ],\n",
       "       [7.1, 3.9, 5.7, 2.4],\n",
       "       [6.6, 3.9, 4.6, 2.3],\n",
       "       [7.7, 4.1, 5.4, 2.4],\n",
       "       [6.6, 4. , 5.5, 2.5],\n",
       "       [6.8, 3.7, 5.1, 2. ],\n",
       "       [7.2, 3.2, 5.5, 2.5],\n",
       "       [6.6, 3.5, 4.9, 2.1],\n",
       "       [6.9, 4.2, 5.8, 2.8],\n",
       "       [7.1, 3.8, 5. , 2.3],\n",
       "       [7.3, 3.5, 5.9, 2.5],\n",
       "       [7.1, 3.8, 5.7, 2.2],\n",
       "       [7.4, 3.9, 5.3, 2.3],\n",
       "       [7.6, 4. , 5.4, 2.4],\n",
       "       [7.8, 3.8, 5.8, 2.4],\n",
       "       [7.7, 4. , 6. , 2.7],\n",
       "       [7. , 3.9, 5.5, 2.5],\n",
       "       [6.7, 3.6, 4.5, 2. ],\n",
       "       [6.5, 3.4, 4.8, 2.1],\n",
       "       [6.5, 3.4, 4.7, 2. ],\n",
       "       [6.8, 3.7, 4.9, 2.2],\n",
       "       [7. , 3.7, 6.1, 2.6],\n",
       "       [6.4, 4. , 5.5, 2.5],\n",
       "       [7. , 4.4, 5.5, 2.6],\n",
       "       [7.7, 4.1, 5.7, 2.5],\n",
       "       [7.3, 3.3, 5.4, 2.3],\n",
       "       [6.6, 4. , 5.1, 2.3],\n",
       "       [6.5, 3.5, 5. , 2.3],\n",
       "       [6.5, 3.6, 5.4, 2.2],\n",
       "       [7.1, 4. , 5.6, 2.4],\n",
       "       [6.8, 3.6, 5. , 2.2],\n",
       "       [6. , 3.3, 4.3, 2. ],\n",
       "       [6.6, 3.7, 5.2, 2.3],\n",
       "       [6.7, 4. , 5.2, 2.2],\n",
       "       [6.7, 3.9, 5.2, 2.3],\n",
       "       [7.2, 3.9, 5.3, 2.3],\n",
       "       [6.1, 3.5, 4. , 2.1],\n",
       "       [6.7, 3.8, 5.1, 2.3],\n",
       "       [8.3, 5.3, 8. , 4.5],\n",
       "       [7.8, 4.7, 7.1, 3.9],\n",
       "       [9.1, 5. , 7.9, 4.1],\n",
       "       [8.3, 4.9, 7.6, 3.8],\n",
       "       [8.5, 5. , 7.8, 4.2],\n",
       "       [9.6, 5. , 8.6, 4.1],\n",
       "       [6.9, 4.5, 6.5, 3.7],\n",
       "       [9.3, 4.9, 8.3, 3.8],\n",
       "       [8.7, 4.5, 7.8, 3.8],\n",
       "       [9.2, 5.6, 8.1, 4.5],\n",
       "       [8.5, 5.2, 7.1, 4. ],\n",
       "       [8.4, 4.7, 7.3, 3.9],\n",
       "       [8.8, 5. , 7.5, 4.1],\n",
       "       [7.7, 4.5, 7. , 4. ],\n",
       "       [7.8, 4.8, 7.1, 4.4],\n",
       "       [8.4, 5.2, 7.3, 4.3],\n",
       "       [8.5, 5. , 7.5, 3.8],\n",
       "       [9.7, 5.8, 8.7, 4.2],\n",
       "       [9.7, 4.6, 8.9, 4.3],\n",
       "       [8. , 4.2, 7. , 3.5],\n",
       "       [8.9, 5.2, 7.7, 4.3],\n",
       "       [7.6, 4.8, 6.9, 4. ],\n",
       "       [9.7, 4.8, 8.7, 4. ],\n",
       "       [8.3, 4.7, 6.9, 3.8],\n",
       "       [8.7, 5.3, 7.7, 4.1],\n",
       "       [9.2, 5.2, 8. , 3.8],\n",
       "       [8.2, 4.8, 6.8, 3.8],\n",
       "       [8.1, 5. , 6.9, 3.8],\n",
       "       [8.4, 4.8, 7.6, 4.1],\n",
       "       [9.2, 5. , 7.8, 3.6],\n",
       "       [9.4, 4.8, 8.1, 3.9],\n",
       "       [9.9, 5.8, 8.4, 4. ],\n",
       "       [8.4, 4.8, 7.6, 4.2],\n",
       "       [8.3, 4.8, 7.1, 3.5],\n",
       "       [8.1, 4.6, 7.6, 3.4],\n",
       "       [9.7, 5. , 8.1, 4.3],\n",
       "       [8.3, 5.4, 7.6, 4.4],\n",
       "       [8.4, 5.1, 7.5, 3.8],\n",
       "       [8. , 5. , 6.8, 3.8],\n",
       "       [8.9, 5.1, 7.4, 4.1],\n",
       "       [8.7, 5.1, 7.6, 4.4],\n",
       "       [8.9, 5.1, 7.1, 4.3],\n",
       "       [7.8, 4.7, 7.1, 3.9],\n",
       "       [8.8, 5.2, 7.9, 4.3],\n",
       "       [8.7, 5.3, 7.7, 4.5],\n",
       "       [8.7, 5. , 7.2, 4.3],\n",
       "       [8.3, 4.5, 7. , 3.9],\n",
       "       [8.5, 5. , 7.2, 4. ],\n",
       "       [8.2, 5.4, 7.4, 4.3],\n",
       "       [7.9, 5. , 7.1, 3.8]])"
      ]
     },
     "metadata": {},
     "execution_count": 226
    }
   ],
   "metadata": {}
  },
  {
   "cell_type": "code",
   "execution_count": 228,
   "source": [
    "# размерность не совпала\r\n",
    "X * y"
   ],
   "outputs": [
    {
     "output_type": "error",
     "ename": "ValueError",
     "evalue": "operands could not be broadcast together with shapes (150,4) (150,) ",
     "traceback": [
      "\u001b[1;31m---------------------------------------------------------------------------\u001b[0m",
      "\u001b[1;31mValueError\u001b[0m                                Traceback (most recent call last)",
      "\u001b[1;32mC:\\Users\\ANTON~1.NES\\AppData\\Local\\Temp/ipykernel_9096/3784507368.py\u001b[0m in \u001b[0;36m<module>\u001b[1;34m\u001b[0m\n\u001b[0;32m      1\u001b[0m \u001b[1;31m# размерность не совпала\u001b[0m\u001b[1;33m\u001b[0m\u001b[1;33m\u001b[0m\u001b[1;33m\u001b[0m\u001b[0m\n\u001b[1;32m----> 2\u001b[1;33m \u001b[0mX\u001b[0m \u001b[1;33m+\u001b[0m \u001b[0my\u001b[0m\u001b[1;33m\u001b[0m\u001b[1;33m\u001b[0m\u001b[0m\n\u001b[0m",
      "\u001b[1;31mValueError\u001b[0m: operands could not be broadcast together with shapes (150,4) (150,) "
     ]
    }
   ],
   "metadata": {}
  },
  {
   "cell_type": "code",
   "execution_count": 229,
   "source": [
    "X / np.arange(1, 5).reshape(1, -1)"
   ],
   "outputs": [
    {
     "output_type": "execute_result",
     "data": {
      "text/plain": [
       "array([[5.1       , 1.75      , 0.46666667, 0.05      ],\n",
       "       [4.9       , 1.5       , 0.46666667, 0.05      ],\n",
       "       [4.7       , 1.6       , 0.43333333, 0.05      ],\n",
       "       [4.6       , 1.55      , 0.5       , 0.05      ],\n",
       "       [5.        , 1.8       , 0.46666667, 0.05      ],\n",
       "       [5.4       , 1.95      , 0.56666667, 0.1       ],\n",
       "       [4.6       , 1.7       , 0.46666667, 0.075     ],\n",
       "       [5.        , 1.7       , 0.5       , 0.05      ],\n",
       "       [4.4       , 1.45      , 0.46666667, 0.05      ],\n",
       "       [4.9       , 1.55      , 0.5       , 0.025     ],\n",
       "       [5.4       , 1.85      , 0.5       , 0.05      ],\n",
       "       [4.8       , 1.7       , 0.53333333, 0.05      ],\n",
       "       [4.8       , 1.5       , 0.46666667, 0.025     ],\n",
       "       [4.3       , 1.5       , 0.36666667, 0.025     ],\n",
       "       [5.8       , 2.        , 0.4       , 0.05      ],\n",
       "       [5.7       , 2.2       , 0.5       , 0.1       ],\n",
       "       [5.4       , 1.95      , 0.43333333, 0.1       ],\n",
       "       [5.1       , 1.75      , 0.46666667, 0.075     ],\n",
       "       [5.7       , 1.9       , 0.56666667, 0.075     ],\n",
       "       [5.1       , 1.9       , 0.5       , 0.075     ],\n",
       "       [5.4       , 1.7       , 0.56666667, 0.05      ],\n",
       "       [5.1       , 1.85      , 0.5       , 0.1       ],\n",
       "       [4.6       , 1.8       , 0.33333333, 0.05      ],\n",
       "       [5.1       , 1.65      , 0.56666667, 0.125     ],\n",
       "       [4.8       , 1.7       , 0.63333333, 0.05      ],\n",
       "       [5.        , 1.5       , 0.53333333, 0.05      ],\n",
       "       [5.        , 1.7       , 0.53333333, 0.1       ],\n",
       "       [5.2       , 1.75      , 0.5       , 0.05      ],\n",
       "       [5.2       , 1.7       , 0.46666667, 0.05      ],\n",
       "       [4.7       , 1.6       , 0.53333333, 0.05      ],\n",
       "       [4.8       , 1.55      , 0.53333333, 0.05      ],\n",
       "       [5.4       , 1.7       , 0.5       , 0.1       ],\n",
       "       [5.2       , 2.05      , 0.5       , 0.025     ],\n",
       "       [5.5       , 2.1       , 0.46666667, 0.05      ],\n",
       "       [4.9       , 1.55      , 0.5       , 0.05      ],\n",
       "       [5.        , 1.6       , 0.4       , 0.05      ],\n",
       "       [5.5       , 1.75      , 0.43333333, 0.05      ],\n",
       "       [4.9       , 1.8       , 0.46666667, 0.025     ],\n",
       "       [4.4       , 1.5       , 0.43333333, 0.05      ],\n",
       "       [5.1       , 1.7       , 0.5       , 0.05      ],\n",
       "       [5.        , 1.75      , 0.43333333, 0.075     ],\n",
       "       [4.5       , 1.15      , 0.43333333, 0.075     ],\n",
       "       [4.4       , 1.6       , 0.43333333, 0.05      ],\n",
       "       [5.        , 1.75      , 0.53333333, 0.15      ],\n",
       "       [5.1       , 1.9       , 0.63333333, 0.1       ],\n",
       "       [4.8       , 1.5       , 0.46666667, 0.075     ],\n",
       "       [5.1       , 1.9       , 0.53333333, 0.05      ],\n",
       "       [4.6       , 1.6       , 0.46666667, 0.05      ],\n",
       "       [5.3       , 1.85      , 0.5       , 0.05      ],\n",
       "       [5.        , 1.65      , 0.46666667, 0.05      ],\n",
       "       [7.        , 1.6       , 1.56666667, 0.35      ],\n",
       "       [6.4       , 1.6       , 1.5       , 0.375     ],\n",
       "       [6.9       , 1.55      , 1.63333333, 0.375     ],\n",
       "       [5.5       , 1.15      , 1.33333333, 0.325     ],\n",
       "       [6.5       , 1.4       , 1.53333333, 0.375     ],\n",
       "       [5.7       , 1.4       , 1.5       , 0.325     ],\n",
       "       [6.3       , 1.65      , 1.56666667, 0.4       ],\n",
       "       [4.9       , 1.2       , 1.1       , 0.25      ],\n",
       "       [6.6       , 1.45      , 1.53333333, 0.325     ],\n",
       "       [5.2       , 1.35      , 1.3       , 0.35      ],\n",
       "       [5.        , 1.        , 1.16666667, 0.25      ],\n",
       "       [5.9       , 1.5       , 1.4       , 0.375     ],\n",
       "       [6.        , 1.1       , 1.33333333, 0.25      ],\n",
       "       [6.1       , 1.45      , 1.56666667, 0.35      ],\n",
       "       [5.6       , 1.45      , 1.2       , 0.325     ],\n",
       "       [6.7       , 1.55      , 1.46666667, 0.35      ],\n",
       "       [5.6       , 1.5       , 1.5       , 0.375     ],\n",
       "       [5.8       , 1.35      , 1.36666667, 0.25      ],\n",
       "       [6.2       , 1.1       , 1.5       , 0.375     ],\n",
       "       [5.6       , 1.25      , 1.3       , 0.275     ],\n",
       "       [5.9       , 1.6       , 1.6       , 0.45      ],\n",
       "       [6.1       , 1.4       , 1.33333333, 0.325     ],\n",
       "       [6.3       , 1.25      , 1.63333333, 0.375     ],\n",
       "       [6.1       , 1.4       , 1.56666667, 0.3       ],\n",
       "       [6.4       , 1.45      , 1.43333333, 0.325     ],\n",
       "       [6.6       , 1.5       , 1.46666667, 0.35      ],\n",
       "       [6.8       , 1.4       , 1.6       , 0.35      ],\n",
       "       [6.7       , 1.5       , 1.66666667, 0.425     ],\n",
       "       [6.        , 1.45      , 1.5       , 0.375     ],\n",
       "       [5.7       , 1.3       , 1.16666667, 0.25      ],\n",
       "       [5.5       , 1.2       , 1.26666667, 0.275     ],\n",
       "       [5.5       , 1.2       , 1.23333333, 0.25      ],\n",
       "       [5.8       , 1.35      , 1.3       , 0.3       ],\n",
       "       [6.        , 1.35      , 1.7       , 0.4       ],\n",
       "       [5.4       , 1.5       , 1.5       , 0.375     ],\n",
       "       [6.        , 1.7       , 1.5       , 0.4       ],\n",
       "       [6.7       , 1.55      , 1.56666667, 0.375     ],\n",
       "       [6.3       , 1.15      , 1.46666667, 0.325     ],\n",
       "       [5.6       , 1.5       , 1.36666667, 0.325     ],\n",
       "       [5.5       , 1.25      , 1.33333333, 0.325     ],\n",
       "       [5.5       , 1.3       , 1.46666667, 0.3       ],\n",
       "       [6.1       , 1.5       , 1.53333333, 0.35      ],\n",
       "       [5.8       , 1.3       , 1.33333333, 0.3       ],\n",
       "       [5.        , 1.15      , 1.1       , 0.25      ],\n",
       "       [5.6       , 1.35      , 1.4       , 0.325     ],\n",
       "       [5.7       , 1.5       , 1.4       , 0.3       ],\n",
       "       [5.7       , 1.45      , 1.4       , 0.325     ],\n",
       "       [6.2       , 1.45      , 1.43333333, 0.325     ],\n",
       "       [5.1       , 1.25      , 1.        , 0.275     ],\n",
       "       [5.7       , 1.4       , 1.36666667, 0.325     ],\n",
       "       [6.3       , 1.65      , 2.        , 0.625     ],\n",
       "       [5.8       , 1.35      , 1.7       , 0.475     ],\n",
       "       [7.1       , 1.5       , 1.96666667, 0.525     ],\n",
       "       [6.3       , 1.45      , 1.86666667, 0.45      ],\n",
       "       [6.5       , 1.5       , 1.93333333, 0.55      ],\n",
       "       [7.6       , 1.5       , 2.2       , 0.525     ],\n",
       "       [4.9       , 1.25      , 1.5       , 0.425     ],\n",
       "       [7.3       , 1.45      , 2.1       , 0.45      ],\n",
       "       [6.7       , 1.25      , 1.93333333, 0.45      ],\n",
       "       [7.2       , 1.8       , 2.03333333, 0.625     ],\n",
       "       [6.5       , 1.6       , 1.7       , 0.5       ],\n",
       "       [6.4       , 1.35      , 1.76666667, 0.475     ],\n",
       "       [6.8       , 1.5       , 1.83333333, 0.525     ],\n",
       "       [5.7       , 1.25      , 1.66666667, 0.5       ],\n",
       "       [5.8       , 1.4       , 1.7       , 0.6       ],\n",
       "       [6.4       , 1.6       , 1.76666667, 0.575     ],\n",
       "       [6.5       , 1.5       , 1.83333333, 0.45      ],\n",
       "       [7.7       , 1.9       , 2.23333333, 0.55      ],\n",
       "       [7.7       , 1.3       , 2.3       , 0.575     ],\n",
       "       [6.        , 1.1       , 1.66666667, 0.375     ],\n",
       "       [6.9       , 1.6       , 1.9       , 0.575     ],\n",
       "       [5.6       , 1.4       , 1.63333333, 0.5       ],\n",
       "       [7.7       , 1.4       , 2.23333333, 0.5       ],\n",
       "       [6.3       , 1.35      , 1.63333333, 0.45      ],\n",
       "       [6.7       , 1.65      , 1.9       , 0.525     ],\n",
       "       [7.2       , 1.6       , 2.        , 0.45      ],\n",
       "       [6.2       , 1.4       , 1.6       , 0.45      ],\n",
       "       [6.1       , 1.5       , 1.63333333, 0.45      ],\n",
       "       [6.4       , 1.4       , 1.86666667, 0.525     ],\n",
       "       [7.2       , 1.5       , 1.93333333, 0.4       ],\n",
       "       [7.4       , 1.4       , 2.03333333, 0.475     ],\n",
       "       [7.9       , 1.9       , 2.13333333, 0.5       ],\n",
       "       [6.4       , 1.4       , 1.86666667, 0.55      ],\n",
       "       [6.3       , 1.4       , 1.7       , 0.375     ],\n",
       "       [6.1       , 1.3       , 1.86666667, 0.35      ],\n",
       "       [7.7       , 1.5       , 2.03333333, 0.575     ],\n",
       "       [6.3       , 1.7       , 1.86666667, 0.6       ],\n",
       "       [6.4       , 1.55      , 1.83333333, 0.45      ],\n",
       "       [6.        , 1.5       , 1.6       , 0.45      ],\n",
       "       [6.9       , 1.55      , 1.8       , 0.525     ],\n",
       "       [6.7       , 1.55      , 1.86666667, 0.6       ],\n",
       "       [6.9       , 1.55      , 1.7       , 0.575     ],\n",
       "       [5.8       , 1.35      , 1.7       , 0.475     ],\n",
       "       [6.8       , 1.6       , 1.96666667, 0.575     ],\n",
       "       [6.7       , 1.65      , 1.9       , 0.625     ],\n",
       "       [6.7       , 1.5       , 1.73333333, 0.575     ],\n",
       "       [6.3       , 1.25      , 1.66666667, 0.475     ],\n",
       "       [6.5       , 1.5       , 1.73333333, 0.5       ],\n",
       "       [6.2       , 1.7       , 1.8       , 0.575     ],\n",
       "       [5.9       , 1.5       , 1.7       , 0.45      ]])"
      ]
     },
     "metadata": {},
     "execution_count": 229
    }
   ],
   "metadata": {}
  },
  {
   "cell_type": "code",
   "execution_count": 230,
   "source": [
    "# можем искать среднее, сумму, стандарное отклонение и многое другое для массива\r\n",
    "print(X.sum())\r\n",
    "print(y.std())"
   ],
   "outputs": [
    {
     "output_type": "stream",
     "name": "stdout",
     "text": [
      "2078.7\n",
      "0.816496580927726\n"
     ]
    }
   ],
   "metadata": {}
  },
  {
   "cell_type": "code",
   "execution_count": 231,
   "source": [
    "# складывать массивы со скалярами\r\n",
    "y + 10"
   ],
   "outputs": [
    {
     "output_type": "execute_result",
     "data": {
      "text/plain": [
       "array([10, 10, 10, 10, 10, 10, 10, 10, 10, 10, 10, 10, 10, 10, 10, 10, 10,\n",
       "       10, 10, 10, 10, 10, 10, 10, 10, 10, 10, 10, 10, 10, 10, 10, 10, 10,\n",
       "       10, 10, 10, 10, 10, 10, 10, 10, 10, 10, 10, 10, 10, 10, 10, 10, 11,\n",
       "       11, 11, 11, 11, 11, 11, 11, 11, 11, 11, 11, 11, 11, 11, 11, 11, 11,\n",
       "       11, 11, 11, 11, 11, 11, 11, 11, 11, 11, 11, 11, 11, 11, 11, 11, 11,\n",
       "       11, 11, 11, 11, 11, 11, 11, 11, 11, 11, 11, 11, 11, 11, 11, 12, 12,\n",
       "       12, 12, 12, 12, 12, 12, 12, 12, 12, 12, 12, 12, 12, 12, 12, 12, 12,\n",
       "       12, 12, 12, 12, 12, 12, 12, 12, 12, 12, 12, 12, 12, 12, 12, 12, 12,\n",
       "       12, 12, 12, 12, 12, 12, 12, 12, 12, 12, 12, 12, 12, 12])"
      ]
     },
     "metadata": {},
     "execution_count": 231
    }
   ],
   "metadata": {}
  },
  {
   "cell_type": "code",
   "execution_count": 234,
   "source": [
    "# смотреть статистики вдоль осей\r\n",
    "print(x_reshaped.mean((0, 1)))\r\n",
    "print(x_reshaped.mean((1,)))"
   ],
   "outputs": [
    {
     "output_type": "stream",
     "name": "stdout",
     "text": [
      "[4.787 2.133 4.791 2.089 4.824 2.163]\n",
      "[[3.09 1.7  3.23 1.83 3.18 1.79]\n",
      " [3.33 2.01 3.34 1.83 3.33 1.93]\n",
      " [3.26 1.9  3.13 1.74 3.24 1.83]\n",
      " [4.49 1.96 4.39 1.92 4.8  2.18]\n",
      " [5.   1.97 5.29 1.97 5.05 2.11]\n",
      " [5.06 2.01 5.19 2.04 5.25 2.17]\n",
      " [5.37 2.19 5.08 2.07 5.26 2.24]\n",
      " [6.25 2.57 6.15 2.42 5.99 2.4 ]\n",
      " [5.97 2.38 6.21 2.49 6.24 2.4 ]\n",
      " [6.05 2.64 5.9  2.58 5.9  2.58]]\n"
     ]
    }
   ],
   "metadata": {}
  },
  {
   "cell_type": "code",
   "execution_count": 236,
   "source": [
    "# более сложные математические операции так же доступны и для массивов, поэлементно и для чисел отдельно\r\n",
    "print(np.exp(y))\r\n",
    "print(np.log(10))"
   ],
   "outputs": [
    {
     "output_type": "stream",
     "name": "stdout",
     "text": [
      "[1.         1.         1.         1.         1.         1.\n",
      " 1.         1.         1.         1.         1.         1.\n",
      " 1.         1.         1.         1.         1.         1.\n",
      " 1.         1.         1.         1.         1.         1.\n",
      " 1.         1.         1.         1.         1.         1.\n",
      " 1.         1.         1.         1.         1.         1.\n",
      " 1.         1.         1.         1.         1.         1.\n",
      " 1.         1.         1.         1.         1.         1.\n",
      " 1.         1.         2.71828183 2.71828183 2.71828183 2.71828183\n",
      " 2.71828183 2.71828183 2.71828183 2.71828183 2.71828183 2.71828183\n",
      " 2.71828183 2.71828183 2.71828183 2.71828183 2.71828183 2.71828183\n",
      " 2.71828183 2.71828183 2.71828183 2.71828183 2.71828183 2.71828183\n",
      " 2.71828183 2.71828183 2.71828183 2.71828183 2.71828183 2.71828183\n",
      " 2.71828183 2.71828183 2.71828183 2.71828183 2.71828183 2.71828183\n",
      " 2.71828183 2.71828183 2.71828183 2.71828183 2.71828183 2.71828183\n",
      " 2.71828183 2.71828183 2.71828183 2.71828183 2.71828183 2.71828183\n",
      " 2.71828183 2.71828183 2.71828183 2.71828183 7.3890561  7.3890561\n",
      " 7.3890561  7.3890561  7.3890561  7.3890561  7.3890561  7.3890561\n",
      " 7.3890561  7.3890561  7.3890561  7.3890561  7.3890561  7.3890561\n",
      " 7.3890561  7.3890561  7.3890561  7.3890561  7.3890561  7.3890561\n",
      " 7.3890561  7.3890561  7.3890561  7.3890561  7.3890561  7.3890561\n",
      " 7.3890561  7.3890561  7.3890561  7.3890561  7.3890561  7.3890561\n",
      " 7.3890561  7.3890561  7.3890561  7.3890561  7.3890561  7.3890561\n",
      " 7.3890561  7.3890561  7.3890561  7.3890561  7.3890561  7.3890561\n",
      " 7.3890561  7.3890561  7.3890561  7.3890561  7.3890561  7.3890561 ]\n",
      "2.302585092994046\n"
     ]
    }
   ],
   "metadata": {}
  },
  {
   "cell_type": "code",
   "execution_count": 237,
   "source": [
    "# массивы можно транспонировать\r\n",
    "print(X.shape)\r\n",
    "print(X.T.shape)"
   ],
   "outputs": [
    {
     "output_type": "stream",
     "name": "stdout",
     "text": [
      "(150, 4)\n",
      "(4, 150)\n"
     ]
    }
   ],
   "metadata": {}
  },
  {
   "cell_type": "code",
   "execution_count": 238,
   "source": [
    "# и главное делать матричное умножение (не забывайте про правила!)\r\n",
    "X.dot(y)"
   ],
   "outputs": [
    {
     "output_type": "error",
     "ename": "ValueError",
     "evalue": "shapes (150,4) and (150,) not aligned: 4 (dim 1) != 150 (dim 0)",
     "traceback": [
      "\u001b[1;31m---------------------------------------------------------------------------\u001b[0m",
      "\u001b[1;31mValueError\u001b[0m                                Traceback (most recent call last)",
      "\u001b[1;32mC:\\Users\\ANTON~1.NES\\AppData\\Local\\Temp/ipykernel_9096/2610738236.py\u001b[0m in \u001b[0;36m<module>\u001b[1;34m\u001b[0m\n\u001b[0;32m      1\u001b[0m \u001b[1;31m# и главное делать матричное умножение (не забывайте про правила!)\u001b[0m\u001b[1;33m\u001b[0m\u001b[1;33m\u001b[0m\u001b[1;33m\u001b[0m\u001b[0m\n\u001b[1;32m----> 2\u001b[1;33m \u001b[0mX\u001b[0m\u001b[1;33m.\u001b[0m\u001b[0mdot\u001b[0m\u001b[1;33m(\u001b[0m\u001b[0my\u001b[0m\u001b[1;33m)\u001b[0m\u001b[1;33m\u001b[0m\u001b[1;33m\u001b[0m\u001b[0m\n\u001b[0m",
      "\u001b[1;31mValueError\u001b[0m: shapes (150,4) and (150,) not aligned: 4 (dim 1) != 150 (dim 0)"
     ]
    }
   ],
   "metadata": {}
  },
  {
   "cell_type": "code",
   "execution_count": 240,
   "source": [
    "# и главное делать матричное умножение (не забывайте про правила!)\r\n",
    "X.T.dot(y)"
   ],
   "outputs": [
    {
     "output_type": "execute_result",
     "data": {
      "text/plain": [
       "array([955.6, 435.9, 768.2, 268.9])"
      ]
     },
     "metadata": {},
     "execution_count": 240
    }
   ],
   "metadata": {}
  },
  {
   "cell_type": "markdown",
   "source": [
    "## Другие полезные функции"
   ],
   "metadata": {}
  },
  {
   "cell_type": "code",
   "execution_count": 241,
   "source": [
    " # сортировка массива по умолчанию для последней оси\r\n",
    "np.sort(X)"
   ],
   "outputs": [
    {
     "output_type": "execute_result",
     "data": {
      "text/plain": [
       "array([[0.2, 1.4, 3.5, 5.1],\n",
       "       [0.2, 1.4, 3. , 4.9],\n",
       "       [0.2, 1.3, 3.2, 4.7],\n",
       "       [0.2, 1.5, 3.1, 4.6],\n",
       "       [0.2, 1.4, 3.6, 5. ],\n",
       "       [0.4, 1.7, 3.9, 5.4],\n",
       "       [0.3, 1.4, 3.4, 4.6],\n",
       "       [0.2, 1.5, 3.4, 5. ],\n",
       "       [0.2, 1.4, 2.9, 4.4],\n",
       "       [0.1, 1.5, 3.1, 4.9],\n",
       "       [0.2, 1.5, 3.7, 5.4],\n",
       "       [0.2, 1.6, 3.4, 4.8],\n",
       "       [0.1, 1.4, 3. , 4.8],\n",
       "       [0.1, 1.1, 3. , 4.3],\n",
       "       [0.2, 1.2, 4. , 5.8],\n",
       "       [0.4, 1.5, 4.4, 5.7],\n",
       "       [0.4, 1.3, 3.9, 5.4],\n",
       "       [0.3, 1.4, 3.5, 5.1],\n",
       "       [0.3, 1.7, 3.8, 5.7],\n",
       "       [0.3, 1.5, 3.8, 5.1],\n",
       "       [0.2, 1.7, 3.4, 5.4],\n",
       "       [0.4, 1.5, 3.7, 5.1],\n",
       "       [0.2, 1. , 3.6, 4.6],\n",
       "       [0.5, 1.7, 3.3, 5.1],\n",
       "       [0.2, 1.9, 3.4, 4.8],\n",
       "       [0.2, 1.6, 3. , 5. ],\n",
       "       [0.4, 1.6, 3.4, 5. ],\n",
       "       [0.2, 1.5, 3.5, 5.2],\n",
       "       [0.2, 1.4, 3.4, 5.2],\n",
       "       [0.2, 1.6, 3.2, 4.7],\n",
       "       [0.2, 1.6, 3.1, 4.8],\n",
       "       [0.4, 1.5, 3.4, 5.4],\n",
       "       [0.1, 1.5, 4.1, 5.2],\n",
       "       [0.2, 1.4, 4.2, 5.5],\n",
       "       [0.2, 1.5, 3.1, 4.9],\n",
       "       [0.2, 1.2, 3.2, 5. ],\n",
       "       [0.2, 1.3, 3.5, 5.5],\n",
       "       [0.1, 1.4, 3.6, 4.9],\n",
       "       [0.2, 1.3, 3. , 4.4],\n",
       "       [0.2, 1.5, 3.4, 5.1],\n",
       "       [0.3, 1.3, 3.5, 5. ],\n",
       "       [0.3, 1.3, 2.3, 4.5],\n",
       "       [0.2, 1.3, 3.2, 4.4],\n",
       "       [0.6, 1.6, 3.5, 5. ],\n",
       "       [0.4, 1.9, 3.8, 5.1],\n",
       "       [0.3, 1.4, 3. , 4.8],\n",
       "       [0.2, 1.6, 3.8, 5.1],\n",
       "       [0.2, 1.4, 3.2, 4.6],\n",
       "       [0.2, 1.5, 3.7, 5.3],\n",
       "       [0.2, 1.4, 3.3, 5. ],\n",
       "       [1.4, 3.2, 4.7, 7. ],\n",
       "       [1.5, 3.2, 4.5, 6.4],\n",
       "       [1.5, 3.1, 4.9, 6.9],\n",
       "       [1.3, 2.3, 4. , 5.5],\n",
       "       [1.5, 2.8, 4.6, 6.5],\n",
       "       [1.3, 2.8, 4.5, 5.7],\n",
       "       [1.6, 3.3, 4.7, 6.3],\n",
       "       [1. , 2.4, 3.3, 4.9],\n",
       "       [1.3, 2.9, 4.6, 6.6],\n",
       "       [1.4, 2.7, 3.9, 5.2],\n",
       "       [1. , 2. , 3.5, 5. ],\n",
       "       [1.5, 3. , 4.2, 5.9],\n",
       "       [1. , 2.2, 4. , 6. ],\n",
       "       [1.4, 2.9, 4.7, 6.1],\n",
       "       [1.3, 2.9, 3.6, 5.6],\n",
       "       [1.4, 3.1, 4.4, 6.7],\n",
       "       [1.5, 3. , 4.5, 5.6],\n",
       "       [1. , 2.7, 4.1, 5.8],\n",
       "       [1.5, 2.2, 4.5, 6.2],\n",
       "       [1.1, 2.5, 3.9, 5.6],\n",
       "       [1.8, 3.2, 4.8, 5.9],\n",
       "       [1.3, 2.8, 4. , 6.1],\n",
       "       [1.5, 2.5, 4.9, 6.3],\n",
       "       [1.2, 2.8, 4.7, 6.1],\n",
       "       [1.3, 2.9, 4.3, 6.4],\n",
       "       [1.4, 3. , 4.4, 6.6],\n",
       "       [1.4, 2.8, 4.8, 6.8],\n",
       "       [1.7, 3. , 5. , 6.7],\n",
       "       [1.5, 2.9, 4.5, 6. ],\n",
       "       [1. , 2.6, 3.5, 5.7],\n",
       "       [1.1, 2.4, 3.8, 5.5],\n",
       "       [1. , 2.4, 3.7, 5.5],\n",
       "       [1.2, 2.7, 3.9, 5.8],\n",
       "       [1.6, 2.7, 5.1, 6. ],\n",
       "       [1.5, 3. , 4.5, 5.4],\n",
       "       [1.6, 3.4, 4.5, 6. ],\n",
       "       [1.5, 3.1, 4.7, 6.7],\n",
       "       [1.3, 2.3, 4.4, 6.3],\n",
       "       [1.3, 3. , 4.1, 5.6],\n",
       "       [1.3, 2.5, 4. , 5.5],\n",
       "       [1.2, 2.6, 4.4, 5.5],\n",
       "       [1.4, 3. , 4.6, 6.1],\n",
       "       [1.2, 2.6, 4. , 5.8],\n",
       "       [1. , 2.3, 3.3, 5. ],\n",
       "       [1.3, 2.7, 4.2, 5.6],\n",
       "       [1.2, 3. , 4.2, 5.7],\n",
       "       [1.3, 2.9, 4.2, 5.7],\n",
       "       [1.3, 2.9, 4.3, 6.2],\n",
       "       [1.1, 2.5, 3. , 5.1],\n",
       "       [1.3, 2.8, 4.1, 5.7],\n",
       "       [2.5, 3.3, 6. , 6.3],\n",
       "       [1.9, 2.7, 5.1, 5.8],\n",
       "       [2.1, 3. , 5.9, 7.1],\n",
       "       [1.8, 2.9, 5.6, 6.3],\n",
       "       [2.2, 3. , 5.8, 6.5],\n",
       "       [2.1, 3. , 6.6, 7.6],\n",
       "       [1.7, 2.5, 4.5, 4.9],\n",
       "       [1.8, 2.9, 6.3, 7.3],\n",
       "       [1.8, 2.5, 5.8, 6.7],\n",
       "       [2.5, 3.6, 6.1, 7.2],\n",
       "       [2. , 3.2, 5.1, 6.5],\n",
       "       [1.9, 2.7, 5.3, 6.4],\n",
       "       [2.1, 3. , 5.5, 6.8],\n",
       "       [2. , 2.5, 5. , 5.7],\n",
       "       [2.4, 2.8, 5.1, 5.8],\n",
       "       [2.3, 3.2, 5.3, 6.4],\n",
       "       [1.8, 3. , 5.5, 6.5],\n",
       "       [2.2, 3.8, 6.7, 7.7],\n",
       "       [2.3, 2.6, 6.9, 7.7],\n",
       "       [1.5, 2.2, 5. , 6. ],\n",
       "       [2.3, 3.2, 5.7, 6.9],\n",
       "       [2. , 2.8, 4.9, 5.6],\n",
       "       [2. , 2.8, 6.7, 7.7],\n",
       "       [1.8, 2.7, 4.9, 6.3],\n",
       "       [2.1, 3.3, 5.7, 6.7],\n",
       "       [1.8, 3.2, 6. , 7.2],\n",
       "       [1.8, 2.8, 4.8, 6.2],\n",
       "       [1.8, 3. , 4.9, 6.1],\n",
       "       [2.1, 2.8, 5.6, 6.4],\n",
       "       [1.6, 3. , 5.8, 7.2],\n",
       "       [1.9, 2.8, 6.1, 7.4],\n",
       "       [2. , 3.8, 6.4, 7.9],\n",
       "       [2.2, 2.8, 5.6, 6.4],\n",
       "       [1.5, 2.8, 5.1, 6.3],\n",
       "       [1.4, 2.6, 5.6, 6.1],\n",
       "       [2.3, 3. , 6.1, 7.7],\n",
       "       [2.4, 3.4, 5.6, 6.3],\n",
       "       [1.8, 3.1, 5.5, 6.4],\n",
       "       [1.8, 3. , 4.8, 6. ],\n",
       "       [2.1, 3.1, 5.4, 6.9],\n",
       "       [2.4, 3.1, 5.6, 6.7],\n",
       "       [2.3, 3.1, 5.1, 6.9],\n",
       "       [1.9, 2.7, 5.1, 5.8],\n",
       "       [2.3, 3.2, 5.9, 6.8],\n",
       "       [2.5, 3.3, 5.7, 6.7],\n",
       "       [2.3, 3. , 5.2, 6.7],\n",
       "       [1.9, 2.5, 5. , 6.3],\n",
       "       [2. , 3. , 5.2, 6.5],\n",
       "       [2.3, 3.4, 5.4, 6.2],\n",
       "       [1.8, 3. , 5.1, 5.9]])"
      ]
     },
     "metadata": {},
     "execution_count": 241
    }
   ],
   "metadata": {}
  },
  {
   "cell_type": "code",
   "execution_count": 242,
   "source": [
    "np.sort(X, axis=0)"
   ],
   "outputs": [
    {
     "output_type": "execute_result",
     "data": {
      "text/plain": [
       "array([[4.3, 2. , 1. , 0.1],\n",
       "       [4.4, 2.2, 1.1, 0.1],\n",
       "       [4.4, 2.2, 1.2, 0.1],\n",
       "       [4.4, 2.2, 1.2, 0.1],\n",
       "       [4.5, 2.3, 1.3, 0.1],\n",
       "       [4.6, 2.3, 1.3, 0.2],\n",
       "       [4.6, 2.3, 1.3, 0.2],\n",
       "       [4.6, 2.3, 1.3, 0.2],\n",
       "       [4.6, 2.4, 1.3, 0.2],\n",
       "       [4.7, 2.4, 1.3, 0.2],\n",
       "       [4.7, 2.4, 1.3, 0.2],\n",
       "       [4.8, 2.5, 1.4, 0.2],\n",
       "       [4.8, 2.5, 1.4, 0.2],\n",
       "       [4.8, 2.5, 1.4, 0.2],\n",
       "       [4.8, 2.5, 1.4, 0.2],\n",
       "       [4.8, 2.5, 1.4, 0.2],\n",
       "       [4.9, 2.5, 1.4, 0.2],\n",
       "       [4.9, 2.5, 1.4, 0.2],\n",
       "       [4.9, 2.5, 1.4, 0.2],\n",
       "       [4.9, 2.6, 1.4, 0.2],\n",
       "       [4.9, 2.6, 1.4, 0.2],\n",
       "       [4.9, 2.6, 1.4, 0.2],\n",
       "       [5. , 2.6, 1.4, 0.2],\n",
       "       [5. , 2.6, 1.4, 0.2],\n",
       "       [5. , 2.7, 1.5, 0.2],\n",
       "       [5. , 2.7, 1.5, 0.2],\n",
       "       [5. , 2.7, 1.5, 0.2],\n",
       "       [5. , 2.7, 1.5, 0.2],\n",
       "       [5. , 2.7, 1.5, 0.2],\n",
       "       [5. , 2.7, 1.5, 0.2],\n",
       "       [5. , 2.7, 1.5, 0.2],\n",
       "       [5. , 2.7, 1.5, 0.2],\n",
       "       [5.1, 2.7, 1.5, 0.2],\n",
       "       [5.1, 2.8, 1.5, 0.2],\n",
       "       [5.1, 2.8, 1.5, 0.3],\n",
       "       [5.1, 2.8, 1.5, 0.3],\n",
       "       [5.1, 2.8, 1.5, 0.3],\n",
       "       [5.1, 2.8, 1.6, 0.3],\n",
       "       [5.1, 2.8, 1.6, 0.3],\n",
       "       [5.1, 2.8, 1.6, 0.3],\n",
       "       [5.1, 2.8, 1.6, 0.3],\n",
       "       [5.2, 2.8, 1.6, 0.4],\n",
       "       [5.2, 2.8, 1.6, 0.4],\n",
       "       [5.2, 2.8, 1.6, 0.4],\n",
       "       [5.2, 2.8, 1.7, 0.4],\n",
       "       [5.3, 2.8, 1.7, 0.4],\n",
       "       [5.4, 2.8, 1.7, 0.4],\n",
       "       [5.4, 2.9, 1.7, 0.4],\n",
       "       [5.4, 2.9, 1.9, 0.5],\n",
       "       [5.4, 2.9, 1.9, 0.6],\n",
       "       [5.4, 2.9, 3. , 1. ],\n",
       "       [5.4, 2.9, 3.3, 1. ],\n",
       "       [5.5, 2.9, 3.3, 1. ],\n",
       "       [5.5, 2.9, 3.5, 1. ],\n",
       "       [5.5, 2.9, 3.5, 1. ],\n",
       "       [5.5, 2.9, 3.6, 1. ],\n",
       "       [5.5, 2.9, 3.7, 1. ],\n",
       "       [5.5, 3. , 3.8, 1.1],\n",
       "       [5.5, 3. , 3.9, 1.1],\n",
       "       [5.6, 3. , 3.9, 1.1],\n",
       "       [5.6, 3. , 3.9, 1.2],\n",
       "       [5.6, 3. , 4. , 1.2],\n",
       "       [5.6, 3. , 4. , 1.2],\n",
       "       [5.6, 3. , 4. , 1.2],\n",
       "       [5.6, 3. , 4. , 1.2],\n",
       "       [5.7, 3. , 4. , 1.3],\n",
       "       [5.7, 3. , 4.1, 1.3],\n",
       "       [5.7, 3. , 4.1, 1.3],\n",
       "       [5.7, 3. , 4.1, 1.3],\n",
       "       [5.7, 3. , 4.2, 1.3],\n",
       "       [5.7, 3. , 4.2, 1.3],\n",
       "       [5.7, 3. , 4.2, 1.3],\n",
       "       [5.7, 3. , 4.2, 1.3],\n",
       "       [5.8, 3. , 4.3, 1.3],\n",
       "       [5.8, 3. , 4.3, 1.3],\n",
       "       [5.8, 3. , 4.4, 1.3],\n",
       "       [5.8, 3. , 4.4, 1.3],\n",
       "       [5.8, 3. , 4.4, 1.3],\n",
       "       [5.8, 3. , 4.4, 1.4],\n",
       "       [5.8, 3. , 4.5, 1.4],\n",
       "       [5.9, 3. , 4.5, 1.4],\n",
       "       [5.9, 3. , 4.5, 1.4],\n",
       "       [5.9, 3. , 4.5, 1.4],\n",
       "       [6. , 3.1, 4.5, 1.4],\n",
       "       [6. , 3.1, 4.5, 1.4],\n",
       "       [6. , 3.1, 4.5, 1.4],\n",
       "       [6. , 3.1, 4.5, 1.5],\n",
       "       [6. , 3.1, 4.6, 1.5],\n",
       "       [6. , 3.1, 4.6, 1.5],\n",
       "       [6.1, 3.1, 4.6, 1.5],\n",
       "       [6.1, 3.1, 4.7, 1.5],\n",
       "       [6.1, 3.1, 4.7, 1.5],\n",
       "       [6.1, 3.1, 4.7, 1.5],\n",
       "       [6.1, 3.1, 4.7, 1.5],\n",
       "       [6.1, 3.2, 4.7, 1.5],\n",
       "       [6.2, 3.2, 4.8, 1.5],\n",
       "       [6.2, 3.2, 4.8, 1.5],\n",
       "       [6.2, 3.2, 4.8, 1.5],\n",
       "       [6.2, 3.2, 4.8, 1.6],\n",
       "       [6.3, 3.2, 4.9, 1.6],\n",
       "       [6.3, 3.2, 4.9, 1.6],\n",
       "       [6.3, 3.2, 4.9, 1.6],\n",
       "       [6.3, 3.2, 4.9, 1.7],\n",
       "       [6.3, 3.2, 4.9, 1.7],\n",
       "       [6.3, 3.2, 5. , 1.8],\n",
       "       [6.3, 3.2, 5. , 1.8],\n",
       "       [6.3, 3.2, 5. , 1.8],\n",
       "       [6.3, 3.3, 5. , 1.8],\n",
       "       [6.4, 3.3, 5.1, 1.8],\n",
       "       [6.4, 3.3, 5.1, 1.8],\n",
       "       [6.4, 3.3, 5.1, 1.8],\n",
       "       [6.4, 3.3, 5.1, 1.8],\n",
       "       [6.4, 3.3, 5.1, 1.8],\n",
       "       [6.4, 3.4, 5.1, 1.8],\n",
       "       [6.4, 3.4, 5.1, 1.8],\n",
       "       [6.5, 3.4, 5.1, 1.8],\n",
       "       [6.5, 3.4, 5.2, 1.9],\n",
       "       [6.5, 3.4, 5.2, 1.9],\n",
       "       [6.5, 3.4, 5.3, 1.9],\n",
       "       [6.5, 3.4, 5.3, 1.9],\n",
       "       [6.6, 3.4, 5.4, 1.9],\n",
       "       [6.6, 3.4, 5.4, 2. ],\n",
       "       [6.7, 3.4, 5.5, 2. ],\n",
       "       [6.7, 3.4, 5.5, 2. ],\n",
       "       [6.7, 3.4, 5.5, 2. ],\n",
       "       [6.7, 3.5, 5.6, 2. ],\n",
       "       [6.7, 3.5, 5.6, 2. ],\n",
       "       [6.7, 3.5, 5.6, 2.1],\n",
       "       [6.7, 3.5, 5.6, 2.1],\n",
       "       [6.7, 3.5, 5.6, 2.1],\n",
       "       [6.8, 3.5, 5.6, 2.1],\n",
       "       [6.8, 3.6, 5.7, 2.1],\n",
       "       [6.8, 3.6, 5.7, 2.1],\n",
       "       [6.9, 3.6, 5.7, 2.2],\n",
       "       [6.9, 3.6, 5.8, 2.2],\n",
       "       [6.9, 3.7, 5.8, 2.2],\n",
       "       [6.9, 3.7, 5.8, 2.3],\n",
       "       [7. , 3.7, 5.9, 2.3],\n",
       "       [7.1, 3.8, 5.9, 2.3],\n",
       "       [7.2, 3.8, 6. , 2.3],\n",
       "       [7.2, 3.8, 6. , 2.3],\n",
       "       [7.2, 3.8, 6.1, 2.3],\n",
       "       [7.3, 3.8, 6.1, 2.3],\n",
       "       [7.4, 3.8, 6.1, 2.3],\n",
       "       [7.6, 3.9, 6.3, 2.4],\n",
       "       [7.7, 3.9, 6.4, 2.4],\n",
       "       [7.7, 4. , 6.6, 2.4],\n",
       "       [7.7, 4.1, 6.7, 2.5],\n",
       "       [7.7, 4.2, 6.7, 2.5],\n",
       "       [7.9, 4.4, 6.9, 2.5]])"
      ]
     },
     "metadata": {},
     "execution_count": 242
    }
   ],
   "metadata": {}
  },
  {
   "cell_type": "code",
   "execution_count": 244,
   "source": [
    "# порядок индексов в отсортированном массиве\r\n",
    "np.argsort(X) "
   ],
   "outputs": [
    {
     "output_type": "execute_result",
     "data": {
      "text/plain": [
       "array([[3, 2, 1, 0],\n",
       "       [3, 2, 1, 0],\n",
       "       [3, 2, 1, 0],\n",
       "       [3, 2, 1, 0],\n",
       "       [3, 2, 1, 0],\n",
       "       [3, 2, 1, 0],\n",
       "       [3, 2, 1, 0],\n",
       "       [3, 2, 1, 0],\n",
       "       [3, 2, 1, 0],\n",
       "       [3, 2, 1, 0],\n",
       "       [3, 2, 1, 0],\n",
       "       [3, 2, 1, 0],\n",
       "       [3, 2, 1, 0],\n",
       "       [3, 2, 1, 0],\n",
       "       [3, 2, 1, 0],\n",
       "       [3, 2, 1, 0],\n",
       "       [3, 2, 1, 0],\n",
       "       [3, 2, 1, 0],\n",
       "       [3, 2, 1, 0],\n",
       "       [3, 2, 1, 0],\n",
       "       [3, 2, 1, 0],\n",
       "       [3, 2, 1, 0],\n",
       "       [3, 2, 1, 0],\n",
       "       [3, 2, 1, 0],\n",
       "       [3, 2, 1, 0],\n",
       "       [3, 2, 1, 0],\n",
       "       [3, 2, 1, 0],\n",
       "       [3, 2, 1, 0],\n",
       "       [3, 2, 1, 0],\n",
       "       [3, 2, 1, 0],\n",
       "       [3, 2, 1, 0],\n",
       "       [3, 2, 1, 0],\n",
       "       [3, 2, 1, 0],\n",
       "       [3, 2, 1, 0],\n",
       "       [3, 2, 1, 0],\n",
       "       [3, 2, 1, 0],\n",
       "       [3, 2, 1, 0],\n",
       "       [3, 2, 1, 0],\n",
       "       [3, 2, 1, 0],\n",
       "       [3, 2, 1, 0],\n",
       "       [3, 2, 1, 0],\n",
       "       [3, 2, 1, 0],\n",
       "       [3, 2, 1, 0],\n",
       "       [3, 2, 1, 0],\n",
       "       [3, 2, 1, 0],\n",
       "       [3, 2, 1, 0],\n",
       "       [3, 2, 1, 0],\n",
       "       [3, 2, 1, 0],\n",
       "       [3, 2, 1, 0],\n",
       "       [3, 2, 1, 0],\n",
       "       [3, 1, 2, 0],\n",
       "       [3, 1, 2, 0],\n",
       "       [3, 1, 2, 0],\n",
       "       [3, 1, 2, 0],\n",
       "       [3, 1, 2, 0],\n",
       "       [3, 1, 2, 0],\n",
       "       [3, 1, 2, 0],\n",
       "       [3, 1, 2, 0],\n",
       "       [3, 1, 2, 0],\n",
       "       [3, 1, 2, 0],\n",
       "       [3, 1, 2, 0],\n",
       "       [3, 1, 2, 0],\n",
       "       [3, 1, 2, 0],\n",
       "       [3, 1, 2, 0],\n",
       "       [3, 1, 2, 0],\n",
       "       [3, 1, 2, 0],\n",
       "       [3, 1, 2, 0],\n",
       "       [3, 1, 2, 0],\n",
       "       [3, 1, 2, 0],\n",
       "       [3, 1, 2, 0],\n",
       "       [3, 1, 2, 0],\n",
       "       [3, 1, 2, 0],\n",
       "       [3, 1, 2, 0],\n",
       "       [3, 1, 2, 0],\n",
       "       [3, 1, 2, 0],\n",
       "       [3, 1, 2, 0],\n",
       "       [3, 1, 2, 0],\n",
       "       [3, 1, 2, 0],\n",
       "       [3, 1, 2, 0],\n",
       "       [3, 1, 2, 0],\n",
       "       [3, 1, 2, 0],\n",
       "       [3, 1, 2, 0],\n",
       "       [3, 1, 2, 0],\n",
       "       [3, 1, 2, 0],\n",
       "       [3, 1, 2, 0],\n",
       "       [3, 1, 2, 0],\n",
       "       [3, 1, 2, 0],\n",
       "       [3, 1, 2, 0],\n",
       "       [3, 1, 2, 0],\n",
       "       [3, 1, 2, 0],\n",
       "       [3, 1, 2, 0],\n",
       "       [3, 1, 2, 0],\n",
       "       [3, 1, 2, 0],\n",
       "       [3, 1, 2, 0],\n",
       "       [3, 1, 2, 0],\n",
       "       [3, 1, 2, 0],\n",
       "       [3, 1, 2, 0],\n",
       "       [3, 1, 2, 0],\n",
       "       [3, 1, 2, 0],\n",
       "       [3, 1, 2, 0],\n",
       "       [3, 1, 2, 0],\n",
       "       [3, 1, 2, 0],\n",
       "       [3, 1, 2, 0],\n",
       "       [3, 1, 2, 0],\n",
       "       [3, 1, 2, 0],\n",
       "       [3, 1, 2, 0],\n",
       "       [3, 1, 2, 0],\n",
       "       [3, 1, 2, 0],\n",
       "       [3, 1, 2, 0],\n",
       "       [3, 1, 2, 0],\n",
       "       [3, 1, 2, 0],\n",
       "       [3, 1, 2, 0],\n",
       "       [3, 1, 2, 0],\n",
       "       [3, 1, 2, 0],\n",
       "       [3, 1, 2, 0],\n",
       "       [3, 1, 2, 0],\n",
       "       [3, 1, 2, 0],\n",
       "       [3, 1, 2, 0],\n",
       "       [3, 1, 2, 0],\n",
       "       [3, 1, 2, 0],\n",
       "       [3, 1, 2, 0],\n",
       "       [3, 1, 2, 0],\n",
       "       [3, 1, 2, 0],\n",
       "       [3, 1, 2, 0],\n",
       "       [3, 1, 2, 0],\n",
       "       [3, 1, 2, 0],\n",
       "       [3, 1, 2, 0],\n",
       "       [3, 1, 2, 0],\n",
       "       [3, 1, 2, 0],\n",
       "       [3, 1, 2, 0],\n",
       "       [3, 1, 2, 0],\n",
       "       [3, 1, 2, 0],\n",
       "       [3, 1, 2, 0],\n",
       "       [3, 1, 2, 0],\n",
       "       [3, 1, 2, 0],\n",
       "       [3, 1, 2, 0],\n",
       "       [3, 1, 2, 0],\n",
       "       [3, 1, 2, 0],\n",
       "       [3, 1, 2, 0],\n",
       "       [3, 1, 2, 0],\n",
       "       [3, 1, 2, 0],\n",
       "       [3, 1, 2, 0],\n",
       "       [3, 1, 2, 0],\n",
       "       [3, 1, 2, 0],\n",
       "       [3, 1, 2, 0],\n",
       "       [3, 1, 2, 0],\n",
       "       [3, 1, 2, 0],\n",
       "       [3, 1, 2, 0],\n",
       "       [3, 1, 2, 0],\n",
       "       [3, 1, 2, 0]], dtype=int64)"
      ]
     },
     "metadata": {},
     "execution_count": 244
    }
   ],
   "metadata": {}
  },
  {
   "cell_type": "code",
   "execution_count": 245,
   "source": [
    "# l2 норма массива\r\n",
    "np.linalg.norm(X) "
   ],
   "outputs": [
    {
     "output_type": "execute_result",
     "data": {
      "text/plain": [
       "97.66928892952994"
      ]
     },
     "metadata": {},
     "execution_count": 245
    }
   ],
   "metadata": {}
  },
  {
   "cell_type": "code",
   "execution_count": 246,
   "source": [
    " # оси так же могут быть специфированы для l2 нормы\r\n",
    "np.linalg.norm(X, axis=1)"
   ],
   "outputs": [
    {
     "output_type": "execute_result",
     "data": {
      "text/plain": [
       "array([ 6.34507683,  5.91692488,  5.83609458,  5.7497826 ,  6.32139225,\n",
       "        6.88621812,  5.8966092 ,  6.23297682,  5.45618915,  5.98999165,\n",
       "        6.71863081,  6.09918027,  5.83180932,  5.35817133,  7.14982517,\n",
       "        7.36613874,  6.79852925,  6.34901567,  7.06470098,  6.54140658,\n",
       "        6.60681466,  6.48922183,  5.92958683,  6.32771681,  6.18465844,\n",
       "        6.04979338,  6.26737585,  6.44825558,  6.37181293,  5.91016074,\n",
       "        5.93717104,  6.56734345,  6.79043445,  7.06328535,  5.99249531,\n",
       "        6.05970296,  6.65056389,  6.2401923 ,  5.48543526,  6.31347765,\n",
       "        6.24739946,  5.22685374,  5.59732079,  6.33798075,  6.64981203,\n",
       "        5.83866423,  6.56124988,  5.77927331,  6.63852393,  6.15548536,\n",
       "        9.12633552,  8.58487041,  9.13673902,  7.29588925,  8.5732141 ,\n",
       "        7.89113427,  8.67352293,  6.45445583,  8.64985549,  7.17635005,\n",
       "        6.5       ,  7.98122798,  7.60526134,  8.3468557 ,  7.37699126,\n",
       "        8.70746806,  7.92842986,  7.6642025 ,  8.11048704,  7.35051019,\n",
       "        8.44570897,  7.92085854,  8.49705831,  8.28130425,  8.33966426,\n",
       "        8.59534758,  8.89269363,  9.04322951,  8.1798533 ,  7.24568837,\n",
       "        7.18748913,  7.12039325,  7.58814865,  8.47702778,  7.78845299,\n",
       "        8.38868285,  8.87918915,  8.12588457,  7.67202711,  7.36138574,\n",
       "        7.60328876,  8.32646384,  7.60526134,  6.49461315,  7.61445993,\n",
       "        7.78267306,  7.76079893,  8.18718511,  6.5169011 ,  7.67007171,\n",
       "        9.63483264,  8.39940474,  9.93126377,  9.09395404,  9.47259204,\n",
       "       10.71120908,  7.30753036, 10.22888068,  9.38189746, 10.40480658,\n",
       "        9.08295106,  8.94147639,  9.48156105,  8.23043134,  8.55862138,\n",
       "        9.19673855,  9.20543318, 11.11125555, 10.90642013,  8.2516665 ,\n",
       "        9.77905926,  8.19817053, 10.77125805,  8.61568337,  9.62704524,\n",
       "       10.06578363,  8.51821578,  8.57088093,  9.19619487,  9.85088828,\n",
       "       10.16956243, 11.03675677,  9.21954446,  8.70574523,  8.79147314,\n",
       "       10.52568288,  9.4005319 ,  9.16842407,  8.44274837,  9.52837867,\n",
       "        9.57183368,  9.40850679,  8.39940474,  9.8275124 ,  9.72213968,\n",
       "        9.28547252,  8.63423419,  9.07138358,  9.18966811,  8.54751426])"
      ]
     },
     "metadata": {},
     "execution_count": 246
    }
   ],
   "metadata": {}
  },
  {
   "cell_type": "code",
   "execution_count": 249,
   "source": [
    "# обратная матрица, матрица не должна быть линейно зависимой\r\n",
    "np.linalg.inv(\r\n",
    "    np.arange(9).\r\n",
    "    reshape(3, 3)\r\n",
    ") "
   ],
   "outputs": [
    {
     "output_type": "error",
     "ename": "LinAlgError",
     "evalue": "Singular matrix",
     "traceback": [
      "\u001b[1;31m---------------------------------------------------------------------------\u001b[0m",
      "\u001b[1;31mLinAlgError\u001b[0m                               Traceback (most recent call last)",
      "\u001b[1;32mC:\\Users\\ANTON~1.NES\\AppData\\Local\\Temp/ipykernel_9096/906016326.py\u001b[0m in \u001b[0;36m<module>\u001b[1;34m\u001b[0m\n\u001b[0;32m      1\u001b[0m \u001b[1;31m# обратная матрица, матрица не должна быть линейно зависимой\u001b[0m\u001b[1;33m\u001b[0m\u001b[1;33m\u001b[0m\u001b[1;33m\u001b[0m\u001b[0m\n\u001b[1;32m----> 2\u001b[1;33m np.linalg.inv(\n\u001b[0m\u001b[0;32m      3\u001b[0m     \u001b[0mnp\u001b[0m\u001b[1;33m.\u001b[0m\u001b[0marange\u001b[0m\u001b[1;33m(\u001b[0m\u001b[1;36m9\u001b[0m\u001b[1;33m)\u001b[0m\u001b[1;33m.\u001b[0m\u001b[1;33m\u001b[0m\u001b[1;33m\u001b[0m\u001b[0m\n\u001b[0;32m      4\u001b[0m     \u001b[0mreshape\u001b[0m\u001b[1;33m(\u001b[0m\u001b[1;36m3\u001b[0m\u001b[1;33m,\u001b[0m \u001b[1;36m3\u001b[0m\u001b[1;33m)\u001b[0m\u001b[1;33m\u001b[0m\u001b[1;33m\u001b[0m\u001b[0m\n\u001b[0;32m      5\u001b[0m ) \n",
      "\u001b[1;32m<__array_function__ internals>\u001b[0m in \u001b[0;36minv\u001b[1;34m(*args, **kwargs)\u001b[0m\n",
      "\u001b[1;32m~\\Miniconda3\\envs\\mlisuct\\lib\\site-packages\\numpy\\linalg\\linalg.py\u001b[0m in \u001b[0;36minv\u001b[1;34m(a)\u001b[0m\n\u001b[0;32m    543\u001b[0m     \u001b[0msignature\u001b[0m \u001b[1;33m=\u001b[0m \u001b[1;34m'D->D'\u001b[0m \u001b[1;32mif\u001b[0m \u001b[0misComplexType\u001b[0m\u001b[1;33m(\u001b[0m\u001b[0mt\u001b[0m\u001b[1;33m)\u001b[0m \u001b[1;32melse\u001b[0m \u001b[1;34m'd->d'\u001b[0m\u001b[1;33m\u001b[0m\u001b[1;33m\u001b[0m\u001b[0m\n\u001b[0;32m    544\u001b[0m     \u001b[0mextobj\u001b[0m \u001b[1;33m=\u001b[0m \u001b[0mget_linalg_error_extobj\u001b[0m\u001b[1;33m(\u001b[0m\u001b[0m_raise_linalgerror_singular\u001b[0m\u001b[1;33m)\u001b[0m\u001b[1;33m\u001b[0m\u001b[1;33m\u001b[0m\u001b[0m\n\u001b[1;32m--> 545\u001b[1;33m     \u001b[0mainv\u001b[0m \u001b[1;33m=\u001b[0m \u001b[0m_umath_linalg\u001b[0m\u001b[1;33m.\u001b[0m\u001b[0minv\u001b[0m\u001b[1;33m(\u001b[0m\u001b[0ma\u001b[0m\u001b[1;33m,\u001b[0m \u001b[0msignature\u001b[0m\u001b[1;33m=\u001b[0m\u001b[0msignature\u001b[0m\u001b[1;33m,\u001b[0m \u001b[0mextobj\u001b[0m\u001b[1;33m=\u001b[0m\u001b[0mextobj\u001b[0m\u001b[1;33m)\u001b[0m\u001b[1;33m\u001b[0m\u001b[1;33m\u001b[0m\u001b[0m\n\u001b[0m\u001b[0;32m    546\u001b[0m     \u001b[1;32mreturn\u001b[0m \u001b[0mwrap\u001b[0m\u001b[1;33m(\u001b[0m\u001b[0mainv\u001b[0m\u001b[1;33m.\u001b[0m\u001b[0mastype\u001b[0m\u001b[1;33m(\u001b[0m\u001b[0mresult_t\u001b[0m\u001b[1;33m,\u001b[0m \u001b[0mcopy\u001b[0m\u001b[1;33m=\u001b[0m\u001b[1;32mFalse\u001b[0m\u001b[1;33m)\u001b[0m\u001b[1;33m)\u001b[0m\u001b[1;33m\u001b[0m\u001b[1;33m\u001b[0m\u001b[0m\n\u001b[0;32m    547\u001b[0m \u001b[1;33m\u001b[0m\u001b[0m\n",
      "\u001b[1;32m~\\Miniconda3\\envs\\mlisuct\\lib\\site-packages\\numpy\\linalg\\linalg.py\u001b[0m in \u001b[0;36m_raise_linalgerror_singular\u001b[1;34m(err, flag)\u001b[0m\n\u001b[0;32m     86\u001b[0m \u001b[1;33m\u001b[0m\u001b[0m\n\u001b[0;32m     87\u001b[0m \u001b[1;32mdef\u001b[0m \u001b[0m_raise_linalgerror_singular\u001b[0m\u001b[1;33m(\u001b[0m\u001b[0merr\u001b[0m\u001b[1;33m,\u001b[0m \u001b[0mflag\u001b[0m\u001b[1;33m)\u001b[0m\u001b[1;33m:\u001b[0m\u001b[1;33m\u001b[0m\u001b[1;33m\u001b[0m\u001b[0m\n\u001b[1;32m---> 88\u001b[1;33m     \u001b[1;32mraise\u001b[0m \u001b[0mLinAlgError\u001b[0m\u001b[1;33m(\u001b[0m\u001b[1;34m\"Singular matrix\"\u001b[0m\u001b[1;33m)\u001b[0m\u001b[1;33m\u001b[0m\u001b[1;33m\u001b[0m\u001b[0m\n\u001b[0m\u001b[0;32m     89\u001b[0m \u001b[1;33m\u001b[0m\u001b[0m\n\u001b[0;32m     90\u001b[0m \u001b[1;32mdef\u001b[0m \u001b[0m_raise_linalgerror_nonposdef\u001b[0m\u001b[1;33m(\u001b[0m\u001b[0merr\u001b[0m\u001b[1;33m,\u001b[0m \u001b[0mflag\u001b[0m\u001b[1;33m)\u001b[0m\u001b[1;33m:\u001b[0m\u001b[1;33m\u001b[0m\u001b[1;33m\u001b[0m\u001b[0m\n",
      "\u001b[1;31mLinAlgError\u001b[0m: Singular matrix"
     ]
    }
   ],
   "metadata": {}
  },
  {
   "cell_type": "code",
   "execution_count": 255,
   "source": [
    "# обратная матрица, матрица не должна быть линейно зависимой\r\n",
    "b = np.arange(1, 10).reshape(3, 3)  * np.eye(3)\r\n",
    "b_inv = np.linalg.inv(b)\r\n",
    "b_inv "
   ],
   "outputs": [
    {
     "output_type": "execute_result",
     "data": {
      "text/plain": [
       "array([[1.        , 0.        , 0.        ],\n",
       "       [0.        , 0.2       , 0.        ],\n",
       "       [0.        , 0.        , 0.11111111]])"
      ]
     },
     "metadata": {},
     "execution_count": 255
    }
   ],
   "metadata": {}
  },
  {
   "cell_type": "code",
   "execution_count": 256,
   "source": [
    "b_inv.dot(b)"
   ],
   "outputs": [
    {
     "output_type": "execute_result",
     "data": {
      "text/plain": [
       "array([[1., 0., 0.],\n",
       "       [0., 1., 0.],\n",
       "       [0., 0., 1.]])"
      ]
     },
     "metadata": {},
     "execution_count": 256
    }
   ],
   "metadata": {}
  },
  {
   "cell_type": "markdown",
   "source": [
    "## Полезные материалы"
   ],
   "metadata": {}
  },
  {
   "cell_type": "markdown",
   "source": [
    "numpy manual https://docs.scipy.org/doc/numpy/index.html\n",
    "\n",
    "матричное умножение https://ru.wikipedia.org/wiki/%D0%A3%D0%BC%D0%BD%D0%BE%D0%B6%D0%B5%D0%BD%D0%B8%D0%B5_%D0%BC%D0%B0%D1%82%D1%80%D0%B8%D1%86\n",
    "\n",
    "обратная матрица https://ru.wikipedia.org/wiki/%D0%9E%D0%B1%D1%80%D0%B0%D1%82%D0%BD%D0%B0%D1%8F_%D0%BC%D0%B0%D1%82%D1%80%D0%B8%D1%86%D0%B0\n",
    "\n",
    "еденичная матрица https://ru.wikipedia.org/wiki/%D0%95%D0%B4%D0%B8%D0%BD%D0%B8%D1%87%D0%BD%D0%B0%D1%8F_%D0%BC%D0%B0%D1%82%D1%80%D0%B8%D1%86%D0%B0"
   ],
   "metadata": {}
  }
 ],
 "metadata": {
  "kernelspec": {
   "name": "python3",
   "display_name": "Python 3.8.0 64-bit ('mlisuct': conda)"
  },
  "language_info": {
   "codemirror_mode": {
    "name": "ipython",
    "version": 3
   },
   "file_extension": ".py",
   "mimetype": "text/x-python",
   "name": "python",
   "nbconvert_exporter": "python",
   "pygments_lexer": "ipython3",
   "version": "3.8.0"
  },
  "interpreter": {
   "hash": "c2f59a19f275b4730297ae82f69de846c181cbb4f157f83a66e1ed41889c0a5c"
  }
 },
 "nbformat": 4,
 "nbformat_minor": 2
}