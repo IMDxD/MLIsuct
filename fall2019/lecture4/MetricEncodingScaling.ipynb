{
 "cells": [
  {
   "cell_type": "code",
   "execution_count": 1,
   "metadata": {},
   "outputs": [],
   "source": [
    "import numpy as np\n",
    "import pandas as pd\n",
    "import matplotlib as mlp\n",
    "import matplotlib.pyplot as plt\n",
    "import seaborn as sns\n",
    "from sklearn.preprocessing import LabelEncoder, OneHotEncoder, StandardScaler, MinMaxScaler\n",
    "from sklearn.metrics import accuracy_score, log_loss, roc_auc_score, f1_score\n",
    "from sklearn.metrics import mean_squared_error, mean_absolute_error, r2_score, mean_squared_log_error\n",
    "from sklearn.feature_extraction.text import CountVectorizer, TfidfVectorizer\n",
    "from sklearn.model_selection import cross_val_predict, KFold\n",
    "from sklearn.base import BaseEstimator, TransformerMixin\n",
    "from sklearn.pipeline import make_pipeline, Pipeline, FeatureUnion\n",
    "from sklearn.tree import DecisionTreeClassifier, DecisionTreeRegressor\n",
    "from sklearn.neighbors import KNeighborsClassifier, KNeighborsRegressor\n",
    "%matplotlib inline"
   ]
  },
  {
   "cell_type": "code",
   "execution_count": 2,
   "metadata": {},
   "outputs": [],
   "source": [
    "df = pd.read_csv('data/thecure_discography.csv')"
   ]
  },
  {
   "cell_type": "code",
   "execution_count": 3,
   "metadata": {},
   "outputs": [],
   "source": [
    "df.drop(['album_uri', 'album_img', 'track_uri'], axis=1, inplace=True)"
   ]
  },
  {
   "cell_type": "code",
   "execution_count": 4,
   "metadata": {},
   "outputs": [
    {
     "data": {
      "text/html": [
       "<div>\n",
       "<style scoped>\n",
       "    .dataframe tbody tr th:only-of-type {\n",
       "        vertical-align: middle;\n",
       "    }\n",
       "\n",
       "    .dataframe tbody tr th {\n",
       "        vertical-align: top;\n",
       "    }\n",
       "\n",
       "    .dataframe thead th {\n",
       "        text-align: right;\n",
       "    }\n",
       "</style>\n",
       "<table border=\"1\" class=\"dataframe\">\n",
       "  <thead>\n",
       "    <tr style=\"text-align: right;\">\n",
       "      <th></th>\n",
       "      <th>album_name</th>\n",
       "      <th>album_release_date</th>\n",
       "      <th>album_release_year</th>\n",
       "      <th>album_popularity</th>\n",
       "      <th>track_name</th>\n",
       "      <th>danceability</th>\n",
       "      <th>energy</th>\n",
       "      <th>key</th>\n",
       "      <th>loudness</th>\n",
       "      <th>mode</th>\n",
       "      <th>speechiness</th>\n",
       "      <th>acousticness</th>\n",
       "      <th>instrumentalness</th>\n",
       "      <th>liveness</th>\n",
       "      <th>valence</th>\n",
       "      <th>tempo</th>\n",
       "      <th>duration_ms</th>\n",
       "      <th>time_signature</th>\n",
       "      <th>key_mode</th>\n",
       "      <th>track_popularity</th>\n",
       "    </tr>\n",
       "  </thead>\n",
       "  <tbody>\n",
       "    <tr>\n",
       "      <th>0</th>\n",
       "      <td>Pornography</td>\n",
       "      <td>1982-05-03</td>\n",
       "      <td>1982-05-03</td>\n",
       "      <td>34</td>\n",
       "      <td>One Hundred Years - Remastered Version</td>\n",
       "      <td>0.436</td>\n",
       "      <td>0.881</td>\n",
       "      <td>G</td>\n",
       "      <td>-5.998</td>\n",
       "      <td>major</td>\n",
       "      <td>0.0439</td>\n",
       "      <td>0.001230</td>\n",
       "      <td>0.509</td>\n",
       "      <td>0.1080</td>\n",
       "      <td>0.262</td>\n",
       "      <td>132.590</td>\n",
       "      <td>401000</td>\n",
       "      <td>4</td>\n",
       "      <td>G major</td>\n",
       "      <td>33</td>\n",
       "    </tr>\n",
       "    <tr>\n",
       "      <th>1</th>\n",
       "      <td>Pornography</td>\n",
       "      <td>1982-05-03</td>\n",
       "      <td>1982-05-03</td>\n",
       "      <td>34</td>\n",
       "      <td>A Short Term Effect - Remastered Version</td>\n",
       "      <td>0.516</td>\n",
       "      <td>0.836</td>\n",
       "      <td>C</td>\n",
       "      <td>-5.872</td>\n",
       "      <td>major</td>\n",
       "      <td>0.0319</td>\n",
       "      <td>0.001710</td>\n",
       "      <td>0.165</td>\n",
       "      <td>0.1360</td>\n",
       "      <td>0.649</td>\n",
       "      <td>116.566</td>\n",
       "      <td>262493</td>\n",
       "      <td>4</td>\n",
       "      <td>C major</td>\n",
       "      <td>28</td>\n",
       "    </tr>\n",
       "    <tr>\n",
       "      <th>2</th>\n",
       "      <td>Pornography</td>\n",
       "      <td>1982-05-03</td>\n",
       "      <td>1982-05-03</td>\n",
       "      <td>34</td>\n",
       "      <td>The Hanging Garden - Remastered Version</td>\n",
       "      <td>0.420</td>\n",
       "      <td>0.889</td>\n",
       "      <td>C</td>\n",
       "      <td>-5.860</td>\n",
       "      <td>major</td>\n",
       "      <td>0.0393</td>\n",
       "      <td>0.004020</td>\n",
       "      <td>0.488</td>\n",
       "      <td>0.0795</td>\n",
       "      <td>0.634</td>\n",
       "      <td>135.421</td>\n",
       "      <td>274240</td>\n",
       "      <td>4</td>\n",
       "      <td>C major</td>\n",
       "      <td>35</td>\n",
       "    </tr>\n",
       "    <tr>\n",
       "      <th>3</th>\n",
       "      <td>Pornography</td>\n",
       "      <td>1982-05-03</td>\n",
       "      <td>1982-05-03</td>\n",
       "      <td>34</td>\n",
       "      <td>Siamese Twins - Remastered Version</td>\n",
       "      <td>0.772</td>\n",
       "      <td>0.523</td>\n",
       "      <td>D</td>\n",
       "      <td>-9.788</td>\n",
       "      <td>major</td>\n",
       "      <td>0.0364</td>\n",
       "      <td>0.000298</td>\n",
       "      <td>0.795</td>\n",
       "      <td>0.2820</td>\n",
       "      <td>0.752</td>\n",
       "      <td>94.194</td>\n",
       "      <td>328360</td>\n",
       "      <td>4</td>\n",
       "      <td>D major</td>\n",
       "      <td>34</td>\n",
       "    </tr>\n",
       "    <tr>\n",
       "      <th>4</th>\n",
       "      <td>Pornography</td>\n",
       "      <td>1982-05-03</td>\n",
       "      <td>1982-05-03</td>\n",
       "      <td>34</td>\n",
       "      <td>The Figurehead - Remastered Version</td>\n",
       "      <td>0.655</td>\n",
       "      <td>0.842</td>\n",
       "      <td>A#</td>\n",
       "      <td>-5.349</td>\n",
       "      <td>minor</td>\n",
       "      <td>0.0264</td>\n",
       "      <td>0.001250</td>\n",
       "      <td>0.642</td>\n",
       "      <td>0.1100</td>\n",
       "      <td>0.727</td>\n",
       "      <td>110.370</td>\n",
       "      <td>375173</td>\n",
       "      <td>4</td>\n",
       "      <td>A# minor</td>\n",
       "      <td>28</td>\n",
       "    </tr>\n",
       "  </tbody>\n",
       "</table>\n",
       "</div>"
      ],
      "text/plain": [
       "    album_name album_release_date album_release_year  album_popularity  \\\n",
       "0  Pornography         1982-05-03         1982-05-03                34   \n",
       "1  Pornography         1982-05-03         1982-05-03                34   \n",
       "2  Pornography         1982-05-03         1982-05-03                34   \n",
       "3  Pornography         1982-05-03         1982-05-03                34   \n",
       "4  Pornography         1982-05-03         1982-05-03                34   \n",
       "\n",
       "                                 track_name  danceability  energy key  \\\n",
       "0    One Hundred Years - Remastered Version         0.436   0.881   G   \n",
       "1  A Short Term Effect - Remastered Version         0.516   0.836   C   \n",
       "2   The Hanging Garden - Remastered Version         0.420   0.889   C   \n",
       "3        Siamese Twins - Remastered Version         0.772   0.523   D   \n",
       "4       The Figurehead - Remastered Version         0.655   0.842  A#   \n",
       "\n",
       "   loudness   mode  speechiness  acousticness  instrumentalness  liveness  \\\n",
       "0    -5.998  major       0.0439      0.001230             0.509    0.1080   \n",
       "1    -5.872  major       0.0319      0.001710             0.165    0.1360   \n",
       "2    -5.860  major       0.0393      0.004020             0.488    0.0795   \n",
       "3    -9.788  major       0.0364      0.000298             0.795    0.2820   \n",
       "4    -5.349  minor       0.0264      0.001250             0.642    0.1100   \n",
       "\n",
       "   valence    tempo  duration_ms  time_signature  key_mode  track_popularity  \n",
       "0    0.262  132.590       401000               4   G major                33  \n",
       "1    0.649  116.566       262493               4   C major                28  \n",
       "2    0.634  135.421       274240               4   C major                35  \n",
       "3    0.752   94.194       328360               4   D major                34  \n",
       "4    0.727  110.370       375173               4  A# minor                28  "
      ]
     },
     "execution_count": 4,
     "metadata": {},
     "output_type": "execute_result"
    }
   ],
   "source": [
    "df.head()"
   ]
  },
  {
   "cell_type": "code",
   "execution_count": 5,
   "metadata": {},
   "outputs": [],
   "source": [
    "df['album_release_year'] = pd.to_datetime(df['album_release_date'])"
   ]
  },
  {
   "cell_type": "code",
   "execution_count": 6,
   "metadata": {},
   "outputs": [],
   "source": [
    "df['album_release_year'] = df['album_release_year'].dt.year"
   ]
  },
  {
   "cell_type": "code",
   "execution_count": 7,
   "metadata": {},
   "outputs": [],
   "source": [
    "df.drop(['album_release_date', 'album_release_year', 'key_mode'], axis=1, inplace=True)"
   ]
  },
  {
   "cell_type": "code",
   "execution_count": 8,
   "metadata": {},
   "outputs": [],
   "source": [
    "df['mode'] = df['mode'].map({'minor': 0, 'major': 1})"
   ]
  },
  {
   "cell_type": "code",
   "execution_count": 9,
   "metadata": {
    "scrolled": true
   },
   "outputs": [
    {
     "name": "stdout",
     "output_type": "stream",
     "text": [
      "<class 'pandas.core.frame.DataFrame'>\n",
      "RangeIndex: 223 entries, 0 to 222\n",
      "Data columns (total 17 columns):\n",
      "album_name          223 non-null object\n",
      "album_popularity    223 non-null int64\n",
      "track_name          223 non-null object\n",
      "danceability        223 non-null float64\n",
      "energy              223 non-null float64\n",
      "key                 223 non-null object\n",
      "loudness            223 non-null float64\n",
      "mode                223 non-null int64\n",
      "speechiness         223 non-null float64\n",
      "acousticness        223 non-null float64\n",
      "instrumentalness    223 non-null float64\n",
      "liveness            223 non-null float64\n",
      "valence             223 non-null float64\n",
      "tempo               223 non-null float64\n",
      "duration_ms         223 non-null int64\n",
      "time_signature      223 non-null int64\n",
      "track_popularity    223 non-null int64\n",
      "dtypes: float64(9), int64(5), object(3)\n",
      "memory usage: 29.7+ KB\n"
     ]
    }
   ],
   "source": [
    "df.info()"
   ]
  },
  {
   "cell_type": "markdown",
   "metadata": {},
   "source": [
    "# Encoding"
   ]
  },
  {
   "cell_type": "markdown",
   "metadata": {},
   "source": [
    "<p>Кодиррование категориальных переменных - важная часть будущей предикативной модели, для различных моделей хороши различные виды кодирования. Кодирование необходимо поскольку модели (в основном) умееют работать только с числовыми признаками</p>\n",
    "<p>Основные виды кодирования категориальных признаков</p>\n",
    "\n",
    "\n",
    "- Label encoding\n",
    "- One hot encoding\n",
    "- Mean encoding"
   ]
  },
  {
   "cell_type": "markdown",
   "metadata": {},
   "source": [
    "## Label encoding"
   ]
  },
  {
   "cell_type": "markdown",
   "metadata": {},
   "source": [
    "<p>При label encoding каждой категории в соответствие ставится свое число, данные числа равномерно упорядочены</p>\n",
    "<p><b>Плюсы</b></p>\n",
    "\n",
    "- Сохраняет размерность данных\n",
    "- Простота реализации\n",
    "- Возможность задать порядок ординальных переменных\n",
    "\n",
    "<p><b>Минусы</b></p>\n",
    "\n",
    "- При использовании на категориальных признаках (не ординальных) вносит в данные не существующий порядок\n",
    "- Расстояние между значениями категорий одинаково (не масшатбируется)\n",
    "\n",
    "<p><b>Применение</b></p>\n",
    "\n",
    "- Данное кодирование имеет смысл только в логических моделях (на основе деревьев решений), но часто другие виды кодирования показывают лучшие результаты"
   ]
  },
  {
   "cell_type": "code",
   "execution_count": 10,
   "metadata": {},
   "outputs": [],
   "source": [
    "encoder = LabelEncoder()"
   ]
  },
  {
   "cell_type": "code",
   "execution_count": 11,
   "metadata": {},
   "outputs": [
    {
     "data": {
      "text/plain": [
       "LabelEncoder()"
      ]
     },
     "execution_count": 11,
     "metadata": {},
     "output_type": "execute_result"
    }
   ],
   "source": [
    "encoder.fit(df['album_name'])"
   ]
  },
  {
   "cell_type": "code",
   "execution_count": 12,
   "metadata": {},
   "outputs": [
    {
     "data": {
      "text/plain": [
       "array([ 9,  9,  9,  9,  9,  9,  9,  9, 13, 13, 13, 13, 13, 13, 13, 13, 13,\n",
       "       13, 13, 13, 13, 13, 13, 13, 13, 13, 13, 13,  3,  3,  3,  3,  3,  3,\n",
       "        3,  3,  3,  3, 12, 12, 12, 12, 12, 12, 12, 12, 12, 12,  6,  6,  6,\n",
       "        6,  6,  6,  6,  6,  6,  6,  6,  6,  6,  6,  6,  6,  6,  6,  6,  6,\n",
       "        4,  4,  4,  4,  4,  4,  4,  4,  4,  4,  4,  4,  4,  4,  4,  4,  4,\n",
       "        4,  4,  4,  7,  7,  7,  7,  7,  7,  7,  7,  7,  7,  7,  7,  7,  7,\n",
       "        7,  7,  7,  7,  7,  7, 15, 15, 15, 15, 15, 15, 15, 15, 15, 15, 15,\n",
       "       15,  8,  8,  8,  8,  8,  8,  8,  8,  8,  8,  8,  8, 10, 10, 10, 10,\n",
       "       10, 10, 10, 10, 10, 10, 10, 10, 10, 10, 10, 10, 10, 10, 14, 14, 14,\n",
       "       14, 14, 14, 14, 14, 14, 14, 14, 14, 14, 14,  2,  2,  2,  2,  2,  2,\n",
       "        2,  2,  2, 11, 11, 11, 11, 11, 11, 11, 11, 11, 11, 11,  5,  5,  5,\n",
       "        5,  5,  5,  0,  0,  0,  0,  0,  0,  0,  0,  0,  0,  0,  0,  0,  1,\n",
       "        1,  1,  1,  1,  1,  1,  1,  1,  1,  1,  1,  1,  1,  1,  1,  1,  1,\n",
       "        1,  1])"
      ]
     },
     "execution_count": 12,
     "metadata": {},
     "output_type": "execute_result"
    }
   ],
   "source": [
    "encoder.transform(df['album_name'])"
   ]
  },
  {
   "cell_type": "code",
   "execution_count": 13,
   "metadata": {},
   "outputs": [
    {
     "data": {
      "text/plain": [
       "array(['4:13 Dream', 'Bestival Live 2011', 'Bloodflowers',\n",
       "       'Concert - The Cure Live',\n",
       "       'Disintegration (Deluxe Edition [Remastered])',\n",
       "       'Hypnagogic States', 'Kiss Me Kiss Me Kiss Me',\n",
       "       'Mixed Up (Remastered 2018 / Deluxe Edition)', 'Paris',\n",
       "       'Pornography', 'Show', 'The Cure', 'The Head On The Door',\n",
       "       'The Top', 'Wild Mood Swings', 'Wish'], dtype=object)"
      ]
     },
     "execution_count": 13,
     "metadata": {},
     "output_type": "execute_result"
    }
   ],
   "source": [
    "encoder.classes_"
   ]
  },
  {
   "cell_type": "markdown",
   "metadata": {},
   "source": [
    "## One Hot Encoding"
   ]
  },
  {
   "cell_type": "markdown",
   "metadata": {},
   "source": [
    "<p>Данный вид кодирования для каждой категории создает новый бинарный признак (1 - Если у строки данная категория,  - иначе), в результате создает разреженный вектор длиной равной количеству категорий, с нулями везде кроме оси текущей категории</p>\n",
    "\n",
    "<p><b>Плюсы</b></p>\n",
    "\n",
    "- Не вносит не существуещего порядка в данные\n",
    "- Более логичное разбиение для деревьев решений (эта категория или нет) и веса в линейных моделях\n",
    "- Для метрических моделей расстояние меряется в пространстве да/нет и оно одинаково\n",
    "\n",
    "<p><b>Минусы</b></p>\n",
    "\n",
    "- Сильно увеличивается пространство признаков, что приводит либо к бесконечному множеству решений в линейных моделей, либо к очень долгой тренировке логических\n",
    "\n",
    "<p><b>Примение</b></p>\n",
    "\n",
    "- Данный вид кодирования применяется во всех моделях, при умеренном количестве категорий в признаке"
   ]
  },
  {
   "cell_type": "code",
   "execution_count": 14,
   "metadata": {},
   "outputs": [],
   "source": [
    "encoder = OneHotEncoder()"
   ]
  },
  {
   "cell_type": "code",
   "execution_count": 15,
   "metadata": {},
   "outputs": [
    {
     "data": {
      "text/plain": [
       "OneHotEncoder(categorical_features=None, categories=None, drop=None,\n",
       "              dtype=<class 'numpy.float64'>, handle_unknown='error',\n",
       "              n_values=None, sparse=True)"
      ]
     },
     "execution_count": 15,
     "metadata": {},
     "output_type": "execute_result"
    }
   ],
   "source": [
    "encoder.fit(df['album_name'].values.reshape(-1, 1))"
   ]
  },
  {
   "cell_type": "code",
   "execution_count": 16,
   "metadata": {},
   "outputs": [
    {
     "data": {
      "text/plain": [
       "array([[0., 0., 0., ..., 0., 0., 0.],\n",
       "       [0., 0., 0., ..., 0., 0., 0.],\n",
       "       [0., 0., 0., ..., 0., 0., 0.],\n",
       "       ...,\n",
       "       [0., 1., 0., ..., 0., 0., 0.],\n",
       "       [0., 1., 0., ..., 0., 0., 0.],\n",
       "       [0., 1., 0., ..., 0., 0., 0.]])"
      ]
     },
     "execution_count": 16,
     "metadata": {},
     "output_type": "execute_result"
    }
   ],
   "source": [
    "encoder.transform(df['album_name'].values.reshape(-1, 1)).toarray()"
   ]
  },
  {
   "cell_type": "code",
   "execution_count": 17,
   "metadata": {},
   "outputs": [
    {
     "data": {
      "text/plain": [
       "array(['x0_4:13 Dream', 'x0_Bestival Live 2011', 'x0_Bloodflowers',\n",
       "       'x0_Concert - The Cure Live',\n",
       "       'x0_Disintegration (Deluxe Edition [Remastered])',\n",
       "       'x0_Hypnagogic States', 'x0_Kiss Me Kiss Me Kiss Me',\n",
       "       'x0_Mixed Up (Remastered 2018 / Deluxe Edition)', 'x0_Paris',\n",
       "       'x0_Pornography', 'x0_Show', 'x0_The Cure',\n",
       "       'x0_The Head On The Door', 'x0_The Top', 'x0_Wild Mood Swings',\n",
       "       'x0_Wish'], dtype=object)"
      ]
     },
     "execution_count": 17,
     "metadata": {},
     "output_type": "execute_result"
    }
   ],
   "source": [
    "encoder.get_feature_names()"
   ]
  },
  {
   "cell_type": "code",
   "execution_count": 18,
   "metadata": {},
   "outputs": [
    {
     "data": {
      "image/png": "[encoded data removed]",
      "text/plain": [
       "<Figure size 864x576 with 2 Axes>"
      ]
     },
     "metadata": {
      "needs_background": "light"
     },
     "output_type": "display_data"
    }
   ],
   "source": [
    "plt.figure(figsize=(12, 8))\n",
    "sns.heatmap(encoder.transform(df['album_name'].values.reshape(-1, 1)).toarray(), cmap='BuPu');"
   ]
  },
  {
   "cell_type": "markdown",
   "metadata": {},
   "source": [
    "## MeanEncoding"
   ]
  },
  {
   "cell_type": "markdown",
   "metadata": {},
   "source": [
    "<p>Кодирование средним мощный метод кодирования категориальных переменных, где в соответствие каждой переменной ставится среднее значение таргета на этой переменной</p>\n",
    "\n",
    "<p><b>Плюсы</b></p>\n",
    "\n",
    "- Вносится корректный порядок следования категорий\n",
    "- Пространство признаков сохраняет свою размерность\n",
    "- Расстояние между категориями измеряется в статистике влияния на таргет\n",
    "\n",
    "<p><b>Минусы</b></p>\n",
    "\n",
    "- Высокий риск переобучения (особенно на категориях с малым количеством данных)\n",
    "- Для мноклассовой классификации, каждую категорию надо кодировать на свой класс таргета (увеличивается размерность)\n",
    "\n",
    "<p><b>Применение</b></p>\n",
    "\n",
    "- Кодирование применяется во всех моделях с различными регуляризациями для предотвращение переобучения"
   ]
  },
  {
   "cell_type": "code",
   "execution_count": 19,
   "metadata": {},
   "outputs": [],
   "source": [
    "class MeanEncoder(BaseEstimator, TransformerMixin):\n",
    "    \n",
    "    def __init__(self, feature_name, target_name, alpha=10):\n",
    "        self.feature_name = feature_name\n",
    "        self.target_name = target_name\n",
    "        self.mapping = {}\n",
    "        self.mean = 0\n",
    "        self.alpha = alpha\n",
    "        \n",
    "    def fit(self, x, y=None):\n",
    "        target_df = pd.concat([x[self.feature_name], x[self.target_name]], axis=1)\n",
    "        target_df.columns = ['Feature', 'Target']\n",
    "        self.mean = x[self.target_name].mean()\n",
    "        self.mapping = ((target_df.groupby('Feature')['Target'].sum() + self.alpha * self.mean)/\n",
    "                        (target_df['Feature'].value_counts() + self.alpha))\n",
    "        self.mapping = self.mapping.to_dict()\n",
    "        return self\n",
    "    \n",
    "    def transform(self, x):\n",
    "        return np.array([self.mapping.get(var, self.mean) for var in x[self.feature_name]]).reshape(-1, 1)\n",
    "    \n",
    "    def fit_transform(self, x, y=None):\n",
    "        self.fit(x)\n",
    "        return self.transform(x)"
   ]
  },
  {
   "cell_type": "code",
   "execution_count": 20,
   "metadata": {},
   "outputs": [],
   "source": [
    "encoder = MeanEncoder(feature_name='album_name', target_name='mode')"
   ]
  },
  {
   "cell_type": "code",
   "execution_count": 21,
   "metadata": {},
   "outputs": [
    {
     "data": {
      "text/plain": [
       "MeanEncoder(alpha=10, feature_name='album_name', target_name='mode')"
      ]
     },
     "execution_count": 21,
     "metadata": {},
     "output_type": "execute_result"
    }
   ],
   "source": [
    "encoder.fit(df)"
   ]
  },
  {
   "cell_type": "code",
   "execution_count": 22,
   "metadata": {},
   "outputs": [
    {
     "data": {
      "text/plain": [
       "array([[0.60911809],\n",
       "       [0.60911809],\n",
       "       [0.60911809],\n",
       "       [0.60911809],\n",
       "       [0.60911809],\n",
       "       [0.60911809],\n",
       "       [0.60911809],\n",
       "       [0.60911809],\n",
       "       [0.53213752],\n",
       "       [0.53213752],\n",
       "       [0.53213752],\n",
       "       [0.53213752],\n",
       "       [0.53213752],\n",
       "       [0.53213752],\n",
       "       [0.53213752],\n",
       "       [0.53213752],\n",
       "       [0.53213752],\n",
       "       [0.53213752],\n",
       "       [0.53213752],\n",
       "       [0.53213752],\n",
       "       [0.53213752],\n",
       "       [0.53213752],\n",
       "       [0.53213752],\n",
       "       [0.53213752],\n",
       "       [0.53213752],\n",
       "       [0.53213752],\n",
       "       [0.53213752],\n",
       "       [0.53213752],\n",
       "       [0.64820628],\n",
       "       [0.64820628],\n",
       "       [0.64820628],\n",
       "       [0.64820628],\n",
       "       [0.64820628],\n",
       "       [0.64820628],\n",
       "       [0.64820628],\n",
       "       [0.64820628],\n",
       "       [0.64820628],\n",
       "       [0.64820628],\n",
       "       [0.59820628],\n",
       "       [0.59820628],\n",
       "       [0.59820628],\n",
       "       [0.59820628],\n",
       "       [0.59820628],\n",
       "       [0.59820628],\n",
       "       [0.59820628],\n",
       "       [0.59820628],\n",
       "       [0.59820628],\n",
       "       [0.59820628],\n",
       "       [0.59880419],\n",
       "       [0.59880419],\n",
       "       [0.59880419],\n",
       "       [0.59880419],\n",
       "       [0.59880419],\n",
       "       [0.59880419],\n",
       "       [0.59880419],\n",
       "       [0.59880419],\n",
       "       [0.59880419],\n",
       "       [0.59880419],\n",
       "       [0.59880419],\n",
       "       [0.59880419],\n",
       "       [0.59880419],\n",
       "       [0.59880419],\n",
       "       [0.59880419],\n",
       "       [0.59880419],\n",
       "       [0.59880419],\n",
       "       [0.59880419],\n",
       "       [0.59880419],\n",
       "       [0.59880419],\n",
       "       [0.63213752],\n",
       "       [0.63213752],\n",
       "       [0.63213752],\n",
       "       [0.63213752],\n",
       "       [0.63213752],\n",
       "       [0.63213752],\n",
       "       [0.63213752],\n",
       "       [0.63213752],\n",
       "       [0.63213752],\n",
       "       [0.63213752],\n",
       "       [0.63213752],\n",
       "       [0.63213752],\n",
       "       [0.63213752],\n",
       "       [0.63213752],\n",
       "       [0.63213752],\n",
       "       [0.63213752],\n",
       "       [0.63213752],\n",
       "       [0.63213752],\n",
       "       [0.63213752],\n",
       "       [0.63213752],\n",
       "       [0.56547085],\n",
       "       [0.56547085],\n",
       "       [0.56547085],\n",
       "       [0.56547085],\n",
       "       [0.56547085],\n",
       "       [0.56547085],\n",
       "       [0.56547085],\n",
       "       [0.56547085],\n",
       "       [0.56547085],\n",
       "       [0.56547085],\n",
       "       [0.56547085],\n",
       "       [0.56547085],\n",
       "       [0.56547085],\n",
       "       [0.56547085],\n",
       "       [0.56547085],\n",
       "       [0.56547085],\n",
       "       [0.56547085],\n",
       "       [0.56547085],\n",
       "       [0.56547085],\n",
       "       [0.56547085],\n",
       "       [0.49836934],\n",
       "       [0.49836934],\n",
       "       [0.49836934],\n",
       "       [0.49836934],\n",
       "       [0.49836934],\n",
       "       [0.49836934],\n",
       "       [0.49836934],\n",
       "       [0.49836934],\n",
       "       [0.49836934],\n",
       "       [0.49836934],\n",
       "       [0.49836934],\n",
       "       [0.49836934],\n",
       "       [0.49836934],\n",
       "       [0.49836934],\n",
       "       [0.49836934],\n",
       "       [0.49836934],\n",
       "       [0.49836934],\n",
       "       [0.49836934],\n",
       "       [0.49836934],\n",
       "       [0.49836934],\n",
       "       [0.49836934],\n",
       "       [0.49836934],\n",
       "       [0.49836934],\n",
       "       [0.49836934],\n",
       "       [0.57014734],\n",
       "       [0.57014734],\n",
       "       [0.57014734],\n",
       "       [0.57014734],\n",
       "       [0.57014734],\n",
       "       [0.57014734],\n",
       "       [0.57014734],\n",
       "       [0.57014734],\n",
       "       [0.57014734],\n",
       "       [0.57014734],\n",
       "       [0.57014734],\n",
       "       [0.57014734],\n",
       "       [0.57014734],\n",
       "       [0.57014734],\n",
       "       [0.57014734],\n",
       "       [0.57014734],\n",
       "       [0.57014734],\n",
       "       [0.57014734],\n",
       "       [0.70683857],\n",
       "       [0.70683857],\n",
       "       [0.70683857],\n",
       "       [0.70683857],\n",
       "       [0.70683857],\n",
       "       [0.70683857],\n",
       "       [0.70683857],\n",
       "       [0.70683857],\n",
       "       [0.70683857],\n",
       "       [0.70683857],\n",
       "       [0.70683857],\n",
       "       [0.70683857],\n",
       "       [0.70683857],\n",
       "       [0.70683857],\n",
       "       [0.57705924],\n",
       "       [0.57705924],\n",
       "       [0.57705924],\n",
       "       [0.57705924],\n",
       "       [0.57705924],\n",
       "       [0.57705924],\n",
       "       [0.57705924],\n",
       "       [0.57705924],\n",
       "       [0.57705924],\n",
       "       [0.61733931],\n",
       "       [0.61733931],\n",
       "       [0.61733931],\n",
       "       [0.61733931],\n",
       "       [0.61733931],\n",
       "       [0.61733931],\n",
       "       [0.61733931],\n",
       "       [0.61733931],\n",
       "       [0.61733931],\n",
       "       [0.61733931],\n",
       "       [0.61733931],\n",
       "       [0.68525785],\n",
       "       [0.68525785],\n",
       "       [0.68525785],\n",
       "       [0.68525785],\n",
       "       [0.68525785],\n",
       "       [0.68525785],\n",
       "       [0.56365763],\n",
       "       [0.56365763],\n",
       "       [0.56365763],\n",
       "       [0.56365763],\n",
       "       [0.56365763],\n",
       "       [0.56365763],\n",
       "       [0.56365763],\n",
       "       [0.56365763],\n",
       "       [0.56365763],\n",
       "       [0.56365763],\n",
       "       [0.56365763],\n",
       "       [0.56365763],\n",
       "       [0.56365763],\n",
       "       [0.66547085],\n",
       "       [0.66547085],\n",
       "       [0.66547085],\n",
       "       [0.66547085],\n",
       "       [0.66547085],\n",
       "       [0.66547085],\n",
       "       [0.66547085],\n",
       "       [0.66547085],\n",
       "       [0.66547085],\n",
       "       [0.66547085],\n",
       "       [0.66547085],\n",
       "       [0.66547085],\n",
       "       [0.66547085],\n",
       "       [0.66547085],\n",
       "       [0.66547085],\n",
       "       [0.66547085],\n",
       "       [0.66547085],\n",
       "       [0.66547085],\n",
       "       [0.66547085],\n",
       "       [0.66547085]])"
      ]
     },
     "execution_count": 22,
     "metadata": {},
     "output_type": "execute_result"
    }
   ],
   "source": [
    "encoder.transform(df)"
   ]
  },
  {
   "cell_type": "markdown",
   "metadata": {},
   "source": [
    "# Scaling"
   ]
  },
  {
   "cell_type": "markdown",
   "metadata": {},
   "source": [
    "<p>Масштабирование важная часть предобработки данных для использования количественных признаков в метрических и линейных моделях. Масштабирование необходимо чтобы измежать слишком сильного влияния признака с большим масштабом значений по сравнению с другими</p>\n",
    "<p><b>Основные виды масштабирования</b></p>\n",
    "\n",
    "- MinMaxScaler\n",
    "- StandartScaler"
   ]
  },
  {
   "cell_type": "markdown",
   "metadata": {},
   "source": [
    "## MinMaxScaler"
   ]
  },
  {
   "cell_type": "markdown",
   "metadata": {},
   "source": [
    "<p>Данный вид масштабирования применяется для того чтобы поместить данные в отрезок [0;1], это делается с помощью следующей формулы</p>\n",
    "<p><center>$\\large{X = \\frac{(X - X_{min})}{(X_{max} - X_{min})}}$</center></p>\n",
    "<p>Основная проблема данного масшатабирования, что оно плохо сохраняет масштаб при наличии выбросов</p>"
   ]
  },
  {
   "cell_type": "code",
   "execution_count": 23,
   "metadata": {},
   "outputs": [],
   "source": [
    "scaler = MinMaxScaler()"
   ]
  },
  {
   "cell_type": "code",
   "execution_count": 24,
   "metadata": {},
   "outputs": [
    {
     "data": {
      "image/png": "[encoded data removed]",
      "text/plain": [
       "<Figure size 864x360 with 2 Axes>"
      ]
     },
     "metadata": {
      "needs_background": "light"
     },
     "output_type": "display_data"
    }
   ],
   "source": [
    "scaler.fit(df['loudness'].values.reshape(-1, 1))\n",
    "plt.figure(figsize=(12, 5))\n",
    "plt.subplot(1, 2, 1);\n",
    "sns.distplot(df['loudness']);\n",
    "plt.subplot(1, 2, 2);\n",
    "sns.distplot(scaler.transform(df['loudness'].values.reshape(-1, 1)).ravel());"
   ]
  },
  {
   "cell_type": "code",
   "execution_count": 25,
   "metadata": {},
   "outputs": [
    {
     "data": {
      "image/png": "[encoded data removed]",
      "text/plain": [
       "<Figure size 864x360 with 2 Axes>"
      ]
     },
     "metadata": {
      "needs_background": "light"
     },
     "output_type": "display_data"
    }
   ],
   "source": [
    "scaler.fit(df['speechiness'].values.reshape(-1, 1))\n",
    "plt.figure(figsize=(12, 5))\n",
    "plt.subplot(1, 2, 1);\n",
    "sns.distplot(df['speechiness']);\n",
    "plt.subplot(1, 2, 2);\n",
    "sns.distplot(scaler.transform(df['speechiness'].values.reshape(-1, 1)).ravel());"
   ]
  },
  {
   "cell_type": "markdown",
   "metadata": {},
   "source": [
    "## StandartScaler"
   ]
  },
  {
   "cell_type": "markdown",
   "metadata": {},
   "source": [
    "<p>Данный вид масштабирования применяется для того чтобы изменить среднее в данных на 0 и стандартное отклонение на 1</p>\n",
    "<p><center>$\\large{X = \\frac{(X - X_{mean})}{X_{std}}}$</center></p>\n",
    "<p>Данное масштабирование предполагает что данные распределены нормально</p>"
   ]
  },
  {
   "cell_type": "code",
   "execution_count": 26,
   "metadata": {},
   "outputs": [],
   "source": [
    "scaler = StandardScaler()"
   ]
  },
  {
   "cell_type": "code",
   "execution_count": 27,
   "metadata": {},
   "outputs": [
    {
     "data": {
      "image/png": "[encoded data removed]",
      "text/plain": [
       "<Figure size 864x360 with 2 Axes>"
      ]
     },
     "metadata": {
      "needs_background": "light"
     },
     "output_type": "display_data"
    }
   ],
   "source": [
    "scaler.fit(df['loudness'].values.reshape(-1, 1))\n",
    "plt.figure(figsize=(12, 5))\n",
    "plt.subplot(1, 2, 1);\n",
    "sns.distplot(df['loudness']);\n",
    "plt.subplot(1, 2, 2);\n",
    "sns.distplot(scaler.transform(df['loudness'].values.reshape(-1, 1)).ravel());"
   ]
  },
  {
   "cell_type": "code",
   "execution_count": 28,
   "metadata": {},
   "outputs": [
    {
     "data": {
      "image/png": "[encoded data removed]",
      "text/plain": [
       "<Figure size 864x360 with 2 Axes>"
      ]
     },
     "metadata": {
      "needs_background": "light"
     },
     "output_type": "display_data"
    }
   ],
   "source": [
    "scaler.fit(df['speechiness'].values.reshape(-1, 1))\n",
    "plt.figure(figsize=(12, 5))\n",
    "plt.subplot(1, 2, 1);\n",
    "sns.distplot(df['speechiness']);\n",
    "plt.subplot(1, 2, 2);\n",
    "sns.distplot(scaler.transform(df['speechiness'].values.reshape(-1, 1)).ravel());"
   ]
  },
  {
   "cell_type": "markdown",
   "metadata": {},
   "source": [
    "<p>Сложно сказать для каких моделей какой масштабирование подходит лучше, поэтому стоит попробовать оба</p>"
   ]
  },
  {
   "cell_type": "markdown",
   "metadata": {},
   "source": [
    "# Text"
   ]
  },
  {
   "cell_type": "markdown",
   "metadata": {},
   "source": [
    "<p>Текстовые данные особый вид переменных, поскольку количество уникальных значений сопоставимо с количественными признаками, однако они не выражаются в числах</p>\n",
    "<p>Способов кодирования текста очень много, однако мы рассмотрим только два из них</p>\n",
    "\n",
    "- Bag of words\n",
    "- Term frequency inverse documemnt frequency"
   ]
  },
  {
   "cell_type": "markdown",
   "metadata": {},
   "source": [
    "## BOW"
   ]
  },
  {
   "cell_type": "markdown",
   "metadata": {},
   "source": [
    "<p>Принцип bag of words похож на OHE, только мы используем данное кодирование не на уровне отдельных текстов, а на уровне слов или n-грамм</p>\n",
    "<p>N-грамма: это токен состоящий из N подряд идущих слов в тексте, часто в начало текста добавляют специальные токены чтобы выявить начальное слово в N-граммах</p>\n",
    "<p>Рассмотрим триграммы (N-грамма где N = 3) на примере предложения: <i>Люк я твой отец</i>. Добавим специальные токены чтобы выявить начало предложения (количество этих токенов обычно берут равным N-1)</p>\n",
    "<p>{SOS} {SOS} Люк я твой отец. SOS - означает start of sentence. Триграммы:</p>\n",
    "\n",
    "- {SOS} {SOS} Люк\n",
    "- {SOS} Люк я\n",
    "- Люк я твой\n",
    "- я твой отец\n",
    "\n",
    "<p>Закодируем с помощью bag of words следующий корпус: [люк я твой отец, я твой дом труба шатал], кодировать будем (1, 2) N-граммы</p>\n",
    "\n",
    "- [{SOS} люк, люк я, я твой, твой отец, люк, я, твой, отец]\n",
    "- [{SOS} я, я твой, твой дом, дом труба, труба шатал, я, твой, дом, труба, шатал]\n",
    "\n",
    "<p>Итого у нас 15 уникальных токенов и 2 вектора размерностью 15</p>\n",
    "\n",
    "<p>[{SOS} люк, люк я, я твой, твой отец, люк, я, твой, отец, {SOS} я, твой дом, дом труба, труба шатал, дом, труба, шатал]</p>\n",
    "<p>[1, 1, 1, 1, 1, 1, 1, 1, 0, 0, 0, 0, 0, 0, 0]</p>\n",
    "<p>[0, 0, 1, 0, 0, 1, 1, 0, 1, 1, 1, 1, 1, 1, 1]</p>\n",
    "\n",
    "<p>Часто дополнительно использует</p>\n",
    "\n",
    "- Стемминг, лематизация - для того чтобы разные формы одного слова учитывать как одно слово\n",
    "- Ограничение снизу на количество слов - чтобы избежать переобучения на редкие слова\n",
    "- Ограничение сверху на количество слов - чтобы удалить слова которые не влияют на предсказание (данное ограничение часто выражается в долях)"
   ]
  },
  {
   "cell_type": "code",
   "execution_count": 29,
   "metadata": {},
   "outputs": [],
   "source": [
    "text_endoder = CountVectorizer(ngram_range=(1, 2), min_df=3, max_df=0.5)"
   ]
  },
  {
   "cell_type": "code",
   "execution_count": 30,
   "metadata": {},
   "outputs": [],
   "source": [
    "df['track_name'] = df['track_name'].str.replace(r'\\W+', ' ').str.strip().str.lower()"
   ]
  },
  {
   "cell_type": "code",
   "execution_count": 31,
   "metadata": {},
   "outputs": [
    {
     "data": {
      "text/plain": [
       "0      one hundred years remastered version\n",
       "1    a short term effect remastered version\n",
       "2     the hanging garden remastered version\n",
       "3          siamese twins remastered version\n",
       "4         the figurehead remastered version\n",
       "Name: track_name, dtype: object"
      ]
     },
     "execution_count": 31,
     "metadata": {},
     "output_type": "execute_result"
    }
   ],
   "source": [
    "df['track_name'].head()"
   ]
  },
  {
   "cell_type": "code",
   "execution_count": 32,
   "metadata": {},
   "outputs": [
    {
     "data": {
      "text/plain": [
       "CountVectorizer(analyzer='word', binary=False, decode_error='strict',\n",
       "                dtype=<class 'numpy.int64'>, encoding='utf-8', input='content',\n",
       "                lowercase=True, max_df=0.5, max_features=None, min_df=3,\n",
       "                ngram_range=(1, 2), preprocessor=None, stop_words=None,\n",
       "                strip_accents=None, token_pattern='(?u)\\\\b\\\\w\\\\w+\\\\b',\n",
       "                tokenizer=None, vocabulary=None)"
      ]
     },
     "execution_count": 32,
     "metadata": {},
     "output_type": "execute_result"
    }
   ],
   "source": [
    "text_endoder.fit(df['track_name'])"
   ]
  },
  {
   "cell_type": "code",
   "execution_count": 33,
   "metadata": {},
   "outputs": [
    {
     "data": {
      "image/png": "[encoded data removed]",
      "text/plain": [
       "<Figure size 864x576 with 2 Axes>"
      ]
     },
     "metadata": {
      "needs_background": "light"
     },
     "output_type": "display_data"
    }
   ],
   "source": [
    "plt.figure(figsize=(12, 8))\n",
    "sns.heatmap(text_endoder.transform(df['track_name']).toarray(), cmap='BuPu');"
   ]
  },
  {
   "cell_type": "code",
   "execution_count": 34,
   "metadata": {},
   "outputs": [
    {
     "data": {
      "text/plain": [
       "['04',\n",
       " '04 88',\n",
       " '06',\n",
       " '06 88',\n",
       " '12',\n",
       " '12 83',\n",
       " '1984',\n",
       " '1990',\n",
       " '2006',\n",
       " '2006 remastered',\n",
       " '2011',\n",
       " '83',\n",
       " '88',\n",
       " 'aa',\n",
       " 'aa demo',\n",
       " 'and',\n",
       " 'at',\n",
       " 'at the',\n",
       " 'auburn',\n",
       " 'auburn hills',\n",
       " 'band',\n",
       " 'band rehearsal',\n",
       " 'bed',\n",
       " 'bestival',\n",
       " 'bestival live',\n",
       " 'by',\n",
       " 'close',\n",
       " 'close to',\n",
       " 'days',\n",
       " 'deep',\n",
       " 'demo',\n",
       " 'demo 12',\n",
       " 'demo instrumental',\n",
       " 'dog',\n",
       " 'dog shake',\n",
       " 'eden',\n",
       " 'eden studios',\n",
       " 'end',\n",
       " 'extended',\n",
       " 'extended mix',\n",
       " 'fascination',\n",
       " 'fascination street',\n",
       " 'for',\n",
       " 'forest',\n",
       " 'friday',\n",
       " 'friday in',\n",
       " 'garden',\n",
       " 'garden eden',\n",
       " 'girl',\n",
       " 'give',\n",
       " 'give me',\n",
       " 'go',\n",
       " 'go to',\n",
       " 'heaven',\n",
       " 'hills',\n",
       " 'hills michigan',\n",
       " 'home',\n",
       " 'home demo',\n",
       " 'hundred',\n",
       " 'hundred years',\n",
       " 'in',\n",
       " 'in love',\n",
       " 'inbetween',\n",
       " 'inbetween days',\n",
       " 'instrumental',\n",
       " 'instrumental 04',\n",
       " 'instrumental 06',\n",
       " 'it',\n",
       " 'just',\n",
       " 'just like',\n",
       " 'kiss',\n",
       " 'let',\n",
       " 'let go',\n",
       " 'like',\n",
       " 'like heaven',\n",
       " 'like this',\n",
       " 'live',\n",
       " 'live 2011',\n",
       " 'live at',\n",
       " 'live paris',\n",
       " 'live version',\n",
       " 'love',\n",
       " 'lovesong',\n",
       " 'lullaby',\n",
       " 'me',\n",
       " 'me it',\n",
       " 'michigan',\n",
       " 'mix',\n",
       " 'never',\n",
       " 'new',\n",
       " 'night',\n",
       " 'night like',\n",
       " 'of',\n",
       " 'of the',\n",
       " 'of you',\n",
       " 'one',\n",
       " 'one hundred',\n",
       " 'only',\n",
       " 'only one',\n",
       " 'open',\n",
       " 'palace',\n",
       " 'palace auburn',\n",
       " 'paris',\n",
       " 'paris version',\n",
       " 'perfect',\n",
       " 'pictures',\n",
       " 'pictures of',\n",
       " 'rehearsal',\n",
       " 'rehearsal instrumental',\n",
       " 'remastered',\n",
       " 'remastered version',\n",
       " 'remix',\n",
       " 'remix by',\n",
       " 'rs',\n",
       " 'rs aa',\n",
       " 'rs home',\n",
       " 'shake',\n",
       " 'shake dog',\n",
       " 'sleep',\n",
       " 'street',\n",
       " 'studio',\n",
       " 'studios',\n",
       " 'studios rs',\n",
       " 'the',\n",
       " 'the only',\n",
       " 'the palace',\n",
       " 'the perfect',\n",
       " 'the walk',\n",
       " 'this',\n",
       " 'to',\n",
       " 'to bed',\n",
       " 'to me',\n",
       " 'version',\n",
       " 'version 1984',\n",
       " 'walk',\n",
       " 'why',\n",
       " 'world',\n",
       " 'years',\n",
       " 'you',\n",
       " 'you extended']"
      ]
     },
     "execution_count": 34,
     "metadata": {},
     "output_type": "execute_result"
    }
   ],
   "source": [
    "text_endoder.get_feature_names()"
   ]
  },
  {
   "cell_type": "markdown",
   "metadata": {},
   "source": [
    "## TfIdf"
   ]
  },
  {
   "cell_type": "markdown",
   "metadata": {},
   "source": [
    "<p>В подходе tfidf вместо 1 на месте токена, мы ставим его tfidf, TfIdf - это аббревиатура из двух частей Tf и Idf</p>\n",
    "<p><b>Tf</b> - term frequency частота слова в данном тексте деленная на количество слов в тексте</p>\n",
    "<p><b>Idf</b> - inverse document frequency общее количество документов деленое на количество документов где встречается данное слово, обычно берут десятичный логарифм от этого значения</p>\n",
    "<p><center>$\\large{TfIdf = \\frac{n_t}{\\sum_k{n_w}}*\\log_{10}{\\frac{|D|}{|D:W\\in D|}}}$</center></p>"
   ]
  },
  {
   "cell_type": "code",
   "execution_count": 35,
   "metadata": {},
   "outputs": [],
   "source": [
    "text_endoder = TfidfVectorizer(ngram_range=(1, 2), min_df=3, max_df=0.5)"
   ]
  },
  {
   "cell_type": "code",
   "execution_count": 36,
   "metadata": {},
   "outputs": [
    {
     "data": {
      "text/plain": [
       "TfidfVectorizer(analyzer='word', binary=False, decode_error='strict',\n",
       "                dtype=<class 'numpy.float64'>, encoding='utf-8',\n",
       "                input='content', lowercase=True, max_df=0.5, max_features=None,\n",
       "                min_df=3, ngram_range=(1, 2), norm='l2', preprocessor=None,\n",
       "                smooth_idf=True, stop_words=None, strip_accents=None,\n",
       "                sublinear_tf=False, token_pattern='(?u)\\\\b\\\\w\\\\w+\\\\b',\n",
       "                tokenizer=None, use_idf=True, vocabulary=None)"
      ]
     },
     "execution_count": 36,
     "metadata": {},
     "output_type": "execute_result"
    }
   ],
   "source": [
    "text_endoder.fit(df['track_name'])"
   ]
  },
  {
   "cell_type": "code",
   "execution_count": 37,
   "metadata": {},
   "outputs": [
    {
     "data": {
      "image/png": "[encoded data removed]",
      "text/plain": [
       "<Figure size 864x576 with 2 Axes>"
      ]
     },
     "metadata": {
      "needs_background": "light"
     },
     "output_type": "display_data"
    }
   ],
   "source": [
    "plt.figure(figsize=(12, 8))\n",
    "sns.heatmap(text_endoder.transform(df['track_name']).toarray(), cmap='BuPu');"
   ]
  },
  {
   "cell_type": "markdown",
   "metadata": {},
   "source": [
    "# Metrics"
   ]
  },
  {
   "cell_type": "markdown",
   "metadata": {},
   "source": [
    "<p>Метрики - это показатель качества, насколько хорошо наша модель решает ту или иную задачу. Выбор правильной метрики для задачи, является важной частью модели. Основные метрики:</p>\n",
    "<p><b>Классификация</b></p>\n",
    "\n",
    "- Accuracy\n",
    "- Roc auc\n",
    "- f1 score\n",
    "- logloss\n",
    "\n",
    "<p><b>Регрессия</b></p>\n",
    "\n",
    "- MSE\n",
    "- RMSE\n",
    "- R2\n",
    "- MAE\n",
    "- MSLE"
   ]
  },
  {
   "cell_type": "markdown",
   "metadata": {},
   "source": [
    "## Classification"
   ]
  },
  {
   "cell_type": "code",
   "execution_count": 38,
   "metadata": {},
   "outputs": [],
   "source": [
    "class ColumnsSelector(BaseEstimator, TransformerMixin):\n",
    "    \n",
    "    def __init__(self, columns, reshape=False):\n",
    "        self.columns = columns\n",
    "        self.reshape = reshape\n",
    "        \n",
    "    def fit(self, x, y=None):\n",
    "        return self\n",
    "    \n",
    "    def transform(self, x):\n",
    "        return x[self.columns].copy()\n",
    "    \n",
    "    def fit_transform(self, x, y=None):\n",
    "        return self.transform(x)"
   ]
  },
  {
   "cell_type": "code",
   "execution_count": 39,
   "metadata": {},
   "outputs": [],
   "source": [
    "class LabelEncoderFixed(BaseEstimator, TransformerMixin):\n",
    "    \n",
    "    def __init__(self):\n",
    "        self.code = {}\n",
    "        \n",
    "    def fit(self, x, y=None):\n",
    "        self.code = {var: i for i, var in enumerate(np.unique(x))}\n",
    "        return self\n",
    "    \n",
    "    def transform(self, x):\n",
    "        return np.array([self.code.get(var, -1) for var in x]).reshape(-1, 1)\n",
    "    \n",
    "    def fit_transform(self, x, y=None):\n",
    "        self.fit(x)\n",
    "        return self.transform(x)"
   ]
  },
  {
   "cell_type": "markdown",
   "metadata": {},
   "source": [
    "### Accuracy"
   ]
  },
  {
   "cell_type": "markdown",
   "metadata": {},
   "source": [
    "<p>Выберем лучший классификатор для нашей задачи, на основе метрики accuracy</p>\n",
    "<p>Accuracy - это доля правильных ответов классификатора</p>"
   ]
  },
  {
   "cell_type": "code",
   "execution_count": 40,
   "metadata": {},
   "outputs": [],
   "source": [
    "number_cols = [\n",
    "    'album_popularity', 'danceability', 'energy', 'loudness', \n",
    "    'speechiness', 'acousticness', 'instrumentalness', 'liveness', \n",
    "    'valence', 'tempo', 'duration_ms', 'time_signature', 'track_popularity']"
   ]
  },
  {
   "cell_type": "code",
   "execution_count": 41,
   "metadata": {},
   "outputs": [],
   "source": [
    "tree_df_label = df.copy()"
   ]
  },
  {
   "cell_type": "code",
   "execution_count": 42,
   "metadata": {},
   "outputs": [],
   "source": [
    "pipeline = Pipeline(\n",
    "    [('features', FeatureUnion(\n",
    "        [\n",
    "        ('album_name', make_pipeline(ColumnsSelector('album_name'), LabelEncoderFixed())),\n",
    "        ('key', make_pipeline(ColumnsSelector('key'), LabelEncoderFixed())),\n",
    "        ('text', make_pipeline(ColumnsSelector('track_name', reshape=True), \n",
    "                               CountVectorizer(ngram_range=(1, 2), min_df=3, max_df=0.5))),\n",
    "        ('number_features', ColumnsSelector(number_cols)),\n",
    "        ])), \n",
    "     ('clf', DecisionTreeClassifier(max_depth=5, random_state=42))\n",
    "])"
   ]
  },
  {
   "cell_type": "code",
   "execution_count": 43,
   "metadata": {},
   "outputs": [],
   "source": [
    "cv = KFold(n_splits=5, shuffle=True, random_state=42)"
   ]
  },
  {
   "cell_type": "code",
   "execution_count": 44,
   "metadata": {},
   "outputs": [],
   "source": [
    "predict = cross_val_predict(pipeline, X=df, y=df['mode'], cv=cv, method='predict_proba')[:, 1]"
   ]
  },
  {
   "cell_type": "markdown",
   "metadata": {},
   "source": [
    "<p>Мы получили точность 55%, что интуитивно лучше случайного выбора. Однако если мы посмотрим на распределение классов в данных, то увидим что если бы мы всегда предсказывали 1 - accuracy была бы 59%</p>"
   ]
  },
  {
   "cell_type": "code",
   "execution_count": 45,
   "metadata": {},
   "outputs": [
    {
     "data": {
      "text/plain": [
       "0.5515695067264574"
      ]
     },
     "execution_count": 45,
     "metadata": {},
     "output_type": "execute_result"
    }
   ],
   "source": [
    "accuracy_score(df['mode'], predict > 0.5)"
   ]
  },
  {
   "cell_type": "code",
   "execution_count": 46,
   "metadata": {},
   "outputs": [
    {
     "data": {
      "text/plain": [
       "1    133\n",
       "0     90\n",
       "Name: mode, dtype: int64"
      ]
     },
     "execution_count": 46,
     "metadata": {},
     "output_type": "execute_result"
    }
   ],
   "source": [
    "df['mode'].value_counts()"
   ]
  },
  {
   "cell_type": "code",
   "execution_count": 47,
   "metadata": {},
   "outputs": [
    {
     "data": {
      "text/plain": [
       "0.5964125560538116"
      ]
     },
     "execution_count": 47,
     "metadata": {},
     "output_type": "execute_result"
    }
   ],
   "source": [
    "accuracy_score(df['mode'], [1] * df.shape[0])"
   ]
  },
  {
   "cell_type": "code",
   "execution_count": 48,
   "metadata": {},
   "outputs": [],
   "source": [
    "pipeline = Pipeline(\n",
    "    [('features', FeatureUnion(\n",
    "        [\n",
    "        ('album_name', make_pipeline(ColumnsSelector(['album_name']), OneHotEncoder(handle_unknown='ignore'))),\n",
    "        ('key', make_pipeline(ColumnsSelector(['key']), OneHotEncoder(handle_unknown='ignore'))),\n",
    "        ('text', make_pipeline(ColumnsSelector('track_name', reshape=True), \n",
    "                               CountVectorizer(ngram_range=(1, 2), min_df=3, max_df=0.5))),\n",
    "        ('number_features', ColumnsSelector(number_cols))\n",
    "        ])), \n",
    "     ('clf', DecisionTreeClassifier(max_depth=5, random_state=42))\n",
    "])"
   ]
  },
  {
   "cell_type": "code",
   "execution_count": 49,
   "metadata": {},
   "outputs": [],
   "source": [
    "predict = cross_val_predict(pipeline, X=df, y=df['mode'], cv=cv, method='predict_proba')[:, 1]"
   ]
  },
  {
   "cell_type": "code",
   "execution_count": 50,
   "metadata": {},
   "outputs": [
    {
     "data": {
      "text/plain": [
       "0.6322869955156951"
      ]
     },
     "execution_count": 50,
     "metadata": {},
     "output_type": "execute_result"
    }
   ],
   "source": [
    "accuracy_score(df['mode'], predict > 0.5)"
   ]
  },
  {
   "cell_type": "code",
   "execution_count": 51,
   "metadata": {},
   "outputs": [],
   "source": [
    "pipeline = Pipeline(\n",
    "    [('features', FeatureUnion(\n",
    "        [\n",
    "        ('album_name', make_pipeline(ColumnsSelector(['album_name']), OneHotEncoder(handle_unknown='ignore'))),\n",
    "        ('key', make_pipeline(ColumnsSelector(['key']), OneHotEncoder(handle_unknown='ignore'))),\n",
    "        ('text', make_pipeline(ColumnsSelector('track_name', reshape=True), \n",
    "                               CountVectorizer(ngram_range=(1, 2), min_df=3, max_df=0.5))),\n",
    "        ('scaler', make_pipeline(ColumnsSelector(number_cols, reshape=True), StandardScaler())),\n",
    "        ])), \n",
    "     ('clf', DecisionTreeClassifier(max_depth=5, random_state=42))\n",
    "])"
   ]
  },
  {
   "cell_type": "code",
   "execution_count": 52,
   "metadata": {},
   "outputs": [],
   "source": [
    "predict = cross_val_predict(pipeline, X=df, y=df['mode'], cv=cv, method='predict_proba')[:, 1]"
   ]
  },
  {
   "cell_type": "code",
   "execution_count": 53,
   "metadata": {},
   "outputs": [
    {
     "data": {
      "text/plain": [
       "0.6322869955156951"
      ]
     },
     "execution_count": 53,
     "metadata": {},
     "output_type": "execute_result"
    }
   ],
   "source": [
    "accuracy_score(df['mode'], predict > 0.5)"
   ]
  },
  {
   "cell_type": "code",
   "execution_count": 54,
   "metadata": {},
   "outputs": [],
   "source": [
    "pipeline = Pipeline(\n",
    "    [('features', FeatureUnion(\n",
    "        [\n",
    "        ('album_name', make_pipeline(MeanEncoder(feature_name='album_name', target_name='mode'))),\n",
    "        ('key', make_pipeline(MeanEncoder(feature_name='key', target_name='mode'))),\n",
    "        ('text', make_pipeline(ColumnsSelector('track_name', reshape=True), \n",
    "                               CountVectorizer(ngram_range=(1, 2), min_df=3, max_df=0.5))),\n",
    "        ('number_features', ColumnsSelector(number_cols)),\n",
    "        ])), \n",
    "     ('clf', DecisionTreeClassifier(max_depth=5, random_state=42))\n",
    "])"
   ]
  },
  {
   "cell_type": "code",
   "execution_count": 55,
   "metadata": {},
   "outputs": [],
   "source": [
    "predict = cross_val_predict(pipeline, X=df, y=df['mode'], cv=cv, method='predict_proba')[:, 1]"
   ]
  },
  {
   "cell_type": "code",
   "execution_count": 56,
   "metadata": {},
   "outputs": [
    {
     "data": {
      "text/plain": [
       "0.6367713004484304"
      ]
     },
     "execution_count": 56,
     "metadata": {},
     "output_type": "execute_result"
    }
   ],
   "source": [
    "accuracy_score(df['mode'], predict > 0.5)"
   ]
  },
  {
   "cell_type": "code",
   "execution_count": 57,
   "metadata": {},
   "outputs": [],
   "source": [
    "pipeline = Pipeline(\n",
    "    [('features', FeatureUnion(\n",
    "        [\n",
    "        ('album_name', make_pipeline(ColumnsSelector('album_name'), LabelEncoderFixed())),\n",
    "        ('key', make_pipeline(ColumnsSelector('key'), LabelEncoderFixed())),\n",
    "        ('text', make_pipeline(ColumnsSelector('track_name', reshape=True), \n",
    "                               CountVectorizer(ngram_range=(1, 2), min_df=3, max_df=0.5))),\n",
    "        ('number_features', ColumnsSelector(number_cols)),\n",
    "        ])), \n",
    "     ('clf', KNeighborsClassifier(n_neighbors=5))\n",
    "])"
   ]
  },
  {
   "cell_type": "code",
   "execution_count": 58,
   "metadata": {},
   "outputs": [],
   "source": [
    "predict = cross_val_predict(pipeline, X=df, y=df['mode'], cv=cv, method='predict_proba')[:, 1]"
   ]
  },
  {
   "cell_type": "code",
   "execution_count": 59,
   "metadata": {},
   "outputs": [
    {
     "data": {
      "text/plain": [
       "0.4618834080717489"
      ]
     },
     "execution_count": 59,
     "metadata": {},
     "output_type": "execute_result"
    }
   ],
   "source": [
    "accuracy_score(df['mode'], predict > 0.5)"
   ]
  },
  {
   "cell_type": "code",
   "execution_count": 60,
   "metadata": {},
   "outputs": [],
   "source": [
    "pipeline = Pipeline(\n",
    "    [('features', FeatureUnion(\n",
    "        [\n",
    "        ('album_name', make_pipeline(ColumnsSelector('album_name'), LabelEncoderFixed())),\n",
    "        ('key', make_pipeline(ColumnsSelector('key'), LabelEncoderFixed())),\n",
    "        ('text', make_pipeline(ColumnsSelector('track_name', reshape=True), \n",
    "                               CountVectorizer(ngram_range=(1, 2), min_df=3, max_df=0.5))),\n",
    "        ('scaler', make_pipeline(ColumnsSelector(number_cols, reshape=True), StandardScaler()))\n",
    "        ])), \n",
    "     ('clf', KNeighborsClassifier(n_neighbors=5))\n",
    "])"
   ]
  },
  {
   "cell_type": "code",
   "execution_count": 61,
   "metadata": {},
   "outputs": [],
   "source": [
    "predict = cross_val_predict(pipeline, X=df, y=df['mode'], cv=cv, method='predict_proba')[:, 1]"
   ]
  },
  {
   "cell_type": "code",
   "execution_count": 62,
   "metadata": {},
   "outputs": [
    {
     "data": {
      "text/plain": [
       "0.5246636771300448"
      ]
     },
     "execution_count": 62,
     "metadata": {},
     "output_type": "execute_result"
    }
   ],
   "source": [
    "accuracy_score(df['mode'], predict > 0.5)"
   ]
  },
  {
   "cell_type": "code",
   "execution_count": 63,
   "metadata": {},
   "outputs": [],
   "source": [
    "pipeline = Pipeline(\n",
    "    [('features', FeatureUnion(\n",
    "        [\n",
    "        ('album_name', make_pipeline(ColumnsSelector(['album_name']), OneHotEncoder(handle_unknown='ignore'))),\n",
    "        ('key', make_pipeline(ColumnsSelector(['key']), OneHotEncoder(handle_unknown='ignore'))),\n",
    "        ('text', make_pipeline(ColumnsSelector('track_name', reshape=True), \n",
    "                               CountVectorizer(ngram_range=(1, 2), min_df=3, max_df=0.5))),\n",
    "        ('scaler', make_pipeline(ColumnsSelector(number_cols, reshape=True), StandardScaler()))\n",
    "        ])), \n",
    "     ('clf', KNeighborsClassifier(n_neighbors=5))\n",
    "])"
   ]
  },
  {
   "cell_type": "code",
   "execution_count": 64,
   "metadata": {},
   "outputs": [],
   "source": [
    "predict = cross_val_predict(pipeline, X=df, y=df['mode'], cv=cv, method='predict_proba')[:, 1]"
   ]
  },
  {
   "cell_type": "code",
   "execution_count": 65,
   "metadata": {},
   "outputs": [
    {
     "data": {
      "text/plain": [
       "0.4663677130044843"
      ]
     },
     "execution_count": 65,
     "metadata": {},
     "output_type": "execute_result"
    }
   ],
   "source": [
    "accuracy_score(df['mode'], predict > 0.5)"
   ]
  },
  {
   "cell_type": "code",
   "execution_count": 66,
   "metadata": {},
   "outputs": [],
   "source": [
    "pipeline = Pipeline(\n",
    "    [('features', FeatureUnion(\n",
    "        [\n",
    "        ('album_name', make_pipeline(ColumnsSelector(['album_name']), OneHotEncoder(handle_unknown='ignore'))),\n",
    "        ('key', make_pipeline(ColumnsSelector(['key']), OneHotEncoder(handle_unknown='ignore'))),\n",
    "        ('text', make_pipeline(ColumnsSelector('track_name', reshape=True), \n",
    "                               TfidfVectorizer(ngram_range=(1, 2), min_df=3, max_df=0.5))),\n",
    "        ('scaler', make_pipeline(ColumnsSelector(number_cols, reshape=True), StandardScaler()))\n",
    "        ])), \n",
    "     ('clf', KNeighborsClassifier(n_neighbors=5))\n",
    "])"
   ]
  },
  {
   "cell_type": "code",
   "execution_count": 67,
   "metadata": {},
   "outputs": [],
   "source": [
    "predict = cross_val_predict(pipeline, X=df, y=df['mode'], cv=cv, method='predict_proba')[:, 1]"
   ]
  },
  {
   "cell_type": "code",
   "execution_count": 68,
   "metadata": {},
   "outputs": [
    {
     "data": {
      "text/plain": [
       "0.5560538116591929"
      ]
     },
     "execution_count": 68,
     "metadata": {},
     "output_type": "execute_result"
    }
   ],
   "source": [
    "accuracy_score(df['mode'], predict > 0.5)"
   ]
  },
  {
   "cell_type": "code",
   "execution_count": 69,
   "metadata": {},
   "outputs": [],
   "source": [
    "pipeline = Pipeline(\n",
    "    [('features', FeatureUnion(\n",
    "        [\n",
    "        ('album_name', make_pipeline(MeanEncoder(feature_name='album_name', target_name='mode', alpha=5))),\n",
    "        ('key', make_pipeline(MeanEncoder(feature_name='key', target_name='mode', alpha=5))),\n",
    "        ('text', make_pipeline(ColumnsSelector('track_name', reshape=True), \n",
    "                               TfidfVectorizer(ngram_range=(1, 2), min_df=3, max_df=0.5))),\n",
    "        ('scaler', make_pipeline(ColumnsSelector(number_cols, reshape=True), StandardScaler()))\n",
    "        ])), \n",
    "     ('clf', KNeighborsClassifier(n_neighbors=5))\n",
    "])"
   ]
  },
  {
   "cell_type": "code",
   "execution_count": 70,
   "metadata": {},
   "outputs": [],
   "source": [
    "predict = cross_val_predict(pipeline, X=df, y=df['mode'], cv=cv, method='predict_proba')[:, 1]"
   ]
  },
  {
   "cell_type": "code",
   "execution_count": 71,
   "metadata": {},
   "outputs": [
    {
     "data": {
      "text/plain": [
       "0.5381165919282511"
      ]
     },
     "execution_count": 71,
     "metadata": {},
     "output_type": "execute_result"
    }
   ],
   "source": [
    "accuracy_score(df['mode'], predict > 0.5)"
   ]
  },
  {
   "cell_type": "markdown",
   "metadata": {},
   "source": [
    "<p><b>Плюсы accuracy</b></p>\n",
    "\n",
    "- Интерпретируемость, при равных долях классов\n",
    "\n",
    "<p><b>Минусы accuracy</b></p>\n",
    "\n",
    "- При большом дисбалансе классов, не видно улучшения модели\n",
    "- Не оптимизируется напрямую"
   ]
  },
  {
   "cell_type": "markdown",
   "metadata": {},
   "source": [
    "### Roc auc"
   ]
  },
  {
   "cell_type": "markdown",
   "metadata": {},
   "source": [
    "<p>Метрика Roc-auc часто описывается как площадь под кривой ошибок, взглянем на нее поближе.</p>\n",
    "<p>Чтобы построить roc auc необходимо ввести понятия TPR (true positive rate) и FPR (false positive rate)</p>\n",
    "<p><b>True positive rate</b> - количество корректно определенных меток положительно класса, т.е. количество корректно определенных положительных меток на общее количество положительных меток в данных</p>\n",
    "<p><b>False positive rate</b> - количество некорректно определенных меток отрицательного класса, т.е. количество некорректно определенных положительных меток на общее количество отрицательных меток</p>\n",
    "<p>Очевидно что при разных процентах определения границы положительного/отрицательного класса, метрики будут изменятся</p>"
   ]
  },
  {
   "cell_type": "code",
   "execution_count": 102,
   "metadata": {},
   "outputs": [],
   "source": [
    "def false_positive_rate(predict, target, threshold):\n",
    "    labels = (predict >= threshold).astype(np.int32)\n",
    "    fp = labels[(labels == 1) & (target == 0)].shape[0]\n",
    "    tn = labels[(labels == 0) & (target == 0)].shape[0]\n",
    "    return fp/(tn + fp)"
   ]
  },
  {
   "cell_type": "code",
   "execution_count": 103,
   "metadata": {},
   "outputs": [],
   "source": [
    "def true_positive_rate(predict, target, threshold):\n",
    "    labels = (predict >= threshold).astype(np.int32)\n",
    "    tp = labels[(labels == 1) & (target == 1)].shape[0]\n",
    "    fn = labels[(labels == 0) & (target == 1)].shape[0]\n",
    "    return tp/(tp + fn)"
   ]
  },
  {
   "cell_type": "code",
   "execution_count": 96,
   "metadata": {},
   "outputs": [],
   "source": [
    "best_pipeline = Pipeline(\n",
    "    [('features', FeatureUnion(\n",
    "        [\n",
    "        ('album_name', make_pipeline(MeanEncoder(feature_name='album_name', target_name='mode'))),\n",
    "        ('key', make_pipeline(MeanEncoder(feature_name='key', target_name='mode'))),\n",
    "        ('text', make_pipeline(ColumnsSelector('track_name', reshape=True), \n",
    "                               CountVectorizer(ngram_range=(1, 2), min_df=3, max_df=0.5))),\n",
    "        ('number_features', ColumnsSelector(number_cols)),\n",
    "        ])), \n",
    "     ('clf', DecisionTreeClassifier(max_depth=5, random_state=42))\n",
    "])"
   ]
  },
  {
   "cell_type": "code",
   "execution_count": 97,
   "metadata": {},
   "outputs": [],
   "source": [
    "predict = cross_val_predict(best_pipeline, X=df, y=df['mode'], cv=cv, method='predict_proba')[:, 1]"
   ]
  },
  {
   "cell_type": "code",
   "execution_count": 100,
   "metadata": {},
   "outputs": [],
   "source": [
    "thresholds = np.sort(predict)"
   ]
  },
  {
   "cell_type": "code",
   "execution_count": 104,
   "metadata": {},
   "outputs": [],
   "source": [
    "false_positives = [false_positive_rate(predict, df['mode'], t) for t in thresholds]"
   ]
  },
  {
   "cell_type": "code",
   "execution_count": 115,
   "metadata": {},
   "outputs": [
    {
     "data": {
      "image/png": "[encoded data removed]",
      "text/plain": [
       "<Figure size 432x288 with 1 Axes>"
      ]
     },
     "metadata": {
      "needs_background": "light"
     },
     "output_type": "display_data"
    }
   ],
   "source": [
    "plt.plot([t for t in thresholds], false_positives);"
   ]
  },
  {
   "cell_type": "code",
   "execution_count": 107,
   "metadata": {},
   "outputs": [],
   "source": [
    "true_positives = [true_positive_rate(predict, df['mode'], t) for t in thresholds]"
   ]
  },
  {
   "cell_type": "code",
   "execution_count": 114,
   "metadata": {},
   "outputs": [
    {
     "data": {
      "image/png": "[encoded data removed]",
      "text/plain": [
       "<Figure size 432x288 with 1 Axes>"
      ]
     },
     "metadata": {
      "needs_background": "light"
     },
     "output_type": "display_data"
    }
   ],
   "source": [
    "plt.plot([t for t in thresholds], true_positives);"
   ]
  },
  {
   "cell_type": "markdown",
   "metadata": {},
   "source": [
    "<p>график взаимного изменения TPR и FPR называется ROC кривая</p>"
   ]
  },
  {
   "cell_type": "code",
   "execution_count": 113,
   "metadata": {},
   "outputs": [
    {
     "data": {
      "image/png": "[encoded data removed]",
      "text/plain": [
       "<Figure size 432x288 with 1 Axes>"
      ]
     },
     "metadata": {
      "needs_background": "light"
     },
     "output_type": "display_data"
    }
   ],
   "source": [
    "plt.plot(false_positives, true_positives);"
   ]
  },
  {
   "cell_type": "markdown",
   "metadata": {},
   "source": [
    "<p>Площадь под данным графиком и есть метрика ROC AUC</p>\n",
    "<p>Основной baseline для roc auc это 0.5 что соответствует случайным предсказаниям</p>"
   ]
  },
  {
   "cell_type": "code",
   "execution_count": 74,
   "metadata": {},
   "outputs": [
    {
     "data": {
      "text/plain": [
       "0.6298663324979114"
      ]
     },
     "execution_count": 74,
     "metadata": {},
     "output_type": "execute_result"
    }
   ],
   "source": [
    "roc_auc_score(df['mode'], predict)"
   ]
  },
  {
   "cell_type": "markdown",
   "metadata": {},
   "source": [
    "<p>Однако ROC AUC еще можно интерпритировать как долю корректно отсортированных пар меток и данная интерпритация показывает качество классификации независимо от выбора границы разделения классов</p>"
   ]
  },
  {
   "cell_type": "code",
   "execution_count": 75,
   "metadata": {},
   "outputs": [
    {
     "data": {
      "image/png": "[encoded data removed]",
      "text/plain": [
       "<Figure size 432x288 with 1 Axes>"
      ]
     },
     "metadata": {
      "needs_background": "light"
     },
     "output_type": "display_data"
    }
   ],
   "source": [
    "sns.boxplot(predict, df['mode'], orient='h');"
   ]
  },
  {
   "cell_type": "code",
   "execution_count": 76,
   "metadata": {},
   "outputs": [
    {
     "data": {
      "text/plain": [
       "0.6412556053811659"
      ]
     },
     "execution_count": 76,
     "metadata": {},
     "output_type": "execute_result"
    }
   ],
   "source": [
    "accuracy_score(df['mode'], predict > 0.4)"
   ]
  },
  {
   "cell_type": "markdown",
   "metadata": {},
   "source": [
    "<p>F1 score это метрика балансирующая точность на метках определения различных классов и равна среднему гармоническому между recall и precision</p>\n",
    "\n",
    "<p><center>$\\large{F1 = \\frac{2 * precision * recall}{precision + recall}}$</center></p>\n",
    "\n",
    "<p><b>Precision</b> - количество корректно определенных меток положительного класса, среди всех предсказаний положительного класса</p>\n",
    "<p><b>Recall</b> - по факту тоже самое что и true positive rate</p>"
   ]
  },
  {
   "cell_type": "code",
   "execution_count": 77,
   "metadata": {},
   "outputs": [
    {
     "data": {
      "text/plain": [
       "0.6920152091254752"
      ]
     },
     "execution_count": 77,
     "metadata": {},
     "output_type": "execute_result"
    }
   ],
   "source": [
    "f1_score(df['mode'], predict > 0.5)"
   ]
  },
  {
   "cell_type": "code",
   "execution_count": 78,
   "metadata": {},
   "outputs": [
    {
     "data": {
      "text/plain": [
       "5.007976207012497"
      ]
     },
     "execution_count": 78,
     "metadata": {},
     "output_type": "execute_result"
    }
   ],
   "source": [
    "log_loss(df['mode'], predict)"
   ]
  },
  {
   "cell_type": "markdown",
   "metadata": {},
   "source": [
    "## Regression"
   ]
  },
  {
   "cell_type": "code",
   "execution_count": 79,
   "metadata": {},
   "outputs": [],
   "source": [
    "number_cols = number_cols[:-1]"
   ]
  },
  {
   "cell_type": "code",
   "execution_count": 116,
   "metadata": {},
   "outputs": [],
   "source": [
    "best_pipeline = pipeline = Pipeline(\n",
    "    [('features', FeatureUnion(\n",
    "        [\n",
    "        ('album_name', make_pipeline(ColumnsSelector(['album_name']), OneHotEncoder(handle_unknown='ignore'))),\n",
    "        ('key', make_pipeline(ColumnsSelector(['key']), OneHotEncoder(handle_unknown='ignore'))),\n",
    "        ('text', make_pipeline(ColumnsSelector('track_name', reshape=True), \n",
    "                               CountVectorizer(ngram_range=(1, 2), min_df=3, max_df=0.5))),\n",
    "        ('number_features', ColumnsSelector(number_cols)),\n",
    "        ])), \n",
    "     ('clf', DecisionTreeRegressor(max_depth=5, random_state=42))\n",
    "])"
   ]
  },
  {
   "cell_type": "code",
   "execution_count": 117,
   "metadata": {},
   "outputs": [],
   "source": [
    "predict = cross_val_predict(best_pipeline, X=df, y=df['track_popularity'], cv=cv, method='predict')"
   ]
  },
  {
   "cell_type": "code",
   "execution_count": 118,
   "metadata": {},
   "outputs": [
    {
     "data": {
      "text/plain": [
       "22.94170403587444"
      ]
     },
     "execution_count": 118,
     "metadata": {},
     "output_type": "execute_result"
    }
   ],
   "source": [
    "df['track_popularity'].mean()"
   ]
  },
  {
   "cell_type": "markdown",
   "metadata": {},
   "source": [
    "### MSE"
   ]
  },
  {
   "cell_type": "markdown",
   "metadata": {},
   "source": [
    "<p>Mean squared error - среднее квадратов ошибок на таргете, данная метрика часто является так же и тем функционалом который оптимизируется при решении задач, с этим и связана ее популярность</p>\n",
    "\n",
    "<p><center>$\\large{MSE = \\frac{1}{N}\\sum_{i=1}^{N}{(y_{i}^{pred} - y_{i}^{true})^2}}$</center></p>"
   ]
  },
  {
   "cell_type": "code",
   "execution_count": 83,
   "metadata": {},
   "outputs": [
    {
     "data": {
      "text/plain": [
       "45.749698097079374"
      ]
     },
     "execution_count": 83,
     "metadata": {},
     "output_type": "execute_result"
    }
   ],
   "source": [
    "mean_squared_error(df['track_popularity'], predict)"
   ]
  },
  {
   "cell_type": "markdown",
   "metadata": {},
   "source": [
    "<p>Основная проблема MSE в том что она плохо интепретируется, поскольку это квадрат ошибки и имеет иной масштаб чем таргет</p>\n",
    "<p>Чтобы превести ошибку в такую же шкалу как и наш таргет используют RMSE - который является просто корнем из MSE</p>\n",
    "<p><center>$\\large{RMSE = \\sqrt{MSE}}$</center></p>"
   ]
  },
  {
   "cell_type": "code",
   "execution_count": 84,
   "metadata": {},
   "outputs": [
    {
     "data": {
      "text/plain": [
       "6.763852311891455"
      ]
     },
     "execution_count": 84,
     "metadata": {},
     "output_type": "execute_result"
    }
   ],
   "source": [
    "np.sqrt(mean_squared_error(df['track_popularity'], predict))"
   ]
  },
  {
   "cell_type": "code",
   "execution_count": 124,
   "metadata": {},
   "outputs": [],
   "source": [
    "idx = np.argsort((df['track_popularity'].values - predict))"
   ]
  },
  {
   "cell_type": "code",
   "execution_count": 125,
   "metadata": {},
   "outputs": [
    {
     "data": {
      "image/png": "[encoded data removed]",
      "text/plain": [
       "<Figure size 432x288 with 1 Axes>"
      ]
     },
     "metadata": {
      "needs_background": "light"
     },
     "output_type": "display_data"
    }
   ],
   "source": [
    "plt.plot((df['track_popularity'].values - predict)[idx], ((df['track_popularity'].values - predict)**2)[idx]);"
   ]
  },
  {
   "cell_type": "markdown",
   "metadata": {},
   "source": [
    "<p>Как видно на графике вклад в MSE растет сильно быстрее чем сама ошибка, поэтому при оптимизации MSE мы стремимся убрать количество ошибочно определенных величин с большими значениями, вместо оптимизации в среднем</p>"
   ]
  },
  {
   "cell_type": "markdown",
   "metadata": {},
   "source": [
    "### MAE"
   ]
  },
  {
   "cell_type": "markdown",
   "metadata": {},
   "source": [
    "<p>MAE - это среднее абсолютной ошибки на данных, в отличии от MSE, МAE не оптимизируется напрямую, однако из-за того что MAE убирает квадратичную разницу, при его оптимизации мы будем оптимизировать функционал в среднем</p>\n",
    "<p><center>$\\large{MAE = \\frac{1}{N}\\sum_{i=1}^{N}{|y_{i}^{pred} - y_{i}^{true}|}}$</center></p>"
   ]
  },
  {
   "cell_type": "code",
   "execution_count": 85,
   "metadata": {},
   "outputs": [
    {
     "data": {
      "text/plain": [
       "4.733458548220106"
      ]
     },
     "execution_count": 85,
     "metadata": {},
     "output_type": "execute_result"
    }
   ],
   "source": [
    "mean_absolute_error(df['track_popularity'], predict)"
   ]
  },
  {
   "cell_type": "code",
   "execution_count": 126,
   "metadata": {},
   "outputs": [
    {
     "data": {
      "image/png": "[encoded data removed]",
      "text/plain": [
       "<Figure size 432x288 with 1 Axes>"
      ]
     },
     "metadata": {
      "needs_background": "light"
     },
     "output_type": "display_data"
    }
   ],
   "source": [
    "plt.plot((df['track_popularity'].values - predict)[idx], np.abs(df['track_popularity'].values - predict)[idx]);"
   ]
  },
  {
   "cell_type": "markdown",
   "metadata": {},
   "source": [
    "<p><b>Baseline MSE</b> - среднее таргета</p>\n",
    "<p><b>Baseline MAE</b> - медиана таргета</p>\n",
    "<p>MAE - метрика гораздо более устойчивая к выбросам</p>"
   ]
  },
  {
   "cell_type": "markdown",
   "metadata": {},
   "source": [
    "### R2"
   ]
  },
  {
   "cell_type": "markdown",
   "metadata": {},
   "source": [
    "<p>R2 - метрика которая показывает долю объясненной дисперсии модели</p>\n",
    "<p>Это хорошо тем что R2 устойчив к масштабу таргета, в отличии от MSE и MAE для которых 10 является хорошим показателем если среднее таргета 1000 и плохим если среднее 2</p>\n",
    "<p><center>$\\large{R2 = 1 - \\frac{MSE}{\\frac{1}{N}\\sum_{i=1}^{N}{(y^{mean} - y_{i}^{true})^2}}}$</center></p>"
   ]
  },
  {
   "cell_type": "code",
   "execution_count": 86,
   "metadata": {},
   "outputs": [
    {
     "data": {
      "text/plain": [
       "0.548860288712526"
      ]
     },
     "execution_count": 86,
     "metadata": {},
     "output_type": "execute_result"
    }
   ],
   "source": [
    "r2_score(df['track_popularity'], predict)"
   ]
  },
  {
   "cell_type": "markdown",
   "metadata": {},
   "source": [
    "### MSLE"
   ]
  },
  {
   "cell_type": "markdown",
   "metadata": {},
   "source": [
    "<p>Еще одним способом убрать большое влияние выбросов на метрику является MSLE</p>\n",
    "<p>MSLE - это средний квадрат ошибок логарифмов предсказаний и таргета</p>\n",
    "\n",
    "<p><center>$\\large{MSLE = \\frac{1}{N}\\sum_{i=1}^{N}{(\\log{y_{i}^{pred}} - \\log{y_{i}^{true}})^2}}$</center></p>"
   ]
  },
  {
   "cell_type": "code",
   "execution_count": 87,
   "metadata": {},
   "outputs": [
    {
     "data": {
      "text/plain": [
       "0.19123003540226485"
      ]
     },
     "execution_count": 87,
     "metadata": {},
     "output_type": "execute_result"
    }
   ],
   "source": [
    "mean_squared_log_error(df['track_popularity'], predict)"
   ]
  }
 ],
 "metadata": {
  "kernelspec": {
   "display_name": "Python 3",
   "language": "python",
   "name": "python3"
  },
  "language_info": {
   "codemirror_mode": {
    "name": "ipython",
    "version": 3
   },
   "file_extension": ".py",
   "mimetype": "text/x-python",
   "name": "python",
   "nbconvert_exporter": "python",
   "pygments_lexer": "ipython3",
   "version": "3.6.8"
  }
 },
 "nbformat": 4,
 "nbformat_minor": 2
}
