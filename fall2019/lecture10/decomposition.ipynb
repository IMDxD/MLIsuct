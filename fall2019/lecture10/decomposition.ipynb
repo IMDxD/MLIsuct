{
 "cells": [
  {
   "cell_type": "code",
   "execution_count": 1,
   "metadata": {},
   "outputs": [],
   "source": [
    "import numpy as np\n",
    "import pandas as pd\n",
    "from sklearn.datasets import load_breast_cancer\n",
    "from sklearn.decomposition import PCA, TruncatedSVD\n",
    "from sklearn.preprocessing import StandardScaler\n",
    "from sklearn.pipeline import Pipeline\n",
    "from sklearn.linear_model import LogisticRegression\n",
    "from sklearn.model_selection import cross_val_score\n",
    "import matplotlib.pyplot as plt\n",
    "%matplotlib inline"
   ]
  },
  {
   "cell_type": "code",
   "execution_count": 2,
   "metadata": {},
   "outputs": [],
   "source": [
    "data = load_breast_cancer()"
   ]
  },
  {
   "cell_type": "code",
   "execution_count": 3,
   "metadata": {},
   "outputs": [
    {
     "data": {
      "text/plain": [
       "(569, 30)"
      ]
     },
     "execution_count": 3,
     "metadata": {},
     "output_type": "execute_result"
    }
   ],
   "source": [
    "data['data'].shape"
   ]
  },
  {
   "cell_type": "code",
   "execution_count": 4,
   "metadata": {},
   "outputs": [],
   "source": [
    "x = data['data']\n",
    "y = data['target']"
   ]
  },
  {
   "cell_type": "code",
   "execution_count": 5,
   "metadata": {},
   "outputs": [],
   "source": [
    "pipe = Pipeline([('sc', StandardScaler()), ('est', LogisticRegression(solver='lbfgs'))])"
   ]
  },
  {
   "cell_type": "code",
   "execution_count": 6,
   "metadata": {},
   "outputs": [
    {
     "data": {
      "text/plain": [
       "0.9951706362204232"
      ]
     },
     "execution_count": 6,
     "metadata": {},
     "output_type": "execute_result"
    }
   ],
   "source": [
    "cross_val_score(pipe, x, y, cv=5, scoring='roc_auc').mean()"
   ]
  },
  {
   "cell_type": "code",
   "execution_count": 7,
   "metadata": {},
   "outputs": [],
   "source": [
    "pca = PCA(n_components=0.98)"
   ]
  },
  {
   "cell_type": "code",
   "execution_count": 8,
   "metadata": {},
   "outputs": [],
   "source": [
    "scaler = StandardScaler()"
   ]
  },
  {
   "cell_type": "code",
   "execution_count": 9,
   "metadata": {},
   "outputs": [],
   "source": [
    "x_pca = pca.fit_transform(scaler.fit_transform(x))"
   ]
  },
  {
   "cell_type": "code",
   "execution_count": 10,
   "metadata": {},
   "outputs": [
    {
     "data": {
      "text/plain": [
       "(569, 14)"
      ]
     },
     "execution_count": 10,
     "metadata": {},
     "output_type": "execute_result"
    }
   ],
   "source": [
    "x_pca.shape"
   ]
  },
  {
   "cell_type": "code",
   "execution_count": 11,
   "metadata": {},
   "outputs": [
    {
     "data": {
      "text/plain": [
       "0.9947110310441459"
      ]
     },
     "execution_count": 11,
     "metadata": {},
     "output_type": "execute_result"
    }
   ],
   "source": [
    "cross_val_score(LogisticRegression(solver='lbfgs'), x_pca, y, cv=5, scoring='roc_auc').mean()"
   ]
  },
  {
   "cell_type": "markdown",
   "metadata": {},
   "source": [
    "# SVD"
   ]
  },
  {
   "cell_type": "markdown",
   "metadata": {},
   "source": [
    "<p><b>Сингулярное разложение</b> — определённого типа разложение прямоугольной матрицы. Имеющее широкое применение, в силу своей наглядной геометрической интерпретации, при решении многих прикладных задач.</p>\n",
    "<p><center>$$\\large{M = U\\Sigma V^*}$$</center></p>\n",
    "\n",
    "- $\\large{\\Sigma}$ - матрица размера $\\large{m \\times n}$, у которой на главной диагонали лежат сингулярные числа, а остальные элементы нулевые\n",
    "- матрицы $\\large{U}$ (порядка m) и $\\large{V}$ (порядка n) — это две унитарные матрицы, состоящие из левых и правых сингулярных векторов соответственно (а $\\large{V^*}$ — это сопряжённо-транспонированная матрица к $\\large{V}$)."
   ]
  },
  {
   "cell_type": "markdown",
   "metadata": {},
   "source": [
    "## Приближение матрицей меньшего ранга\n",
    "\n",
    "<p>В некоторых практических задачах требуется приближать заданную матрицу $\\large{M}$ некоторой другой матрицей $\\large{M_{k}}$ с заранее заданным рангом $\\large{k}$.</p>\n",
    "\n",
    "Если потребовать, чтобы такое приближение было наилучшим, то оказывается, что наилучшая такая матрица $\\large{M_{k}}$ получается из сингулярного разложения матрицы $\\large{M}$ по формуле:\n",
    "\n",
    "<p><center>$$\\large{M_{k}=U\\Sigma _{k}V^{*}}$$</center></p>\n",
    "\n",
    "- где $\\large{\\Sigma_{k}}$ — матрица $\\large{\\Sigma}$, в которой заменили нулями все диагональные элементы, кроме $\\large{k}$ наибольших элементов.\n",
    "\n",
    "<p>Если элементы матрицы $\\large{\\Sigma}$  упорядочены по невозрастанию, то выражение для матрицы $\\large{M_{k}}$ можно переписать в такой форме:</p>\n",
    "\n",
    "<p><center>$$\\large{M_{k}=U_k\\Sigma _{k}V_k^{*}}$$</center></p>\n",
    "\n",
    "- где матрицы $\\large{U_{k}}$, $\\large{\\Sigma _{k}}$ и $\\large{V_{k}}$ получаются из соответствующих матриц в сингулярном разложении матрицы $\\large{M}$ обрезанием до ровно $\\large{k}$ первых столбцов.\n",
    "\n",
    "Таким образом видно, что приближая матрицу $\\large{M}$ матрицей меньшего ранга, мы выполняем своего рода сжатие информации, содержащейся в $\\large{M}$: матрица $\\large{M}$ размера $\\large{m\\times n}$ заменяется меньшими матрицами размеров $\\large{m\\times k}$ и $\\large{k\\times n}$ и диагональной матрицей с $\\large{k}$ элементами. При этом сжатие происходит с потерями — в приближении сохраняется лишь наиболее существенная часть матрицы $\\large{M}$.\n",
    "\n",
    "Во многом благодаря этому свойству сингулярное разложение и находит широкое практическое применение: в сжатии данных, обработке сигналов, численных итерационных методах для работы с матрицами, методе главных компонент, латентно-семантическом анализе и прочих областях."
   ]
  },
  {
   "cell_type": "code",
   "execution_count": 12,
   "metadata": {},
   "outputs": [
    {
     "data": {
      "image/png": "[encoded data removed]",
      "text/plain": [
       "<Figure size 864x720 with 1 Axes>"
      ]
     },
     "metadata": {
      "needs_background": "light"
     },
     "output_type": "display_data"
    }
   ],
   "source": [
    "plt.figure(figsize=(12, 10));\n",
    "plt.plot(np.arange(1, pca.explained_variance_ratio_.shape[0] + 1), pca.explained_variance_ratio_.cumsum());\n",
    "plt.grid(True);"
   ]
  },
  {
   "cell_type": "code",
   "execution_count": 13,
   "metadata": {},
   "outputs": [],
   "source": [
    "svd = TruncatedSVD(n_components=10)"
   ]
  },
  {
   "cell_type": "code",
   "execution_count": 14,
   "metadata": {},
   "outputs": [],
   "source": [
    "x_svd = svd.fit_transform(scaler.fit_transform(x))"
   ]
  },
  {
   "cell_type": "code",
   "execution_count": 15,
   "metadata": {},
   "outputs": [
    {
     "data": {
      "text/plain": [
       "(569, 10)"
      ]
     },
     "execution_count": 15,
     "metadata": {},
     "output_type": "execute_result"
    }
   ],
   "source": [
    "x_svd.shape"
   ]
  },
  {
   "cell_type": "code",
   "execution_count": 16,
   "metadata": {},
   "outputs": [
    {
     "data": {
      "text/plain": [
       "0.995158288230676"
      ]
     },
     "execution_count": 16,
     "metadata": {},
     "output_type": "execute_result"
    }
   ],
   "source": [
    "cross_val_score(LogisticRegression(solver='lbfgs'), x_svd, y, cv=5, scoring='roc_auc').mean()"
   ]
  },
  {
   "cell_type": "code",
   "execution_count": 17,
   "metadata": {},
   "outputs": [
    {
     "data": {
      "image/png": "[encoded data removed]",
      "text/plain": [
       "<Figure size 864x720 with 1 Axes>"
      ]
     },
     "metadata": {
      "needs_background": "light"
     },
     "output_type": "display_data"
    }
   ],
   "source": [
    "plt.figure(figsize=(12, 10));\n",
    "plt.plot(np.arange(1, svd.explained_variance_ratio_.shape[0] + 1), svd.explained_variance_ratio_.cumsum());\n",
    "plt.grid(True);"
   ]
  },
  {
   "cell_type": "code",
   "execution_count": null,
   "metadata": {},
   "outputs": [],
   "source": []
  }
 ],
 "metadata": {
  "kernelspec": {
   "display_name": "Python 3",
   "language": "python",
   "name": "python3"
  },
  "language_info": {
   "codemirror_mode": {
    "name": "ipython",
    "version": 3
   },
   "file_extension": ".py",
   "mimetype": "text/x-python",
   "name": "python",
   "nbconvert_exporter": "python",
   "pygments_lexer": "ipython3",
   "version": "3.6.8"
  }
 },
 "nbformat": 4,
 "nbformat_minor": 2
}
