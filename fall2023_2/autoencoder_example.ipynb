{
 "cells": [
  {
   "cell_type": "code",
   "execution_count": 1,
   "id": "a48f7c48-c44c-4aca-a7d7-a15736e5eb11",
   "metadata": {},
   "outputs": [],
   "source": [
    "import numpy as np\n",
    "import matplotlib.pyplot as plt\n",
    "import torch\n",
    "import torch.nn as nn\n",
    "import torch.nn.functional as F\n",
    "import torch.nn.init as nn_init\n",
    "import torch.optim as optim\n",
    "from torch.utils.tensorboard import SummaryWriter\n",
    "from torch.utils.data import Dataset, DataLoader\n",
    "from torch.optim.lr_scheduler import StepLR\n",
    "from torchvision.datasets import MNIST"
   ]
  },
  {
   "cell_type": "code",
   "execution_count": 2,
   "id": "03b6f3ab-6fad-478f-be4a-3c5041b25494",
   "metadata": {},
   "outputs": [],
   "source": [
    "train_data = MNIST(\"data/MNIST\", download=True)\n",
    "test_data = MNIST(\"data/MNIST\", train=False, download=True)"
   ]
  },
  {
   "cell_type": "code",
   "execution_count": 3,
   "id": "ba438f81-0c4d-4275-9a0a-eb3db0eda901",
   "metadata": {},
   "outputs": [],
   "source": [
    "class MNISTDataset(Dataset):\n",
    "    \n",
    "    def __init__(self, dataset):\n",
    "        self.data = dataset\n",
    "    \n",
    "    def __len__(self):\n",
    "        return len(self.data)\n",
    "    \n",
    "    def __getitem__(self, index):\n",
    "        pil_image, label = self.data[index]\n",
    "        image_array = np.array(pil_image)\n",
    "        image_flatten = image_array.flatten() / 255\n",
    "        return image_flatten.astype(np.float32), label"
   ]
  },
  {
   "cell_type": "code",
   "execution_count": 4,
   "id": "3cde5144-ff86-4885-b6b1-3d3d1377c5bc",
   "metadata": {},
   "outputs": [],
   "source": [
    "train_dataset = MNISTDataset(train_data)\n",
    "test_dataset = MNISTDataset(test_data)"
   ]
  },
  {
   "cell_type": "code",
   "execution_count": 5,
   "id": "554a25b7-2a5d-4327-aa15-284a283612a8",
   "metadata": {},
   "outputs": [],
   "source": [
    "class Encoder(nn.Module):\n",
    "    \n",
    "    def __init__(self, input_size):\n",
    "        super().__init__()\n",
    "        self.lr1 = nn.Linear(in_features=input_size, out_features=512)\n",
    "        self.bn1 = nn.BatchNorm1d(512)\n",
    "        \n",
    "        self.lr2 = nn.Linear(in_features=512, out_features=256)\n",
    "        self.bn2 = nn.BatchNorm1d(256)\n",
    "        \n",
    "        self.lr3 = nn.Linear(in_features=256, out_features=128, bias=False)\n",
    "        \n",
    "    def forward(self, x):\n",
    "        x = F.relu(self.bn1(self.lr1(x)))\n",
    "        x = F.relu(self.bn2(self.lr2(x)))\n",
    "        return self.lr3(x)"
   ]
  },
  {
   "cell_type": "code",
   "execution_count": 6,
   "id": "4a929565-eba9-4c89-9889-c3d8ca9006f2",
   "metadata": {},
   "outputs": [],
   "source": [
    "class Decoder(nn.Module):\n",
    "    \n",
    "    def __init__(self, out_size):\n",
    "        super().__init__()\n",
    "        self.lr1 = nn.Linear(in_features=128, out_features=256)\n",
    "        self.bn1 = nn.BatchNorm1d(256)\n",
    "        \n",
    "        self.lr2 = nn.Linear(in_features=256, out_features=512)\n",
    "        self.bn2 = nn.BatchNorm1d(512)\n",
    "        \n",
    "        self.lr3 = nn.Linear(in_features=512, out_features=out_size, bias=False)\n",
    "        self.label_emb = nn.Embedding(10, 128)\n",
    "        \n",
    "    def forward(self, x, label):\n",
    "        label_emb = self.label_emb(label)\n",
    "        x = F.relu(self.bn1(self.lr1(x + label_emb)))\n",
    "        x = F.relu(self.bn2(self.lr2(x)))\n",
    "        return self.lr3(x)"
   ]
  },
  {
   "cell_type": "code",
   "execution_count": 7,
   "id": "7b4d35ba-0bc5-4c43-bdfd-a3a0f060fb52",
   "metadata": {},
   "outputs": [],
   "source": [
    "class AutoEncoder(nn.Module):\n",
    "    \n",
    "    def __init__(self, vector_size):\n",
    "        super().__init__()\n",
    "        self.encoder = Encoder(vector_size)\n",
    "        self.decoder = Decoder(vector_size)\n",
    "        \n",
    "    def forward(self, x, label):\n",
    "        x = self.encoder(x)\n",
    "        x = self.decoder(x, label)\n",
    "        return x"
   ]
  },
  {
   "cell_type": "code",
   "execution_count": 8,
   "id": "98715730-a087-4726-950a-97ec6c11f0ea",
   "metadata": {},
   "outputs": [],
   "source": [
    "N_INPUT = np.array(train_data[0][0]).size\n",
    "BATCH_SIZE = 64\n",
    "EPOCH = 20"
   ]
  },
  {
   "cell_type": "code",
   "execution_count": 9,
   "id": "65cef472-65a4-4b22-9318-b6401312474e",
   "metadata": {},
   "outputs": [],
   "source": [
    "model = AutoEncoder(N_INPUT)"
   ]
  },
  {
   "cell_type": "code",
   "execution_count": 10,
   "id": "c8d4ec09-18d2-4ff5-a55f-91caf5f38ef2",
   "metadata": {},
   "outputs": [],
   "source": [
    "train_loader = DataLoader(train_dataset, batch_size=BATCH_SIZE, shuffle=True)\n",
    "test_loader = DataLoader(test_dataset, batch_size=BATCH_SIZE)"
   ]
  },
  {
   "cell_type": "code",
   "execution_count": 11,
   "id": "d110a791-6e67-497c-ba1e-b973a706dac2",
   "metadata": {},
   "outputs": [],
   "source": [
    "torch.manual_seed(42)\n",
    "\n",
    "for name, parameter in model.named_parameters():\n",
    "    if \"weight\" in name and \"lr\" in name:\n",
    "        nn_init.xavier_normal_(parameter)"
   ]
  },
  {
   "cell_type": "code",
   "execution_count": 12,
   "id": "30d32ada-bf1f-4cbe-b2da-9e736bd3a1c2",
   "metadata": {},
   "outputs": [],
   "source": [
    "optimizer = optim.SGD(model.parameters(), lr=1e-1, weight_decay=1e-5)\n",
    "scheduler = StepLR(optimizer, step_size=5000, gamma=0.5)"
   ]
  },
  {
   "cell_type": "code",
   "execution_count": 13,
   "id": "932a11b2-92c6-4f6b-8f07-1f75196809a3",
   "metadata": {},
   "outputs": [],
   "source": [
    "criteria = nn.MSELoss()"
   ]
  },
  {
   "cell_type": "code",
   "execution_count": 14,
   "id": "e3ad6eef-219a-4229-918b-65b4de684b30",
   "metadata": {},
   "outputs": [],
   "source": [
    "model.cuda();"
   ]
  },
  {
   "cell_type": "code",
   "execution_count": 15,
   "id": "2b9d3874-26d9-4a5a-bd9d-187bbe96c05b",
   "metadata": {},
   "outputs": [],
   "source": [
    "writer = SummaryWriter(log_dir=\"logs/mnist_generation/\")"
   ]
  },
  {
   "cell_type": "code",
   "execution_count": 16,
   "id": "1d814fd5-358d-4e7b-acfc-abb13b277e29",
   "metadata": {},
   "outputs": [],
   "source": [
    "%load_ext tensorboard"
   ]
  },
  {
   "cell_type": "code",
   "execution_count": 17,
   "id": "0499f1bd-cef7-4ae1-85cb-20afd7ba0f51",
   "metadata": {},
   "outputs": [
    {
     "data": {
      "text/html": [
       "\n",
       "      <iframe id=\"tensorboard-frame-30290c1bb49f15\" width=\"100%\" height=\"800\" frameborder=\"0\">\n",
       "      </iframe>\n",
       "      <script>\n",
       "        (function() {\n",
       "          const frame = document.getElementById(\"tensorboard-frame-30290c1bb49f15\");\n",
       "          const url = new URL(\"/\", window.location);\n",
       "          const port = 6006;\n",
       "          if (port) {\n",
       "            url.port = port;\n",
       "          }\n",
       "          frame.src = url;\n",
       "        })();\n",
       "      </script>\n",
       "    "
      ],
      "text/plain": [
       "<IPython.core.display.HTML object>"
      ]
     },
     "metadata": {},
     "output_type": "display_data"
    }
   ],
   "source": [
    "%tensorboard --logdir logs/mnist_generation"
   ]
  },
  {
   "cell_type": "code",
   "execution_count": 18,
   "id": "1eef3be8-d560-43b6-8dbd-b711afce7afb",
   "metadata": {},
   "outputs": [],
   "source": [
    "for epoch in range(EPOCH):\n",
    "    model.train()\n",
    "    for i, (x, y) in enumerate(train_loader):\n",
    "        x = x.cuda()\n",
    "        y = y.cuda()\n",
    "        optimizer.zero_grad()\n",
    "        out = model(x, y)\n",
    "        loss = criteria(out, x)\n",
    "        loss.backward()\n",
    "        optimizer.step()\n",
    "        if (i + 1) % 400 == 0:\n",
    "            global_iteration = epoch * len(train_loader) + i\n",
    "            writer.add_scalar(\"train/loss\", loss.item(), global_step=global_iteration)\n",
    "        scheduler.step()"
   ]
  },
  {
   "cell_type": "code",
   "execution_count": 19,
   "id": "e5d5e6c7-6e77-4b76-bf39-4f2e0a028f40",
   "metadata": {},
   "outputs": [],
   "source": [
    "decoder = model.decoder"
   ]
  },
  {
   "cell_type": "code",
   "execution_count": 20,
   "id": "6f998778-0183-47dc-9e84-5a5e50b7e198",
   "metadata": {},
   "outputs": [
    {
     "data": {
      "text/plain": [
       "Decoder(\n",
       "  (lr1): Linear(in_features=128, out_features=256, bias=True)\n",
       "  (bn1): BatchNorm1d(256, eps=1e-05, momentum=0.1, affine=True, track_running_stats=True)\n",
       "  (lr2): Linear(in_features=256, out_features=512, bias=True)\n",
       "  (bn2): BatchNorm1d(512, eps=1e-05, momentum=0.1, affine=True, track_running_stats=True)\n",
       "  (lr3): Linear(in_features=512, out_features=784, bias=False)\n",
       "  (label_emb): Embedding(10, 128)\n",
       ")"
      ]
     },
     "execution_count": 20,
     "metadata": {},
     "output_type": "execute_result"
    }
   ],
   "source": [
    "decoder.eval()"
   ]
  },
  {
   "cell_type": "code",
   "execution_count": 47,
   "id": "52535099-7e61-4264-a734-748dfa9055c6",
   "metadata": {},
   "outputs": [],
   "source": [
    "z = torch.normal(0, 5, (128,)).unsqueeze(0).cuda()"
   ]
  },
  {
   "cell_type": "code",
   "execution_count": null,
   "id": "6b394b5d-9d00-4d9c-b9de-35265140365f",
   "metadata": {},
   "outputs": [],
   "source": [
    "generated_image = decoder(z, torch.LongTensor([0]).cuda())"
   ]
  },
  {
   "cell_type": "code",
   "execution_count": 43,
   "id": "4ad3233b-2cb9-4438-9e79-a79b7805eb73",
   "metadata": {},
   "outputs": [],
   "source": [
    "generated_image = np.clip(generated_image.detach().cpu().numpy() * 255, 0, 255).reshape(28, 28).astype(int)"
   ]
  },
  {
   "cell_type": "code",
   "execution_count": 44,
   "id": "cd438a7e-9799-4ba6-923a-08eb70b25dd5",
   "metadata": {},
   "outputs": [
    {
     "data": {
      "text/plain": [
       "<matplotlib.image.AxesImage at 0x7f8170c7cd60>"
      ]
     },
     "execution_count": 44,
     "metadata": {},
     "output_type": "execute_result"
    },
    {
     "data": {
      "image/png": "[encoded data removed]",
      "text/plain": [
       "<Figure size 432x288 with 1 Axes>"
      ]
     },
     "metadata": {
      "needs_background": "light"
     },
     "output_type": "display_data"
    }
   ],
   "source": [
    "plt.imshow(generated_image, cmap=\"gray\")"
   ]
  },
  {
   "cell_type": "code",
   "execution_count": null,
   "id": "c3e1f603-6225-4f7d-9558-9c5d738289cb",
   "metadata": {},
   "outputs": [],
   "source": []
  }
 ],
 "metadata": {
  "kernelspec": {
   "display_name": "Python 3 (ipykernel)",
   "language": "python",
   "name": "python3"
  },
  "language_info": {
   "codemirror_mode": {
    "name": "ipython",
    "version": 3
   },
   "file_extension": ".py",
   "mimetype": "text/x-python",
   "name": "python",
   "nbconvert_exporter": "python",
   "pygments_lexer": "ipython3",
   "version": "3.8.12"
  }
 },
 "nbformat": 4,
 "nbformat_minor": 5
}
