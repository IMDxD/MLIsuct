{
 "cells": [
  {
   "cell_type": "code",
   "execution_count": 1,
   "id": "859de540-84a9-455c-9f7c-a9188a9e3e27",
   "metadata": {},
   "outputs": [],
   "source": [
    "%load_ext tensorboard"
   ]
  },
  {
   "cell_type": "code",
   "execution_count": 2,
   "id": "c889f02f-110e-45f5-97b6-a8b45c050478",
   "metadata": {},
   "outputs": [],
   "source": [
    "import numpy as np\n",
    "import matplotlib.pyplot as plt\n",
    "import torch\n",
    "import torch.nn as nn\n",
    "import torch.nn.init as nn_init\n",
    "import torch.optim as optim\n",
    "from torch.utils.tensorboard import SummaryWriter\n",
    "from torch.utils.data import Dataset, DataLoader\n",
    "from torch.optim.lr_scheduler import CosineAnnealingLR\n",
    "from torchvision.datasets import MNIST"
   ]
  },
  {
   "cell_type": "code",
   "execution_count": 3,
   "id": "da9b58cb-8aa1-437d-a047-45466c3215b2",
   "metadata": {},
   "outputs": [],
   "source": [
    "train_data = MNIST(\"data/MNIST\", download=True)\n",
    "test_data = MNIST(\"data/MNIST\", train=False, download=True)"
   ]
  },
  {
   "cell_type": "code",
   "execution_count": 4,
   "id": "2d6a7a79-c56b-4d21-b47e-20012ac35ea7",
   "metadata": {},
   "outputs": [
    {
     "data": {
      "text/plain": [
       "(<PIL.Image.Image image mode=L size=28x28 at 0x7F3B280F0400>, 5)"
      ]
     },
     "execution_count": 4,
     "metadata": {},
     "output_type": "execute_result"
    }
   ],
   "source": [
    "train_data[0]"
   ]
  },
  {
   "cell_type": "code",
   "execution_count": 5,
   "id": "45fe55b3-a197-46ae-8103-778d08d12b59",
   "metadata": {},
   "outputs": [
    {
     "data": {
      "image/png": "[encoded data removed]",
      "text/plain": [
       "<PIL.Image.Image image mode=L size=28x28 at 0x7F3A5DFFA460>"
      ]
     },
     "execution_count": 5,
     "metadata": {},
     "output_type": "execute_result"
    }
   ],
   "source": [
    "train_data[0][0]"
   ]
  },
  {
   "cell_type": "code",
   "execution_count": 6,
   "id": "dbc94dc2-b32c-43c9-ba21-a351da5cc69e",
   "metadata": {},
   "outputs": [
    {
     "data": {
      "text/plain": [
       "60000"
      ]
     },
     "execution_count": 6,
     "metadata": {},
     "output_type": "execute_result"
    }
   ],
   "source": [
    "len(train_data)"
   ]
  },
  {
   "cell_type": "code",
   "execution_count": 7,
   "id": "1015b111-4987-418a-b89e-74969a0d9705",
   "metadata": {},
   "outputs": [],
   "source": [
    "class MNISTDataset(Dataset):\n",
    "    \n",
    "    def __init__(self, dataset):\n",
    "        self.data = dataset\n",
    "    \n",
    "    def __len__(self):\n",
    "        return len(self.data)\n",
    "    \n",
    "    def __getitem__(self, index):\n",
    "        pil_image, label = self.data[index]\n",
    "        image_array = np.array(pil_image)\n",
    "        image_flatten = image_array.flatten() / 255\n",
    "        return image_flatten.astype(np.float32), label"
   ]
  },
  {
   "cell_type": "code",
   "execution_count": 8,
   "id": "59da31e4-ae48-42f5-8eda-a1c62004ce02",
   "metadata": {},
   "outputs": [],
   "source": [
    "train_dataset = MNISTDataset(train_data)\n",
    "test_dataset = MNISTDataset(test_data)"
   ]
  },
  {
   "cell_type": "code",
   "execution_count": 9,
   "id": "db63a7df-8e92-4dcc-94c5-514bb4f1a6cc",
   "metadata": {},
   "outputs": [],
   "source": [
    "class Model(nn.Module):\n",
    "    \n",
    "    def __init__(self, n_input, n_classes):\n",
    "        super().__init__()\n",
    "        self.fc1 = nn.Linear(n_input, 128)\n",
    "        self.relu = nn.ReLU()\n",
    "        self.fc2 = nn.Linear(128, n_classes)\n",
    "        \n",
    "    def forward(self, x):\n",
    "        x = self.fc1(x)\n",
    "        x = self.relu(x)\n",
    "        x = self.fc2(x)\n",
    "        return x"
   ]
  },
  {
   "cell_type": "code",
   "execution_count": 10,
   "id": "b1cbe5b9-eaef-4d9a-aafa-1045f49dc367",
   "metadata": {},
   "outputs": [],
   "source": [
    "N_CLASSES = 10\n",
    "N_INPUT = np.array(train_data[0][0]).size\n",
    "BATCH_SIZE = 64\n",
    "EPOCH = 20"
   ]
  },
  {
   "cell_type": "code",
   "execution_count": 11,
   "id": "78648631-70f8-4039-8c91-9ed114a6a64f",
   "metadata": {},
   "outputs": [],
   "source": [
    "model = Model(N_INPUT, N_CLASSES)"
   ]
  },
  {
   "cell_type": "code",
   "execution_count": 12,
   "id": "e16ad3e4-1a2b-4c2e-ab56-0f15b0e2dcb2",
   "metadata": {},
   "outputs": [],
   "source": [
    "train_loader = DataLoader(train_dataset, batch_size=BATCH_SIZE, shuffle=True)\n",
    "test_loader = DataLoader(test_dataset, batch_size=BATCH_SIZE)"
   ]
  },
  {
   "cell_type": "code",
   "execution_count": 13,
   "id": "c0674549-242c-4bfe-b88e-1e6c6f140362",
   "metadata": {},
   "outputs": [],
   "source": [
    "torch.manual_seed(42)\n",
    "\n",
    "for name, parameter in model.named_parameters():\n",
    "    if \"weight\" in name:\n",
    "        nn_init.xavier_normal_(parameter)"
   ]
  },
  {
   "cell_type": "code",
   "execution_count": 14,
   "id": "8d40686b-9101-42d4-bee1-d121b6243ba4",
   "metadata": {},
   "outputs": [],
   "source": [
    "optimizer = optim.Adam(model.parameters(), lr=1e-3, weight_decay=1e-5)\n",
    "scheduler = CosineAnnealingLR(optimizer, T_max=10)"
   ]
  },
  {
   "cell_type": "code",
   "execution_count": 15,
   "id": "8ab4a271-a62b-440d-8e4f-d7c49879e6e4",
   "metadata": {},
   "outputs": [],
   "source": [
    "criteria = nn.CrossEntropyLoss()"
   ]
  },
  {
   "cell_type": "code",
   "execution_count": 16,
   "id": "b88f2ce2-f0ae-4f43-8944-649d7ecaae4d",
   "metadata": {},
   "outputs": [],
   "source": [
    "model.cuda();"
   ]
  },
  {
   "cell_type": "code",
   "execution_count": 17,
   "id": "35efd087-3eb1-440b-a2fe-21ebc4257e47",
   "metadata": {},
   "outputs": [],
   "source": [
    "writer = SummaryWriter(log_dir=\"logs/mnist/\")"
   ]
  },
  {
   "cell_type": "code",
   "execution_count": 18,
   "id": "a8ffb0db-2611-45a0-bdb5-f7e267312f39",
   "metadata": {},
   "outputs": [],
   "source": [
    "def calc_accuracy(loader, model):\n",
    "    ytrues = []\n",
    "    ypreds = []\n",
    "    with torch.no_grad():\n",
    "        for x, y in loader:\n",
    "            x = x.cuda()\n",
    "            out = model(x) # B, C\n",
    "            out_numpy = out.cpu().numpy()\n",
    "            pred = np.argmax(out_numpy, axis=1)\n",
    "            ytrues.extend(y.numpy())\n",
    "            ypreds.extend(pred)\n",
    "        metric = (np.array(ytrues) == np.array(ypreds)).mean()\n",
    "    return metric"
   ]
  },
  {
   "cell_type": "code",
   "execution_count": 3,
   "id": "f95bb0ba-5200-4be3-937b-e2e930ec884e",
   "metadata": {},
   "outputs": [
    {
     "data": {
      "text/html": [
       "\n",
       "      <iframe id=\"tensorboard-frame-91f85c91ad6e3483\" width=\"100%\" height=\"800\" frameborder=\"0\">\n",
       "      </iframe>\n",
       "      <script>\n",
       "        (function() {\n",
       "          const frame = document.getElementById(\"tensorboard-frame-91f85c91ad6e3483\");\n",
       "          const url = new URL(\"/\", window.location);\n",
       "          const port = 6006;\n",
       "          if (port) {\n",
       "            url.port = port;\n",
       "          }\n",
       "          frame.src = url;\n",
       "        })();\n",
       "      </script>\n",
       "    "
      ],
      "text/plain": [
       "<IPython.core.display.HTML object>"
      ]
     },
     "metadata": {},
     "output_type": "display_data"
    }
   ],
   "source": [
    "%tensorboard --logdir logs/mnist"
   ]
  },
  {
   "cell_type": "code",
   "execution_count": 21,
   "id": "6d266531-ee20-436c-80e7-500c9517bb90",
   "metadata": {},
   "outputs": [],
   "source": [
    "for epoch in range(EPOCH):\n",
    "    model.train()\n",
    "    for i, (x, y) in enumerate(train_loader):\n",
    "        x = x.cuda()\n",
    "        y = y.cuda()\n",
    "        optimizer.zero_grad()\n",
    "        out = model(x)\n",
    "        loss = criteria(out, y)\n",
    "        loss.backward()\n",
    "        optimizer.step()\n",
    "        if (i + 1) % 400 == 0:\n",
    "            global_iteration = epoch * len(train_loader) + i\n",
    "            writer.add_scalar(\"train/loss\", loss.item(), global_step=global_iteration)\n",
    "        scheduler.step()\n",
    "    \n",
    "    global_iteration = (epoch + 1) * len(train_loader)\n",
    "    model.eval()\n",
    "    test_metric = calc_accuracy(test_loader, model)\n",
    "    train_metric = calc_accuracy(train_loader, model)\n",
    "    writer.add_scalar(\"train/accuracy\", train_metric, global_step=global_iteration)\n",
    "    writer.add_scalar(\"test/accuracy\", test_metric, global_step=global_iteration)"
   ]
  },
  {
   "cell_type": "code",
   "execution_count": null,
   "id": "a969bc1b-ffd1-499d-8ebd-482bbb86c93e",
   "metadata": {},
   "outputs": [],
   "source": []
  }
 ],
 "metadata": {
  "kernelspec": {
   "display_name": "Python 3 (ipykernel)",
   "language": "python",
   "name": "python3"
  },
  "language_info": {
   "codemirror_mode": {
    "name": "ipython",
    "version": 3
   },
   "file_extension": ".py",
   "mimetype": "text/x-python",
   "name": "python",
   "nbconvert_exporter": "python",
   "pygments_lexer": "ipython3",
   "version": "3.8.12"
  }
 },
 "nbformat": 4,
 "nbformat_minor": 5
}
