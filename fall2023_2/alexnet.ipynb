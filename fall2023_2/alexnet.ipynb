{
 "cells": [
  {
   "cell_type": "markdown",
   "id": "6be3387e-5342-4d2c-a0c0-8352f55190dc",
   "metadata": {},
   "source": [
    "![](./img/alexnet.png)"
   ]
  },
  {
   "cell_type": "code",
   "execution_count": 1,
   "id": "e1e96aa4-2530-42d2-9401-aa2038200b74",
   "metadata": {},
   "outputs": [],
   "source": [
    "from pathlib import Path\n",
    "from PIL import Image\n",
    "\n",
    "import numpy as np\n",
    "import torch\n",
    "import torch.nn as nn\n",
    "import torch.nn.functional as F\n",
    "import torch.optim as optim\n",
    "from torch.utils.data import Dataset, DataLoader\n",
    "from torchvision import transforms\n",
    "from torchvision import models\n",
    "from sklearn.metrics import accuracy_score"
   ]
  },
  {
   "cell_type": "code",
   "execution_count": 2,
   "id": "15fded30-27f2-447a-8f8f-7fcaf2622479",
   "metadata": {},
   "outputs": [],
   "source": [
    "train_data_path = Path(\"data/cats_dogs/train\")"
   ]
  },
  {
   "cell_type": "code",
   "execution_count": 3,
   "id": "b89137cb-f7f1-42ce-8dcf-6dc61478a416",
   "metadata": {},
   "outputs": [
    {
     "name": "stderr",
     "output_type": "stream",
     "text": [
      "C:\\Users\\anesterenko\\Miniconda3\\envs\\MLIsuct\\lib\\site-packages\\torchvision\\models\\_utils.py:208: UserWarning: The parameter 'pretrained' is deprecated since 0.13 and may be removed in the future, please use 'weights' instead.\n",
      "  warnings.warn(\n",
      "C:\\Users\\anesterenko\\Miniconda3\\envs\\MLIsuct\\lib\\site-packages\\torchvision\\models\\_utils.py:223: UserWarning: Arguments other than a weight enum or `None` for 'weights' are deprecated since 0.13 and may be removed in the future. The current behavior is equivalent to passing `weights=None`.\n",
      "  warnings.warn(msg)\n"
     ]
    }
   ],
   "source": [
    "alexnet = models.alexnet(pretrained=False)"
   ]
  },
  {
   "cell_type": "code",
   "execution_count": 4,
   "id": "4ffaa131-8553-4ab1-a802-90633861e799",
   "metadata": {},
   "outputs": [],
   "source": [
    "class ImageDataset(Dataset):\n",
    "    \n",
    "    def __init__(self, files, transform):\n",
    "        self.files = files\n",
    "        self.transform = transform\n",
    "        \n",
    "    def __len__(self):\n",
    "        return len(self.files)\n",
    "    \n",
    "    def __getitem__(self, i):\n",
    "        file = self.files[i]\n",
    "        img = Image.open(file)\n",
    "        tensor = self.transform(img)\n",
    "        label = file.name.split(\".\")[0]\n",
    "        return tensor, int(label == \"cat\")"
   ]
  },
  {
   "cell_type": "code",
   "execution_count": 5,
   "id": "5a77b4fd-466c-47ac-b4c6-1da3df6ff54a",
   "metadata": {},
   "outputs": [],
   "source": [
    "file_list = list(train_data_path.rglob(\"*.jpg\"))"
   ]
  },
  {
   "cell_type": "code",
   "execution_count": 6,
   "id": "abe82a4e-749b-4f5a-a665-2bb22eb55918",
   "metadata": {},
   "outputs": [],
   "source": [
    "np.random.shuffle(file_list)"
   ]
  },
  {
   "cell_type": "code",
   "execution_count": 7,
   "id": "80f7bf19-bd3d-492b-8cf8-671ce8e36c1f",
   "metadata": {},
   "outputs": [
    {
     "data": {
      "text/plain": [
       "[WindowsPath('data/cats_dogs/train/cat.3522.jpg'),\n",
       " WindowsPath('data/cats_dogs/train/dog.3673.jpg'),\n",
       " WindowsPath('data/cats_dogs/train/cat.8280.jpg'),\n",
       " WindowsPath('data/cats_dogs/train/cat.5928.jpg'),\n",
       " WindowsPath('data/cats_dogs/train/dog.8448.jpg'),\n",
       " WindowsPath('data/cats_dogs/train/dog.1225.jpg'),\n",
       " WindowsPath('data/cats_dogs/train/dog.5975.jpg'),\n",
       " WindowsPath('data/cats_dogs/train/dog.2064.jpg'),\n",
       " WindowsPath('data/cats_dogs/train/cat.5449.jpg'),\n",
       " WindowsPath('data/cats_dogs/train/cat.3189.jpg')]"
      ]
     },
     "execution_count": 7,
     "metadata": {},
     "output_type": "execute_result"
    }
   ],
   "source": [
    "file_list[:10]"
   ]
  },
  {
   "cell_type": "code",
   "execution_count": 8,
   "id": "50cd44ad-4991-4330-ab77-a6919c928ae5",
   "metadata": {},
   "outputs": [],
   "source": [
    "valid_size = int(0.2 * len(file_list))"
   ]
  },
  {
   "cell_type": "code",
   "execution_count": 9,
   "id": "acc80ad5-43f6-46e2-a80a-d2b4d9383e7e",
   "metadata": {},
   "outputs": [
    {
     "data": {
      "text/plain": [
       "5000"
      ]
     },
     "execution_count": 9,
     "metadata": {},
     "output_type": "execute_result"
    }
   ],
   "source": [
    "valid_size"
   ]
  },
  {
   "cell_type": "code",
   "execution_count": 10,
   "id": "421ef3e1-d46c-4248-852a-5175186710bf",
   "metadata": {},
   "outputs": [
    {
     "data": {
      "text/plain": [
       "20000"
      ]
     },
     "execution_count": 10,
     "metadata": {},
     "output_type": "execute_result"
    }
   ],
   "source": [
    "len(file_list) - valid_size"
   ]
  },
  {
   "cell_type": "code",
   "execution_count": 11,
   "id": "0c43d466-dee8-480e-ab03-1d40c04c4216",
   "metadata": {},
   "outputs": [],
   "source": [
    "train_files = file_list[:-valid_size]\n",
    "valid_files = file_list[-valid_size:]"
   ]
  },
  {
   "cell_type": "code",
   "execution_count": 12,
   "id": "9d045865-bea3-4ab5-8563-88479a8684d3",
   "metadata": {},
   "outputs": [],
   "source": [
    "train_transform = transforms.Compose([\n",
    "    transforms.Resize(227),\n",
    "    transforms.RandomCrop(227),\n",
    "    transforms.ToTensor(),\n",
    "    transforms.Normalize(0.5, 0.5)\n",
    "])\n",
    "\n",
    "valid_transform = transforms.Compose([\n",
    "    transforms.Resize(227),\n",
    "    transforms.CenterCrop(227),\n",
    "    transforms.ToTensor(),\n",
    "    transforms.Normalize(0.5, 0.5)\n",
    "])"
   ]
  },
  {
   "cell_type": "code",
   "execution_count": 13,
   "id": "26f8eadf-39ed-4885-8cf8-71454a7d3fdb",
   "metadata": {},
   "outputs": [],
   "source": [
    "train_dataset = ImageDataset(train_files, train_transform)\n",
    "valid_dataset = ImageDataset(valid_files, valid_transform)"
   ]
  },
  {
   "cell_type": "markdown",
   "id": "7a2ec0b0-ff2d-453f-a2e2-304c3d89af3a",
   "metadata": {},
   "source": [
    "(batch_size, n_chanels, height, width)"
   ]
  },
  {
   "cell_type": "code",
   "execution_count": 14,
   "id": "0794d523-cc3d-4e62-b11c-3fa94c2b9d1f",
   "metadata": {},
   "outputs": [],
   "source": [
    "train_loader = DataLoader(train_dataset, batch_size=32)\n",
    "valid_loader = DataLoader(valid_dataset, batch_size=32)"
   ]
  },
  {
   "cell_type": "code",
   "execution_count": 15,
   "id": "27305fc9-40fd-4e40-8a63-a3909474bd29",
   "metadata": {},
   "outputs": [],
   "source": [
    "class AlexNet(nn.Module):\n",
    "    \n",
    "    def __init__(self):\n",
    "        super().__init__()\n",
    "        self.conv1 = nn.Conv2d(in_channels=3, out_channels=96, \n",
    "                               stride=(4, 4), kernel_size=(11, 11))\n",
    "        self.relu1 = nn.ReLU(inplace=True)\n",
    "        self.max_pool1 = nn.MaxPool2d(kernel_size=(3, 3), \n",
    "                                      stride=(2, 2))\n",
    "        self.conv2 = nn.Conv2d(in_channels=96, \n",
    "                               out_channels=256, \n",
    "                               kernel_size=(5, 5), \n",
    "                               stride=(1, 1), padding=(2, 2))\n",
    "        self.relu2 = nn.ReLU(inplace=True)\n",
    "        self.max_pool2 = nn.MaxPool2d(kernel_size=(3, 3), \n",
    "                                      stride=(2, 2))\n",
    "        self.conv3 = nn.Conv2d(in_channels=256, \n",
    "                               out_channels=384, \n",
    "                               kernel_size=(3, 3), \n",
    "                               stride=(1, 1), \n",
    "                               padding=(1, 1))\n",
    "        self.relu3 = nn.ReLU(inplace=True)\n",
    "        self.conv4 = nn.Conv2d(in_channels=384, \n",
    "                               out_channels=384, \n",
    "                               kernel_size=(3, 3),\n",
    "                               stride=(1, 1), \n",
    "                               padding=(1, 1))\n",
    "        self.relu4 = nn.ReLU(inplace=True)\n",
    "        self.conv5 = nn.Conv2d(in_channels=384, \n",
    "                               out_channels=256, \n",
    "                               kernel_size=(3, 3),\n",
    "                               stride=(1, 1), \n",
    "                               padding=(1, 1))\n",
    "        self.relu5 = nn.ReLU(inplace=True)\n",
    "        self.max_pool3 = nn.MaxPool2d(kernel_size=(3, 3), \n",
    "                                      stride=(2, 2))\n",
    "        self.flatten = nn.Flatten()\n",
    "        \n",
    "        self.fc = nn.Sequential(\n",
    "            nn.Dropout(),\n",
    "            nn.Linear(9216, 4096),\n",
    "            nn.ReLU(),\n",
    "            nn.Dropout(),\n",
    "            nn.Linear(4096, 4096),\n",
    "            nn.ReLU(),\n",
    "            nn.Linear(4096, 1)\n",
    "        )\n",
    "        \n",
    "    def forward(self, x):\n",
    "        x = self.conv1(x)\n",
    "        x = self.relu1(x)\n",
    "        x = self.max_pool1(x)\n",
    "        x = self.conv2(x)\n",
    "        x = self.relu2(x)\n",
    "        x = self.max_pool2(x)\n",
    "        x = self.conv3(x)\n",
    "        x = self.relu3(x)\n",
    "        x = self.conv4(x)\n",
    "        x = self.relu4(x)\n",
    "        x = self.conv5(x)\n",
    "        x = self.relu5(x)\n",
    "        x = self.max_pool3(x)\n",
    "        x = self.flatten(x)\n",
    "        x = self.fc(x)\n",
    "        return x"
   ]
  },
  {
   "cell_type": "code",
   "execution_count": 16,
   "id": "5356278d-3155-41de-bd4a-ee130dd08432",
   "metadata": {},
   "outputs": [],
   "source": [
    "net = AlexNet()"
   ]
  },
  {
   "cell_type": "code",
   "execution_count": 17,
   "id": "780dfea9-7ce5-4b34-a68a-ed785ac46011",
   "metadata": {},
   "outputs": [],
   "source": [
    "optimizer = optim.Adam(net.parameters(), lr=1e-3)"
   ]
  },
  {
   "cell_type": "code",
   "execution_count": 18,
   "id": "a130fd68-2c6d-47c1-8ac8-95735f13b5d4",
   "metadata": {},
   "outputs": [],
   "source": [
    "criteria = nn.BCEWithLogitsLoss()"
   ]
  },
  {
   "cell_type": "code",
   "execution_count": null,
   "id": "2ae508f5-1af8-4117-a9e1-db4a9a9ec44f",
   "metadata": {},
   "outputs": [
    {
     "name": "stdout",
     "output_type": "stream",
     "text": [
      "Epoch 1 / 10, iteration 100 / 625, loss: 0.690\n",
      "Epoch 1 / 10, iteration 200 / 625, loss: 0.691\n",
      "Epoch 1 / 10, iteration 300 / 625, loss: 0.692\n",
      "Epoch 1 / 10, iteration 400 / 625, loss: 0.692\n",
      "Epoch 1 / 10, iteration 500 / 625, loss: 0.694\n",
      "Epoch 1 / 10, iteration 600 / 625, loss: 0.694\n",
      "Epoch 1 / 10, accuracy: 0.496\n",
      "Epoch 2 / 10, iteration 100 / 625, loss: 0.690\n"
     ]
    }
   ],
   "source": [
    "for epoch in range(10):\n",
    "    net.train()\n",
    "    for i, (x, y) in enumerate(train_loader):\n",
    "        \n",
    "        optimizer.zero_grad()\n",
    "        y = y.unsqueeze(1).float()\n",
    "        output = net(x)\n",
    "        loss = criteria(output, y)\n",
    "        loss.backward()\n",
    "        \n",
    "        optimizer.step()\n",
    "        \n",
    "        if (i + 1) % 100 == 0:\n",
    "            print(f\"Epoch {epoch + 1} / 10, iteration {i + 1} / {len(train_loader)}, loss: {loss.item():.3f}\")\n",
    "        \n",
    "    y_true = []\n",
    "    y_pred = []\n",
    "    \n",
    "    net.eval()\n",
    "    for i, (x, y) in enumerate(valid_loader):\n",
    "        with torch.no_grad():\n",
    "            y = y.numpy().flatten()\n",
    "            output = F.sigmoid(net(x))\n",
    "            output = output.numpy().flatten() > 0.5\n",
    "            y_true.extend(y)\n",
    "            y_pred.extend(output)\n",
    "            \n",
    "    score = accuracy_score(y_true, y_pred)\n",
    "    print(f\"Epoch {epoch + 1} / 10, accuracy: {score:.3f}\")"
   ]
  },
  {
   "cell_type": "code",
   "execution_count": null,
   "id": "116ac97f-c857-420d-8987-a16e8b29eaf2",
   "metadata": {},
   "outputs": [],
   "source": []
  }
 ],
 "metadata": {
  "kernelspec": {
   "display_name": "Python 3 (ipykernel)",
   "language": "python",
   "name": "python3"
  },
  "language_info": {
   "codemirror_mode": {
    "name": "ipython",
    "version": 3
   },
   "file_extension": ".py",
   "mimetype": "text/x-python",
   "name": "python",
   "nbconvert_exporter": "python",
   "pygments_lexer": "ipython3",
   "version": "3.10.4"
  }
 },
 "nbformat": 4,
 "nbformat_minor": 5
}
