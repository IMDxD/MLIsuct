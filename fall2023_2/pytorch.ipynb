{
 "cells": [
  {
   "cell_type": "code",
   "execution_count": 1,
   "id": "7925cde6-b1d1-4150-b0e8-8c2a1a8fe7ff",
   "metadata": {},
   "outputs": [],
   "source": [
    "import torch\n",
    "import numpy as np"
   ]
  },
  {
   "cell_type": "code",
   "execution_count": 2,
   "id": "176725a6-c360-4383-9e98-3adfc4b4a851",
   "metadata": {},
   "outputs": [],
   "source": [
    "a = np.arange(10)\n",
    "b = np.arange(10)\n",
    "c = np.arange(12).reshape(4, 3)\n",
    "d = np.arange(9).reshape(3, 3)"
   ]
  },
  {
   "cell_type": "code",
   "execution_count": 3,
   "id": "7205b82f-68aa-487b-b466-550b9724af58",
   "metadata": {},
   "outputs": [
    {
     "data": {
      "text/plain": [
       "array([0, 1, 2, 3, 4, 5, 6, 7, 8, 9])"
      ]
     },
     "execution_count": 3,
     "metadata": {},
     "output_type": "execute_result"
    }
   ],
   "source": [
    "a"
   ]
  },
  {
   "cell_type": "code",
   "execution_count": 4,
   "id": "b50330f3-3b7f-4a48-9b66-a91d009fd4bc",
   "metadata": {},
   "outputs": [
    {
     "data": {
      "text/plain": [
       "array([0, 1, 2, 3, 4, 5, 6, 7, 8, 9])"
      ]
     },
     "execution_count": 4,
     "metadata": {},
     "output_type": "execute_result"
    }
   ],
   "source": [
    "b"
   ]
  },
  {
   "cell_type": "code",
   "execution_count": 5,
   "id": "3fb7b84d-7241-44ce-acb6-a79391845294",
   "metadata": {},
   "outputs": [
    {
     "data": {
      "text/plain": [
       "array([ 0,  1,  4,  9, 16, 25, 36, 49, 64, 81])"
      ]
     },
     "execution_count": 5,
     "metadata": {},
     "output_type": "execute_result"
    }
   ],
   "source": [
    "a * b"
   ]
  },
  {
   "cell_type": "code",
   "execution_count": 6,
   "id": "9876956b-3327-4752-a721-de5a434ce276",
   "metadata": {},
   "outputs": [
    {
     "data": {
      "text/plain": [
       "array([[ 0,  0,  0,  0,  0,  0,  0,  0,  0,  0],\n",
       "       [ 0,  1,  2,  3,  4,  5,  6,  7,  8,  9],\n",
       "       [ 0,  2,  4,  6,  8, 10, 12, 14, 16, 18],\n",
       "       [ 0,  3,  6,  9, 12, 15, 18, 21, 24, 27],\n",
       "       [ 0,  4,  8, 12, 16, 20, 24, 28, 32, 36],\n",
       "       [ 0,  5, 10, 15, 20, 25, 30, 35, 40, 45],\n",
       "       [ 0,  6, 12, 18, 24, 30, 36, 42, 48, 54],\n",
       "       [ 0,  7, 14, 21, 28, 35, 42, 49, 56, 63],\n",
       "       [ 0,  8, 16, 24, 32, 40, 48, 56, 64, 72],\n",
       "       [ 0,  9, 18, 27, 36, 45, 54, 63, 72, 81]])"
      ]
     },
     "execution_count": 6,
     "metadata": {},
     "output_type": "execute_result"
    }
   ],
   "source": [
    "a[:, None] * b[None, :] # из векторов матрица"
   ]
  },
  {
   "cell_type": "code",
   "execution_count": 7,
   "id": "41fa21e0-553c-4717-90cb-80a269f0c28a",
   "metadata": {},
   "outputs": [],
   "source": [
    "c *= 2"
   ]
  },
  {
   "cell_type": "code",
   "execution_count": 8,
   "id": "3df94e4f-2d54-45b7-9d60-bf0f281c5a0e",
   "metadata": {},
   "outputs": [
    {
     "data": {
      "text/plain": [
       "array([[ 0,  2,  4],\n",
       "       [ 6,  8, 10],\n",
       "       [12, 14, 16],\n",
       "       [18, 20, 22]])"
      ]
     },
     "execution_count": 8,
     "metadata": {},
     "output_type": "execute_result"
    }
   ],
   "source": [
    "c"
   ]
  },
  {
   "cell_type": "code",
   "execution_count": 9,
   "id": "b96d36a9-41a6-4e30-91f5-3d874ebb5a19",
   "metadata": {},
   "outputs": [
    {
     "data": {
      "text/plain": [
       "array([[0, 1, 2],\n",
       "       [3, 4, 5],\n",
       "       [6, 7, 8]])"
      ]
     },
     "execution_count": 9,
     "metadata": {},
     "output_type": "execute_result"
    }
   ],
   "source": [
    "d"
   ]
  },
  {
   "cell_type": "code",
   "execution_count": 10,
   "id": "cdbe2a06-9fb9-407e-942a-e3f0d22ed6c5",
   "metadata": {},
   "outputs": [
    {
     "data": {
      "text/plain": [
       "array([[[  0,   2,   8],\n",
       "        [  0,   8,  20],\n",
       "        [  0,  14,  32]],\n",
       "\n",
       "       [[  0,   8,  20],\n",
       "        [ 18,  32,  50],\n",
       "        [ 36,  56,  80]],\n",
       "\n",
       "       [[  0,  14,  32],\n",
       "        [ 36,  56,  80],\n",
       "        [ 72,  98, 128]],\n",
       "\n",
       "       [[  0,  20,  44],\n",
       "        [ 54,  80, 110],\n",
       "        [108, 140, 176]]])"
      ]
     },
     "execution_count": 10,
     "metadata": {},
     "output_type": "execute_result"
    }
   ],
   "source": [
    "c[:, None, :] * d[None, :, :] # из двумерной получаем трехмерную 3 измерение должно совпадать"
   ]
  },
  {
   "cell_type": "code",
   "execution_count": 11,
   "id": "796efc4b-19fa-4874-abda-f3dc4b427588",
   "metadata": {},
   "outputs": [],
   "source": [
    "t = np.ones(8)"
   ]
  },
  {
   "cell_type": "code",
   "execution_count": 12,
   "id": "59c73f54-aa30-43f1-a282-63cafdf98924",
   "metadata": {},
   "outputs": [
    {
     "data": {
      "text/plain": [
       "array([1., 1., 1., 1., 1., 1., 1., 1.])"
      ]
     },
     "execution_count": 12,
     "metadata": {},
     "output_type": "execute_result"
    }
   ],
   "source": [
    "t"
   ]
  },
  {
   "cell_type": "code",
   "execution_count": 13,
   "id": "8745ef81-5792-49ba-bdb0-ce1f4023f50c",
   "metadata": {},
   "outputs": [],
   "source": [
    "t = np.ones((3, 3))"
   ]
  },
  {
   "cell_type": "code",
   "execution_count": 14,
   "id": "65a892c9-68d3-4a47-9cd5-2451525654e4",
   "metadata": {},
   "outputs": [
    {
     "data": {
      "text/plain": [
       "array([[1., 1., 1.],\n",
       "       [1., 1., 1.],\n",
       "       [1., 1., 1.]])"
      ]
     },
     "execution_count": 14,
     "metadata": {},
     "output_type": "execute_result"
    }
   ],
   "source": [
    "t"
   ]
  },
  {
   "cell_type": "code",
   "execution_count": 15,
   "id": "09556631-fbc9-4315-9444-00640516fdbd",
   "metadata": {},
   "outputs": [],
   "source": [
    "t = np.zeros(8)"
   ]
  },
  {
   "cell_type": "code",
   "execution_count": 16,
   "id": "bdd9a622-3143-43be-a480-2620972dab85",
   "metadata": {},
   "outputs": [
    {
     "data": {
      "text/plain": [
       "array([0., 0., 0., 0., 0., 0., 0., 0.])"
      ]
     },
     "execution_count": 16,
     "metadata": {},
     "output_type": "execute_result"
    }
   ],
   "source": [
    "t"
   ]
  },
  {
   "cell_type": "code",
   "execution_count": 17,
   "id": "9ed3429b-d126-4fa3-8168-88e715ddec54",
   "metadata": {},
   "outputs": [],
   "source": [
    "t = np.zeros((3, 3))"
   ]
  },
  {
   "cell_type": "code",
   "execution_count": 18,
   "id": "b4a19552-9138-4736-bb4c-a425c20b04a0",
   "metadata": {},
   "outputs": [
    {
     "data": {
      "text/plain": [
       "array([[0., 0., 0.],\n",
       "       [0., 0., 0.],\n",
       "       [0., 0., 0.]])"
      ]
     },
     "execution_count": 18,
     "metadata": {},
     "output_type": "execute_result"
    }
   ],
   "source": [
    "t"
   ]
  },
  {
   "cell_type": "code",
   "execution_count": 19,
   "id": "c85bb4e4-786b-4b1b-b020-1708c043541a",
   "metadata": {},
   "outputs": [],
   "source": [
    "t = np.full(8, 5)"
   ]
  },
  {
   "cell_type": "code",
   "execution_count": 20,
   "id": "c22b2baa-892a-413a-beec-28d43fc752a3",
   "metadata": {},
   "outputs": [
    {
     "data": {
      "text/plain": [
       "array([5, 5, 5, 5, 5, 5, 5, 5])"
      ]
     },
     "execution_count": 20,
     "metadata": {},
     "output_type": "execute_result"
    }
   ],
   "source": [
    "t"
   ]
  },
  {
   "cell_type": "code",
   "execution_count": 21,
   "id": "74fc03f5-8e98-4e0c-9918-0fe5d367cfd4",
   "metadata": {},
   "outputs": [],
   "source": [
    "t = np.full((3, 3), 5)"
   ]
  },
  {
   "cell_type": "code",
   "execution_count": 22,
   "id": "18fb222a-fbc3-4bbf-abb0-312defcd040b",
   "metadata": {},
   "outputs": [
    {
     "data": {
      "text/plain": [
       "array([[5, 5, 5],\n",
       "       [5, 5, 5],\n",
       "       [5, 5, 5]])"
      ]
     },
     "execution_count": 22,
     "metadata": {},
     "output_type": "execute_result"
    }
   ],
   "source": [
    "t"
   ]
  },
  {
   "cell_type": "code",
   "execution_count": 23,
   "id": "1313099e-c66e-4661-b95d-b68b8301344f",
   "metadata": {},
   "outputs": [
    {
     "data": {
      "text/plain": [
       "array([[1., 0.],\n",
       "       [0., 1.]])"
      ]
     },
     "execution_count": 23,
     "metadata": {},
     "output_type": "execute_result"
    }
   ],
   "source": [
    "np.eye(2) # матрица I размером aргумент * аргумент"
   ]
  },
  {
   "cell_type": "code",
   "execution_count": 24,
   "id": "6fa9d986-e06d-45cb-b397-0e16a8e5b5fc",
   "metadata": {},
   "outputs": [],
   "source": [
    "k = np.random.randint(0, 255, size=(480, 640))"
   ]
  },
  {
   "cell_type": "code",
   "execution_count": 25,
   "id": "7c4a3899-a7dd-412c-8b0f-f2e1f5396f1f",
   "metadata": {},
   "outputs": [
    {
     "data": {
      "text/plain": [
       "True"
      ]
     },
     "execution_count": 25,
     "metadata": {},
     "output_type": "execute_result"
    }
   ],
   "source": [
    "a.dot(b) == a @ b # скалярное произведение"
   ]
  },
  {
   "cell_type": "code",
   "execution_count": 26,
   "id": "6a1b6849-b7a5-450b-8524-455c54adbac9",
   "metadata": {},
   "outputs": [],
   "source": [
    "a = torch.from_numpy(a)"
   ]
  },
  {
   "cell_type": "code",
   "execution_count": 27,
   "id": "d7e6f9ba-1b09-4bdc-87aa-4f45f6bcd721",
   "metadata": {},
   "outputs": [
    {
     "data": {
      "text/plain": [
       "tensor([0, 1, 2, 3, 4, 5, 6, 7, 8, 9])"
      ]
     },
     "execution_count": 27,
     "metadata": {},
     "output_type": "execute_result"
    }
   ],
   "source": [
    "a"
   ]
  },
  {
   "cell_type": "code",
   "execution_count": 28,
   "id": "5c952b2a-fdd6-4dc0-8ab0-f6ed6822a21a",
   "metadata": {},
   "outputs": [],
   "source": [
    "b = torch.from_numpy(b)"
   ]
  },
  {
   "cell_type": "code",
   "execution_count": 29,
   "id": "094c7bee-a1cf-4a65-91c5-dd6dbeb0c6b6",
   "metadata": {},
   "outputs": [
    {
     "data": {
      "text/plain": [
       "tensor([0, 1, 2, 3, 4, 5, 6, 7, 8, 9])"
      ]
     },
     "execution_count": 29,
     "metadata": {},
     "output_type": "execute_result"
    }
   ],
   "source": [
    "b"
   ]
  },
  {
   "cell_type": "code",
   "execution_count": 30,
   "id": "2488a907-f09d-43e5-be1a-4b46aa000e10",
   "metadata": {},
   "outputs": [
    {
     "data": {
      "text/plain": [
       "tensor(285)"
      ]
     },
     "execution_count": 30,
     "metadata": {},
     "output_type": "execute_result"
    }
   ],
   "source": [
    "a @ b"
   ]
  },
  {
   "cell_type": "code",
   "execution_count": 31,
   "id": "7856a8e1-482b-4c25-847c-e4f4eb55ced2",
   "metadata": {},
   "outputs": [
    {
     "data": {
      "text/plain": [
       "tensor([ 0,  2,  4,  6,  8, 10, 12, 14, 16, 18])"
      ]
     },
     "execution_count": 31,
     "metadata": {},
     "output_type": "execute_result"
    }
   ],
   "source": [
    "a + b"
   ]
  },
  {
   "cell_type": "code",
   "execution_count": 32,
   "id": "69f43cec-093f-4cbc-a9ad-3541a6928510",
   "metadata": {},
   "outputs": [
    {
     "data": {
      "text/plain": [
       "tensor([ 0,  1,  4,  9, 16, 25, 36, 49, 64, 81])"
      ]
     },
     "execution_count": 32,
     "metadata": {},
     "output_type": "execute_result"
    }
   ],
   "source": [
    "a * b"
   ]
  },
  {
   "cell_type": "code",
   "execution_count": 33,
   "id": "571d54d1-00b5-492d-aa43-d2b24b2282ce",
   "metadata": {},
   "outputs": [
    {
     "data": {
      "text/plain": [
       "tensor([[0, 1, 2, 3, 4],\n",
       "        [5, 6, 7, 8, 9]])"
      ]
     },
     "execution_count": 33,
     "metadata": {},
     "output_type": "execute_result"
    }
   ],
   "source": [
    "a.view(2, 5) # вместо reshape"
   ]
  },
  {
   "cell_type": "code",
   "execution_count": 34,
   "id": "c0099dcc-ea83-4923-8158-40fb9be22d4e",
   "metadata": {},
   "outputs": [
    {
     "data": {
      "text/plain": [
       "tensor(285)"
      ]
     },
     "execution_count": 34,
     "metadata": {},
     "output_type": "execute_result"
    }
   ],
   "source": [
    "a.matmul(b) # скалярное произведение"
   ]
  },
  {
   "cell_type": "code",
   "execution_count": 35,
   "id": "46fa742f-ec01-4f00-b364-01b5ab949df5",
   "metadata": {},
   "outputs": [
    {
     "data": {
      "text/plain": [
       "array([[ 30,  36,  42],\n",
       "       [ 84, 108, 132],\n",
       "       [138, 180, 222],\n",
       "       [192, 252, 312]])"
      ]
     },
     "execution_count": 35,
     "metadata": {},
     "output_type": "execute_result"
    }
   ],
   "source": [
    "c @ d"
   ]
  },
  {
   "cell_type": "code",
   "execution_count": 36,
   "id": "72b28df2-db89-44ee-8b33-96f9b76b9d7a",
   "metadata": {},
   "outputs": [],
   "source": [
    "c = torch.from_numpy(c)\n",
    "d = torch.from_numpy(d)"
   ]
  },
  {
   "cell_type": "code",
   "execution_count": 37,
   "id": "35ac26b9-fa00-4cd5-9f7c-9abe132b4438",
   "metadata": {},
   "outputs": [
    {
     "data": {
      "text/plain": [
       "tensor([[ 30,  36,  42],\n",
       "        [ 84, 108, 132],\n",
       "        [138, 180, 222],\n",
       "        [192, 252, 312]])"
      ]
     },
     "execution_count": 37,
     "metadata": {},
     "output_type": "execute_result"
    }
   ],
   "source": [
    "c @ d"
   ]
  },
  {
   "cell_type": "code",
   "execution_count": 38,
   "id": "15dc2849-34c1-40f6-a79e-57647cdb9586",
   "metadata": {},
   "outputs": [],
   "source": [
    "d = torch.rand(2, 3, 4).float()"
   ]
  },
  {
   "cell_type": "code",
   "execution_count": 39,
   "id": "4abe142f-cd43-4ca1-9ae1-a65feb82829f",
   "metadata": {},
   "outputs": [],
   "source": [
    "c = c.view(2, 2, 3).float()"
   ]
  },
  {
   "cell_type": "code",
   "execution_count": 40,
   "id": "a7cd5a47-860a-4d5d-9c9a-f25f3a11036a",
   "metadata": {},
   "outputs": [
    {
     "data": {
      "text/plain": [
       "tensor([[[ 3.1260,  3.0519,  1.6844,  1.2189],\n",
       "         [10.1534, 13.0500,  8.7832,  6.6797]],\n",
       "\n",
       "        [[22.6162, 25.0887, 23.7689, 25.0312],\n",
       "         [32.7450, 36.1336, 33.3722, 35.5404]]])"
      ]
     },
     "execution_count": 40,
     "metadata": {},
     "output_type": "execute_result"
    }
   ],
   "source": [
    "c.bmm(d) # поматричное скалярное умножение"
   ]
  },
  {
   "cell_type": "code",
   "execution_count": 41,
   "id": "07b38acb-4072-431a-b645-8d1563d35cbc",
   "metadata": {},
   "outputs": [
    {
     "data": {
      "text/plain": [
       "tensor([[[ 0.,  2.,  4.],\n",
       "         [ 6.,  8., 10.]],\n",
       "\n",
       "        [[12., 14., 16.],\n",
       "         [18., 20., 22.]]])"
      ]
     },
     "execution_count": 41,
     "metadata": {},
     "output_type": "execute_result"
    }
   ],
   "source": [
    "c"
   ]
  },
  {
   "cell_type": "code",
   "execution_count": 42,
   "id": "071a9689-db9d-466c-b1df-b5c023da6dcb",
   "metadata": {},
   "outputs": [
    {
     "data": {
      "text/plain": [
       "tensor([[[0.0480, 0.7615, 0.4777, 0.3541],\n",
       "         [0.6834, 0.2838, 0.5686, 0.5025],\n",
       "         [0.4398, 0.6211, 0.1368, 0.0535]],\n",
       "\n",
       "        [[0.6718, 0.7720, 0.2946, 0.3974],\n",
       "         [0.8533, 0.6381, 0.3309, 0.7019],\n",
       "         [0.1630, 0.4307, 0.9751, 0.6523]]])"
      ]
     },
     "execution_count": 42,
     "metadata": {},
     "output_type": "execute_result"
    }
   ],
   "source": [
    "d"
   ]
  },
  {
   "cell_type": "code",
   "execution_count": 43,
   "id": "e5e4ae36-f9da-4f54-bfb6-fdf5632d1678",
   "metadata": {},
   "outputs": [],
   "source": [
    "c = torch.rand(4096, 4096)\n",
    "d = torch.rand(4096, 4096)"
   ]
  },
  {
   "cell_type": "code",
   "execution_count": 44,
   "id": "97d640c2-8a1b-4266-be43-a908bb32d06f",
   "metadata": {},
   "outputs": [
    {
     "name": "stdout",
     "output_type": "stream",
     "text": [
      "CPU times: user 1.66 s, sys: 16 ms, total: 1.68 s\n",
      "Wall time: 449 ms\n"
     ]
    },
    {
     "data": {
      "text/plain": [
       "tensor([[1000.5043, 1002.7506, 1016.3815,  ..., 1021.7222,  996.3809,\n",
       "         1022.0295],\n",
       "        [1004.1023,  989.6271, 1019.1122,  ..., 1027.7609,  989.2344,\n",
       "         1020.8045],\n",
       "        [1013.7366, 1013.6102, 1022.3150,  ..., 1045.7231,  997.6496,\n",
       "         1024.9705],\n",
       "        ...,\n",
       "        [1010.2330, 1010.4396, 1034.6396,  ..., 1042.2598,  991.3449,\n",
       "         1026.9644],\n",
       "        [1009.0648, 1000.8672, 1024.1233,  ..., 1027.8341,  996.4392,\n",
       "         1025.4424],\n",
       "        [1019.1187, 1015.5603, 1022.6256,  ..., 1043.6481, 1000.3350,\n",
       "         1025.2764]])"
      ]
     },
     "execution_count": 44,
     "metadata": {},
     "output_type": "execute_result"
    }
   ],
   "source": [
    "%%time\n",
    "c @ d"
   ]
  },
  {
   "cell_type": "code",
   "execution_count": 45,
   "id": "86952559-ff70-4984-8699-7e2284970cc1",
   "metadata": {},
   "outputs": [],
   "source": [
    "c = c.cuda()\n",
    "d = d.cuda()"
   ]
  },
  {
   "cell_type": "code",
   "execution_count": 46,
   "id": "ba62661a-cc87-4b06-8136-f5dc308bf6b8",
   "metadata": {},
   "outputs": [
    {
     "name": "stdout",
     "output_type": "stream",
     "text": [
      "CPU times: user 27.9 ms, sys: 4.76 ms, total: 32.7 ms\n",
      "Wall time: 98.8 ms\n"
     ]
    },
    {
     "data": {
      "text/plain": [
       "tensor([[1000.5048, 1002.7504, 1016.3809,  ..., 1021.7224,  996.3816,\n",
       "         1022.0288],\n",
       "        [1004.1021,  989.6268, 1019.1138,  ..., 1027.7621,  989.2343,\n",
       "         1020.8036],\n",
       "        [1013.7377, 1013.6097, 1022.3154,  ..., 1045.7219,  997.6493,\n",
       "         1024.9708],\n",
       "        ...,\n",
       "        [1010.2337, 1010.4394, 1034.6403,  ..., 1042.2598,  991.3443,\n",
       "         1026.9642],\n",
       "        [1009.0652, 1000.8668, 1024.1230,  ..., 1027.8328,  996.4389,\n",
       "         1025.4429],\n",
       "        [1019.1188, 1015.5598, 1022.6263,  ..., 1043.6490, 1000.3340,\n",
       "         1025.2764]], device='cuda:0')"
      ]
     },
     "execution_count": 46,
     "metadata": {},
     "output_type": "execute_result"
    }
   ],
   "source": [
    "%%time\n",
    "c @ d"
   ]
  },
  {
   "cell_type": "code",
   "execution_count": 47,
   "id": "36d5ca99-122d-46b8-99c4-1b84349cbec2",
   "metadata": {},
   "outputs": [],
   "source": [
    "c = torch.randint(0, 255, size=(480, 640))"
   ]
  },
  {
   "cell_type": "code",
   "execution_count": 48,
   "id": "07543f62-d2df-47bd-aa2e-356cd2aa603d",
   "metadata": {},
   "outputs": [
    {
     "data": {
      "text/plain": [
       "torch.return_types.mode(\n",
       "values=tensor(238),\n",
       "indices=tensor(134496))"
      ]
     },
     "execution_count": 48,
     "metadata": {},
     "output_type": "execute_result"
    }
   ],
   "source": [
    "torch.mode(c.flatten()) # самый частый элемент в массиве"
   ]
  },
  {
   "cell_type": "code",
   "execution_count": null,
   "id": "f3fc3397-20f8-446e-9683-aa69fd49c61a",
   "metadata": {},
   "outputs": [],
   "source": []
  }
 ],
 "metadata": {
  "kernelspec": {
   "display_name": "Python 3 (ipykernel)",
   "language": "python",
   "name": "python3"
  },
  "language_info": {
   "codemirror_mode": {
    "name": "ipython",
    "version": 3
   },
   "file_extension": ".py",
   "mimetype": "text/x-python",
   "name": "python",
   "nbconvert_exporter": "python",
   "pygments_lexer": "ipython3",
   "version": "3.8.12"
  }
 },
 "nbformat": 4,
 "nbformat_minor": 5
}
