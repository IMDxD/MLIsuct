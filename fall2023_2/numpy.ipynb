{
 "cells": [
  {
   "cell_type": "code",
   "execution_count": 1,
   "metadata": {
    "executionInfo": {
     "elapsed": 39,
     "status": "ok",
     "timestamp": 1694524243750,
     "user": {
      "displayName": "Антон Нестеренко",
      "userId": "08410396886346691842"
     },
     "user_tz": -180
    },
    "id": "BEQYKK1MHT6I"
   },
   "outputs": [],
   "source": [
    "import numpy as np"
   ]
  },
  {
   "cell_type": "code",
   "execution_count": 2,
   "metadata": {
    "colab": {
     "base_uri": "https://localhost:8080/"
    },
    "executionInfo": {
     "elapsed": 37,
     "status": "ok",
     "timestamp": 1694524243750,
     "user": {
      "displayName": "Антон Нестеренко",
      "userId": "08410396886346691842"
     },
     "user_tz": -180
    },
    "id": "sD5eLRQjJL9l",
    "outputId": "db3a1e44-27b6-4835-a59f-636be48baf40"
   },
   "outputs": [
    {
     "name": "stdout",
     "output_type": "stream",
     "text": [
      "bin\t\t\t    etc     media\t\t      root  tools\n",
      "boot\t\t\t    home    mnt\t\t\t      run   usr\n",
      "content\t\t\t    lib     NGC-DL-CONTAINER-LICENSE  sbin  var\n",
      "cuda-keyring_1.0-1_all.deb  lib32   opt\t\t\t      srv\n",
      "datalab\t\t\t    lib64   proc\t\t      sys\n",
      "dev\t\t\t    libx32  python-apt\t\t      tmp\n"
     ]
    }
   ],
   "source": [
    "!ls /"
   ]
  },
  {
   "cell_type": "code",
   "execution_count": 3,
   "metadata": {
    "executionInfo": {
     "elapsed": 26,
     "status": "ok",
     "timestamp": 1694524243751,
     "user": {
      "displayName": "Антон Нестеренко",
      "userId": "08410396886346691842"
     },
     "user_tz": -180
    },
    "id": "ceQGk7CCHeL-"
   },
   "outputs": [],
   "source": [
    "a = np.random.randint(0, 255, size=(512, 640, 3))"
   ]
  },
  {
   "cell_type": "code",
   "execution_count": 4,
   "metadata": {
    "colab": {
     "base_uri": "https://localhost:8080/"
    },
    "executionInfo": {
     "elapsed": 25,
     "status": "ok",
     "timestamp": 1694524243751,
     "user": {
      "displayName": "Антон Нестеренко",
      "userId": "08410396886346691842"
     },
     "user_tz": -180
    },
    "id": "sz5RdT3sHetB",
    "outputId": "dbac62f1-410f-4498-f0e6-70f6b90f7f39"
   },
   "outputs": [
    {
     "data": {
      "text/plain": [
       "(512, 640, 3)"
      ]
     },
     "execution_count": 4,
     "metadata": {},
     "output_type": "execute_result"
    }
   ],
   "source": [
    "a.shape # размер массива"
   ]
  },
  {
   "cell_type": "code",
   "execution_count": 5,
   "metadata": {
    "colab": {
     "base_uri": "https://localhost:8080/"
    },
    "executionInfo": {
     "elapsed": 22,
     "status": "ok",
     "timestamp": 1694524243751,
     "user": {
      "displayName": "Антон Нестеренко",
      "userId": "08410396886346691842"
     },
     "user_tz": -180
    },
    "id": "U8tC1o0RHfHq",
    "outputId": "5cc78fd8-3356-4adc-f409-29674747fab5"
   },
   "outputs": [
    {
     "data": {
      "text/plain": [
       "983040"
      ]
     },
     "execution_count": 5,
     "metadata": {},
     "output_type": "execute_result"
    }
   ],
   "source": [
    "a.size # количество элементов"
   ]
  },
  {
   "cell_type": "code",
   "execution_count": 6,
   "metadata": {
    "colab": {
     "base_uri": "https://localhost:8080/"
    },
    "executionInfo": {
     "elapsed": 20,
     "status": "ok",
     "timestamp": 1694524243752,
     "user": {
      "displayName": "Антон Нестеренко",
      "userId": "08410396886346691842"
     },
     "user_tz": -180
    },
    "id": "iwndqVZDJ3H2",
    "outputId": "7ffac6dc-873a-4511-cd8e-2759352e0bac"
   },
   "outputs": [
    {
     "data": {
      "text/plain": [
       "170"
      ]
     },
     "execution_count": 6,
     "metadata": {},
     "output_type": "execute_result"
    }
   ],
   "source": [
    "a[0, 1, 2] # индексы через запятую, индексов столько сколько чисел в shape"
   ]
  },
  {
   "cell_type": "code",
   "execution_count": 7,
   "metadata": {
    "colab": {
     "base_uri": "https://localhost:8080/"
    },
    "executionInfo": {
     "elapsed": 18,
     "status": "ok",
     "timestamp": 1694524243752,
     "user": {
      "displayName": "Антон Нестеренко",
      "userId": "08410396886346691842"
     },
     "user_tz": -180
    },
    "id": "WfgM7DO-KjBh",
    "outputId": "715e7d0c-319e-4199-91b0-da94e5f42184"
   },
   "outputs": [
    {
     "data": {
      "text/plain": [
       "array([150, 170, 234,  38,  89,  22, 133,  42, 235, 122, 217, 155, 125,\n",
       "        25,  71,  96, 222, 178,  70,  11, 113,  85, 205, 103, 223, 232,\n",
       "       180, 244,  62, 232, 181,   3,  54, 107, 180,  71, 146, 161, 237,\n",
       "        13, 170, 154, 150, 218,  22, 121,  94,  81, 207, 180, 204,  35,\n",
       "       183, 193, 194, 242, 178,   6, 167, 202,  24, 141,  71,  17, 215,\n",
       "       251,  18, 245, 235,  21,  89,  14, 146, 115, 213,  54, 118, 237,\n",
       "       177,  25, 103,  51, 114,  95, 110,  47, 101, 247, 141, 191,  58,\n",
       "       192, 141, 153, 215,  23, 148, 167, 208,  20,  54, 123,  68, 120,\n",
       "       103,  30, 153,  27,  52,  91,  60, 242, 154,  59, 102, 239, 175,\n",
       "        29, 196, 119, 157, 228, 220,  55, 138, 197,  27, 244,  31,  10,\n",
       "       164, 197,  25, 117, 194,  70,  31, 175, 133, 227, 136,   7, 146,\n",
       "       216,  75,  71, 221,  52, 249,  16,  11, 125, 130, 214,  92,  10,\n",
       "       108, 128, 171,  43, 188,  69, 202, 137, 159, 133, 150,  72,  46,\n",
       "       209, 250, 167, 118, 128, 158, 124, 172,  16, 103,  67,  27,  22,\n",
       "       221,  68, 220,  19, 189,  77, 152, 251, 191, 227,   2, 250,  88,\n",
       "         1, 135, 124,  41,  56, 190, 146, 104,  60,  31,   2,  62, 114,\n",
       "        35,  44, 207,  48, 129,  39, 133, 253,  47, 172, 189,  71,  27,\n",
       "       195, 216, 160, 232,  85, 126,  74, 234, 133, 184, 188,  86, 136,\n",
       "       221,  52, 227, 182,  47, 219, 202, 151,  62, 101,  50,  74,  84,\n",
       "       129, 124, 123, 101,  18,  20, 109,  17, 112, 136, 234, 138,  88,\n",
       "       113, 248, 186, 210,  50, 142, 100, 135, 214, 138,  62,  25, 172,\n",
       "       127, 206, 182, 245, 228, 118, 208, 236, 252,  62,  22, 206, 226,\n",
       "        83,  60, 182, 155, 158,  77,  98,  48,  75, 118, 202, 108, 207,\n",
       "        41, 133, 220,  66,  18,  62,  78, 109,  80,  37, 135, 228, 250,\n",
       "       239, 189, 209, 114, 222, 234, 133, 243,   3, 153, 216, 229, 172,\n",
       "        85, 122, 158,  93, 133, 148, 234,  34, 215, 155, 167, 164,  24,\n",
       "       210, 144, 231, 127, 143,  48,   8, 158, 245, 203,  47, 206,  28,\n",
       "       192, 234,  91, 224,  43, 133,  39, 102, 146, 214, 104, 227,  57,\n",
       "       159, 250, 162, 197, 217,  39, 120,  99, 129,  87, 193, 253, 228,\n",
       "       196, 236,  89, 111,  18,  88,  39, 135, 151, 215,  33,  24, 154,\n",
       "       202, 179,  89,  32,  78, 181,  55,   7, 186,  27,  91,  51, 217,\n",
       "       199, 222, 186, 181,  93, 126, 105,  54, 127, 134, 183, 184, 142,\n",
       "        82,  61, 105,  12,  78, 131,  97, 110,  20, 226, 170,  84, 244,\n",
       "        92,  60,  72, 190, 115,  59, 213, 188, 147, 161,  62, 226, 131,\n",
       "        96,  53,  55,  62,   5,  91, 251, 169, 211,   6,  52,  47, 254,\n",
       "       169, 180, 246, 160, 177, 169, 254, 234, 141, 148, 227, 209, 203,\n",
       "       215,  38, 171, 222, 179, 250, 254,  28,  74,  28,  79,  47,  54,\n",
       "         7,  92, 231, 196, 142,  99,  19, 240, 116, 217, 217, 217,  94,\n",
       "       162, 170, 196, 128, 214, 127, 136, 125, 119,  76,   9,  25, 124,\n",
       "        80,  77, 168, 206,  79, 220, 220, 226,  14,   8, 239, 200, 146,\n",
       "        42, 242, 128,  40,  75, 192,  38,   7, 196, 150,  31, 155, 143,\n",
       "        69, 239, 115, 168,  78, 221, 122, 107,  66,  82, 167, 161,  41,\n",
       "       165, 248, 107, 171, 124, 202,  61, 114,  64,  76,  73, 197, 133,\n",
       "       189,  12, 173, 189, 111, 226,   6, 200,  40,  44, 138,   2, 101,\n",
       "        58, 235,  84, 212, 203,  83,  26, 189, 195, 170,  77, 243,  73,\n",
       "       142,  77, 193, 217,  38, 133, 224,  51, 218,  18,  96, 148, 128,\n",
       "       226, 153, 200,  18, 164, 237,  64, 228,  61, 204, 199,  93, 121,\n",
       "        21,  52, 209, 248, 144, 180, 141, 254,  42,  28,  94,   0,   0,\n",
       "       150, 143, 117,  56,  56,  25, 116, 154, 236,  90,  19, 166, 192,\n",
       "        26,  45,   9])"
      ]
     },
     "execution_count": 7,
     "metadata": {},
     "output_type": "execute_result"
    }
   ],
   "source": [
    "a[0, :, 2] # вся строчка :"
   ]
  },
  {
   "cell_type": "code",
   "execution_count": 8,
   "metadata": {
    "colab": {
     "base_uri": "https://localhost:8080/"
    },
    "executionInfo": {
     "elapsed": 16,
     "status": "ok",
     "timestamp": 1694524243752,
     "user": {
      "displayName": "Антон Нестеренко",
      "userId": "08410396886346691842"
     },
     "user_tz": -180
    },
    "id": "fTaeZ15BKqCj",
    "outputId": "c4e95d07-f021-4d05-8d91-bf715815b0ee"
   },
   "outputs": [
    {
     "data": {
      "text/plain": [
       "array([16, 92])"
      ]
     },
     "execution_count": 8,
     "metadata": {},
     "output_type": "execute_result"
    }
   ],
   "source": [
    "a[0, 1, 0:2] # каждое отдельное измеренеие умеет индексироваться как list"
   ]
  },
  {
   "cell_type": "code",
   "execution_count": 9,
   "metadata": {
    "colab": {
     "base_uri": "https://localhost:8080/"
    },
    "executionInfo": {
     "elapsed": 13,
     "status": "ok",
     "timestamp": 1694524243753,
     "user": {
      "displayName": "Антон Нестеренко",
      "userId": "08410396886346691842"
     },
     "user_tz": -180
    },
    "id": "LSTk1-5NK6wM",
    "outputId": "9ac307cb-1717-47dd-c5b8-5b7ff43df305"
   },
   "outputs": [
    {
     "data": {
      "text/plain": [
       "array([[ 99, 224],\n",
       "       [243,  93],\n",
       "       [201,  91],\n",
       "       [ 97, 200],\n",
       "       [ 37,  57]])"
      ]
     },
     "execution_count": 9,
     "metadata": {},
     "output_type": "execute_result"
    }
   ],
   "source": [
    "a[1:10:2, 1, 0:2] # возвращается столько измерений сколько слайсов"
   ]
  },
  {
   "cell_type": "code",
   "execution_count": 10,
   "metadata": {
    "colab": {
     "base_uri": "https://localhost:8080/"
    },
    "executionInfo": {
     "elapsed": 11,
     "status": "ok",
     "timestamp": 1694524243753,
     "user": {
      "displayName": "Антон Нестеренко",
      "userId": "08410396886346691842"
     },
     "user_tz": -180
    },
    "id": "2i30l_6VLDAa",
    "outputId": "38a96168-9d18-4635-d8c9-a0898794a084"
   },
   "outputs": [
    {
     "data": {
      "text/plain": [
       "array([239,   8, 116])"
      ]
     },
     "execution_count": 10,
     "metadata": {},
     "output_type": "execute_result"
    }
   ],
   "source": [
    "a[[1, 3, 5], 1, 2] # индексирование массивом возращает элементы которые указаны в массиве"
   ]
  },
  {
   "cell_type": "code",
   "execution_count": 11,
   "metadata": {
    "colab": {
     "base_uri": "https://localhost:8080/"
    },
    "executionInfo": {
     "elapsed": 10,
     "status": "ok",
     "timestamp": 1694524243753,
     "user": {
      "displayName": "Антон Нестеренко",
      "userId": "08410396886346691842"
     },
     "user_tz": -180
    },
    "id": "KYR24I3rLWr7",
    "outputId": "acf337cd-6815-4c24-efa6-be02e5b44955"
   },
   "outputs": [
    {
     "data": {
      "text/plain": [
       "array([197, 180,  90])"
      ]
     },
     "execution_count": 11,
     "metadata": {},
     "output_type": "execute_result"
    }
   ],
   "source": [
    "a[[1, 4, 5], [6, 20, 44], 1] # массив будет на любой позиции"
   ]
  },
  {
   "cell_type": "code",
   "execution_count": 12,
   "metadata": {
    "colab": {
     "base_uri": "https://localhost:8080/",
     "height": 193
    },
    "executionInfo": {
     "elapsed": 317,
     "status": "error",
     "timestamp": 1694524244061,
     "user": {
      "displayName": "Антон Нестеренко",
      "userId": "08410396886346691842"
     },
     "user_tz": -180
    },
    "id": "DmH-TD3IMRet",
    "outputId": "42a51ab2-2ecd-4a67-abfb-e210de6447b4"
   },
   "outputs": [
    {
     "ename": "IndexError",
     "evalue": "ignored",
     "output_type": "error",
     "traceback": [
      "\u001b[0;31m---------------------------------------------------------------------------\u001b[0m",
      "\u001b[0;31mIndexError\u001b[0m                                Traceback (most recent call last)",
      "\u001b[0;32m<ipython-input-12-d334406cf7f2>\u001b[0m in \u001b[0;36m<cell line: 1>\u001b[0;34m()\u001b[0m\n\u001b[0;32m----> 1\u001b[0;31m \u001b[0ma\u001b[0m\u001b[0;34m[\u001b[0m\u001b[0;34m[\u001b[0m\u001b[0;36m1\u001b[0m\u001b[0;34m,\u001b[0m \u001b[0;36m4\u001b[0m\u001b[0;34m,\u001b[0m \u001b[0;36m5\u001b[0m\u001b[0;34m]\u001b[0m\u001b[0;34m,\u001b[0m \u001b[0;34m[\u001b[0m\u001b[0;36m6\u001b[0m\u001b[0;34m,\u001b[0m \u001b[0;36m20\u001b[0m\u001b[0;34m]\u001b[0m\u001b[0;34m,\u001b[0m \u001b[0;36m1\u001b[0m\u001b[0;34m]\u001b[0m \u001b[0;31m# размер массивом должен быть одинаков\u001b[0m\u001b[0;34m\u001b[0m\u001b[0;34m\u001b[0m\u001b[0m\n\u001b[0m",
      "\u001b[0;31mIndexError\u001b[0m: shape mismatch: indexing arrays could not be broadcast together with shapes (3,) (2,) "
     ]
    }
   ],
   "source": [
    "a[[1, 4, 5], [6, 20], 1] # размер массивом должен быть одинаков"
   ]
  },
  {
   "cell_type": "code",
   "execution_count": 13,
   "metadata": {
    "colab": {
     "base_uri": "https://localhost:8080/"
    },
    "executionInfo": {
     "elapsed": 360,
     "status": "ok",
     "timestamp": 1694524258220,
     "user": {
      "displayName": "Антон Нестеренко",
      "userId": "08410396886346691842"
     },
     "user_tz": -180
    },
    "id": "H3GM-EfUMa7e",
    "outputId": "3eee5ee7-e8e3-4780-ecc5-32b67f9492e1"
   },
   "outputs": [
    {
     "data": {
      "text/plain": [
       "array([[[False, False,  True],\n",
       "        [False, False,  True],\n",
       "        [False,  True,  True],\n",
       "        ...,\n",
       "        [False, False, False],\n",
       "        [False,  True, False],\n",
       "        [ True, False, False]],\n",
       "\n",
       "       [[ True,  True, False],\n",
       "        [False,  True,  True],\n",
       "        [ True, False,  True],\n",
       "        ...,\n",
       "        [ True,  True, False],\n",
       "        [ True, False, False],\n",
       "        [ True, False,  True]],\n",
       "\n",
       "       [[False,  True, False],\n",
       "        [ True, False, False],\n",
       "        [False, False,  True],\n",
       "        ...,\n",
       "        [False, False,  True],\n",
       "        [False, False, False],\n",
       "        [False, False,  True]],\n",
       "\n",
       "       ...,\n",
       "\n",
       "       [[ True, False,  True],\n",
       "        [False, False, False],\n",
       "        [False,  True,  True],\n",
       "        ...,\n",
       "        [False,  True,  True],\n",
       "        [ True, False,  True],\n",
       "        [False, False, False]],\n",
       "\n",
       "       [[ True, False, False],\n",
       "        [False, False, False],\n",
       "        [ True, False,  True],\n",
       "        ...,\n",
       "        [False, False,  True],\n",
       "        [ True, False,  True],\n",
       "        [False,  True,  True]],\n",
       "\n",
       "       [[False, False, False],\n",
       "        [ True,  True, False],\n",
       "        [False, False,  True],\n",
       "        ...,\n",
       "        [False,  True, False],\n",
       "        [False, False,  True],\n",
       "        [ True,  True,  True]]])"
      ]
     },
     "execution_count": 13,
     "metadata": {},
     "output_type": "execute_result"
    }
   ],
   "source": [
    "a > 127 # булева операция применится к каждому элементу"
   ]
  },
  {
   "cell_type": "code",
   "execution_count": 14,
   "metadata": {
    "colab": {
     "base_uri": "https://localhost:8080/"
    },
    "executionInfo": {
     "elapsed": 5,
     "status": "ok",
     "timestamp": 1694524258641,
     "user": {
      "displayName": "Антон Нестеренко",
      "userId": "08410396886346691842"
     },
     "user_tz": -180
    },
    "id": "zDv3CvFjMvJA",
    "outputId": "c937e567-714d-4002-f677-dac3cb2e29e8"
   },
   "outputs": [
    {
     "data": {
      "text/plain": [
       "array([150, 170, 208, ..., 230, 242, 146])"
      ]
     },
     "execution_count": 14,
     "metadata": {},
     "output_type": "execute_result"
    }
   ],
   "source": [
    "a[a > 127] # булево индексирование вернет все элементы которые True одномерным массивом"
   ]
  },
  {
   "cell_type": "code",
   "execution_count": 15,
   "metadata": {
    "executionInfo": {
     "elapsed": 308,
     "status": "ok",
     "timestamp": 1694524267322,
     "user": {
      "displayName": "Антон Нестеренко",
      "userId": "08410396886346691842"
     },
     "user_tz": -180
    },
    "id": "SL5NV0azM2Z8"
   },
   "outputs": [],
   "source": [
    "b = np.random.randint(0, 255, size=(4, 5))"
   ]
  },
  {
   "cell_type": "code",
   "execution_count": 16,
   "metadata": {
    "colab": {
     "base_uri": "https://localhost:8080/"
    },
    "executionInfo": {
     "elapsed": 297,
     "status": "ok",
     "timestamp": 1694524268804,
     "user": {
      "displayName": "Антон Нестеренко",
      "userId": "08410396886346691842"
     },
     "user_tz": -180
    },
    "id": "JUIOkQ8ONBYV",
    "outputId": "60e8dc1b-2a2a-45b4-9540-a17df0776fe3"
   },
   "outputs": [
    {
     "data": {
      "text/plain": [
       "array([[ 99,  50, 212, 242,  93],\n",
       "       [ 60,  92,  47,   0, 115],\n",
       "       [192, 227,   0, 140, 138],\n",
       "       [213, 207, 222, 181, 228]])"
      ]
     },
     "execution_count": 16,
     "metadata": {},
     "output_type": "execute_result"
    }
   ],
   "source": [
    "b"
   ]
  },
  {
   "cell_type": "code",
   "execution_count": 17,
   "metadata": {
    "executionInfo": {
     "elapsed": 8,
     "status": "ok",
     "timestamp": 1694524291503,
     "user": {
      "displayName": "Антон Нестеренко",
      "userId": "08410396886346691842"
     },
     "user_tz": -180
    },
    "id": "Um9cQaqvNBxg"
   },
   "outputs": [],
   "source": [
    "b[0, 1] += 5 # индексирование возвращает ссылки"
   ]
  },
  {
   "cell_type": "code",
   "execution_count": 20,
   "metadata": {
    "colab": {
     "base_uri": "https://localhost:8080/"
    },
    "executionInfo": {
     "elapsed": 285,
     "status": "ok",
     "timestamp": 1694524349298,
     "user": {
      "displayName": "Антон Нестеренко",
      "userId": "08410396886346691842"
     },
     "user_tz": -180
    },
    "id": "o8W4agiJNMJX",
    "outputId": "41a84883-adb7-4bc6-cdfc-101d3fdd9c14"
   },
   "outputs": [
    {
     "data": {
      "text/plain": [
       "array([[ 99,  55, 212, 242,  93],\n",
       "       [ 60,  92,  47,   0, 115],\n",
       "       [192, 227,   0, 420, 138],\n",
       "       [213, 207, 222, 724, 228]])"
      ]
     },
     "execution_count": 20,
     "metadata": {},
     "output_type": "execute_result"
    }
   ],
   "source": [
    "b"
   ]
  },
  {
   "cell_type": "code",
   "execution_count": 19,
   "metadata": {
    "executionInfo": {
     "elapsed": 289,
     "status": "ok",
     "timestamp": 1694524337316,
     "user": {
      "displayName": "Антон Нестеренко",
      "userId": "08410396886346691842"
     },
     "user_tz": -180
    },
    "id": "svwgfiwGNMux"
   },
   "outputs": [],
   "source": [
    "b[:, 3] *= np.array([1, 2, 3, 4]) # можно изменить весь столбец/строку выполнив векторную операцию"
   ]
  },
  {
   "cell_type": "code",
   "execution_count": 21,
   "metadata": {
    "colab": {
     "base_uri": "https://localhost:8080/",
     "height": 176
    },
    "executionInfo": {
     "elapsed": 422,
     "status": "error",
     "timestamp": 1694524371036,
     "user": {
      "displayName": "Антон Нестеренко",
      "userId": "08410396886346691842"
     },
     "user_tz": -180
    },
    "id": "XlMWyRxVNZl2",
    "outputId": "582cab71-6f4b-42d2-8503-153699d79421"
   },
   "outputs": [
    {
     "ename": "ValueError",
     "evalue": "ignored",
     "output_type": "error",
     "traceback": [
      "\u001b[0;31m---------------------------------------------------------------------------\u001b[0m",
      "\u001b[0;31mValueError\u001b[0m                                Traceback (most recent call last)",
      "\u001b[0;32m<ipython-input-21-860d29d2131e>\u001b[0m in \u001b[0;36m<cell line: 1>\u001b[0;34m()\u001b[0m\n\u001b[0;32m----> 1\u001b[0;31m \u001b[0mb\u001b[0m\u001b[0;34m[\u001b[0m\u001b[0;34m:\u001b[0m\u001b[0;34m,\u001b[0m \u001b[0;36m3\u001b[0m\u001b[0;34m]\u001b[0m \u001b[0;34m*=\u001b[0m \u001b[0mnp\u001b[0m\u001b[0;34m.\u001b[0m\u001b[0marray\u001b[0m\u001b[0;34m(\u001b[0m\u001b[0;34m[\u001b[0m\u001b[0;36m1\u001b[0m\u001b[0;34m,\u001b[0m \u001b[0;36m2\u001b[0m\u001b[0;34m,\u001b[0m \u001b[0;36m3\u001b[0m\u001b[0;34m]\u001b[0m\u001b[0;34m)\u001b[0m\u001b[0;34m\u001b[0m\u001b[0;34m\u001b[0m\u001b[0m\n\u001b[0m",
      "\u001b[0;31mValueError\u001b[0m: operands could not be broadcast together with shapes (4,) (3,) (4,) "
     ]
    }
   ],
   "source": [
    "b[:, 3] *= np.array([1, 2, 3])"
   ]
  },
  {
   "cell_type": "code",
   "execution_count": 22,
   "metadata": {
    "colab": {
     "base_uri": "https://localhost:8080/"
    },
    "executionInfo": {
     "elapsed": 282,
     "status": "ok",
     "timestamp": 1694524394592,
     "user": {
      "displayName": "Антон Нестеренко",
      "userId": "08410396886346691842"
     },
     "user_tz": -180
    },
    "id": "r4n-qxTLNaBm",
    "outputId": "d9ccdea5-492e-45c4-ebaa-df4e0d9e76dc"
   },
   "outputs": [
    {
     "data": {
      "text/plain": [
       "(array([0, 0, 2, 2, 2, 2, 3, 3, 3, 3, 3]),\n",
       " array([2, 3, 0, 1, 3, 4, 0, 1, 2, 3, 4]))"
      ]
     },
     "execution_count": 22,
     "metadata": {},
     "output_type": "execute_result"
    }
   ],
   "source": [
    "np.where(b > 127) # возвращает индексы элементов которые удовлетворяют условию, каждый из массиво это индекс по своей оси"
   ]
  },
  {
   "cell_type": "code",
   "execution_count": 23,
   "metadata": {
    "colab": {
     "base_uri": "https://localhost:8080/"
    },
    "executionInfo": {
     "elapsed": 291,
     "status": "ok",
     "timestamp": 1694524416925,
     "user": {
      "displayName": "Антон Нестеренко",
      "userId": "08410396886346691842"
     },
     "user_tz": -180
    },
    "id": "1wb5Gc5sNy_4",
    "outputId": "e4b5fddc-e25b-46e5-e6cd-4f3f0f29156c"
   },
   "outputs": [
    {
     "data": {
      "text/plain": [
       "(array([  0,   0,   0, ..., 511, 511, 511]),\n",
       " array([  0,   1,   2, ..., 639, 639, 639]),\n",
       " array([2, 2, 1, ..., 0, 1, 2]))"
      ]
     },
     "execution_count": 23,
     "metadata": {},
     "output_type": "execute_result"
    }
   ],
   "source": [
    "np.where(a > 127)"
   ]
  },
  {
   "cell_type": "code",
   "execution_count": 25,
   "metadata": {
    "colab": {
     "base_uri": "https://localhost:8080/"
    },
    "executionInfo": {
     "elapsed": 5,
     "status": "ok",
     "timestamp": 1694524469149,
     "user": {
      "displayName": "Антон Нестеренко",
      "userId": "08410396886346691842"
     },
     "user_tz": -180
    },
    "id": "UQAIVlJuhuMX",
    "outputId": "5bfee627-7668-4b1f-a6c5-fbf047230151"
   },
   "outputs": [
    {
     "data": {
      "text/plain": [
       "array([[False, False, False, False, False],\n",
       "       [False, False, False, False, False],\n",
       "       [ True, False, False, False,  True],\n",
       "       [False, False, False, False, False]])"
      ]
     },
     "execution_count": 25,
     "metadata": {},
     "output_type": "execute_result"
    }
   ],
   "source": [
    "(b > 127) & (b < 200)"
   ]
  },
  {
   "cell_type": "code",
   "execution_count": 26,
   "metadata": {
    "colab": {
     "base_uri": "https://localhost:8080/"
    },
    "executionInfo": {
     "elapsed": 11,
     "status": "ok",
     "timestamp": 1694524480958,
     "user": {
      "displayName": "Антон Нестеренко",
      "userId": "08410396886346691842"
     },
     "user_tz": -180
    },
    "id": "r9O4SwQXh4q3",
    "outputId": "695cd90f-051b-4db1-818b-15644150f22b"
   },
   "outputs": [
    {
     "data": {
      "text/plain": [
       "array([[ True,  True,  True,  True,  True],\n",
       "       [ True,  True,  True,  True,  True],\n",
       "       [ True,  True,  True,  True,  True],\n",
       "       [ True,  True,  True,  True,  True]])"
      ]
     },
     "execution_count": 26,
     "metadata": {},
     "output_type": "execute_result"
    }
   ],
   "source": [
    "(b > 127) | (b < 200)"
   ]
  },
  {
   "cell_type": "code",
   "execution_count": 27,
   "metadata": {
    "colab": {
     "base_uri": "https://localhost:8080/"
    },
    "executionInfo": {
     "elapsed": 346,
     "status": "ok",
     "timestamp": 1694524509712,
     "user": {
      "displayName": "Антон Нестеренко",
      "userId": "08410396886346691842"
     },
     "user_tz": -180
    },
    "id": "ufp8DuquN-1G",
    "outputId": "7f63a388-7326-46c3-dbf5-b509fd8c4296"
   },
   "outputs": [
    {
     "data": {
      "text/plain": [
       "(512, 640, 3)"
      ]
     },
     "execution_count": 27,
     "metadata": {},
     "output_type": "execute_result"
    }
   ],
   "source": [
    "a.shape"
   ]
  },
  {
   "cell_type": "code",
   "execution_count": 28,
   "metadata": {
    "colab": {
     "base_uri": "https://localhost:8080/"
    },
    "executionInfo": {
     "elapsed": 308,
     "status": "ok",
     "timestamp": 1694524522125,
     "user": {
      "displayName": "Антон Нестеренко",
      "userId": "08410396886346691842"
     },
     "user_tz": -180
    },
    "id": "asSrR2nTOyEZ",
    "outputId": "1d5a98df-0961-4731-8fad-705884f5bea7"
   },
   "outputs": [
    {
     "data": {
      "text/plain": [
       "127.02087809244792"
      ]
     },
     "execution_count": 28,
     "metadata": {},
     "output_type": "execute_result"
    }
   ],
   "source": [
    "a.mean() # среднее"
   ]
  },
  {
   "cell_type": "code",
   "execution_count": 29,
   "metadata": {
    "colab": {
     "base_uri": "https://localhost:8080/"
    },
    "executionInfo": {
     "elapsed": 12,
     "status": "ok",
     "timestamp": 1694524632601,
     "user": {
      "displayName": "Антон Нестеренко",
      "userId": "08410396886346691842"
     },
     "user_tz": -180
    },
    "id": "c_X63_1zO2KL",
    "outputId": "de9361c3-b1ee-40ea-c730-3551946a2123"
   },
   "outputs": [
    {
     "data": {
      "text/plain": [
       "(512,)"
      ]
     },
     "execution_count": 29,
     "metadata": {},
     "output_type": "execute_result"
    }
   ],
   "source": [
    "a.mean(axis=(1, 2)).shape # какие оси передаются те и схлопываются"
   ]
  },
  {
   "cell_type": "code",
   "execution_count": 30,
   "metadata": {
    "colab": {
     "base_uri": "https://localhost:8080/"
    },
    "executionInfo": {
     "elapsed": 327,
     "status": "ok",
     "timestamp": 1694524736189,
     "user": {
      "displayName": "Антон Нестеренко",
      "userId": "08410396886346691842"
     },
     "user_tz": -180
    },
    "id": "rg9ZkfVvO8QN",
    "outputId": "a7e356a5-3e98-4422-b87a-1eb9ddd533db"
   },
   "outputs": [
    {
     "data": {
      "text/plain": [
       "(640,)"
      ]
     },
     "execution_count": 30,
     "metadata": {},
     "output_type": "execute_result"
    }
   ],
   "source": [
    "a.mean(axis=(0, 2)).shape"
   ]
  },
  {
   "cell_type": "code",
   "execution_count": 31,
   "metadata": {
    "colab": {
     "base_uri": "https://localhost:8080/"
    },
    "executionInfo": {
     "elapsed": 417,
     "status": "ok",
     "timestamp": 1694524767881,
     "user": {
      "displayName": "Антон Нестеренко",
      "userId": "08410396886346691842"
     },
     "user_tz": -180
    },
    "id": "DIcG6dHai_VE",
    "outputId": "6b28255e-71be-4688-858c-cfc7a1bdd813"
   },
   "outputs": [
    {
     "data": {
      "text/plain": [
       "array([126.87731934, 127.16871643, 127.01659851])"
      ]
     },
     "execution_count": 31,
     "metadata": {},
     "output_type": "execute_result"
    }
   ],
   "source": [
    "a.mean(axis=(0, 1))"
   ]
  },
  {
   "cell_type": "code",
   "execution_count": 32,
   "metadata": {
    "colab": {
     "base_uri": "https://localhost:8080/"
    },
    "executionInfo": {
     "elapsed": 294,
     "status": "ok",
     "timestamp": 1694524826586,
     "user": {
      "displayName": "Антон Нестеренко",
      "userId": "08410396886346691842"
     },
     "user_tz": -180
    },
    "id": "6IdFfhpGPlsZ",
    "outputId": "54c11bfe-f8b4-4de4-f20c-dfeb7d3213d2"
   },
   "outputs": [
    {
     "data": {
      "text/plain": [
       "(512, 3)"
      ]
     },
     "execution_count": 32,
     "metadata": {},
     "output_type": "execute_result"
    }
   ],
   "source": [
    "a.mean(axis=1).shape"
   ]
  },
  {
   "cell_type": "code",
   "execution_count": 38,
   "metadata": {
    "colab": {
     "base_uri": "https://localhost:8080/"
    },
    "executionInfo": {
     "elapsed": 9,
     "status": "ok",
     "timestamp": 1694525086655,
     "user": {
      "displayName": "Антон Нестеренко",
      "userId": "08410396886346691842"
     },
     "user_tz": -180
    },
    "id": "kkMkif0oQFDP",
    "outputId": "4c87b4e5-9bb4-4689-f1ba-c017b4b6a98d"
   },
   "outputs": [
    {
     "data": {
      "text/plain": [
       "array([73.57182119, 73.61476523, 73.56197037])"
      ]
     },
     "execution_count": 38,
     "metadata": {},
     "output_type": "execute_result"
    }
   ],
   "source": [
    "a.std(axis=(0, 1)) # стандартное отклонение"
   ]
  },
  {
   "cell_type": "code",
   "execution_count": 39,
   "metadata": {
    "colab": {
     "base_uri": "https://localhost:8080/"
    },
    "executionInfo": {
     "elapsed": 315,
     "status": "ok",
     "timestamp": 1694525105844,
     "user": {
      "displayName": "Антон Нестеренко",
      "userId": "08410396886346691842"
     },
     "user_tz": -180
    },
    "id": "cl8opEiHQPti",
    "outputId": "f5eca8ab-40e9-41f7-f7f8-b5f847df2f36"
   },
   "outputs": [
    {
     "data": {
      "text/plain": [
       "124866604"
      ]
     },
     "execution_count": 39,
     "metadata": {},
     "output_type": "execute_result"
    }
   ],
   "source": [
    "a.sum()"
   ]
  },
  {
   "cell_type": "code",
   "execution_count": 40,
   "metadata": {
    "colab": {
     "base_uri": "https://localhost:8080/"
    },
    "executionInfo": {
     "elapsed": 311,
     "status": "ok",
     "timestamp": 1694525169388,
     "user": {
      "displayName": "Антон Нестеренко",
      "userId": "08410396886346691842"
     },
     "user_tz": -180
    },
    "id": "gA5fKQ4bQQwr",
    "outputId": "52e62aba-ec47-471b-f830-8fbd2024be95"
   },
   "outputs": [
    {
     "data": {
      "text/plain": [
       "array([127., 127., 127.])"
      ]
     },
     "execution_count": 40,
     "metadata": {},
     "output_type": "execute_result"
    }
   ],
   "source": [
    "np.median(a, axis=(0, 1)) # больше 50% данных и меньше 50%"
   ]
  },
  {
   "cell_type": "code",
   "execution_count": 41,
   "metadata": {
    "colab": {
     "base_uri": "https://localhost:8080/"
    },
    "executionInfo": {
     "elapsed": 403,
     "status": "ok",
     "timestamp": 1694525298796,
     "user": {
      "displayName": "Антон Нестеренко",
      "userId": "08410396886346691842"
     },
     "user_tz": -180
    },
    "id": "bLCz9hucQTZj",
    "outputId": "5837ed4d-5f21-4f1e-a42a-bd3b71e96442"
   },
   "outputs": [
    {
     "data": {
      "text/plain": [
       "array([190., 191., 191.])"
      ]
     },
     "execution_count": 41,
     "metadata": {},
     "output_type": "execute_result"
    }
   ],
   "source": [
    "np.quantile(a, 0.75, axis=(0, 1)) # больше 25% данных и меньше 75%"
   ]
  },
  {
   "cell_type": "code",
   "execution_count": 42,
   "metadata": {
    "colab": {
     "base_uri": "https://localhost:8080/"
    },
    "executionInfo": {
     "elapsed": 365,
     "status": "ok",
     "timestamp": 1694525307292,
     "user": {
      "displayName": "Антон Нестеренко",
      "userId": "08410396886346691842"
     },
     "user_tz": -180
    },
    "id": "N7p7GJcKQuoG",
    "outputId": "65e2f234-ad01-4cb7-d9e2-992153027066"
   },
   "outputs": [
    {
     "data": {
      "text/plain": [
       "array([[[ 87, 122, 150],\n",
       "        [ 16,  92, 170],\n",
       "        [ 52, 208, 234],\n",
       "        ...,\n",
       "        [  9,  26,  66],\n",
       "        [  3,  45, 144],\n",
       "        [  9,  49, 129]],\n",
       "\n",
       "       [[  2, 135, 193],\n",
       "        [ 99, 224, 239],\n",
       "        [ 88, 224, 232],\n",
       "        ...,\n",
       "        [ 23, 144, 168],\n",
       "        [  4,  23, 202],\n",
       "        [  0, 155, 232]],\n",
       "\n",
       "       [[ 39, 113, 234],\n",
       "        [ 32, 127, 180],\n",
       "        [ 60,  86, 157],\n",
       "        ...,\n",
       "        [ 19,  22, 253],\n",
       "        [ 25,  96, 125],\n",
       "        [  3,  10, 225]],\n",
       "\n",
       "       ...,\n",
       "\n",
       "       [[ 92, 222, 253],\n",
       "        [ 13,  99, 126],\n",
       "        [ 87, 143, 163],\n",
       "        ...,\n",
       "        [ 54, 205, 242],\n",
       "        [  0, 136, 218],\n",
       "        [ 27,  36,  40]],\n",
       "\n",
       "       [[ 42,  93, 161],\n",
       "        [121, 124, 126],\n",
       "        [111, 161, 175],\n",
       "        ...,\n",
       "        [ 17,  36, 186],\n",
       "        [ 81, 160, 226],\n",
       "        [ 18, 173, 203]],\n",
       "\n",
       "       [[ 54,  98, 126],\n",
       "        [ 27, 157, 232],\n",
       "        [ 36,  89, 199],\n",
       "        ...,\n",
       "        [  9, 109, 240],\n",
       "        [ 45,  84, 183],\n",
       "        [146, 230, 242]]])"
      ]
     },
     "execution_count": 42,
     "metadata": {},
     "output_type": "execute_result"
    }
   ],
   "source": [
    "np.sort(a)"
   ]
  },
  {
   "cell_type": "code",
   "execution_count": 43,
   "metadata": {
    "colab": {
     "base_uri": "https://localhost:8080/"
    },
    "executionInfo": {
     "elapsed": 313,
     "status": "ok",
     "timestamp": 1694525348136,
     "user": {
      "displayName": "Антон Нестеренко",
      "userId": "08410396886346691842"
     },
     "user_tz": -180
    },
    "id": "IccaW1v4RJdR",
    "outputId": "fef408ce-6cdb-404c-89e3-45dc07e48132"
   },
   "outputs": [
    {
     "data": {
      "text/plain": [
       "array([[[  0,   0,   0],\n",
       "        [  0,   0,   0],\n",
       "        [  0,   1,   1],\n",
       "        ...,\n",
       "        [252, 253, 254],\n",
       "        [252, 254, 254],\n",
       "        [253, 254, 254]],\n",
       "\n",
       "       [[  0,   0,   0],\n",
       "        [  0,   1,   0],\n",
       "        [  1,   1,   0],\n",
       "        ...,\n",
       "        [253, 253, 253],\n",
       "        [253, 254, 254],\n",
       "        [254, 254, 254]],\n",
       "\n",
       "       [[  0,   0,   0],\n",
       "        [  1,   1,   0],\n",
       "        [  1,   2,   0],\n",
       "        ...,\n",
       "        [253, 253, 253],\n",
       "        [253, 254, 254],\n",
       "        [254, 254, 254]],\n",
       "\n",
       "       ...,\n",
       "\n",
       "       [[  0,   0,   1],\n",
       "        [  1,   0,   2],\n",
       "        [  1,   1,   2],\n",
       "        ...,\n",
       "        [253, 254, 253],\n",
       "        [253, 254, 254],\n",
       "        [254, 254, 254]],\n",
       "\n",
       "       [[  0,   0,   0],\n",
       "        [  0,   0,   0],\n",
       "        [  0,   0,   1],\n",
       "        ...,\n",
       "        [254, 252, 254],\n",
       "        [254, 252, 254],\n",
       "        [254, 253, 254]],\n",
       "\n",
       "       [[  2,   0,   0],\n",
       "        [  2,   0,   0],\n",
       "        [  2,   1,   0],\n",
       "        ...,\n",
       "        [253, 252, 253],\n",
       "        [254, 252, 253],\n",
       "        [254, 254, 254]]])"
      ]
     },
     "execution_count": 43,
     "metadata": {},
     "output_type": "execute_result"
    }
   ],
   "source": [
    "np.sort(a, axis=1) # сортировать можно вдоль одной оси"
   ]
  },
  {
   "cell_type": "code",
   "execution_count": 44,
   "metadata": {
    "colab": {
     "base_uri": "https://localhost:8080/"
    },
    "executionInfo": {
     "elapsed": 365,
     "status": "ok",
     "timestamp": 1694525372447,
     "user": {
      "displayName": "Антон Нестеренко",
      "userId": "08410396886346691842"
     },
     "user_tz": -180
    },
    "id": "Gh3PTrmHRUzu",
    "outputId": "80340f6c-ae0f-44a4-b9b8-15d84e4f9f82"
   },
   "outputs": [
    {
     "data": {
      "text/plain": [
       "array([ 99,  55, 212, 242,  93,  60,  92,  47,   0, 115, 192, 227,   0,\n",
       "       420, 138, 213, 207, 222, 724, 228])"
      ]
     },
     "execution_count": 44,
     "metadata": {},
     "output_type": "execute_result"
    }
   ],
   "source": [
    "b.ravel() # разворачивает массив в одномерный вектор"
   ]
  },
  {
   "cell_type": "code",
   "execution_count": 47,
   "metadata": {
    "executionInfo": {
     "elapsed": 320,
     "status": "ok",
     "timestamp": 1694525402904,
     "user": {
      "displayName": "Антон Нестеренко",
      "userId": "08410396886346691842"
     },
     "user_tz": -180
    },
    "id": "-sMfW-qQlPpr"
   },
   "outputs": [],
   "source": [
    "c = b.ravel()"
   ]
  },
  {
   "cell_type": "code",
   "execution_count": 49,
   "metadata": {
    "colab": {
     "base_uri": "https://localhost:8080/"
    },
    "executionInfo": {
     "elapsed": 6,
     "status": "ok",
     "timestamp": 1694525408905,
     "user": {
      "displayName": "Антон Нестеренко",
      "userId": "08410396886346691842"
     },
     "user_tz": -180
    },
    "id": "6ysW2Br9RMUv",
    "outputId": "c22839f3-9aa5-4bdc-9b11-220745cdefcf"
   },
   "outputs": [
    {
     "data": {
      "text/plain": [
       "array([12,  8,  7,  1,  5,  6,  4,  0,  9, 14, 10, 16,  2, 15, 17, 11, 19,\n",
       "        3, 13, 18])"
      ]
     },
     "execution_count": 49,
     "metadata": {},
     "output_type": "execute_result"
    }
   ],
   "source": [
    "np.argsort(c) # возвращает порядковый номер индексов, умеет в оси"
   ]
  },
  {
   "cell_type": "code",
   "execution_count": 50,
   "metadata": {
    "colab": {
     "base_uri": "https://localhost:8080/"
    },
    "executionInfo": {
     "elapsed": 428,
     "status": "ok",
     "timestamp": 1694525441747,
     "user": {
      "displayName": "Антон Нестеренко",
      "userId": "08410396886346691842"
     },
     "user_tz": -180
    },
    "id": "vOXP9aXtRRxa",
    "outputId": "827f03cb-cc4d-4ff9-e082-47cde48d3565"
   },
   "outputs": [
    {
     "data": {
      "text/plain": [
       "array([ True,  True,  True,  True,  True,  True,  True,  True,  True,\n",
       "        True,  True,  True,  True,  True,  True,  True,  True,  True,\n",
       "        True,  True])"
      ]
     },
     "execution_count": 50,
     "metadata": {},
     "output_type": "execute_result"
    }
   ],
   "source": [
    "np.sort(c) == c[np.argsort(c)]"
   ]
  },
  {
   "cell_type": "code",
   "execution_count": 51,
   "metadata": {
    "colab": {
     "base_uri": "https://localhost:8080/"
    },
    "executionInfo": {
     "elapsed": 302,
     "status": "ok",
     "timestamp": 1694525458861,
     "user": {
      "displayName": "Антон Нестеренко",
      "userId": "08410396886346691842"
     },
     "user_tz": -180
    },
    "id": "QUvRzQByRwjQ",
    "outputId": "2326f7b8-adea-426d-b0c5-274c9450c26f"
   },
   "outputs": [
    {
     "data": {
      "text/plain": [
       "18"
      ]
     },
     "execution_count": 51,
     "metadata": {},
     "output_type": "execute_result"
    }
   ],
   "source": [
    "np.argmax(c) # индекс максимального умеет по осям"
   ]
  },
  {
   "cell_type": "code",
   "execution_count": 52,
   "metadata": {
    "colab": {
     "base_uri": "https://localhost:8080/"
    },
    "executionInfo": {
     "elapsed": 7,
     "status": "ok",
     "timestamp": 1694525459284,
     "user": {
      "displayName": "Антон Нестеренко",
      "userId": "08410396886346691842"
     },
     "user_tz": -180
    },
    "id": "bhw27-_1R6wM",
    "outputId": "dc239956-a7f1-450a-f5a0-b3b7e1e9d0a4"
   },
   "outputs": [
    {
     "data": {
      "text/plain": [
       "8"
      ]
     },
     "execution_count": 52,
     "metadata": {},
     "output_type": "execute_result"
    }
   ],
   "source": [
    "np.argmin(c) # индекс минимального умеет по осям"
   ]
  },
  {
   "cell_type": "code",
   "execution_count": 53,
   "metadata": {
    "colab": {
     "base_uri": "https://localhost:8080/"
    },
    "executionInfo": {
     "elapsed": 467,
     "status": "ok",
     "timestamp": 1694525481367,
     "user": {
      "displayName": "Антон Нестеренко",
      "userId": "08410396886346691842"
     },
     "user_tz": -180
    },
    "id": "tIvlA44TR771",
    "outputId": "39da02cf-8f59-4cc8-8758-22ddfb8ab73b"
   },
   "outputs": [
    {
     "data": {
      "text/plain": [
       "array([353.52934815, 165.82520918, 532.7635498 , 844.78517979])"
      ]
     },
     "execution_count": 53,
     "metadata": {},
     "output_type": "execute_result"
    }
   ],
   "source": [
    "np.linalg.norm(b, axis=1) # длина вектора"
   ]
  },
  {
   "cell_type": "code",
   "execution_count": 54,
   "metadata": {
    "colab": {
     "base_uri": "https://localhost:8080/",
     "height": 338
    },
    "executionInfo": {
     "elapsed": 331,
     "status": "error",
     "timestamp": 1694525491482,
     "user": {
      "displayName": "Антон Нестеренко",
      "userId": "08410396886346691842"
     },
     "user_tz": -180
    },
    "id": "Ii9vMJIhSOSh",
    "outputId": "925b0da1-4f21-488c-f718-bbfd3d96ac70"
   },
   "outputs": [
    {
     "ename": "LinAlgError",
     "evalue": "ignored",
     "output_type": "error",
     "traceback": [
      "\u001b[0;31m---------------------------------------------------------------------------\u001b[0m",
      "\u001b[0;31mLinAlgError\u001b[0m                               Traceback (most recent call last)",
      "\u001b[0;32m<ipython-input-54-f8b18f25367f>\u001b[0m in \u001b[0;36m<cell line: 1>\u001b[0;34m()\u001b[0m\n\u001b[0;32m----> 1\u001b[0;31m \u001b[0mnp\u001b[0m\u001b[0;34m.\u001b[0m\u001b[0mlinalg\u001b[0m\u001b[0;34m.\u001b[0m\u001b[0minv\u001b[0m\u001b[0;34m(\u001b[0m\u001b[0mb\u001b[0m\u001b[0;34m)\u001b[0m \u001b[0;31m# обратная матрица, только для квадратных\u001b[0m\u001b[0;34m\u001b[0m\u001b[0;34m\u001b[0m\u001b[0m\n\u001b[0m",
      "\u001b[0;32m/usr/local/lib/python3.10/dist-packages/numpy/core/overrides.py\u001b[0m in \u001b[0;36minv\u001b[0;34m(*args, **kwargs)\u001b[0m\n",
      "\u001b[0;32m/usr/local/lib/python3.10/dist-packages/numpy/linalg/linalg.py\u001b[0m in \u001b[0;36minv\u001b[0;34m(a)\u001b[0m\n\u001b[1;32m    545\u001b[0m     \u001b[0ma\u001b[0m\u001b[0;34m,\u001b[0m \u001b[0mwrap\u001b[0m \u001b[0;34m=\u001b[0m \u001b[0m_makearray\u001b[0m\u001b[0;34m(\u001b[0m\u001b[0ma\u001b[0m\u001b[0;34m)\u001b[0m\u001b[0;34m\u001b[0m\u001b[0;34m\u001b[0m\u001b[0m\n\u001b[1;32m    546\u001b[0m     \u001b[0m_assert_stacked_2d\u001b[0m\u001b[0;34m(\u001b[0m\u001b[0ma\u001b[0m\u001b[0;34m)\u001b[0m\u001b[0;34m\u001b[0m\u001b[0;34m\u001b[0m\u001b[0m\n\u001b[0;32m--> 547\u001b[0;31m     \u001b[0m_assert_stacked_square\u001b[0m\u001b[0;34m(\u001b[0m\u001b[0ma\u001b[0m\u001b[0;34m)\u001b[0m\u001b[0;34m\u001b[0m\u001b[0;34m\u001b[0m\u001b[0m\n\u001b[0m\u001b[1;32m    548\u001b[0m     \u001b[0mt\u001b[0m\u001b[0;34m,\u001b[0m \u001b[0mresult_t\u001b[0m \u001b[0;34m=\u001b[0m \u001b[0m_commonType\u001b[0m\u001b[0;34m(\u001b[0m\u001b[0ma\u001b[0m\u001b[0;34m)\u001b[0m\u001b[0;34m\u001b[0m\u001b[0;34m\u001b[0m\u001b[0m\n\u001b[1;32m    549\u001b[0m \u001b[0;34m\u001b[0m\u001b[0m\n",
      "\u001b[0;32m/usr/local/lib/python3.10/dist-packages/numpy/linalg/linalg.py\u001b[0m in \u001b[0;36m_assert_stacked_square\u001b[0;34m(*arrays)\u001b[0m\n\u001b[1;32m    202\u001b[0m         \u001b[0mm\u001b[0m\u001b[0;34m,\u001b[0m \u001b[0mn\u001b[0m \u001b[0;34m=\u001b[0m \u001b[0ma\u001b[0m\u001b[0;34m.\u001b[0m\u001b[0mshape\u001b[0m\u001b[0;34m[\u001b[0m\u001b[0;34m-\u001b[0m\u001b[0;36m2\u001b[0m\u001b[0;34m:\u001b[0m\u001b[0;34m]\u001b[0m\u001b[0;34m\u001b[0m\u001b[0;34m\u001b[0m\u001b[0m\n\u001b[1;32m    203\u001b[0m         \u001b[0;32mif\u001b[0m \u001b[0mm\u001b[0m \u001b[0;34m!=\u001b[0m \u001b[0mn\u001b[0m\u001b[0;34m:\u001b[0m\u001b[0;34m\u001b[0m\u001b[0;34m\u001b[0m\u001b[0m\n\u001b[0;32m--> 204\u001b[0;31m             \u001b[0;32mraise\u001b[0m \u001b[0mLinAlgError\u001b[0m\u001b[0;34m(\u001b[0m\u001b[0;34m'Last 2 dimensions of the array must be square'\u001b[0m\u001b[0;34m)\u001b[0m\u001b[0;34m\u001b[0m\u001b[0;34m\u001b[0m\u001b[0m\n\u001b[0m\u001b[1;32m    205\u001b[0m \u001b[0;34m\u001b[0m\u001b[0m\n\u001b[1;32m    206\u001b[0m \u001b[0;32mdef\u001b[0m \u001b[0m_assert_finite\u001b[0m\u001b[0;34m(\u001b[0m\u001b[0;34m*\u001b[0m\u001b[0marrays\u001b[0m\u001b[0;34m)\u001b[0m\u001b[0;34m:\u001b[0m\u001b[0;34m\u001b[0m\u001b[0;34m\u001b[0m\u001b[0m\n",
      "\u001b[0;31mLinAlgError\u001b[0m: Last 2 dimensions of the array must be square"
     ]
    }
   ],
   "source": [
    "np.linalg.inv(b) # обратная матрица, только для квадратных"
   ]
  },
  {
   "cell_type": "code",
   "execution_count": 55,
   "metadata": {
    "executionInfo": {
     "elapsed": 329,
     "status": "ok",
     "timestamp": 1694525503559,
     "user": {
      "displayName": "Антон Нестеренко",
      "userId": "08410396886346691842"
     },
     "user_tz": -180
    },
    "id": "QZVe1ZPYSV9j"
   },
   "outputs": [],
   "source": [
    "d = np.arange(16)"
   ]
  },
  {
   "cell_type": "code",
   "execution_count": 56,
   "metadata": {
    "colab": {
     "base_uri": "https://localhost:8080/"
    },
    "executionInfo": {
     "elapsed": 13,
     "status": "ok",
     "timestamp": 1694525513615,
     "user": {
      "displayName": "Антон Нестеренко",
      "userId": "08410396886346691842"
     },
     "user_tz": -180
    },
    "id": "zhrbCyqEl1cg",
    "outputId": "55667b56-0bc1-41ec-a5ce-fb8008273841"
   },
   "outputs": [
    {
     "data": {
      "text/plain": [
       "array([ 0,  1,  2,  3,  4,  5,  6,  7,  8,  9, 10, 11, 12, 13, 14, 15])"
      ]
     },
     "execution_count": 56,
     "metadata": {},
     "output_type": "execute_result"
    }
   ],
   "source": [
    "d"
   ]
  },
  {
   "cell_type": "code",
   "execution_count": 57,
   "metadata": {
    "executionInfo": {
     "elapsed": 324,
     "status": "ok",
     "timestamp": 1694525538114,
     "user": {
      "displayName": "Антон Нестеренко",
      "userId": "08410396886346691842"
     },
     "user_tz": -180
    },
    "id": "2f7v1B9HScRO"
   },
   "outputs": [],
   "source": [
    "d = d.reshape(4, 4) # произведение измерений в решейп должно быть равно количеству элементов"
   ]
  },
  {
   "cell_type": "code",
   "execution_count": 58,
   "metadata": {
    "colab": {
     "base_uri": "https://localhost:8080/",
     "height": 176
    },
    "executionInfo": {
     "elapsed": 381,
     "status": "error",
     "timestamp": 1694525540058,
     "user": {
      "displayName": "Антон Нестеренко",
      "userId": "08410396886346691842"
     },
     "user_tz": -180
    },
    "id": "vmzt_d6rSilJ",
    "outputId": "6746a63d-0447-48bd-de7d-101fa1856148"
   },
   "outputs": [
    {
     "ename": "ValueError",
     "evalue": "ignored",
     "output_type": "error",
     "traceback": [
      "\u001b[0;31m---------------------------------------------------------------------------\u001b[0m",
      "\u001b[0;31mValueError\u001b[0m                                Traceback (most recent call last)",
      "\u001b[0;32m<ipython-input-58-d323c9b4b4f9>\u001b[0m in \u001b[0;36m<cell line: 1>\u001b[0;34m()\u001b[0m\n\u001b[0;32m----> 1\u001b[0;31m \u001b[0md\u001b[0m\u001b[0;34m.\u001b[0m\u001b[0mreshape\u001b[0m\u001b[0;34m(\u001b[0m\u001b[0;36m4\u001b[0m\u001b[0;34m,\u001b[0m \u001b[0;36m5\u001b[0m\u001b[0;34m)\u001b[0m\u001b[0;34m\u001b[0m\u001b[0;34m\u001b[0m\u001b[0m\n\u001b[0m",
      "\u001b[0;31mValueError\u001b[0m: cannot reshape array of size 16 into shape (4,5)"
     ]
    }
   ],
   "source": [
    "d.reshape(4, 5)"
   ]
  },
  {
   "cell_type": "code",
   "execution_count": 59,
   "metadata": {
    "colab": {
     "base_uri": "https://localhost:8080/"
    },
    "executionInfo": {
     "elapsed": 335,
     "status": "ok",
     "timestamp": 1694525547879,
     "user": {
      "displayName": "Антон Нестеренко",
      "userId": "08410396886346691842"
     },
     "user_tz": -180
    },
    "id": "LiGa_aPsStZY",
    "outputId": "c09ed4cf-de12-4c17-8c47-f57db2cfea7c"
   },
   "outputs": [
    {
     "data": {
      "text/plain": [
       "array([[ 0,  1,  2,  3],\n",
       "       [ 4,  5,  6,  7],\n",
       "       [ 8,  9, 10, 11],\n",
       "       [12, 13, 14, 15]])"
      ]
     },
     "execution_count": 59,
     "metadata": {},
     "output_type": "execute_result"
    }
   ],
   "source": [
    "d"
   ]
  },
  {
   "cell_type": "code",
   "execution_count": 60,
   "metadata": {
    "colab": {
     "base_uri": "https://localhost:8080/"
    },
    "executionInfo": {
     "elapsed": 3,
     "status": "ok",
     "timestamp": 1694525548291,
     "user": {
      "displayName": "Антон Нестеренко",
      "userId": "08410396886346691842"
     },
     "user_tz": -180
    },
    "id": "rybiRItMVcBC",
    "outputId": "82093a33-f9f6-4657-f16b-0bc14771479b"
   },
   "outputs": [
    {
     "data": {
      "text/plain": [
       "array([[ 99,  55, 212, 242,  93],\n",
       "       [ 60,  92,  47,   0, 115],\n",
       "       [192, 227,   0, 420, 138],\n",
       "       [213, 207, 222, 724, 228]])"
      ]
     },
     "execution_count": 60,
     "metadata": {},
     "output_type": "execute_result"
    }
   ],
   "source": [
    "b"
   ]
  },
  {
   "cell_type": "code",
   "execution_count": 62,
   "metadata": {
    "colab": {
     "base_uri": "https://localhost:8080/"
    },
    "executionInfo": {
     "elapsed": 10,
     "status": "ok",
     "timestamp": 1694525674936,
     "user": {
      "displayName": "Антон Нестеренко",
      "userId": "08410396886346691842"
     },
     "user_tz": -180
    },
    "id": "HGBB5J_DmayS",
    "outputId": "d7bc5c2a-ff1f-4b4d-8eb1-ec19ec4b9d43"
   },
   "outputs": [
    {
     "data": {
      "text/plain": [
       "(4, 1, 5)"
      ]
     },
     "execution_count": 62,
     "metadata": {},
     "output_type": "execute_result"
    }
   ],
   "source": [
    "b[:, None, :].shape"
   ]
  },
  {
   "cell_type": "code",
   "execution_count": 61,
   "metadata": {
    "colab": {
     "base_uri": "https://localhost:8080/"
    },
    "executionInfo": {
     "elapsed": 357,
     "status": "ok",
     "timestamp": 1694525552786,
     "user": {
      "displayName": "Антон Нестеренко",
      "userId": "08410396886346691842"
     },
     "user_tz": -180
    },
    "id": "u7M9P6CXVvM9",
    "outputId": "acc82ce2-a665-4dba-8485-9daedaf92b0b"
   },
   "outputs": [
    {
     "data": {
      "text/plain": [
       "(4, 5)"
      ]
     },
     "execution_count": 61,
     "metadata": {},
     "output_type": "execute_result"
    }
   ],
   "source": [
    "b.shape"
   ]
  },
  {
   "cell_type": "code",
   "execution_count": 63,
   "metadata": {
    "colab": {
     "base_uri": "https://localhost:8080/"
    },
    "executionInfo": {
     "elapsed": 10,
     "status": "ok",
     "timestamp": 1694525715479,
     "user": {
      "displayName": "Антон Нестеренко",
      "userId": "08410396886346691842"
     },
     "user_tz": -180
    },
    "id": "Ca_DyNGfV4rT",
    "outputId": "b10be0ef-8fcf-438d-9e64-a22d4dcd2cde"
   },
   "outputs": [
    {
     "data": {
      "text/plain": [
       "array([[ 99,  56, 214, 245,  97],\n",
       "       [ 60,  93,  49,   3, 119],\n",
       "       [192, 228,   2, 423, 142],\n",
       "       [213, 208, 224, 727, 232]])"
      ]
     },
     "execution_count": 63,
     "metadata": {},
     "output_type": "execute_result"
    }
   ],
   "source": [
    "b + np.arange(5)[None, :]"
   ]
  },
  {
   "cell_type": "code",
   "execution_count": 64,
   "metadata": {
    "colab": {
     "base_uri": "https://localhost:8080/",
     "height": 176
    },
    "executionInfo": {
     "elapsed": 335,
     "status": "error",
     "timestamp": 1694525723321,
     "user": {
      "displayName": "Антон Нестеренко",
      "userId": "08410396886346691842"
     },
     "user_tz": -180
    },
    "id": "owcpDRmjWEEg",
    "outputId": "8b22022e-8718-4b38-88da-62b603e4b1ed"
   },
   "outputs": [
    {
     "ename": "ValueError",
     "evalue": "ignored",
     "output_type": "error",
     "traceback": [
      "\u001b[0;31m---------------------------------------------------------------------------\u001b[0m",
      "\u001b[0;31mValueError\u001b[0m                                Traceback (most recent call last)",
      "\u001b[0;32m<ipython-input-64-6b65550b499c>\u001b[0m in \u001b[0;36m<cell line: 1>\u001b[0;34m()\u001b[0m\n\u001b[0;32m----> 1\u001b[0;31m \u001b[0mb\u001b[0m \u001b[0;34m+\u001b[0m \u001b[0mnp\u001b[0m\u001b[0;34m.\u001b[0m\u001b[0marange\u001b[0m\u001b[0;34m(\u001b[0m\u001b[0;36m4\u001b[0m\u001b[0;34m)\u001b[0m\u001b[0;34m\u001b[0m\u001b[0;34m\u001b[0m\u001b[0m\n\u001b[0m",
      "\u001b[0;31mValueError\u001b[0m: operands could not be broadcast together with shapes (4,5) (4,) "
     ]
    }
   ],
   "source": [
    "b + np.arange(4)"
   ]
  },
  {
   "cell_type": "code",
   "execution_count": 66,
   "metadata": {
    "colab": {
     "base_uri": "https://localhost:8080/"
    },
    "executionInfo": {
     "elapsed": 3,
     "status": "ok",
     "timestamp": 1694525744377,
     "user": {
      "displayName": "Антон Нестеренко",
      "userId": "08410396886346691842"
     },
     "user_tz": -180
    },
    "id": "q2ljBjfTWHVF",
    "outputId": "d951491d-d457-483b-dbdd-b84f6ca061a9"
   },
   "outputs": [
    {
     "data": {
      "text/plain": [
       "array([[ 99,  55, 212, 242,  93],\n",
       "       [ 61,  93,  48,   1, 116],\n",
       "       [194, 229,   2, 422, 140],\n",
       "       [216, 210, 225, 727, 231]])"
      ]
     },
     "execution_count": 66,
     "metadata": {},
     "output_type": "execute_result"
    }
   ],
   "source": [
    "b + np.arange(4)[:, None]"
   ]
  },
  {
   "cell_type": "code",
   "execution_count": 67,
   "metadata": {
    "colab": {
     "base_uri": "https://localhost:8080/"
    },
    "executionInfo": {
     "elapsed": 10,
     "status": "ok",
     "timestamp": 1694525821409,
     "user": {
      "displayName": "Антон Нестеренко",
      "userId": "08410396886346691842"
     },
     "user_tz": -180
    },
    "id": "ujzwraWvWY9E",
    "outputId": "e71be7eb-4f67-4ecc-8be2-9e977da55f3f"
   },
   "outputs": [
    {
     "data": {
      "text/plain": [
       "(512, 640, 3)"
      ]
     },
     "execution_count": 67,
     "metadata": {},
     "output_type": "execute_result"
    }
   ],
   "source": [
    "a.shape"
   ]
  },
  {
   "cell_type": "code",
   "execution_count": 72,
   "metadata": {
    "colab": {
     "base_uri": "https://localhost:8080/"
    },
    "executionInfo": {
     "elapsed": 3,
     "status": "ok",
     "timestamp": 1694525886985,
     "user": {
      "displayName": "Антон Нестеренко",
      "userId": "08410396886346691842"
     },
     "user_tz": -180
    },
    "id": "H_wm1vaZWb9y",
    "outputId": "3a5388a1-7a8e-442b-a6cb-5e37aa3e6655"
   },
   "outputs": [
    {
     "data": {
      "text/plain": [
       "(327680, 3)"
      ]
     },
     "execution_count": 72,
     "metadata": {},
     "output_type": "execute_result"
    }
   ],
   "source": [
    "a.reshape(-1, 3).shape # засунет все оставшиеся измерения"
   ]
  },
  {
   "cell_type": "code",
   "execution_count": 70,
   "metadata": {
    "colab": {
     "base_uri": "https://localhost:8080/"
    },
    "executionInfo": {
     "elapsed": 283,
     "status": "ok",
     "timestamp": 1694525874186,
     "user": {
      "displayName": "Антон Нестеренко",
      "userId": "08410396886346691842"
     },
     "user_tz": -180
    },
    "id": "Bnfzxt9YWdXe",
    "outputId": "7ed2bea6-130c-4965-a663-7faeee66112b"
   },
   "outputs": [
    {
     "data": {
      "text/plain": [
       "array([[[ 99,  55, 212, 242,  93],\n",
       "        [ 60,  92,  47,   0, 115]],\n",
       "\n",
       "       [[192, 227,   0, 420, 138],\n",
       "        [213, 207, 222, 724, 228]]])"
      ]
     },
     "execution_count": 70,
     "metadata": {},
     "output_type": "execute_result"
    }
   ],
   "source": [
    "b.reshape(2, 2, -1)"
   ]
  },
  {
   "cell_type": "code",
   "execution_count": 71,
   "metadata": {
    "colab": {
     "base_uri": "https://localhost:8080/"
    },
    "executionInfo": {
     "elapsed": 6,
     "status": "ok",
     "timestamp": 1694525874612,
     "user": {
      "displayName": "Антон Нестеренко",
      "userId": "08410396886346691842"
     },
     "user_tz": -180
    },
    "id": "1z5iSGaHWhi3",
    "outputId": "e7109153-2625-499d-975a-ab34a5da2a8e"
   },
   "outputs": [
    {
     "data": {
      "text/plain": [
       "array([[[ 99,  55],\n",
       "        [212, 242],\n",
       "        [ 93,  60],\n",
       "        [ 92,  47],\n",
       "        [  0, 115]],\n",
       "\n",
       "       [[192, 227],\n",
       "        [  0, 420],\n",
       "        [138, 213],\n",
       "        [207, 222],\n",
       "        [724, 228]]])"
      ]
     },
     "execution_count": 71,
     "metadata": {},
     "output_type": "execute_result"
    }
   ],
   "source": [
    "b.reshape(2, -1, 2)"
   ]
  },
  {
   "cell_type": "code",
   "execution_count": null,
   "metadata": {
    "executionInfo": {
     "elapsed": 34,
     "status": "aborted",
     "timestamp": 1694524244084,
     "user": {
      "displayName": "Антон Нестеренко",
      "userId": "08410396886346691842"
     },
     "user_tz": -180
    },
    "id": "w1G4hnZQXsX1"
   },
   "outputs": [],
   "source": [
    "b.astype(np.float64)"
   ]
  },
  {
   "cell_type": "code",
   "execution_count": null,
   "metadata": {
    "executionInfo": {
     "elapsed": 34,
     "status": "aborted",
     "timestamp": 1694524244084,
     "user": {
      "displayName": "Антон Нестеренко",
      "userId": "08410396886346691842"
     },
     "user_tz": -180
    },
    "id": "V9BftrkHWkyO"
   },
   "outputs": [],
   "source": [
    "import torch"
   ]
  },
  {
   "cell_type": "code",
   "execution_count": null,
   "metadata": {
    "executionInfo": {
     "elapsed": 35,
     "status": "aborted",
     "timestamp": 1694524244085,
     "user": {
      "displayName": "Антон Нестеренко",
      "userId": "08410396886346691842"
     },
     "user_tz": -180
    },
    "id": "gyoDJTQ9XZ1X"
   },
   "outputs": [],
   "source": [
    "torch.arange(10)"
   ]
  },
  {
   "cell_type": "code",
   "execution_count": null,
   "metadata": {
    "executionInfo": {
     "elapsed": 35,
     "status": "aborted",
     "timestamp": 1694524244085,
     "user": {
      "displayName": "Антон Нестеренко",
      "userId": "08410396886346691842"
     },
     "user_tz": -180
    },
    "id": "Vy_EV51rXeLn"
   },
   "outputs": [],
   "source": [
    "torch.arange(10).float().mean()"
   ]
  },
  {
   "cell_type": "code",
   "execution_count": null,
   "metadata": {
    "executionInfo": {
     "elapsed": 36,
     "status": "aborted",
     "timestamp": 1694524244086,
     "user": {
      "displayName": "Антон Нестеренко",
      "userId": "08410396886346691842"
     },
     "user_tz": -180
    },
    "id": "KZIz6zlzXjAp"
   },
   "outputs": [],
   "source": [
    "torch.arange(10).view(2, -1)"
   ]
  },
  {
   "cell_type": "code",
   "execution_count": null,
   "metadata": {
    "executionInfo": {
     "elapsed": 37,
     "status": "aborted",
     "timestamp": 1694524244087,
     "user": {
      "displayName": "Антон Нестеренко",
      "userId": "08410396886346691842"
     },
     "user_tz": -180
    },
    "id": "1BEzB3JrXqZ4"
   },
   "outputs": [],
   "source": [
    "t = np.array([\"asd\", \"412\"])"
   ]
  },
  {
   "cell_type": "code",
   "execution_count": null,
   "metadata": {
    "executionInfo": {
     "elapsed": 37,
     "status": "aborted",
     "timestamp": 1694524244087,
     "user": {
      "displayName": "Антон Нестеренко",
      "userId": "08410396886346691842"
     },
     "user_tz": -180
    },
    "id": "e_bslbmJYrAz"
   },
   "outputs": [],
   "source": [
    "b.shape"
   ]
  },
  {
   "cell_type": "code",
   "execution_count": null,
   "metadata": {
    "executionInfo": {
     "elapsed": 37,
     "status": "aborted",
     "timestamp": 1694524244087,
     "user": {
      "displayName": "Антон Нестеренко",
      "userId": "08410396886346691842"
     },
     "user_tz": -180
    },
    "id": "Dg1gG4rSYs0A"
   },
   "outputs": [],
   "source": [
    "c = np.arange(12)"
   ]
  },
  {
   "cell_type": "code",
   "execution_count": null,
   "metadata": {
    "executionInfo": {
     "elapsed": 38,
     "status": "aborted",
     "timestamp": 1694524244088,
     "user": {
      "displayName": "Антон Нестеренко",
      "userId": "08410396886346691842"
     },
     "user_tz": -180
    },
    "id": "nv2rFGNCYu6M"
   },
   "outputs": [],
   "source": [
    "c = c.reshape(4, 3)"
   ]
  },
  {
   "cell_type": "code",
   "execution_count": null,
   "metadata": {
    "executionInfo": {
     "elapsed": 38,
     "status": "aborted",
     "timestamp": 1694524244088,
     "user": {
      "displayName": "Антон Нестеренко",
      "userId": "08410396886346691842"
     },
     "user_tz": -180
    },
    "id": "S7jXasijYev6"
   },
   "outputs": [],
   "source": [
    "np.concatenate([b, c], axis=1)"
   ]
  },
  {
   "cell_type": "code",
   "execution_count": null,
   "metadata": {
    "executionInfo": {
     "elapsed": 37,
     "status": "aborted",
     "timestamp": 1694524244088,
     "user": {
      "displayName": "Антон Нестеренко",
      "userId": "08410396886346691842"
     },
     "user_tz": -180
    },
    "id": "nw7fkdM3YjhB"
   },
   "outputs": [],
   "source": []
  },
  {
   "cell_type": "code",
   "execution_count": null,
   "metadata": {
    "executionInfo": {
     "elapsed": 38,
     "status": "aborted",
     "timestamp": 1694524244089,
     "user": {
      "displayName": "Антон Нестеренко",
      "userId": "08410396886346691842"
     },
     "user_tz": -180
    },
    "id": "uhjqddxzYjp4"
   },
   "outputs": [],
   "source": []
  },
  {
   "cell_type": "code",
   "execution_count": null,
   "metadata": {
    "executionInfo": {
     "elapsed": 38,
     "status": "aborted",
     "timestamp": 1694524244089,
     "user": {
      "displayName": "Антон Нестеренко",
      "userId": "08410396886346691842"
     },
     "user_tz": -180
    },
    "id": "jPeclcFfYjs5"
   },
   "outputs": [],
   "source": []
  }
 ],
 "metadata": {
  "colab": {
   "authorship_tag": "ABX9TyNm8y/l3wCeH+iz9ISRMMQO",
   "provenance": []
  },
  "kernelspec": {
   "display_name": "Python 3 (ipykernel)",
   "language": "python",
   "name": "python3"
  },
  "language_info": {
   "codemirror_mode": {
    "name": "ipython",
    "version": 3
   },
   "file_extension": ".py",
   "mimetype": "text/x-python",
   "name": "python",
   "nbconvert_exporter": "python",
   "pygments_lexer": "ipython3",
   "version": "3.8.12"
  }
 },
 "nbformat": 4,
 "nbformat_minor": 4
}
